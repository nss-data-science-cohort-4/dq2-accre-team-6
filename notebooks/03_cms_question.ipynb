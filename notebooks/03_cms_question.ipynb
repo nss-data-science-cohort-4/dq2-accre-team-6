{
 "cells": [
  {
   "cell_type": "code",
   "execution_count": 1,
   "metadata": {},
   "outputs": [],
   "source": [
    "import pandas as pd\n",
    "import numpy as np\n",
    "import matplotlib.pyplot as plt\n",
    "import seaborn as sns\n",
    "import scipy.stats as stats\n",
    "import statsmodels.api as sm\n",
    "%matplotlib inline\n",
    "pd.options.display.max_rows = 999"
   ]
  },
  {
   "cell_type": "code",
   "execution_count": 2,
   "metadata": {},
   "outputs": [],
   "source": [
    "accre_jobs = pd.read_csv('../data/accre_jobs_cleaned.csv')"
   ]
  },
  {
   "cell_type": "markdown",
   "metadata": {},
   "source": [
    "# Jason --\n",
    "    Question: 2   CMS Frequency of failure on particular nodes - user names: \"cmslocal\" and \"cmspilot\""
   ]
  },
  {
   "cell_type": "markdown",
   "metadata": {},
   "source": [
    "The CMS collaboration has an automated job submission system that runs jobs as \"cmslocal\" and \"cmspilot\". For these two users, jobs have internal system tests that will terminate their jobs early after approximately 30 minutes. Do any of their jobs that ended in under an hour also cluster on specific compute nodes, suggesting possbily unreliable systems? Check both “production” and “nogpfs” partitions. Look for commonly failing nodes and compare with other failed jobs."
   ]
  },
  {
   "cell_type": "code",
   "execution_count": 3,
   "metadata": {},
   "outputs": [],
   "source": [
    "# plt.style.use('dark_background')"
   ]
  },
  {
   "cell_type": "code",
   "execution_count": 4,
   "metadata": {},
   "outputs": [],
   "source": [
    "cms_jobs_df = accre_jobs[(accre_jobs['user'] == \"cmslocal\") | (accre_jobs['user'] == \"cmspilot\")]"
   ]
  },
  {
   "cell_type": "code",
   "execution_count": 5,
   "metadata": {},
   "outputs": [],
   "source": [
    "total_jobs = cms_jobs_df.shape[0]"
   ]
  },
  {
   "cell_type": "code",
   "execution_count": 6,
   "metadata": {},
   "outputs": [
    {
     "name": "stderr",
     "output_type": "stream",
     "text": [
      "<ipython-input-6-ee7b4d49ef10>:1: SettingWithCopyWarning: \n",
      "A value is trying to be set on a copy of a slice from a DataFrame.\n",
      "Try using .loc[row_indexer,col_indexer] = value instead\n",
      "\n",
      "See the caveats in the documentation: https://pandas.pydata.org/pandas-docs/stable/user_guide/indexing.html#returning-a-view-versus-a-copy\n",
      "  cms_jobs_df['failure'] = np.where(cms_jobs_df['exitcode'] == \"0:0\", 0, 1)\n"
     ]
    }
   ],
   "source": [
    "cms_jobs_df['failure'] = np.where(cms_jobs_df['exitcode'] == \"0:0\", 0, 1)"
   ]
  },
  {
   "cell_type": "code",
   "execution_count": 7,
   "metadata": {},
   "outputs": [],
   "source": [
    "cms_jobs_failed_df = cms_jobs_df[cms_jobs_df['failure'] == 1]"
   ]
  },
  {
   "cell_type": "code",
   "execution_count": 8,
   "metadata": {},
   "outputs": [],
   "source": [
    "failures = cms_jobs_failed_df.shape[0]"
   ]
  },
  {
   "cell_type": "code",
   "execution_count": 9,
   "metadata": {},
   "outputs": [
    {
     "data": {
      "text/plain": [
       "0.027491310355378974"
      ]
     },
     "execution_count": 9,
     "metadata": {},
     "output_type": "execute_result"
    }
   ],
   "source": [
    "failures / total_jobs * 100"
   ]
  },
  {
   "cell_type": "code",
   "execution_count": 10,
   "metadata": {},
   "outputs": [
    {
     "data": {
      "text/html": [
       "<div>\n",
       "<style scoped>\n",
       "    .dataframe tbody tr th:only-of-type {\n",
       "        vertical-align: middle;\n",
       "    }\n",
       "\n",
       "    .dataframe tbody tr th {\n",
       "        vertical-align: top;\n",
       "    }\n",
       "\n",
       "    .dataframe thead th {\n",
       "        text-align: right;\n",
       "    }\n",
       "</style>\n",
       "<table border=\"1\" class=\"dataframe\">\n",
       "  <thead>\n",
       "    <tr style=\"text-align: right;\">\n",
       "      <th></th>\n",
       "      <th>Unnamed: 0</th>\n",
       "      <th>jobid</th>\n",
       "      <th>account</th>\n",
       "      <th>user</th>\n",
       "      <th>reqmem</th>\n",
       "      <th>usedmem</th>\n",
       "      <th>reqtime</th>\n",
       "      <th>usedtime</th>\n",
       "      <th>nodes</th>\n",
       "      <th>cpus</th>\n",
       "      <th>partition</th>\n",
       "      <th>exitcode</th>\n",
       "      <th>state</th>\n",
       "      <th>nodelist</th>\n",
       "      <th>req_total_seconds</th>\n",
       "      <th>used_total_seconds</th>\n",
       "      <th>mb_per_core</th>\n",
       "      <th>node_index</th>\n",
       "      <th>node_numbers</th>\n",
       "      <th>failure</th>\n",
       "    </tr>\n",
       "  </thead>\n",
       "  <tbody>\n",
       "    <tr>\n",
       "      <th>402503</th>\n",
       "      <td>402503</td>\n",
       "      <td>17613549</td>\n",
       "      <td>cms</td>\n",
       "      <td>cmspilot</td>\n",
       "      <td>28000Mn</td>\n",
       "      <td>4745.66M</td>\n",
       "      <td>2-00:00:00</td>\n",
       "      <td>01:00:59</td>\n",
       "      <td>1</td>\n",
       "      <td>4</td>\n",
       "      <td>production</td>\n",
       "      <td>0:0</td>\n",
       "      <td>COMPLETED</td>\n",
       "      <td>cn1518</td>\n",
       "      <td>172800</td>\n",
       "      <td>3659</td>\n",
       "      <td>7000.000000</td>\n",
       "      <td>cn</td>\n",
       "      <td>['1518']</td>\n",
       "      <td>0</td>\n",
       "    </tr>\n",
       "    <tr>\n",
       "      <th>3599782</th>\n",
       "      <td>3599782</td>\n",
       "      <td>23738991</td>\n",
       "      <td>cms</td>\n",
       "      <td>cmspilot</td>\n",
       "      <td>28000Mn</td>\n",
       "      <td>5793.68M</td>\n",
       "      <td>2-00:00:00</td>\n",
       "      <td>01:00:59</td>\n",
       "      <td>1</td>\n",
       "      <td>4</td>\n",
       "      <td>production</td>\n",
       "      <td>0:0</td>\n",
       "      <td>COMPLETED</td>\n",
       "      <td>cn408</td>\n",
       "      <td>172800</td>\n",
       "      <td>3659</td>\n",
       "      <td>7000.000000</td>\n",
       "      <td>cn</td>\n",
       "      <td>['408']</td>\n",
       "      <td>0</td>\n",
       "    </tr>\n",
       "    <tr>\n",
       "      <th>3700442</th>\n",
       "      <td>3700442</td>\n",
       "      <td>23947055</td>\n",
       "      <td>cms</td>\n",
       "      <td>cmslocal</td>\n",
       "      <td>28000Mn</td>\n",
       "      <td>7649.01M</td>\n",
       "      <td>2-00:00:00</td>\n",
       "      <td>01:00:59</td>\n",
       "      <td>1</td>\n",
       "      <td>4</td>\n",
       "      <td>production</td>\n",
       "      <td>0:0</td>\n",
       "      <td>COMPLETED</td>\n",
       "      <td>cn392</td>\n",
       "      <td>172800</td>\n",
       "      <td>3659</td>\n",
       "      <td>7000.000000</td>\n",
       "      <td>cn</td>\n",
       "      <td>['392']</td>\n",
       "      <td>0</td>\n",
       "    </tr>\n",
       "    <tr>\n",
       "      <th>1894786</th>\n",
       "      <td>1894786</td>\n",
       "      <td>20352599</td>\n",
       "      <td>cms</td>\n",
       "      <td>cmslocal</td>\n",
       "      <td>5000Mn</td>\n",
       "      <td>1787.50M</td>\n",
       "      <td>2-00:00:00</td>\n",
       "      <td>01:00:59</td>\n",
       "      <td>1</td>\n",
       "      <td>1</td>\n",
       "      <td>production</td>\n",
       "      <td>0:0</td>\n",
       "      <td>COMPLETED</td>\n",
       "      <td>cn452</td>\n",
       "      <td>172800</td>\n",
       "      <td>3659</td>\n",
       "      <td>5000.000000</td>\n",
       "      <td>cn</td>\n",
       "      <td>['452']</td>\n",
       "      <td>0</td>\n",
       "    </tr>\n",
       "    <tr>\n",
       "      <th>274821</th>\n",
       "      <td>274821</td>\n",
       "      <td>17447254</td>\n",
       "      <td>cms</td>\n",
       "      <td>cmslocal</td>\n",
       "      <td>186648Mn</td>\n",
       "      <td>69683.26M</td>\n",
       "      <td>2-00:00:00</td>\n",
       "      <td>01:00:59</td>\n",
       "      <td>1</td>\n",
       "      <td>32</td>\n",
       "      <td>nogpfs</td>\n",
       "      <td>0:0</td>\n",
       "      <td>COMPLETED</td>\n",
       "      <td>cn1549</td>\n",
       "      <td>172800</td>\n",
       "      <td>3659</td>\n",
       "      <td>5832.750000</td>\n",
       "      <td>cn</td>\n",
       "      <td>['1549']</td>\n",
       "      <td>0</td>\n",
       "    </tr>\n",
       "    <tr>\n",
       "      <th>...</th>\n",
       "      <td>...</td>\n",
       "      <td>...</td>\n",
       "      <td>...</td>\n",
       "      <td>...</td>\n",
       "      <td>...</td>\n",
       "      <td>...</td>\n",
       "      <td>...</td>\n",
       "      <td>...</td>\n",
       "      <td>...</td>\n",
       "      <td>...</td>\n",
       "      <td>...</td>\n",
       "      <td>...</td>\n",
       "      <td>...</td>\n",
       "      <td>...</td>\n",
       "      <td>...</td>\n",
       "      <td>...</td>\n",
       "      <td>...</td>\n",
       "      <td>...</td>\n",
       "      <td>...</td>\n",
       "      <td>...</td>\n",
       "    </tr>\n",
       "    <tr>\n",
       "      <th>700725</th>\n",
       "      <td>700725</td>\n",
       "      <td>18040975</td>\n",
       "      <td>cms</td>\n",
       "      <td>cmslocal</td>\n",
       "      <td>38007Mn</td>\n",
       "      <td>0</td>\n",
       "      <td>2-00:00:00</td>\n",
       "      <td>00:00:00</td>\n",
       "      <td>1</td>\n",
       "      <td>8</td>\n",
       "      <td>nogpfs</td>\n",
       "      <td>0:0</td>\n",
       "      <td>COMPLETED</td>\n",
       "      <td>ng512</td>\n",
       "      <td>172800</td>\n",
       "      <td>0</td>\n",
       "      <td>4750.875000</td>\n",
       "      <td>ng</td>\n",
       "      <td>['512']</td>\n",
       "      <td>0</td>\n",
       "    </tr>\n",
       "    <tr>\n",
       "      <th>700726</th>\n",
       "      <td>700726</td>\n",
       "      <td>18040976</td>\n",
       "      <td>cms</td>\n",
       "      <td>cmslocal</td>\n",
       "      <td>42994Mn</td>\n",
       "      <td>0</td>\n",
       "      <td>2-00:00:00</td>\n",
       "      <td>00:00:00</td>\n",
       "      <td>1</td>\n",
       "      <td>12</td>\n",
       "      <td>nogpfs</td>\n",
       "      <td>0:0</td>\n",
       "      <td>COMPLETED</td>\n",
       "      <td>ng205</td>\n",
       "      <td>172800</td>\n",
       "      <td>0</td>\n",
       "      <td>3582.833333</td>\n",
       "      <td>ng</td>\n",
       "      <td>['205']</td>\n",
       "      <td>0</td>\n",
       "    </tr>\n",
       "    <tr>\n",
       "      <th>700732</th>\n",
       "      <td>700732</td>\n",
       "      <td>18040982</td>\n",
       "      <td>cms</td>\n",
       "      <td>cmspilot</td>\n",
       "      <td>21875Mn</td>\n",
       "      <td>0</td>\n",
       "      <td>2-00:00:00</td>\n",
       "      <td>00:00:00</td>\n",
       "      <td>1</td>\n",
       "      <td>8</td>\n",
       "      <td>nogpfs</td>\n",
       "      <td>0:0</td>\n",
       "      <td>COMPLETED</td>\n",
       "      <td>ng909</td>\n",
       "      <td>172800</td>\n",
       "      <td>0</td>\n",
       "      <td>2734.375000</td>\n",
       "      <td>ng</td>\n",
       "      <td>['909']</td>\n",
       "      <td>0</td>\n",
       "    </tr>\n",
       "    <tr>\n",
       "      <th>700738</th>\n",
       "      <td>700738</td>\n",
       "      <td>18040988</td>\n",
       "      <td>cms</td>\n",
       "      <td>cmspilot</td>\n",
       "      <td>38007Mn</td>\n",
       "      <td>0</td>\n",
       "      <td>2-00:00:00</td>\n",
       "      <td>00:00:00</td>\n",
       "      <td>1</td>\n",
       "      <td>8</td>\n",
       "      <td>nogpfs</td>\n",
       "      <td>0:0</td>\n",
       "      <td>COMPLETED</td>\n",
       "      <td>ng512</td>\n",
       "      <td>172800</td>\n",
       "      <td>0</td>\n",
       "      <td>4750.875000</td>\n",
       "      <td>ng</td>\n",
       "      <td>['512']</td>\n",
       "      <td>0</td>\n",
       "    </tr>\n",
       "    <tr>\n",
       "      <th>3816000</th>\n",
       "      <td>3816000</td>\n",
       "      <td>24156810</td>\n",
       "      <td>cms</td>\n",
       "      <td>cmspilot</td>\n",
       "      <td>186648Mn</td>\n",
       "      <td>0</td>\n",
       "      <td>2-00:00:00</td>\n",
       "      <td>00:00:00</td>\n",
       "      <td>1</td>\n",
       "      <td>32</td>\n",
       "      <td>nogpfs</td>\n",
       "      <td>0:0</td>\n",
       "      <td>COMPLETED</td>\n",
       "      <td>cn1554</td>\n",
       "      <td>172800</td>\n",
       "      <td>0</td>\n",
       "      <td>5832.750000</td>\n",
       "      <td>cn</td>\n",
       "      <td>['1554']</td>\n",
       "      <td>0</td>\n",
       "    </tr>\n",
       "  </tbody>\n",
       "</table>\n",
       "<p>511511 rows × 20 columns</p>\n",
       "</div>"
      ],
      "text/plain": [
       "         Unnamed: 0     jobid account      user    reqmem    usedmem  \\\n",
       "402503       402503  17613549     cms  cmspilot   28000Mn   4745.66M   \n",
       "3599782     3599782  23738991     cms  cmspilot   28000Mn   5793.68M   \n",
       "3700442     3700442  23947055     cms  cmslocal   28000Mn   7649.01M   \n",
       "1894786     1894786  20352599     cms  cmslocal    5000Mn   1787.50M   \n",
       "274821       274821  17447254     cms  cmslocal  186648Mn  69683.26M   \n",
       "...             ...       ...     ...       ...       ...        ...   \n",
       "700725       700725  18040975     cms  cmslocal   38007Mn          0   \n",
       "700726       700726  18040976     cms  cmslocal   42994Mn          0   \n",
       "700732       700732  18040982     cms  cmspilot   21875Mn          0   \n",
       "700738       700738  18040988     cms  cmspilot   38007Mn          0   \n",
       "3816000     3816000  24156810     cms  cmspilot  186648Mn          0   \n",
       "\n",
       "            reqtime  usedtime  nodes  cpus   partition exitcode      state  \\\n",
       "402503   2-00:00:00  01:00:59      1     4  production      0:0  COMPLETED   \n",
       "3599782  2-00:00:00  01:00:59      1     4  production      0:0  COMPLETED   \n",
       "3700442  2-00:00:00  01:00:59      1     4  production      0:0  COMPLETED   \n",
       "1894786  2-00:00:00  01:00:59      1     1  production      0:0  COMPLETED   \n",
       "274821   2-00:00:00  01:00:59      1    32      nogpfs      0:0  COMPLETED   \n",
       "...             ...       ...    ...   ...         ...      ...        ...   \n",
       "700725   2-00:00:00  00:00:00      1     8      nogpfs      0:0  COMPLETED   \n",
       "700726   2-00:00:00  00:00:00      1    12      nogpfs      0:0  COMPLETED   \n",
       "700732   2-00:00:00  00:00:00      1     8      nogpfs      0:0  COMPLETED   \n",
       "700738   2-00:00:00  00:00:00      1     8      nogpfs      0:0  COMPLETED   \n",
       "3816000  2-00:00:00  00:00:00      1    32      nogpfs      0:0  COMPLETED   \n",
       "\n",
       "        nodelist  req_total_seconds  used_total_seconds  mb_per_core  \\\n",
       "402503    cn1518             172800                3659  7000.000000   \n",
       "3599782    cn408             172800                3659  7000.000000   \n",
       "3700442    cn392             172800                3659  7000.000000   \n",
       "1894786    cn452             172800                3659  5000.000000   \n",
       "274821    cn1549             172800                3659  5832.750000   \n",
       "...          ...                ...                 ...          ...   \n",
       "700725     ng512             172800                   0  4750.875000   \n",
       "700726     ng205             172800                   0  3582.833333   \n",
       "700732     ng909             172800                   0  2734.375000   \n",
       "700738     ng512             172800                   0  4750.875000   \n",
       "3816000   cn1554             172800                   0  5832.750000   \n",
       "\n",
       "        node_index node_numbers  failure  \n",
       "402503          cn     ['1518']        0  \n",
       "3599782         cn      ['408']        0  \n",
       "3700442         cn      ['392']        0  \n",
       "1894786         cn      ['452']        0  \n",
       "274821          cn     ['1549']        0  \n",
       "...            ...          ...      ...  \n",
       "700725          ng      ['512']        0  \n",
       "700726          ng      ['205']        0  \n",
       "700732          ng      ['909']        0  \n",
       "700738          ng      ['512']        0  \n",
       "3816000         cn     ['1554']        0  \n",
       "\n",
       "[511511 rows x 20 columns]"
      ]
     },
     "execution_count": 10,
     "metadata": {},
     "output_type": "execute_result"
    }
   ],
   "source": [
    "cms_jobs_df[cms_jobs_df['used_total_seconds'] < 3660].sort_values('used_total_seconds', ascending=False)"
   ]
  },
  {
   "cell_type": "code",
   "execution_count": 11,
   "metadata": {},
   "outputs": [],
   "source": [
    "early_exits_df = cms_jobs_df[cms_jobs_df['used_total_seconds'] < 1920]"
   ]
  },
  {
   "cell_type": "code",
   "execution_count": 12,
   "metadata": {},
   "outputs": [],
   "source": [
    "early_exits = early_exits_df.shape[0]"
   ]
  },
  {
   "cell_type": "code",
   "execution_count": 13,
   "metadata": {},
   "outputs": [
    {
     "data": {
      "text/plain": [
       "481093"
      ]
     },
     "execution_count": 13,
     "metadata": {},
     "output_type": "execute_result"
    }
   ],
   "source": [
    "early_exits"
   ]
  },
  {
   "cell_type": "code",
   "execution_count": 14,
   "metadata": {},
   "outputs": [
    {
     "data": {
      "text/plain": [
       "57.50381292521885"
      ]
     },
     "execution_count": 14,
     "metadata": {},
     "output_type": "execute_result"
    }
   ],
   "source": [
    "early_exits /total_jobs * 100"
   ]
  },
  {
   "cell_type": "code",
   "execution_count": 15,
   "metadata": {},
   "outputs": [],
   "source": [
    "node_early_exists = early_exits_df['nodelist'].value_counts()"
   ]
  },
  {
   "cell_type": "code",
   "execution_count": 16,
   "metadata": {},
   "outputs": [],
   "source": [
    "node_jobs = cms_jobs_df['nodelist'].value_counts()"
   ]
  },
  {
   "cell_type": "code",
   "execution_count": 17,
   "metadata": {},
   "outputs": [],
   "source": [
    "node_jobs_df = pd.concat([node_early_exists, node_jobs], axis=1)"
   ]
  },
  {
   "cell_type": "code",
   "execution_count": 18,
   "metadata": {},
   "outputs": [],
   "source": [
    "node_jobs_df.columns = ['early_exits', 'jobs']"
   ]
  },
  {
   "cell_type": "code",
   "execution_count": 19,
   "metadata": {},
   "outputs": [],
   "source": [
    "node_jobs_df['failure_percent'] = node_jobs_df['early_exits'] / node_jobs_df['jobs'] * 100"
   ]
  },
  {
   "cell_type": "code",
   "execution_count": 20,
   "metadata": {},
   "outputs": [
    {
     "data": {
      "text/plain": [
       "count    818.000000\n",
       "mean      50.708806\n",
       "std       17.515431\n",
       "min       14.285714\n",
       "25%       39.908123\n",
       "50%       45.521436\n",
       "75%       53.057066\n",
       "max      100.000000\n",
       "Name: failure_percent, dtype: float64"
      ]
     },
     "execution_count": 20,
     "metadata": {},
     "output_type": "execute_result"
    }
   ],
   "source": [
    "node_jobs_df['failure_percent'].describe()"
   ]
  },
  {
   "cell_type": "code",
   "execution_count": 23,
   "metadata": {},
   "outputs": [],
   "source": [
    "high_failure_nodes = node_jobs_df[node_jobs_df['failure_percent'] > 53.057066].index.to_list()"
   ]
  },
  {
   "cell_type": "markdown",
   "metadata": {},
   "source": [
    "# Next Steps\n",
    "- GO back and map high failure_nodes into the cms_jobs list and all the jobs and see if it dispropoiately fails.\n",
    "- Map out failures by partition\n",
    "- Map out failure clusters by order to job execution by order of job id"
   ]
  },
  {
   "cell_type": "code",
   "execution_count": 22,
   "metadata": {},
   "outputs": [
    {
     "data": {
      "text/plain": [
       "205"
      ]
     },
     "execution_count": 22,
     "metadata": {},
     "output_type": "execute_result"
    }
   ],
   "source": [
    "len(high_failure_nodes)"
   ]
  },
  {
   "cell_type": "code",
   "execution_count": null,
   "metadata": {},
   "outputs": [],
   "source": []
  }
 ],
 "metadata": {
  "kernelspec": {
   "display_name": "Python 3",
   "language": "python",
   "name": "python3"
  },
  "language_info": {
   "codemirror_mode": {
    "name": "ipython",
    "version": 3
   },
   "file_extension": ".py",
   "mimetype": "text/x-python",
   "name": "python",
   "nbconvert_exporter": "python",
   "pygments_lexer": "ipython3",
   "version": "3.8.3"
  }
 },
 "nbformat": 4,
 "nbformat_minor": 4
}
