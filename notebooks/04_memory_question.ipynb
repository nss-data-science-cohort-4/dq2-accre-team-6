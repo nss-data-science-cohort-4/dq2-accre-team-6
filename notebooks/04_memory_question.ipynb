{
 "cells": [
  {
   "cell_type": "code",
   "execution_count": 1,
   "metadata": {
    "slideshow": {
     "slide_type": "skip"
    }
   },
   "outputs": [],
   "source": [
    "import pandas as pd\n",
    "import numpy as np\n",
    "import matplotlib.pyplot as plt\n",
    "import seaborn as sns\n",
    "import scipy.stats as stats\n",
    "import statsmodels.api as sm\n",
    "%matplotlib inline\n",
    "pd.options.display.max_rows = 999\n",
    "import plotly.express as px\n",
    "import plotly.graph_objects as go\n",
    "from plotly.subplots import make_subplots"
   ]
  },
  {
   "cell_type": "code",
   "execution_count": 2,
   "metadata": {
    "slideshow": {
     "slide_type": "skip"
    }
   },
   "outputs": [],
   "source": [
    "from ast import literal_eval\n",
    "def clean(x):\n",
    "    return literal_eval(x)"
   ]
  },
  {
   "cell_type": "code",
   "execution_count": 3,
   "metadata": {
    "slideshow": {
     "slide_type": "skip"
    }
   },
   "outputs": [],
   "source": [
    "accre_jobs_piped = pd.read_csv('../data/accre_jobs_cleaned.csv', converters={'node_numbers': clean})"
   ]
  },
  {
   "cell_type": "markdown",
   "metadata": {
    "slideshow": {
     "slide_type": "skip"
    }
   },
   "source": [
    "# Maggi -- \n",
    "    Question: 3 & 4   Calculation of % of actual memory used and mean % for each group"
   ]
  },
  {
   "cell_type": "markdown",
   "metadata": {
    "slideshow": {
     "slide_type": "skip"
    }
   },
   "source": [
    "## Notes on conversion of Mn to Mc\n",
    "For Mn, convert to Mc as follows: digits / (cpus/nodes)<br>\n",
    "For Mc, use the digits as is<br>\n",
    "usedmem is stated in Mn, but designated as M or possibly with no designation<br>\n",
    "recmem can be stated in either Mc, Mn, or none<br>\n",
    "Question: The documentation says that cpus is the total cpus for the job (i.e., not the cpus per node);\n",
    "    however, some jobs have 1 cpu and 2 nodes, 1 cpu and 51 nodes; so, I don't understand that.<br>\n",
    "Make two new columns in memory_use reqmem_mc and usedmem_mc"
   ]
  },
  {
   "cell_type": "code",
   "execution_count": 4,
   "metadata": {
    "slideshow": {
     "slide_type": "skip"
    }
   },
   "outputs": [
    {
     "data": {
      "text/html": [
       "<div>\n",
       "<style scoped>\n",
       "    .dataframe tbody tr th:only-of-type {\n",
       "        vertical-align: middle;\n",
       "    }\n",
       "\n",
       "    .dataframe tbody tr th {\n",
       "        vertical-align: top;\n",
       "    }\n",
       "\n",
       "    .dataframe thead th {\n",
       "        text-align: right;\n",
       "    }\n",
       "</style>\n",
       "<table border=\"1\" class=\"dataframe\">\n",
       "  <thead>\n",
       "    <tr style=\"text-align: right;\">\n",
       "      <th></th>\n",
       "      <th>jobid</th>\n",
       "      <th>account</th>\n",
       "      <th>user</th>\n",
       "      <th>reqmem</th>\n",
       "      <th>usedmem</th>\n",
       "      <th>reqtime</th>\n",
       "      <th>usedtime</th>\n",
       "      <th>nodes</th>\n",
       "      <th>cpus</th>\n",
       "      <th>partition</th>\n",
       "      <th>exitcode</th>\n",
       "      <th>state</th>\n",
       "      <th>nodelist</th>\n",
       "      <th>req_total_seconds</th>\n",
       "      <th>used_total_seconds</th>\n",
       "      <th>reqmem_mc</th>\n",
       "      <th>usedmem_mc</th>\n",
       "    </tr>\n",
       "  </thead>\n",
       "  <tbody>\n",
       "    <tr>\n",
       "      <th>0</th>\n",
       "      <td>15925210</td>\n",
       "      <td>treviso</td>\n",
       "      <td>arabella</td>\n",
       "      <td>122880Mn</td>\n",
       "      <td>65973.49M</td>\n",
       "      <td>13-18:00:00</td>\n",
       "      <td>13-18:00:28</td>\n",
       "      <td>1</td>\n",
       "      <td>24</td>\n",
       "      <td>production</td>\n",
       "      <td>0:0</td>\n",
       "      <td>COMPLETED</td>\n",
       "      <td>['cn1531']</td>\n",
       "      <td>1188000</td>\n",
       "      <td>1188028</td>\n",
       "      <td>5120.0</td>\n",
       "      <td>2748.895417</td>\n",
       "    </tr>\n",
       "    <tr>\n",
       "      <th>1</th>\n",
       "      <td>15861126</td>\n",
       "      <td>treviso</td>\n",
       "      <td>arabella</td>\n",
       "      <td>122880Mn</td>\n",
       "      <td>67181.12M</td>\n",
       "      <td>13-18:00:00</td>\n",
       "      <td>12-14:50:56</td>\n",
       "      <td>1</td>\n",
       "      <td>24</td>\n",
       "      <td>production</td>\n",
       "      <td>0:0</td>\n",
       "      <td>COMPLETED</td>\n",
       "      <td>['cn1441']</td>\n",
       "      <td>1188000</td>\n",
       "      <td>1090256</td>\n",
       "      <td>5120.0</td>\n",
       "      <td>2799.213333</td>\n",
       "    </tr>\n",
       "  </tbody>\n",
       "</table>\n",
       "</div>"
      ],
      "text/plain": [
       "      jobid  account      user    reqmem    usedmem      reqtime     usedtime  \\\n",
       "0  15925210  treviso  arabella  122880Mn  65973.49M  13-18:00:00  13-18:00:28   \n",
       "1  15861126  treviso  arabella  122880Mn  67181.12M  13-18:00:00  12-14:50:56   \n",
       "\n",
       "   nodes  cpus   partition exitcode      state    nodelist  req_total_seconds  \\\n",
       "0      1    24  production      0:0  COMPLETED  ['cn1531']            1188000   \n",
       "1      1    24  production      0:0  COMPLETED  ['cn1441']            1188000   \n",
       "\n",
       "   used_total_seconds  reqmem_mc   usedmem_mc  \n",
       "0             1188028     5120.0  2748.895417  \n",
       "1             1090256     5120.0  2799.213333  "
      ]
     },
     "execution_count": 4,
     "metadata": {},
     "output_type": "execute_result"
    }
   ],
   "source": [
    "#display the data set\n",
    "accre_jobs_piped.head(2)"
   ]
  },
  {
   "cell_type": "code",
   "execution_count": 5,
   "metadata": {
    "slideshow": {
     "slide_type": "skip"
    }
   },
   "outputs": [
    {
     "data": {
      "text/plain": [
       "COMPLETED              3718637\n",
       "CANCELLED                 6064\n",
       "RUNNING                   3105\n",
       "FAILED                    1379\n",
       "CANCELLED by 686562        681\n",
       "OUT_OF_MEMORY               94\n",
       "TIMEOUT                     80\n",
       "CANCELLED by 505355         63\n",
       "CANCELLED by 855431         17\n",
       "CANCELLED by 782611         13\n",
       "CANCELLED by 397600          7\n",
       "CANCELLED by 0               5\n",
       "CANCELLED by 454080          4\n",
       "CANCELLED by 486541          4\n",
       "CANCELLED by 199766          4\n",
       "CANCELLED by 200557          4\n",
       "CANCELLED by 9202            3\n",
       "CANCELLED by 649319          3\n",
       "CANCELLED by 483348          3\n",
       "CANCELLED by 9201            3\n",
       "CANCELLED by 515423          2\n",
       "CANCELLED by 199066          2\n",
       "CANCELLED by 666860          2\n",
       "CANCELLED by 791651          2\n",
       "CANCELLED by 90423           2\n",
       "CANCELLED by 546080          2\n",
       "CANCELLED by 895426          2\n",
       "CANCELLED by 124006          2\n",
       "CANCELLED by 693461          2\n",
       "CANCELLED by 782535          1\n",
       "CANCELLED by 651701          1\n",
       "CANCELLED by 763605          1\n",
       "CANCELLED by 785271          1\n",
       "CANCELLED by 503585          1\n",
       "CANCELLED by 781109          1\n",
       "CANCELLED by 649321          1\n",
       "Name: state, dtype: int64"
      ]
     },
     "execution_count": 5,
     "metadata": {},
     "output_type": "execute_result"
    }
   ],
   "source": [
    "#look at our groupings of 'state'\n",
    "accre_jobs_piped['state'].value_counts()\n",
    "#we will just want to use 'COMPLETED'"
   ]
  },
  {
   "cell_type": "code",
   "execution_count": 6,
   "metadata": {
    "slideshow": {
     "slide_type": "skip"
    }
   },
   "outputs": [
    {
     "data": {
      "text/plain": [
       "production    3311788\n",
       "nogpfs         327652\n",
       "pascal          48004\n",
       "turing          39406\n",
       "maxwell          3348\n",
       "Name: partition, dtype: int64"
      ]
     },
     "execution_count": 6,
     "metadata": {},
     "output_type": "execute_result"
    }
   ],
   "source": [
    "#look at our groupings of 'partition'\n",
    "accre_jobs_piped['partition'].value_counts()\n",
    "#we will just want to use 'production'"
   ]
  },
  {
   "cell_type": "code",
   "execution_count": 7,
   "metadata": {
    "slideshow": {
     "slide_type": "skip"
    }
   },
   "outputs": [
    {
     "data": {
      "text/plain": [
       "COMPLETED              3302522\n",
       "CANCELLED                 4449\n",
       "RUNNING                   2859\n",
       "CANCELLED by 686562        680\n",
       "TIMEOUT                     79\n",
       "CANCELLED by 9201            2\n",
       "Name: state, dtype: int64"
      ]
     },
     "execution_count": 7,
     "metadata": {},
     "output_type": "execute_result"
    }
   ],
   "source": [
    "#look at 'exitcode' = 0:0 in 'production' by 'state'\n",
    "accre_jobs_piped[(accre_jobs_piped['exitcode']=='0:0') & (accre_jobs_piped['partition']=='production')]['state'].value_counts()\n",
    "#definitely limit to completed based on the 'cancelled*' and 'running' entries"
   ]
  },
  {
   "cell_type": "code",
   "execution_count": 8,
   "metadata": {
    "slideshow": {
     "slide_type": "skip"
    }
   },
   "outputs": [],
   "source": [
    "#pull out the initial slice of data for memory usage analysis\n",
    "memory_use = accre_jobs_piped[(accre_jobs_piped['partition']=='production') & (accre_jobs_piped['exitcode']=='0:0')\n",
    "                              & (accre_jobs_piped['state']=='COMPLETED')]"
   ]
  },
  {
   "cell_type": "code",
   "execution_count": 9,
   "metadata": {
    "slideshow": {
     "slide_type": "skip"
    }
   },
   "outputs": [
    {
     "data": {
      "text/html": [
       "<div>\n",
       "<style scoped>\n",
       "    .dataframe tbody tr th:only-of-type {\n",
       "        vertical-align: middle;\n",
       "    }\n",
       "\n",
       "    .dataframe tbody tr th {\n",
       "        vertical-align: top;\n",
       "    }\n",
       "\n",
       "    .dataframe thead th {\n",
       "        text-align: right;\n",
       "    }\n",
       "</style>\n",
       "<table border=\"1\" class=\"dataframe\">\n",
       "  <thead>\n",
       "    <tr style=\"text-align: right;\">\n",
       "      <th></th>\n",
       "      <th>jobid</th>\n",
       "      <th>account</th>\n",
       "      <th>user</th>\n",
       "      <th>reqmem</th>\n",
       "      <th>usedmem</th>\n",
       "      <th>reqtime</th>\n",
       "      <th>usedtime</th>\n",
       "      <th>nodes</th>\n",
       "      <th>cpus</th>\n",
       "      <th>partition</th>\n",
       "      <th>exitcode</th>\n",
       "      <th>state</th>\n",
       "      <th>nodelist</th>\n",
       "      <th>req_total_seconds</th>\n",
       "      <th>used_total_seconds</th>\n",
       "      <th>reqmem_mc</th>\n",
       "      <th>usedmem_mc</th>\n",
       "    </tr>\n",
       "  </thead>\n",
       "  <tbody>\n",
       "    <tr>\n",
       "      <th>0</th>\n",
       "      <td>15925210</td>\n",
       "      <td>treviso</td>\n",
       "      <td>arabella</td>\n",
       "      <td>122880Mn</td>\n",
       "      <td>65973.49M</td>\n",
       "      <td>13-18:00:00</td>\n",
       "      <td>13-18:00:28</td>\n",
       "      <td>1</td>\n",
       "      <td>24</td>\n",
       "      <td>production</td>\n",
       "      <td>0:0</td>\n",
       "      <td>COMPLETED</td>\n",
       "      <td>['cn1531']</td>\n",
       "      <td>1188000</td>\n",
       "      <td>1188028</td>\n",
       "      <td>5120.0</td>\n",
       "      <td>2748.895417</td>\n",
       "    </tr>\n",
       "    <tr>\n",
       "      <th>1</th>\n",
       "      <td>15861126</td>\n",
       "      <td>treviso</td>\n",
       "      <td>arabella</td>\n",
       "      <td>122880Mn</td>\n",
       "      <td>67181.12M</td>\n",
       "      <td>13-18:00:00</td>\n",
       "      <td>12-14:50:56</td>\n",
       "      <td>1</td>\n",
       "      <td>24</td>\n",
       "      <td>production</td>\n",
       "      <td>0:0</td>\n",
       "      <td>COMPLETED</td>\n",
       "      <td>['cn1441']</td>\n",
       "      <td>1188000</td>\n",
       "      <td>1090256</td>\n",
       "      <td>5120.0</td>\n",
       "      <td>2799.213333</td>\n",
       "    </tr>\n",
       "  </tbody>\n",
       "</table>\n",
       "</div>"
      ],
      "text/plain": [
       "      jobid  account      user    reqmem    usedmem      reqtime     usedtime  \\\n",
       "0  15925210  treviso  arabella  122880Mn  65973.49M  13-18:00:00  13-18:00:28   \n",
       "1  15861126  treviso  arabella  122880Mn  67181.12M  13-18:00:00  12-14:50:56   \n",
       "\n",
       "   nodes  cpus   partition exitcode      state    nodelist  req_total_seconds  \\\n",
       "0      1    24  production      0:0  COMPLETED  ['cn1531']            1188000   \n",
       "1      1    24  production      0:0  COMPLETED  ['cn1441']            1188000   \n",
       "\n",
       "   used_total_seconds  reqmem_mc   usedmem_mc  \n",
       "0             1188028     5120.0  2748.895417  \n",
       "1             1090256     5120.0  2799.213333  "
      ]
     },
     "execution_count": 9,
     "metadata": {},
     "output_type": "execute_result"
    }
   ],
   "source": [
    "memory_use.head(2)"
   ]
  },
  {
   "cell_type": "code",
   "execution_count": 10,
   "metadata": {
    "slideshow": {
     "slide_type": "skip"
    }
   },
   "outputs": [
    {
     "data": {
      "text/plain": [
       "(3302522, 17)"
      ]
     },
     "execution_count": 10,
     "metadata": {},
     "output_type": "execute_result"
    }
   ],
   "source": [
    "memory_use.shape"
   ]
  },
  {
   "cell_type": "code",
   "execution_count": 11,
   "metadata": {
    "slideshow": {
     "slide_type": "skip"
    }
   },
   "outputs": [
    {
     "data": {
      "text/html": [
       "<div>\n",
       "<style scoped>\n",
       "    .dataframe tbody tr th:only-of-type {\n",
       "        vertical-align: middle;\n",
       "    }\n",
       "\n",
       "    .dataframe tbody tr th {\n",
       "        vertical-align: top;\n",
       "    }\n",
       "\n",
       "    .dataframe thead th {\n",
       "        text-align: right;\n",
       "    }\n",
       "</style>\n",
       "<table border=\"1\" class=\"dataframe\">\n",
       "  <thead>\n",
       "    <tr style=\"text-align: right;\">\n",
       "      <th></th>\n",
       "      <th>jobid</th>\n",
       "      <th>account</th>\n",
       "      <th>user</th>\n",
       "      <th>reqmem</th>\n",
       "      <th>usedmem</th>\n",
       "      <th>reqtime</th>\n",
       "      <th>usedtime</th>\n",
       "      <th>nodes</th>\n",
       "      <th>cpus</th>\n",
       "      <th>partition</th>\n",
       "      <th>exitcode</th>\n",
       "      <th>state</th>\n",
       "      <th>nodelist</th>\n",
       "      <th>req_total_seconds</th>\n",
       "      <th>used_total_seconds</th>\n",
       "      <th>reqmem_mc</th>\n",
       "      <th>usedmem_mc</th>\n",
       "    </tr>\n",
       "  </thead>\n",
       "  <tbody>\n",
       "    <tr>\n",
       "      <th>13240</th>\n",
       "      <td>17105760</td>\n",
       "      <td>summer</td>\n",
       "      <td>buddy</td>\n",
       "      <td>20480Mc</td>\n",
       "      <td>6453.04M</td>\n",
       "      <td>04:40:00</td>\n",
       "      <td>00:00:56</td>\n",
       "      <td>2</td>\n",
       "      <td>1</td>\n",
       "      <td>production</td>\n",
       "      <td>0:0</td>\n",
       "      <td>COMPLETED</td>\n",
       "      <td>['cn1434', 'cn1435']</td>\n",
       "      <td>16800</td>\n",
       "      <td>56</td>\n",
       "      <td>20480.0</td>\n",
       "      <td>12906.08000</td>\n",
       "    </tr>\n",
       "    <tr>\n",
       "      <th>13257</th>\n",
       "      <td>17105819</td>\n",
       "      <td>summer</td>\n",
       "      <td>buddy</td>\n",
       "      <td>20480Mc</td>\n",
       "      <td>7587.56M</td>\n",
       "      <td>04:40:00</td>\n",
       "      <td>00:11:43</td>\n",
       "      <td>2</td>\n",
       "      <td>1</td>\n",
       "      <td>production</td>\n",
       "      <td>0:0</td>\n",
       "      <td>COMPLETED</td>\n",
       "      <td>['cn1434', 'cn1435']</td>\n",
       "      <td>16800</td>\n",
       "      <td>703</td>\n",
       "      <td>20480.0</td>\n",
       "      <td>15175.12000</td>\n",
       "    </tr>\n",
       "    <tr>\n",
       "      <th>13342</th>\n",
       "      <td>17105966</td>\n",
       "      <td>summer</td>\n",
       "      <td>buddy</td>\n",
       "      <td>20480Mc</td>\n",
       "      <td>7587.15M</td>\n",
       "      <td>04:40:00</td>\n",
       "      <td>00:14:03</td>\n",
       "      <td>2</td>\n",
       "      <td>1</td>\n",
       "      <td>production</td>\n",
       "      <td>0:0</td>\n",
       "      <td>COMPLETED</td>\n",
       "      <td>['cn1434', 'cn1435']</td>\n",
       "      <td>16800</td>\n",
       "      <td>843</td>\n",
       "      <td>20480.0</td>\n",
       "      <td>15174.30000</td>\n",
       "    </tr>\n",
       "    <tr>\n",
       "      <th>26744</th>\n",
       "      <td>17125144</td>\n",
       "      <td>summer</td>\n",
       "      <td>buddy</td>\n",
       "      <td>20480Mc</td>\n",
       "      <td>20479.96M</td>\n",
       "      <td>04:40:00</td>\n",
       "      <td>00:17:50</td>\n",
       "      <td>3</td>\n",
       "      <td>1</td>\n",
       "      <td>production</td>\n",
       "      <td>0:0</td>\n",
       "      <td>COMPLETED</td>\n",
       "      <td>['cn1448', 'cn1449', 'cn1450']</td>\n",
       "      <td>16800</td>\n",
       "      <td>1070</td>\n",
       "      <td>20480.0</td>\n",
       "      <td>61439.88000</td>\n",
       "    </tr>\n",
       "    <tr>\n",
       "      <th>27044</th>\n",
       "      <td>17125676</td>\n",
       "      <td>summer</td>\n",
       "      <td>buddy</td>\n",
       "      <td>20480Mc</td>\n",
       "      <td>20463.48M</td>\n",
       "      <td>04:40:00</td>\n",
       "      <td>00:34:25</td>\n",
       "      <td>3</td>\n",
       "      <td>1</td>\n",
       "      <td>production</td>\n",
       "      <td>0:0</td>\n",
       "      <td>COMPLETED</td>\n",
       "      <td>['cn1465', 'cn1466', 'cn1467']</td>\n",
       "      <td>16800</td>\n",
       "      <td>2065</td>\n",
       "      <td>20480.0</td>\n",
       "      <td>61390.44000</td>\n",
       "    </tr>\n",
       "    <tr>\n",
       "      <th>28241</th>\n",
       "      <td>17126611</td>\n",
       "      <td>summer</td>\n",
       "      <td>buddy</td>\n",
       "      <td>20480Mc</td>\n",
       "      <td>6712.42M</td>\n",
       "      <td>04:40:00</td>\n",
       "      <td>00:03:37</td>\n",
       "      <td>3</td>\n",
       "      <td>1</td>\n",
       "      <td>production</td>\n",
       "      <td>0:0</td>\n",
       "      <td>COMPLETED</td>\n",
       "      <td>['cn1430', 'cn1431', 'cn1432']</td>\n",
       "      <td>16800</td>\n",
       "      <td>217</td>\n",
       "      <td>20480.0</td>\n",
       "      <td>20137.26000</td>\n",
       "    </tr>\n",
       "    <tr>\n",
       "      <th>61606</th>\n",
       "      <td>17173216</td>\n",
       "      <td>arra</td>\n",
       "      <td>needham</td>\n",
       "      <td>8192Mc</td>\n",
       "      <td>65535.89M</td>\n",
       "      <td>06:00:00</td>\n",
       "      <td>00:06:44</td>\n",
       "      <td>19</td>\n",
       "      <td>8</td>\n",
       "      <td>production</td>\n",
       "      <td>0:0</td>\n",
       "      <td>COMPLETED</td>\n",
       "      <td>['cn1281', 'cn1283', 'cn1297', 'cn1298', 'cn13...</td>\n",
       "      <td>21600</td>\n",
       "      <td>404</td>\n",
       "      <td>8192.0</td>\n",
       "      <td>155647.73875</td>\n",
       "    </tr>\n",
       "    <tr>\n",
       "      <th>118478</th>\n",
       "      <td>17255274</td>\n",
       "      <td>belle</td>\n",
       "      <td>osbaldo</td>\n",
       "      <td>8192Mc</td>\n",
       "      <td>0</td>\n",
       "      <td>1-00:00:00</td>\n",
       "      <td>00:01:15</td>\n",
       "      <td>4</td>\n",
       "      <td>12</td>\n",
       "      <td>production</td>\n",
       "      <td>0:0</td>\n",
       "      <td>COMPLETED</td>\n",
       "      <td>['cn1293', 'cn1302', 'cn1355', 'cn1356']</td>\n",
       "      <td>86400</td>\n",
       "      <td>75</td>\n",
       "      <td>8192.0</td>\n",
       "      <td>0.00000</td>\n",
       "    </tr>\n",
       "    <tr>\n",
       "      <th>160741</th>\n",
       "      <td>17324222</td>\n",
       "      <td>crowns</td>\n",
       "      <td>tena</td>\n",
       "      <td>5120Mc</td>\n",
       "      <td>9651.66M</td>\n",
       "      <td>2-00:00:00</td>\n",
       "      <td>16:47:47</td>\n",
       "      <td>37</td>\n",
       "      <td>1</td>\n",
       "      <td>production</td>\n",
       "      <td>0:0</td>\n",
       "      <td>COMPLETED</td>\n",
       "      <td>['cn1094', 'cn1125', 'cn1266', 'cn1277', 'cn12...</td>\n",
       "      <td>172800</td>\n",
       "      <td>60467</td>\n",
       "      <td>5120.0</td>\n",
       "      <td>357111.42000</td>\n",
       "    </tr>\n",
       "    <tr>\n",
       "      <th>164606</th>\n",
       "      <td>17329000</td>\n",
       "      <td>round</td>\n",
       "      <td>shenna</td>\n",
       "      <td>8000Mc</td>\n",
       "      <td>0</td>\n",
       "      <td>10:00:00</td>\n",
       "      <td>00:00:12</td>\n",
       "      <td>2</td>\n",
       "      <td>1</td>\n",
       "      <td>production</td>\n",
       "      <td>0:0</td>\n",
       "      <td>COMPLETED</td>\n",
       "      <td>['cn1291', 'cn1292']</td>\n",
       "      <td>36000</td>\n",
       "      <td>12</td>\n",
       "      <td>8000.0</td>\n",
       "      <td>0.00000</td>\n",
       "    </tr>\n",
       "  </tbody>\n",
       "</table>\n",
       "</div>"
      ],
      "text/plain": [
       "           jobid account     user   reqmem    usedmem     reqtime  usedtime  \\\n",
       "13240   17105760  summer    buddy  20480Mc   6453.04M    04:40:00  00:00:56   \n",
       "13257   17105819  summer    buddy  20480Mc   7587.56M    04:40:00  00:11:43   \n",
       "13342   17105966  summer    buddy  20480Mc   7587.15M    04:40:00  00:14:03   \n",
       "26744   17125144  summer    buddy  20480Mc  20479.96M    04:40:00  00:17:50   \n",
       "27044   17125676  summer    buddy  20480Mc  20463.48M    04:40:00  00:34:25   \n",
       "28241   17126611  summer    buddy  20480Mc   6712.42M    04:40:00  00:03:37   \n",
       "61606   17173216    arra  needham   8192Mc  65535.89M    06:00:00  00:06:44   \n",
       "118478  17255274   belle  osbaldo   8192Mc          0  1-00:00:00  00:01:15   \n",
       "160741  17324222  crowns     tena   5120Mc   9651.66M  2-00:00:00  16:47:47   \n",
       "164606  17329000   round   shenna   8000Mc          0    10:00:00  00:00:12   \n",
       "\n",
       "        nodes  cpus   partition exitcode      state  \\\n",
       "13240       2     1  production      0:0  COMPLETED   \n",
       "13257       2     1  production      0:0  COMPLETED   \n",
       "13342       2     1  production      0:0  COMPLETED   \n",
       "26744       3     1  production      0:0  COMPLETED   \n",
       "27044       3     1  production      0:0  COMPLETED   \n",
       "28241       3     1  production      0:0  COMPLETED   \n",
       "61606      19     8  production      0:0  COMPLETED   \n",
       "118478      4    12  production      0:0  COMPLETED   \n",
       "160741     37     1  production      0:0  COMPLETED   \n",
       "164606      2     1  production      0:0  COMPLETED   \n",
       "\n",
       "                                                 nodelist  req_total_seconds  \\\n",
       "13240                                ['cn1434', 'cn1435']              16800   \n",
       "13257                                ['cn1434', 'cn1435']              16800   \n",
       "13342                                ['cn1434', 'cn1435']              16800   \n",
       "26744                      ['cn1448', 'cn1449', 'cn1450']              16800   \n",
       "27044                      ['cn1465', 'cn1466', 'cn1467']              16800   \n",
       "28241                      ['cn1430', 'cn1431', 'cn1432']              16800   \n",
       "61606   ['cn1281', 'cn1283', 'cn1297', 'cn1298', 'cn13...              21600   \n",
       "118478           ['cn1293', 'cn1302', 'cn1355', 'cn1356']              86400   \n",
       "160741  ['cn1094', 'cn1125', 'cn1266', 'cn1277', 'cn12...             172800   \n",
       "164606                               ['cn1291', 'cn1292']              36000   \n",
       "\n",
       "        used_total_seconds  reqmem_mc    usedmem_mc  \n",
       "13240                   56    20480.0   12906.08000  \n",
       "13257                  703    20480.0   15175.12000  \n",
       "13342                  843    20480.0   15174.30000  \n",
       "26744                 1070    20480.0   61439.88000  \n",
       "27044                 2065    20480.0   61390.44000  \n",
       "28241                  217    20480.0   20137.26000  \n",
       "61606                  404     8192.0  155647.73875  \n",
       "118478                  75     8192.0       0.00000  \n",
       "160741               60467     5120.0  357111.42000  \n",
       "164606                  12     8000.0       0.00000  "
      ]
     },
     "execution_count": 11,
     "metadata": {},
     "output_type": "execute_result"
    }
   ],
   "source": [
    "#examples where reqmem in Mc and nodes > 1\n",
    "memory_use[(memory_use['reqmem'].str.contains('Mc')) & (memory_use['nodes']>1)][:10]"
   ]
  },
  {
   "cell_type": "code",
   "execution_count": 12,
   "metadata": {
    "slideshow": {
     "slide_type": "skip"
    }
   },
   "outputs": [
    {
     "data": {
      "text/plain": [
       "0.0000       537283\n",
       "1.5600        31241\n",
       "0.1975        30085\n",
       "1.5575        29904\n",
       "6.2300        16918\n",
       "              ...  \n",
       "3493.0900         1\n",
       "1416.2400         1\n",
       "1393.7020         1\n",
       "2559.6200         1\n",
       "4122.6600         1\n",
       "Name: usedmem_mc, Length: 884478, dtype: int64"
      ]
     },
     "execution_count": 12,
     "metadata": {},
     "output_type": "execute_result"
    }
   ],
   "source": [
    "#it looks like there are some jobs with 0 usedmem, does that make sense?\n",
    "memory_use['usedmem_mc'].value_counts()\n",
    "#no it does not, these don't seem valid for evaluating efficiency"
   ]
  },
  {
   "cell_type": "code",
   "execution_count": 13,
   "metadata": {
    "slideshow": {
     "slide_type": "skip"
    }
   },
   "outputs": [
    {
     "data": {
      "text/plain": [
       "count     537283.000000\n",
       "mean          37.988003\n",
       "std         2058.355733\n",
       "min            0.000000\n",
       "25%            7.000000\n",
       "50%           12.000000\n",
       "75%           20.000000\n",
       "max      1013546.000000\n",
       "Name: used_total_seconds, dtype: object"
      ]
     },
     "execution_count": 13,
     "metadata": {},
     "output_type": "execute_result"
    }
   ],
   "source": [
    "#here's what the data looks like\n",
    "memory_use[memory_use['usedmem_mc'] ==0]['used_total_seconds'].describe().apply(lambda x: format(x, 'f'))\n",
    "#most are not long running jobs, but some in the top 25% are"
   ]
  },
  {
   "cell_type": "code",
   "execution_count": 14,
   "metadata": {
    "slideshow": {
     "slide_type": "skip"
    }
   },
   "outputs": [],
   "source": [
    "#since we'll be calculating ratios to look at efficiency, we don't want any rows where reqmem or usedmem is 0\n",
    "#also remove a few stray rows where cpus = 0\n",
    "memory_use = memory_use[(memory_use['reqmem_mc']>0) & (memory_use['usedmem_mc']>0) & (memory_use['cpus']>0)]"
   ]
  },
  {
   "cell_type": "code",
   "execution_count": 15,
   "metadata": {
    "slideshow": {
     "slide_type": "skip"
    }
   },
   "outputs": [],
   "source": [
    "#some jobs have fewer cpus than nodes, which doesn't make sense\n",
    "check_cpus = memory_use[memory_use['cpus']<memory_use['nodes']][['account','cpus','nodes','reqmem', 'usedmem', 'reqmem_mc','usedmem_mc' ]]"
   ]
  },
  {
   "cell_type": "code",
   "execution_count": 16,
   "metadata": {
    "slideshow": {
     "slide_type": "skip"
    }
   },
   "outputs": [
    {
     "data": {
      "text/html": [
       "<div>\n",
       "<style scoped>\n",
       "    .dataframe tbody tr th:only-of-type {\n",
       "        vertical-align: middle;\n",
       "    }\n",
       "\n",
       "    .dataframe tbody tr th {\n",
       "        vertical-align: top;\n",
       "    }\n",
       "\n",
       "    .dataframe thead th {\n",
       "        text-align: right;\n",
       "    }\n",
       "</style>\n",
       "<table border=\"1\" class=\"dataframe\">\n",
       "  <thead>\n",
       "    <tr style=\"text-align: right;\">\n",
       "      <th></th>\n",
       "      <th>account</th>\n",
       "      <th>cpus</th>\n",
       "      <th>nodes</th>\n",
       "      <th>reqmem</th>\n",
       "      <th>usedmem</th>\n",
       "      <th>reqmem_mc</th>\n",
       "      <th>usedmem_mc</th>\n",
       "    </tr>\n",
       "  </thead>\n",
       "  <tbody>\n",
       "    <tr>\n",
       "      <th>3453</th>\n",
       "      <td>winged</td>\n",
       "      <td>1</td>\n",
       "      <td>3</td>\n",
       "      <td>4096Mn</td>\n",
       "      <td>570.32M</td>\n",
       "      <td>12288.000000</td>\n",
       "      <td>1710.960000</td>\n",
       "    </tr>\n",
       "    <tr>\n",
       "      <th>3454</th>\n",
       "      <td>winged</td>\n",
       "      <td>1</td>\n",
       "      <td>4</td>\n",
       "      <td>4096Mn</td>\n",
       "      <td>669.61M</td>\n",
       "      <td>16384.000000</td>\n",
       "      <td>2678.440000</td>\n",
       "    </tr>\n",
       "    <tr>\n",
       "      <th>3457</th>\n",
       "      <td>winged</td>\n",
       "      <td>1</td>\n",
       "      <td>3</td>\n",
       "      <td>4096Mn</td>\n",
       "      <td>620.31M</td>\n",
       "      <td>12288.000000</td>\n",
       "      <td>1860.930000</td>\n",
       "    </tr>\n",
       "    <tr>\n",
       "      <th>3460</th>\n",
       "      <td>winged</td>\n",
       "      <td>1</td>\n",
       "      <td>4</td>\n",
       "      <td>4096Mn</td>\n",
       "      <td>629.38M</td>\n",
       "      <td>16384.000000</td>\n",
       "      <td>2517.520000</td>\n",
       "    </tr>\n",
       "    <tr>\n",
       "      <th>3464</th>\n",
       "      <td>winged</td>\n",
       "      <td>1</td>\n",
       "      <td>3</td>\n",
       "      <td>4096Mn</td>\n",
       "      <td>641.92M</td>\n",
       "      <td>12288.000000</td>\n",
       "      <td>1925.760000</td>\n",
       "    </tr>\n",
       "    <tr>\n",
       "      <th>...</th>\n",
       "      <td>...</td>\n",
       "      <td>...</td>\n",
       "      <td>...</td>\n",
       "      <td>...</td>\n",
       "      <td>...</td>\n",
       "      <td>...</td>\n",
       "      <td>...</td>\n",
       "    </tr>\n",
       "    <tr>\n",
       "      <th>3626272</th>\n",
       "      <td>burro</td>\n",
       "      <td>3</td>\n",
       "      <td>20</td>\n",
       "      <td>51200Mn</td>\n",
       "      <td>53.06M</td>\n",
       "      <td>341333.333333</td>\n",
       "      <td>353.733333</td>\n",
       "    </tr>\n",
       "    <tr>\n",
       "      <th>3629669</th>\n",
       "      <td>burro</td>\n",
       "      <td>3</td>\n",
       "      <td>20</td>\n",
       "      <td>51200Mn</td>\n",
       "      <td>235.39M</td>\n",
       "      <td>341333.333333</td>\n",
       "      <td>1569.266667</td>\n",
       "    </tr>\n",
       "    <tr>\n",
       "      <th>3669106</th>\n",
       "      <td>burro</td>\n",
       "      <td>3</td>\n",
       "      <td>20</td>\n",
       "      <td>51200Mn</td>\n",
       "      <td>102.50M</td>\n",
       "      <td>341333.333333</td>\n",
       "      <td>683.333333</td>\n",
       "    </tr>\n",
       "    <tr>\n",
       "      <th>3669107</th>\n",
       "      <td>burro</td>\n",
       "      <td>3</td>\n",
       "      <td>20</td>\n",
       "      <td>51200Mn</td>\n",
       "      <td>99.59M</td>\n",
       "      <td>341333.333333</td>\n",
       "      <td>663.933333</td>\n",
       "    </tr>\n",
       "    <tr>\n",
       "      <th>3670648</th>\n",
       "      <td>burro</td>\n",
       "      <td>3</td>\n",
       "      <td>20</td>\n",
       "      <td>51200Mn</td>\n",
       "      <td>105.52M</td>\n",
       "      <td>341333.333333</td>\n",
       "      <td>703.466667</td>\n",
       "    </tr>\n",
       "  </tbody>\n",
       "</table>\n",
       "<p>1192 rows × 7 columns</p>\n",
       "</div>"
      ],
      "text/plain": [
       "        account  cpus  nodes   reqmem  usedmem      reqmem_mc   usedmem_mc\n",
       "3453     winged     1      3   4096Mn  570.32M   12288.000000  1710.960000\n",
       "3454     winged     1      4   4096Mn  669.61M   16384.000000  2678.440000\n",
       "3457     winged     1      3   4096Mn  620.31M   12288.000000  1860.930000\n",
       "3460     winged     1      4   4096Mn  629.38M   16384.000000  2517.520000\n",
       "3464     winged     1      3   4096Mn  641.92M   12288.000000  1925.760000\n",
       "...         ...   ...    ...      ...      ...            ...          ...\n",
       "3626272   burro     3     20  51200Mn   53.06M  341333.333333   353.733333\n",
       "3629669   burro     3     20  51200Mn  235.39M  341333.333333  1569.266667\n",
       "3669106   burro     3     20  51200Mn  102.50M  341333.333333   683.333333\n",
       "3669107   burro     3     20  51200Mn   99.59M  341333.333333   663.933333\n",
       "3670648   burro     3     20  51200Mn  105.52M  341333.333333   703.466667\n",
       "\n",
       "[1192 rows x 7 columns]"
      ]
     },
     "execution_count": 16,
     "metadata": {},
     "output_type": "execute_result"
    }
   ],
   "source": [
    "#here's what that data looks like\n",
    "check_cpus\n",
    "#it's probably not valid for efficiency ratios"
   ]
  },
  {
   "cell_type": "code",
   "execution_count": 17,
   "metadata": {
    "slideshow": {
     "slide_type": "skip"
    }
   },
   "outputs": [
    {
     "data": {
      "text/plain": [
       "winged          294\n",
       "chickpeas       293\n",
       "angelys         196\n",
       "sharlin         186\n",
       "wood             62\n",
       "retailer         52\n",
       "burro            35\n",
       "mignonette       15\n",
       "crowns           13\n",
       "arra             11\n",
       "casaba            6\n",
       "summer            6\n",
       "peanuts           6\n",
       "carrot            4\n",
       "crab              3\n",
       "grisette          3\n",
       "blackberries      3\n",
       "clara             1\n",
       "horseradish       1\n",
       "delblush          1\n",
       "cms_lowprio       1\n",
       "Name: account, dtype: int64"
      ]
     },
     "execution_count": 17,
     "metadata": {},
     "output_type": "execute_result"
    }
   ],
   "source": [
    "#is it limited to particular accounts?\n",
    "check_cpus['account'].value_counts()\n",
    "#not particularly"
   ]
  },
  {
   "cell_type": "code",
   "execution_count": 18,
   "metadata": {
    "scrolled": true,
    "slideshow": {
     "slide_type": "skip"
    }
   },
   "outputs": [
    {
     "data": {
      "text/plain": [
       "cep              464990\n",
       "cms              452991\n",
       "summer           372681\n",
       "carrot           179941\n",
       "galia            172315\n",
       "cms_lowprio      116401\n",
       "casaba           104134\n",
       "portabella       103329\n",
       "bunch             88829\n",
       "orange            76909\n",
       "bulk              49270\n",
       "horseradish       44361\n",
       "sharlin           43898\n",
       "sweet             38711\n",
       "key               34944\n",
       "mixed             34099\n",
       "retailer          32049\n",
       "boysenberries     27957\n",
       "wood              26226\n",
       "round             23557\n",
       "cmsadmin          23421\n",
       "atemoyas          22084\n",
       "garlic            19329\n",
       "wax               17287\n",
       "alkmene           15532\n",
       "grisette          15176\n",
       "celery            14510\n",
       "winged            14108\n",
       "sunburst          12876\n",
       "fresh             11025\n",
       "chickpeas         10486\n",
       "regal              9641\n",
       "large              9019\n",
       "texas              8606\n",
       "minnewashta        6555\n",
       "clara              6324\n",
       "belle              5687\n",
       "lychees            5454\n",
       "st                 5335\n",
       "muscat             4774\n",
       "bertanne           4405\n",
       "seeded             3005\n",
       "amaranth           2609\n",
       "cantared           2310\n",
       "sturmer            1847\n",
       "conference         1434\n",
       "sunflower          1364\n",
       "chasselas          1321\n",
       "burro              1290\n",
       "pasilla            1266\n",
       "blackberries       1253\n",
       "almonds            1185\n",
       "medium             1113\n",
       "crab               1095\n",
       "spring             1066\n",
       "bon                 913\n",
       "harovin             865\n",
       "sugranineteen       863\n",
       "brazilnuts          680\n",
       "long                635\n",
       "shallots            599\n",
       "concord             528\n",
       "shiny               517\n",
       "jicama              504\n",
       "thomcord            468\n",
       "baby                439\n",
       "serrano             436\n",
       "anise               427\n",
       "strawberries        420\n",
       "treviso             398\n",
       "baking              397\n",
       "carambola           371\n",
       "plantain            353\n",
       "pinova              290\n",
       "white               280\n",
       "chipilin            252\n",
       "angelys             208\n",
       "peanuts             202\n",
       "emmons              200\n",
       "horn                194\n",
       "josephine           182\n",
       "cactus              174\n",
       "bay                 174\n",
       "tips                172\n",
       "dill                142\n",
       "kinnow              131\n",
       "antares             119\n",
       "cinnabar             97\n",
       "yu                   94\n",
       "pepino               93\n",
       "bibb                 92\n",
       "lemon                82\n",
       "leaves               72\n",
       "delblush             69\n",
       "roasted              63\n",
       "arra                 59\n",
       "lochbuie             55\n",
       "pecans               49\n",
       "fairchild            47\n",
       "lollo                40\n",
       "water                39\n",
       "milwa                36\n",
       "chayote              32\n",
       "fiddlehead           31\n",
       "pitted               26\n",
       "mignonette           25\n",
       "kabocha              20\n",
       "broccoli             18\n",
       "hearts               16\n",
       "huaguan              16\n",
       "crowns               13\n",
       "mache                13\n",
       "rocha                12\n",
       "shell                11\n",
       "kumquat              10\n",
       "oroblanco             9\n",
       "bell                  8\n",
       "galangal              8\n",
       "forelle               7\n",
       "polk                  7\n",
       "ingrid                6\n",
       "nino                  6\n",
       "pickling              5\n",
       "pink                  4\n",
       "pioppino              4\n",
       "cocktail              4\n",
       "malanga               3\n",
       "plumcot               3\n",
       "tree                  1\n",
       "romanesco             1\n",
       "purple                1\n",
       "mung                  1\n",
       "Name: account, dtype: int64"
      ]
     },
     "execution_count": 18,
     "metadata": {},
     "output_type": "execute_result"
    }
   ],
   "source": [
    "memory_use['account'].value_counts()"
   ]
  },
  {
   "cell_type": "code",
   "execution_count": 19,
   "metadata": {
    "slideshow": {
     "slide_type": "skip"
    }
   },
   "outputs": [],
   "source": [
    "#remove the rows where cpus < nodes\n",
    "memory_use = memory_use[memory_use['cpus']>=memory_use['nodes']]"
   ]
  },
  {
   "cell_type": "code",
   "execution_count": 20,
   "metadata": {
    "slideshow": {
     "slide_type": "skip"
    }
   },
   "outputs": [],
   "source": [
    "memory_use['used_hours'] = (memory_use['used_total_seconds'] / 3600)"
   ]
  },
  {
   "cell_type": "code",
   "execution_count": 21,
   "metadata": {
    "slideshow": {
     "slide_type": "skip"
    }
   },
   "outputs": [],
   "source": [
    "#memory weighting formula\n",
    "#full_df['MEM_WEIGHT'] = full_df['MEM_PERCENT_USED']*full_df['TOTAL_SEC_USED']\n",
    "#full_df.groupby('ACCOUNT')['MEM_WEIGHT'].sum()/full_df.groupby('ACCOUNT')['TOTAL_SEC_USED'].sum()\n",
    "#alkmene 38.351490\n",
    "#almonds 46.785636\n",
    "#amaranth 4.135943"
   ]
  },
  {
   "cell_type": "code",
   "execution_count": 22,
   "metadata": {
    "slideshow": {
     "slide_type": "skip"
    }
   },
   "outputs": [],
   "source": [
    "memory_use['avg_mem_use'] = memory_use['usedmem_mc'] / memory_use['reqmem_mc'] * 100"
   ]
  },
  {
   "cell_type": "code",
   "execution_count": 23,
   "metadata": {
    "slideshow": {
     "slide_type": "skip"
    }
   },
   "outputs": [],
   "source": [
    "memory_use['mem_weight'] = memory_use['avg_mem_use'] * memory_use['used_total_seconds']"
   ]
  },
  {
   "cell_type": "code",
   "execution_count": 24,
   "metadata": {
    "slideshow": {
     "slide_type": "skip"
    }
   },
   "outputs": [
    {
     "data": {
      "text/plain": [
       "account\n",
       "alkmene          38.398614\n",
       "almonds          21.713587\n",
       "amaranth          4.136165\n",
       "angelys           2.701473\n",
       "anise            50.589604\n",
       "antares          67.351935\n",
       "arra             61.596102\n",
       "atemoyas         14.127690\n",
       "baby             14.528333\n",
       "baking           42.547142\n",
       "bay               5.710036\n",
       "bell              6.252304\n",
       "belle            24.432158\n",
       "bertanne         25.736394\n",
       "bibb             68.479948\n",
       "blackberries     30.977459\n",
       "bon              19.198852\n",
       "boysenberries    12.872584\n",
       "brazilnuts       33.754403\n",
       "broccoli         49.645722\n",
       "bulk             46.143998\n",
       "bunch            15.861109\n",
       "burro            43.340971\n",
       "cactus           33.614457\n",
       "cantared         19.378149\n",
       "carambola        21.421409\n",
       "carrot           45.486137\n",
       "casaba           29.247738\n",
       "celery           15.567764\n",
       "cep              33.662324\n",
       "chasselas        66.380879\n",
       "chayote           1.515647\n",
       "chickpeas        34.243716\n",
       "chipilin         46.867197\n",
       "cinnabar         37.181179\n",
       "clara            12.245560\n",
       "cms              40.860207\n",
       "cms_lowprio      47.764879\n",
       "cmsadmin         39.564021\n",
       "cocktail          0.074992\n",
       "concord          31.390443\n",
       "conference       30.617485\n",
       "crab              1.292852\n",
       "delblush         38.311607\n",
       "dill             44.916246\n",
       "emmons           12.348836\n",
       "fairchild        32.775247\n",
       "fiddlehead        3.996476\n",
       "forelle           4.022039\n",
       "fresh            51.490548\n",
       "galangal          0.459164\n",
       "galia            37.875906\n",
       "garlic           28.103192\n",
       "grisette          6.898855\n",
       "harovin          21.654336\n",
       "hearts           25.929453\n",
       "horn             29.388391\n",
       "horseradish      37.963566\n",
       "huaguan          12.738922\n",
       "ingrid            5.172926\n",
       "jicama           80.117124\n",
       "josephine        61.602900\n",
       "kabocha          10.194995\n",
       "key              21.707843\n",
       "kinnow           15.567615\n",
       "kumquat           2.580975\n",
       "large             4.720371\n",
       "leaves           12.173504\n",
       "lemon            38.989274\n",
       "lochbuie         29.866822\n",
       "lollo            10.531084\n",
       "long              6.153548\n",
       "lychees          18.443510\n",
       "mache             4.725228\n",
       "malanga           4.956369\n",
       "medium           38.160421\n",
       "mignonette       57.623688\n",
       "milwa            24.188471\n",
       "minnewashta      10.520401\n",
       "mixed            39.701501\n",
       "mung              1.111084\n",
       "muscat           58.871792\n",
       "nino             31.023077\n",
       "orange           26.498351\n",
       "oroblanco        13.139065\n",
       "pasilla           1.117480\n",
       "peanuts           4.071907\n",
       "pecans            3.570469\n",
       "pepino           67.294021\n",
       "pickling         28.637246\n",
       "pink              4.618313\n",
       "pinova           29.930017\n",
       "pioppino          3.475228\n",
       "pitted            9.603958\n",
       "plantain          0.707444\n",
       "plumcot           0.291689\n",
       "polk              6.505567\n",
       "portabella        8.344477\n",
       "purple            2.267090\n",
       "regal             9.152145\n",
       "retailer         50.083066\n",
       "roasted          65.382929\n",
       "rocha            59.761491\n",
       "romanesco         0.178467\n",
       "round            44.201930\n",
       "seeded           40.772203\n",
       "serrano          21.106315\n",
       "shallots         59.891377\n",
       "sharlin          22.522511\n",
       "shell            62.445406\n",
       "shiny            53.636347\n",
       "spring            1.930763\n",
       "st               26.731428\n",
       "strawberries     67.949519\n",
       "sturmer          31.616991\n",
       "sugranineteen    12.495754\n",
       "summer           55.362521\n",
       "sunburst         19.211713\n",
       "sunflower        51.593044\n",
       "sweet            36.392304\n",
       "texas            64.852026\n",
       "thomcord         44.560875\n",
       "tips              7.195195\n",
       "tree              6.170410\n",
       "treviso          47.672372\n",
       "water            34.129320\n",
       "wax              51.989919\n",
       "white             4.448414\n",
       "winged           59.800360\n",
       "wood              3.671089\n",
       "yu               34.378004\n",
       "dtype: float64"
      ]
     },
     "execution_count": 24,
     "metadata": {},
     "output_type": "execute_result"
    }
   ],
   "source": [
    "memory_use.groupby('account')['mem_weight'].sum() / memory_use.groupby('account')['used_total_seconds'].sum()"
   ]
  },
  {
   "cell_type": "code",
   "execution_count": 25,
   "metadata": {
    "slideshow": {
     "slide_type": "skip"
    }
   },
   "outputs": [
    {
     "data": {
      "text/html": [
       "<div>\n",
       "<style scoped>\n",
       "    .dataframe tbody tr th:only-of-type {\n",
       "        vertical-align: middle;\n",
       "    }\n",
       "\n",
       "    .dataframe tbody tr th {\n",
       "        vertical-align: top;\n",
       "    }\n",
       "\n",
       "    .dataframe thead th {\n",
       "        text-align: right;\n",
       "    }\n",
       "</style>\n",
       "<table border=\"1\" class=\"dataframe\">\n",
       "  <thead>\n",
       "    <tr style=\"text-align: right;\">\n",
       "      <th></th>\n",
       "      <th>jobid</th>\n",
       "      <th>account</th>\n",
       "      <th>user</th>\n",
       "      <th>reqmem</th>\n",
       "      <th>usedmem</th>\n",
       "      <th>reqtime</th>\n",
       "      <th>usedtime</th>\n",
       "      <th>nodes</th>\n",
       "      <th>cpus</th>\n",
       "      <th>partition</th>\n",
       "      <th>exitcode</th>\n",
       "      <th>state</th>\n",
       "      <th>nodelist</th>\n",
       "      <th>req_total_seconds</th>\n",
       "      <th>used_total_seconds</th>\n",
       "      <th>reqmem_mc</th>\n",
       "      <th>usedmem_mc</th>\n",
       "      <th>used_hours</th>\n",
       "      <th>avg_mem_use</th>\n",
       "      <th>mem_weight</th>\n",
       "    </tr>\n",
       "  </thead>\n",
       "  <tbody>\n",
       "    <tr>\n",
       "      <th>1173511</th>\n",
       "      <td>19005552</td>\n",
       "      <td>sugranineteen</td>\n",
       "      <td>daron</td>\n",
       "      <td>4096Mn</td>\n",
       "      <td>544.95M</td>\n",
       "      <td>12-12:00:00</td>\n",
       "      <td>19-20:04:25</td>\n",
       "      <td>1</td>\n",
       "      <td>1</td>\n",
       "      <td>production</td>\n",
       "      <td>0:0</td>\n",
       "      <td>COMPLETED</td>\n",
       "      <td>['cn1135']</td>\n",
       "      <td>1080000</td>\n",
       "      <td>1713865</td>\n",
       "      <td>4096.000000</td>\n",
       "      <td>544.950000</td>\n",
       "      <td>476.073611</td>\n",
       "      <td>13.304443</td>\n",
       "      <td>2.280202e+07</td>\n",
       "    </tr>\n",
       "    <tr>\n",
       "      <th>1173522</th>\n",
       "      <td>19005634</td>\n",
       "      <td>sugranineteen</td>\n",
       "      <td>daron</td>\n",
       "      <td>4096Mn</td>\n",
       "      <td>556.69M</td>\n",
       "      <td>12-12:00:00</td>\n",
       "      <td>19-19:53:24</td>\n",
       "      <td>1</td>\n",
       "      <td>1</td>\n",
       "      <td>production</td>\n",
       "      <td>0:0</td>\n",
       "      <td>COMPLETED</td>\n",
       "      <td>['cn1126']</td>\n",
       "      <td>1080000</td>\n",
       "      <td>1713204</td>\n",
       "      <td>4096.000000</td>\n",
       "      <td>556.690000</td>\n",
       "      <td>475.890000</td>\n",
       "      <td>13.591064</td>\n",
       "      <td>2.328427e+07</td>\n",
       "    </tr>\n",
       "    <tr>\n",
       "      <th>1173500</th>\n",
       "      <td>19005517</td>\n",
       "      <td>sugranineteen</td>\n",
       "      <td>daron</td>\n",
       "      <td>4096Mn</td>\n",
       "      <td>591.11M</td>\n",
       "      <td>12-12:00:00</td>\n",
       "      <td>19-15:04:26</td>\n",
       "      <td>1</td>\n",
       "      <td>1</td>\n",
       "      <td>production</td>\n",
       "      <td>0:0</td>\n",
       "      <td>COMPLETED</td>\n",
       "      <td>['cn1088']</td>\n",
       "      <td>1080000</td>\n",
       "      <td>1695866</td>\n",
       "      <td>4096.000000</td>\n",
       "      <td>591.110000</td>\n",
       "      <td>471.073889</td>\n",
       "      <td>14.431396</td>\n",
       "      <td>2.447371e+07</td>\n",
       "    </tr>\n",
       "    <tr>\n",
       "      <th>1173501</th>\n",
       "      <td>19005518</td>\n",
       "      <td>sugranineteen</td>\n",
       "      <td>daron</td>\n",
       "      <td>4096Mn</td>\n",
       "      <td>589.16M</td>\n",
       "      <td>12-12:00:00</td>\n",
       "      <td>19-15:04:18</td>\n",
       "      <td>1</td>\n",
       "      <td>1</td>\n",
       "      <td>production</td>\n",
       "      <td>0:0</td>\n",
       "      <td>COMPLETED</td>\n",
       "      <td>['cn1124']</td>\n",
       "      <td>1080000</td>\n",
       "      <td>1695858</td>\n",
       "      <td>4096.000000</td>\n",
       "      <td>589.160000</td>\n",
       "      <td>471.071667</td>\n",
       "      <td>14.383789</td>\n",
       "      <td>2.439286e+07</td>\n",
       "    </tr>\n",
       "    <tr>\n",
       "      <th>1173544</th>\n",
       "      <td>19005936</td>\n",
       "      <td>sugranineteen</td>\n",
       "      <td>daron</td>\n",
       "      <td>4096Mn</td>\n",
       "      <td>544.98M</td>\n",
       "      <td>12-12:00:00</td>\n",
       "      <td>19-14:48:21</td>\n",
       "      <td>1</td>\n",
       "      <td>1</td>\n",
       "      <td>production</td>\n",
       "      <td>0:0</td>\n",
       "      <td>COMPLETED</td>\n",
       "      <td>['cn1131']</td>\n",
       "      <td>1080000</td>\n",
       "      <td>1694901</td>\n",
       "      <td>4096.000000</td>\n",
       "      <td>544.980000</td>\n",
       "      <td>470.805833</td>\n",
       "      <td>13.305176</td>\n",
       "      <td>2.255096e+07</td>\n",
       "    </tr>\n",
       "    <tr>\n",
       "      <th>...</th>\n",
       "      <td>...</td>\n",
       "      <td>...</td>\n",
       "      <td>...</td>\n",
       "      <td>...</td>\n",
       "      <td>...</td>\n",
       "      <td>...</td>\n",
       "      <td>...</td>\n",
       "      <td>...</td>\n",
       "      <td>...</td>\n",
       "      <td>...</td>\n",
       "      <td>...</td>\n",
       "      <td>...</td>\n",
       "      <td>...</td>\n",
       "      <td>...</td>\n",
       "      <td>...</td>\n",
       "      <td>...</td>\n",
       "      <td>...</td>\n",
       "      <td>...</td>\n",
       "      <td>...</td>\n",
       "      <td>...</td>\n",
       "    </tr>\n",
       "    <tr>\n",
       "      <th>3537368</th>\n",
       "      <td>23797646</td>\n",
       "      <td>alkmene</td>\n",
       "      <td>abigail</td>\n",
       "      <td>47104Mn</td>\n",
       "      <td>104.74M</td>\n",
       "      <td>1-00:00:00</td>\n",
       "      <td>00:00:00</td>\n",
       "      <td>1</td>\n",
       "      <td>6</td>\n",
       "      <td>production</td>\n",
       "      <td>0:0</td>\n",
       "      <td>COMPLETED</td>\n",
       "      <td>['cn1266']</td>\n",
       "      <td>86400</td>\n",
       "      <td>0</td>\n",
       "      <td>7850.666667</td>\n",
       "      <td>17.456667</td>\n",
       "      <td>0.000000</td>\n",
       "      <td>0.222359</td>\n",
       "      <td>0.000000e+00</td>\n",
       "    </tr>\n",
       "    <tr>\n",
       "      <th>291869</th>\n",
       "      <td>17500485</td>\n",
       "      <td>baking</td>\n",
       "      <td>christa</td>\n",
       "      <td>184320Mn</td>\n",
       "      <td>475.46M</td>\n",
       "      <td>1-00:09:00</td>\n",
       "      <td>00:00:00</td>\n",
       "      <td>1</td>\n",
       "      <td>12</td>\n",
       "      <td>production</td>\n",
       "      <td>0:0</td>\n",
       "      <td>COMPLETED</td>\n",
       "      <td>['cn1326']</td>\n",
       "      <td>86940</td>\n",
       "      <td>0</td>\n",
       "      <td>15360.000000</td>\n",
       "      <td>39.621667</td>\n",
       "      <td>0.000000</td>\n",
       "      <td>0.257954</td>\n",
       "      <td>0.000000e+00</td>\n",
       "    </tr>\n",
       "    <tr>\n",
       "      <th>232476</th>\n",
       "      <td>17412039</td>\n",
       "      <td>baking</td>\n",
       "      <td>christa</td>\n",
       "      <td>184320Mn</td>\n",
       "      <td>184319.70M</td>\n",
       "      <td>1-00:09:00</td>\n",
       "      <td>00:00:00</td>\n",
       "      <td>1</td>\n",
       "      <td>12</td>\n",
       "      <td>production</td>\n",
       "      <td>0:0</td>\n",
       "      <td>COMPLETED</td>\n",
       "      <td>['cn1509']</td>\n",
       "      <td>86940</td>\n",
       "      <td>0</td>\n",
       "      <td>15360.000000</td>\n",
       "      <td>15359.975000</td>\n",
       "      <td>0.000000</td>\n",
       "      <td>99.999837</td>\n",
       "      <td>0.000000e+00</td>\n",
       "    </tr>\n",
       "    <tr>\n",
       "      <th>3423542</th>\n",
       "      <td>23564776</td>\n",
       "      <td>alkmene</td>\n",
       "      <td>abigail</td>\n",
       "      <td>47104Mn</td>\n",
       "      <td>1569.34M</td>\n",
       "      <td>1-00:00:00</td>\n",
       "      <td>00:00:00</td>\n",
       "      <td>1</td>\n",
       "      <td>6</td>\n",
       "      <td>production</td>\n",
       "      <td>0:0</td>\n",
       "      <td>COMPLETED</td>\n",
       "      <td>['cn1386']</td>\n",
       "      <td>86400</td>\n",
       "      <td>0</td>\n",
       "      <td>7850.666667</td>\n",
       "      <td>261.556667</td>\n",
       "      <td>0.000000</td>\n",
       "      <td>3.331649</td>\n",
       "      <td>0.000000e+00</td>\n",
       "    </tr>\n",
       "    <tr>\n",
       "      <th>330091</th>\n",
       "      <td>17557834</td>\n",
       "      <td>baking</td>\n",
       "      <td>christa</td>\n",
       "      <td>184320Mn</td>\n",
       "      <td>184319.60M</td>\n",
       "      <td>2-06:09:00</td>\n",
       "      <td>00:00:00</td>\n",
       "      <td>1</td>\n",
       "      <td>12</td>\n",
       "      <td>production</td>\n",
       "      <td>0:0</td>\n",
       "      <td>COMPLETED</td>\n",
       "      <td>['cn1262']</td>\n",
       "      <td>194940</td>\n",
       "      <td>0</td>\n",
       "      <td>15360.000000</td>\n",
       "      <td>15359.966667</td>\n",
       "      <td>0.000000</td>\n",
       "      <td>99.999783</td>\n",
       "      <td>0.000000e+00</td>\n",
       "    </tr>\n",
       "  </tbody>\n",
       "</table>\n",
       "<p>2764033 rows × 20 columns</p>\n",
       "</div>"
      ],
      "text/plain": [
       "            jobid        account     user    reqmem     usedmem      reqtime  \\\n",
       "1173511  19005552  sugranineteen    daron    4096Mn     544.95M  12-12:00:00   \n",
       "1173522  19005634  sugranineteen    daron    4096Mn     556.69M  12-12:00:00   \n",
       "1173500  19005517  sugranineteen    daron    4096Mn     591.11M  12-12:00:00   \n",
       "1173501  19005518  sugranineteen    daron    4096Mn     589.16M  12-12:00:00   \n",
       "1173544  19005936  sugranineteen    daron    4096Mn     544.98M  12-12:00:00   \n",
       "...           ...            ...      ...       ...         ...          ...   \n",
       "3537368  23797646        alkmene  abigail   47104Mn     104.74M   1-00:00:00   \n",
       "291869   17500485         baking  christa  184320Mn     475.46M   1-00:09:00   \n",
       "232476   17412039         baking  christa  184320Mn  184319.70M   1-00:09:00   \n",
       "3423542  23564776        alkmene  abigail   47104Mn    1569.34M   1-00:00:00   \n",
       "330091   17557834         baking  christa  184320Mn  184319.60M   2-06:09:00   \n",
       "\n",
       "            usedtime  nodes  cpus   partition exitcode      state    nodelist  \\\n",
       "1173511  19-20:04:25      1     1  production      0:0  COMPLETED  ['cn1135']   \n",
       "1173522  19-19:53:24      1     1  production      0:0  COMPLETED  ['cn1126']   \n",
       "1173500  19-15:04:26      1     1  production      0:0  COMPLETED  ['cn1088']   \n",
       "1173501  19-15:04:18      1     1  production      0:0  COMPLETED  ['cn1124']   \n",
       "1173544  19-14:48:21      1     1  production      0:0  COMPLETED  ['cn1131']   \n",
       "...              ...    ...   ...         ...      ...        ...         ...   \n",
       "3537368     00:00:00      1     6  production      0:0  COMPLETED  ['cn1266']   \n",
       "291869      00:00:00      1    12  production      0:0  COMPLETED  ['cn1326']   \n",
       "232476      00:00:00      1    12  production      0:0  COMPLETED  ['cn1509']   \n",
       "3423542     00:00:00      1     6  production      0:0  COMPLETED  ['cn1386']   \n",
       "330091      00:00:00      1    12  production      0:0  COMPLETED  ['cn1262']   \n",
       "\n",
       "         req_total_seconds  used_total_seconds     reqmem_mc    usedmem_mc  \\\n",
       "1173511            1080000             1713865   4096.000000    544.950000   \n",
       "1173522            1080000             1713204   4096.000000    556.690000   \n",
       "1173500            1080000             1695866   4096.000000    591.110000   \n",
       "1173501            1080000             1695858   4096.000000    589.160000   \n",
       "1173544            1080000             1694901   4096.000000    544.980000   \n",
       "...                    ...                 ...           ...           ...   \n",
       "3537368              86400                   0   7850.666667     17.456667   \n",
       "291869               86940                   0  15360.000000     39.621667   \n",
       "232476               86940                   0  15360.000000  15359.975000   \n",
       "3423542              86400                   0   7850.666667    261.556667   \n",
       "330091              194940                   0  15360.000000  15359.966667   \n",
       "\n",
       "         used_hours  avg_mem_use    mem_weight  \n",
       "1173511  476.073611    13.304443  2.280202e+07  \n",
       "1173522  475.890000    13.591064  2.328427e+07  \n",
       "1173500  471.073889    14.431396  2.447371e+07  \n",
       "1173501  471.071667    14.383789  2.439286e+07  \n",
       "1173544  470.805833    13.305176  2.255096e+07  \n",
       "...             ...          ...           ...  \n",
       "3537368    0.000000     0.222359  0.000000e+00  \n",
       "291869     0.000000     0.257954  0.000000e+00  \n",
       "232476     0.000000    99.999837  0.000000e+00  \n",
       "3423542    0.000000     3.331649  0.000000e+00  \n",
       "330091     0.000000    99.999783  0.000000e+00  \n",
       "\n",
       "[2764033 rows x 20 columns]"
      ]
     },
     "execution_count": 25,
     "metadata": {},
     "output_type": "execute_result"
    }
   ],
   "source": [
    "memory_use.sort_values('used_total_seconds', ascending=False)"
   ]
  },
  {
   "cell_type": "markdown",
   "metadata": {
    "slideshow": {
     "slide_type": "skip"
    }
   },
   "source": [
    "# Plot avg mem usage"
   ]
  },
  {
   "cell_type": "code",
   "execution_count": 26,
   "metadata": {
    "slideshow": {
     "slide_type": "skip"
    }
   },
   "outputs": [],
   "source": [
    "avg_memuse_byacct = memory_use.groupby(['account'])[['reqmem_mc', 'usedmem_mc', 'used_hours']].sum().reset_index()"
   ]
  },
  {
   "cell_type": "code",
   "execution_count": 27,
   "metadata": {
    "slideshow": {
     "slide_type": "skip"
    }
   },
   "outputs": [],
   "source": [
    "#add a column for the unweighted average\n",
    "avg_memuse_byacct['avg_usage'] = avg_memuse_byacct['usedmem_mc'] / avg_memuse_byacct['reqmem_mc'] * 100"
   ]
  },
  {
   "cell_type": "code",
   "execution_count": 28,
   "metadata": {
    "slideshow": {
     "slide_type": "skip"
    }
   },
   "outputs": [],
   "source": [
    "#add a column for average memory usage quartile\n",
    "avg_memuse_byacct['mem_quartile'] = pd.qcut(avg_memuse_byacct['avg_usage'], q = 4, labels=['Q1', 'Q2','Q3','Q4'])"
   ]
  },
  {
   "cell_type": "code",
   "execution_count": 29,
   "metadata": {
    "slideshow": {
     "slide_type": "skip"
    }
   },
   "outputs": [],
   "source": [
    "#add a column for used_hours quartile\n",
    "avg_memuse_byacct['hours_quartile'] = pd.qcut(avg_memuse_byacct['used_hours'], q = 4, \n",
    "                            labels=[1,2,3,4])"
   ]
  },
  {
   "cell_type": "code",
   "execution_count": 43,
   "metadata": {
    "slideshow": {
     "slide_type": "skip"
    }
   },
   "outputs": [],
   "source": [
    "#add a column for used_hours category\n",
    "avg_memuse_byacct['total_time_ctgry'] = pd.qcut(avg_memuse_byacct['used_hours'], q = 4,\n",
    "                            labels=['Ttl Time: Low', 'Ttl Time: MedLo','Ttl Time: MedHi','Ttl Time: High Usage'])"
   ]
  },
  {
   "cell_type": "code",
   "execution_count": 44,
   "metadata": {
    "slideshow": {
     "slide_type": "skip"
    }
   },
   "outputs": [
    {
     "data": {
      "text/html": [
       "<div>\n",
       "<style scoped>\n",
       "    .dataframe tbody tr th:only-of-type {\n",
       "        vertical-align: middle;\n",
       "    }\n",
       "\n",
       "    .dataframe tbody tr th {\n",
       "        vertical-align: top;\n",
       "    }\n",
       "\n",
       "    .dataframe thead th {\n",
       "        text-align: right;\n",
       "    }\n",
       "</style>\n",
       "<table border=\"1\" class=\"dataframe\">\n",
       "  <thead>\n",
       "    <tr style=\"text-align: right;\">\n",
       "      <th></th>\n",
       "      <th>account</th>\n",
       "      <th>reqmem_mc</th>\n",
       "      <th>usedmem_mc</th>\n",
       "      <th>used_hours</th>\n",
       "      <th>avg_usage</th>\n",
       "      <th>mem_quartile</th>\n",
       "      <th>hours_quartile</th>\n",
       "      <th>total_time_ctgry</th>\n",
       "    </tr>\n",
       "  </thead>\n",
       "  <tbody>\n",
       "    <tr>\n",
       "      <th>75</th>\n",
       "      <td>medium</td>\n",
       "      <td>1.517670e+07</td>\n",
       "      <td>1.046097e+07</td>\n",
       "      <td>1.397343e+03</td>\n",
       "      <td>68.927785</td>\n",
       "      <td>Q4</td>\n",
       "      <td>2</td>\n",
       "      <td>Ttl Time: MedLo</td>\n",
       "    </tr>\n",
       "    <tr>\n",
       "      <th>76</th>\n",
       "      <td>mignonette</td>\n",
       "      <td>2.252800e+05</td>\n",
       "      <td>1.542592e+05</td>\n",
       "      <td>3.034556e+01</td>\n",
       "      <td>68.474414</td>\n",
       "      <td>Q4</td>\n",
       "      <td>1</td>\n",
       "      <td>Ttl Time: Low</td>\n",
       "    </tr>\n",
       "    <tr>\n",
       "      <th>113</th>\n",
       "      <td>strawberries</td>\n",
       "      <td>7.549013e+06</td>\n",
       "      <td>5.079764e+06</td>\n",
       "      <td>5.658872e+02</td>\n",
       "      <td>67.290431</td>\n",
       "      <td>Q4</td>\n",
       "      <td>2</td>\n",
       "      <td>Ttl Time: MedLo</td>\n",
       "    </tr>\n",
       "    <tr>\n",
       "      <th>5</th>\n",
       "      <td>antares</td>\n",
       "      <td>3.655680e+05</td>\n",
       "      <td>2.426081e+05</td>\n",
       "      <td>1.171669e+02</td>\n",
       "      <td>66.364693</td>\n",
       "      <td>Q4</td>\n",
       "      <td>1</td>\n",
       "      <td>Ttl Time: Low</td>\n",
       "    </tr>\n",
       "    <tr>\n",
       "      <th>109</th>\n",
       "      <td>shell</td>\n",
       "      <td>4.505600e+04</td>\n",
       "      <td>2.782108e+04</td>\n",
       "      <td>7.206506e+02</td>\n",
       "      <td>61.747769</td>\n",
       "      <td>Q4</td>\n",
       "      <td>2</td>\n",
       "      <td>Ttl Time: MedLo</td>\n",
       "    </tr>\n",
       "    <tr>\n",
       "      <th>110</th>\n",
       "      <td>shiny</td>\n",
       "      <td>1.686923e+06</td>\n",
       "      <td>1.005946e+06</td>\n",
       "      <td>5.390319e+02</td>\n",
       "      <td>59.632036</td>\n",
       "      <td>Q4</td>\n",
       "      <td>2</td>\n",
       "      <td>Ttl Time: MedLo</td>\n",
       "    </tr>\n",
       "    <tr>\n",
       "      <th>60</th>\n",
       "      <td>jicama</td>\n",
       "      <td>1.158724e+07</td>\n",
       "      <td>6.767345e+06</td>\n",
       "      <td>6.157806e+03</td>\n",
       "      <td>58.403407</td>\n",
       "      <td>Q4</td>\n",
       "      <td>3</td>\n",
       "      <td>Ttl Time: MedHi</td>\n",
       "    </tr>\n",
       "    <tr>\n",
       "      <th>120</th>\n",
       "      <td>texas</td>\n",
       "      <td>3.668187e+07</td>\n",
       "      <td>2.112502e+07</td>\n",
       "      <td>2.085284e+04</td>\n",
       "      <td>57.589806</td>\n",
       "      <td>Q4</td>\n",
       "      <td>3</td>\n",
       "      <td>Ttl Time: MedHi</td>\n",
       "    </tr>\n",
       "    <tr>\n",
       "      <th>6</th>\n",
       "      <td>arra</td>\n",
       "      <td>5.558272e+05</td>\n",
       "      <td>3.031670e+05</td>\n",
       "      <td>1.559681e+02</td>\n",
       "      <td>54.543394</td>\n",
       "      <td>Q4</td>\n",
       "      <td>1</td>\n",
       "      <td>Ttl Time: Low</td>\n",
       "    </tr>\n",
       "    <tr>\n",
       "      <th>107</th>\n",
       "      <td>shallots</td>\n",
       "      <td>3.246080e+06</td>\n",
       "      <td>1.748024e+06</td>\n",
       "      <td>2.935500e+01</td>\n",
       "      <td>53.850308</td>\n",
       "      <td>Q4</td>\n",
       "      <td>1</td>\n",
       "      <td>Ttl Time: Low</td>\n",
       "    </tr>\n",
       "    <tr>\n",
       "      <th>101</th>\n",
       "      <td>roasted</td>\n",
       "      <td>1.081685e+06</td>\n",
       "      <td>5.798736e+05</td>\n",
       "      <td>1.953978e+02</td>\n",
       "      <td>53.608346</td>\n",
       "      <td>Q4</td>\n",
       "      <td>1</td>\n",
       "      <td>Ttl Time: Low</td>\n",
       "    </tr>\n",
       "    <tr>\n",
       "      <th>116</th>\n",
       "      <td>summer</td>\n",
       "      <td>4.446754e+09</td>\n",
       "      <td>2.340071e+09</td>\n",
       "      <td>2.743177e+05</td>\n",
       "      <td>52.624251</td>\n",
       "      <td>Q4</td>\n",
       "      <td>4</td>\n",
       "      <td>Ttl Time: High Usage</td>\n",
       "    </tr>\n",
       "    <tr>\n",
       "      <th>30</th>\n",
       "      <td>chasselas</td>\n",
       "      <td>1.308515e+07</td>\n",
       "      <td>6.807766e+06</td>\n",
       "      <td>1.057141e+04</td>\n",
       "      <td>52.026674</td>\n",
       "      <td>Q4</td>\n",
       "      <td>3</td>\n",
       "      <td>Ttl Time: MedHi</td>\n",
       "    </tr>\n",
       "    <tr>\n",
       "      <th>91</th>\n",
       "      <td>pinova</td>\n",
       "      <td>4.565432e+06</td>\n",
       "      <td>2.364135e+06</td>\n",
       "      <td>1.372695e+03</td>\n",
       "      <td>51.783383</td>\n",
       "      <td>Q4</td>\n",
       "      <td>2</td>\n",
       "      <td>Ttl Time: MedLo</td>\n",
       "    </tr>\n",
       "    <tr>\n",
       "      <th>43</th>\n",
       "      <td>delblush</td>\n",
       "      <td>8.934400e+05</td>\n",
       "      <td>4.625195e+05</td>\n",
       "      <td>6.306188e+03</td>\n",
       "      <td>51.768389</td>\n",
       "      <td>Q4</td>\n",
       "      <td>3</td>\n",
       "      <td>Ttl Time: MedHi</td>\n",
       "    </tr>\n",
       "    <tr>\n",
       "      <th>126</th>\n",
       "      <td>wax</td>\n",
       "      <td>7.080755e+07</td>\n",
       "      <td>3.578591e+07</td>\n",
       "      <td>2.269833e+05</td>\n",
       "      <td>50.539674</td>\n",
       "      <td>Q4</td>\n",
       "      <td>4</td>\n",
       "      <td>Ttl Time: High Usage</td>\n",
       "    </tr>\n",
       "    <tr>\n",
       "      <th>114</th>\n",
       "      <td>sturmer</td>\n",
       "      <td>1.213722e+07</td>\n",
       "      <td>6.045134e+06</td>\n",
       "      <td>1.518130e+04</td>\n",
       "      <td>49.806595</td>\n",
       "      <td>Q4</td>\n",
       "      <td>3</td>\n",
       "      <td>Ttl Time: MedHi</td>\n",
       "    </tr>\n",
       "    <tr>\n",
       "      <th>33</th>\n",
       "      <td>chipilin</td>\n",
       "      <td>8.846760e+05</td>\n",
       "      <td>4.247904e+05</td>\n",
       "      <td>8.493763e+03</td>\n",
       "      <td>48.016498</td>\n",
       "      <td>Q4</td>\n",
       "      <td>3</td>\n",
       "      <td>Ttl Time: MedHi</td>\n",
       "    </tr>\n",
       "    <tr>\n",
       "      <th>105</th>\n",
       "      <td>seeded</td>\n",
       "      <td>4.358516e+07</td>\n",
       "      <td>2.004801e+07</td>\n",
       "      <td>4.622674e+03</td>\n",
       "      <td>45.997320</td>\n",
       "      <td>Q4</td>\n",
       "      <td>3</td>\n",
       "      <td>Ttl Time: MedHi</td>\n",
       "    </tr>\n",
       "    <tr>\n",
       "      <th>100</th>\n",
       "      <td>retailer</td>\n",
       "      <td>3.450146e+08</td>\n",
       "      <td>1.525321e+08</td>\n",
       "      <td>1.023420e+05</td>\n",
       "      <td>44.210330</td>\n",
       "      <td>Q4</td>\n",
       "      <td>4</td>\n",
       "      <td>Ttl Time: High Usage</td>\n",
       "    </tr>\n",
       "    <tr>\n",
       "      <th>22</th>\n",
       "      <td>burro</td>\n",
       "      <td>1.695132e+06</td>\n",
       "      <td>7.466824e+05</td>\n",
       "      <td>7.003799e+03</td>\n",
       "      <td>44.048640</td>\n",
       "      <td>Q4</td>\n",
       "      <td>3</td>\n",
       "      <td>Ttl Time: MedHi</td>\n",
       "    </tr>\n",
       "    <tr>\n",
       "      <th>65</th>\n",
       "      <td>kumquat</td>\n",
       "      <td>1.297920e+05</td>\n",
       "      <td>5.700368e+04</td>\n",
       "      <td>6.006417e+01</td>\n",
       "      <td>43.919254</td>\n",
       "      <td>Q4</td>\n",
       "      <td>1</td>\n",
       "      <td>Ttl Time: Low</td>\n",
       "    </tr>\n",
       "    <tr>\n",
       "      <th>19</th>\n",
       "      <td>broccoli</td>\n",
       "      <td>3.258368e+05</td>\n",
       "      <td>1.428123e+05</td>\n",
       "      <td>1.274166e+03</td>\n",
       "      <td>43.829393</td>\n",
       "      <td>Q4</td>\n",
       "      <td>2</td>\n",
       "      <td>Ttl Time: MedLo</td>\n",
       "    </tr>\n",
       "    <tr>\n",
       "      <th>88</th>\n",
       "      <td>pepino</td>\n",
       "      <td>1.438066e+06</td>\n",
       "      <td>5.765411e+05</td>\n",
       "      <td>2.667717e+03</td>\n",
       "      <td>40.091424</td>\n",
       "      <td>Q4</td>\n",
       "      <td>2</td>\n",
       "      <td>Ttl Time: MedLo</td>\n",
       "    </tr>\n",
       "    <tr>\n",
       "      <th>38</th>\n",
       "      <td>cmsadmin</td>\n",
       "      <td>4.933222e+07</td>\n",
       "      <td>1.948796e+07</td>\n",
       "      <td>1.845737e+03</td>\n",
       "      <td>39.503507</td>\n",
       "      <td>Q4</td>\n",
       "      <td>2</td>\n",
       "      <td>Ttl Time: MedLo</td>\n",
       "    </tr>\n",
       "    <tr>\n",
       "      <th>61</th>\n",
       "      <td>josephine</td>\n",
       "      <td>3.141120e+05</td>\n",
       "      <td>1.207763e+05</td>\n",
       "      <td>1.990586e+03</td>\n",
       "      <td>38.450086</td>\n",
       "      <td>Q4</td>\n",
       "      <td>2</td>\n",
       "      <td>Ttl Time: MedLo</td>\n",
       "    </tr>\n",
       "    <tr>\n",
       "      <th>57</th>\n",
       "      <td>horseradish</td>\n",
       "      <td>3.916414e+08</td>\n",
       "      <td>1.488890e+08</td>\n",
       "      <td>3.823565e+04</td>\n",
       "      <td>38.016660</td>\n",
       "      <td>Q4</td>\n",
       "      <td>4</td>\n",
       "      <td>Ttl Time: High Usage</td>\n",
       "    </tr>\n",
       "    <tr>\n",
       "      <th>119</th>\n",
       "      <td>sweet</td>\n",
       "      <td>4.101023e+08</td>\n",
       "      <td>1.531543e+08</td>\n",
       "      <td>4.001220e+05</td>\n",
       "      <td>37.345379</td>\n",
       "      <td>Q4</td>\n",
       "      <td>4</td>\n",
       "      <td>Ttl Time: High Usage</td>\n",
       "    </tr>\n",
       "    <tr>\n",
       "      <th>102</th>\n",
       "      <td>rocha</td>\n",
       "      <td>3.308800e+04</td>\n",
       "      <td>1.228172e+04</td>\n",
       "      <td>6.898278e+01</td>\n",
       "      <td>37.118340</td>\n",
       "      <td>Q4</td>\n",
       "      <td>1</td>\n",
       "      <td>Ttl Time: Low</td>\n",
       "    </tr>\n",
       "    <tr>\n",
       "      <th>118</th>\n",
       "      <td>sunflower</td>\n",
       "      <td>2.827764e+06</td>\n",
       "      <td>1.041762e+06</td>\n",
       "      <td>1.047978e+04</td>\n",
       "      <td>36.840469</td>\n",
       "      <td>Q4</td>\n",
       "      <td>3</td>\n",
       "      <td>Ttl Time: MedHi</td>\n",
       "    </tr>\n",
       "    <tr>\n",
       "      <th>26</th>\n",
       "      <td>carrot</td>\n",
       "      <td>1.167186e+09</td>\n",
       "      <td>4.131155e+08</td>\n",
       "      <td>1.129283e+06</td>\n",
       "      <td>35.394135</td>\n",
       "      <td>Q4</td>\n",
       "      <td>4</td>\n",
       "      <td>Ttl Time: High Usage</td>\n",
       "    </tr>\n",
       "    <tr>\n",
       "      <th>4</th>\n",
       "      <td>anise</td>\n",
       "      <td>7.154238e+06</td>\n",
       "      <td>2.499509e+06</td>\n",
       "      <td>4.034354e+03</td>\n",
       "      <td>34.937457</td>\n",
       "      <td>Q4</td>\n",
       "      <td>3</td>\n",
       "      <td>Ttl Time: MedHi</td>\n",
       "    </tr>\n",
       "    <tr>\n",
       "      <th>49</th>\n",
       "      <td>fresh</td>\n",
       "      <td>1.065443e+08</td>\n",
       "      <td>3.685065e+07</td>\n",
       "      <td>1.976532e+05</td>\n",
       "      <td>34.587172</td>\n",
       "      <td>Q4</td>\n",
       "      <td>4</td>\n",
       "      <td>Ttl Time: High Usage</td>\n",
       "    </tr>\n",
       "    <tr>\n",
       "      <th>82</th>\n",
       "      <td>nino</td>\n",
       "      <td>7.000000e+03</td>\n",
       "      <td>2.385344e+03</td>\n",
       "      <td>6.131389e+00</td>\n",
       "      <td>34.076339</td>\n",
       "      <td>Q3</td>\n",
       "      <td>1</td>\n",
       "      <td>Ttl Time: Low</td>\n",
       "    </tr>\n",
       "    <tr>\n",
       "      <th>44</th>\n",
       "      <td>dill</td>\n",
       "      <td>4.377600e+05</td>\n",
       "      <td>1.490328e+05</td>\n",
       "      <td>3.646956e+02</td>\n",
       "      <td>34.044401</td>\n",
       "      <td>Q3</td>\n",
       "      <td>2</td>\n",
       "      <td>Ttl Time: MedLo</td>\n",
       "    </tr>\n",
       "    <tr>\n",
       "      <th>124</th>\n",
       "      <td>treviso</td>\n",
       "      <td>2.711040e+06</td>\n",
       "      <td>9.201500e+05</td>\n",
       "      <td>2.089144e+04</td>\n",
       "      <td>33.940850</td>\n",
       "      <td>Q3</td>\n",
       "      <td>3</td>\n",
       "      <td>Ttl Time: MedHi</td>\n",
       "    </tr>\n",
       "    <tr>\n",
       "      <th>0</th>\n",
       "      <td>alkmene</td>\n",
       "      <td>1.793044e+07</td>\n",
       "      <td>6.048471e+06</td>\n",
       "      <td>9.883721e+03</td>\n",
       "      <td>33.732975</td>\n",
       "      <td>Q3</td>\n",
       "      <td>3</td>\n",
       "      <td>Ttl Time: MedHi</td>\n",
       "    </tr>\n",
       "    <tr>\n",
       "      <th>79</th>\n",
       "      <td>mixed</td>\n",
       "      <td>2.135494e+08</td>\n",
       "      <td>7.061518e+07</td>\n",
       "      <td>6.018411e+04</td>\n",
       "      <td>33.067376</td>\n",
       "      <td>Q3</td>\n",
       "      <td>4</td>\n",
       "      <td>Ttl Time: High Usage</td>\n",
       "    </tr>\n",
       "    <tr>\n",
       "      <th>78</th>\n",
       "      <td>minnewashta</td>\n",
       "      <td>1.125294e+08</td>\n",
       "      <td>3.623371e+07</td>\n",
       "      <td>1.855505e+05</td>\n",
       "      <td>32.199327</td>\n",
       "      <td>Q3</td>\n",
       "      <td>4</td>\n",
       "      <td>Ttl Time: High Usage</td>\n",
       "    </tr>\n",
       "    <tr>\n",
       "      <th>130</th>\n",
       "      <td>yu</td>\n",
       "      <td>8.837180e+05</td>\n",
       "      <td>2.821726e+05</td>\n",
       "      <td>5.754917e+01</td>\n",
       "      <td>31.930168</td>\n",
       "      <td>Q3</td>\n",
       "      <td>1</td>\n",
       "      <td>Ttl Time: Low</td>\n",
       "    </tr>\n",
       "    <tr>\n",
       "      <th>29</th>\n",
       "      <td>cep</td>\n",
       "      <td>1.884784e+09</td>\n",
       "      <td>5.920948e+08</td>\n",
       "      <td>2.871719e+06</td>\n",
       "      <td>31.414457</td>\n",
       "      <td>Q3</td>\n",
       "      <td>4</td>\n",
       "      <td>Ttl Time: High Usage</td>\n",
       "    </tr>\n",
       "    <tr>\n",
       "      <th>121</th>\n",
       "      <td>thomcord</td>\n",
       "      <td>2.195456e+06</td>\n",
       "      <td>6.842214e+05</td>\n",
       "      <td>1.065313e+04</td>\n",
       "      <td>31.165341</td>\n",
       "      <td>Q3</td>\n",
       "      <td>3</td>\n",
       "      <td>Ttl Time: MedHi</td>\n",
       "    </tr>\n",
       "    <tr>\n",
       "      <th>12</th>\n",
       "      <td>belle</td>\n",
       "      <td>7.248348e+07</td>\n",
       "      <td>2.238292e+07</td>\n",
       "      <td>2.039781e+04</td>\n",
       "      <td>30.880027</td>\n",
       "      <td>Q3</td>\n",
       "      <td>3</td>\n",
       "      <td>Ttl Time: MedHi</td>\n",
       "    </tr>\n",
       "    <tr>\n",
       "      <th>13</th>\n",
       "      <td>bertanne</td>\n",
       "      <td>3.543766e+07</td>\n",
       "      <td>1.082719e+07</td>\n",
       "      <td>2.654792e+04</td>\n",
       "      <td>30.552787</td>\n",
       "      <td>Q3</td>\n",
       "      <td>4</td>\n",
       "      <td>Ttl Time: High Usage</td>\n",
       "    </tr>\n",
       "    <tr>\n",
       "      <th>23</th>\n",
       "      <td>cactus</td>\n",
       "      <td>1.380352e+06</td>\n",
       "      <td>4.136377e+05</td>\n",
       "      <td>8.772911e+02</td>\n",
       "      <td>29.966100</td>\n",
       "      <td>Q3</td>\n",
       "      <td>2</td>\n",
       "      <td>Ttl Time: MedLo</td>\n",
       "    </tr>\n",
       "    <tr>\n",
       "      <th>68</th>\n",
       "      <td>lemon</td>\n",
       "      <td>2.160640e+05</td>\n",
       "      <td>6.454760e+04</td>\n",
       "      <td>4.777322e+02</td>\n",
       "      <td>29.874295</td>\n",
       "      <td>Q3</td>\n",
       "      <td>2</td>\n",
       "      <td>Ttl Time: MedLo</td>\n",
       "    </tr>\n",
       "    <tr>\n",
       "      <th>9</th>\n",
       "      <td>baking</td>\n",
       "      <td>6.439371e+06</td>\n",
       "      <td>1.873608e+06</td>\n",
       "      <td>1.474915e+04</td>\n",
       "      <td>29.096139</td>\n",
       "      <td>Q3</td>\n",
       "      <td>3</td>\n",
       "      <td>Ttl Time: MedHi</td>\n",
       "    </tr>\n",
       "    <tr>\n",
       "      <th>34</th>\n",
       "      <td>cinnabar</td>\n",
       "      <td>2.467840e+05</td>\n",
       "      <td>7.009681e+04</td>\n",
       "      <td>8.390333e+01</td>\n",
       "      <td>28.404115</td>\n",
       "      <td>Q3</td>\n",
       "      <td>1</td>\n",
       "      <td>Ttl Time: Low</td>\n",
       "    </tr>\n",
       "    <tr>\n",
       "      <th>128</th>\n",
       "      <td>winged</td>\n",
       "      <td>3.557869e+07</td>\n",
       "      <td>9.971923e+06</td>\n",
       "      <td>1.236047e+05</td>\n",
       "      <td>28.027794</td>\n",
       "      <td>Q3</td>\n",
       "      <td>4</td>\n",
       "      <td>Ttl Time: High Usage</td>\n",
       "    </tr>\n",
       "    <tr>\n",
       "      <th>64</th>\n",
       "      <td>kinnow</td>\n",
       "      <td>2.299221e+06</td>\n",
       "      <td>6.353317e+05</td>\n",
       "      <td>4.448297e+03</td>\n",
       "      <td>27.632473</td>\n",
       "      <td>Q3</td>\n",
       "      <td>3</td>\n",
       "      <td>Ttl Time: MedHi</td>\n",
       "    </tr>\n",
       "    <tr>\n",
       "      <th>52</th>\n",
       "      <td>garlic</td>\n",
       "      <td>3.095839e+08</td>\n",
       "      <td>8.344585e+07</td>\n",
       "      <td>5.030999e+05</td>\n",
       "      <td>26.954195</td>\n",
       "      <td>Q3</td>\n",
       "      <td>4</td>\n",
       "      <td>Ttl Time: High Usage</td>\n",
       "    </tr>\n",
       "    <tr>\n",
       "      <th>37</th>\n",
       "      <td>cms_lowprio</td>\n",
       "      <td>6.816290e+08</td>\n",
       "      <td>1.756128e+08</td>\n",
       "      <td>8.708560e+05</td>\n",
       "      <td>25.763699</td>\n",
       "      <td>Q3</td>\n",
       "      <td>4</td>\n",
       "      <td>Ttl Time: High Usage</td>\n",
       "    </tr>\n",
       "    <tr>\n",
       "      <th>51</th>\n",
       "      <td>galia</td>\n",
       "      <td>1.428246e+09</td>\n",
       "      <td>3.648068e+08</td>\n",
       "      <td>5.396737e+05</td>\n",
       "      <td>25.542290</td>\n",
       "      <td>Q3</td>\n",
       "      <td>4</td>\n",
       "      <td>Ttl Time: High Usage</td>\n",
       "    </tr>\n",
       "    <tr>\n",
       "      <th>18</th>\n",
       "      <td>brazilnuts</td>\n",
       "      <td>8.985094e+06</td>\n",
       "      <td>2.294602e+06</td>\n",
       "      <td>5.987541e+03</td>\n",
       "      <td>25.537871</td>\n",
       "      <td>Q3</td>\n",
       "      <td>3</td>\n",
       "      <td>Ttl Time: MedHi</td>\n",
       "    </tr>\n",
       "    <tr>\n",
       "      <th>72</th>\n",
       "      <td>lychees</td>\n",
       "      <td>6.437429e+07</td>\n",
       "      <td>1.603081e+07</td>\n",
       "      <td>1.207671e+05</td>\n",
       "      <td>24.902506</td>\n",
       "      <td>Q3</td>\n",
       "      <td>4</td>\n",
       "      <td>Ttl Time: High Usage</td>\n",
       "    </tr>\n",
       "    <tr>\n",
       "      <th>14</th>\n",
       "      <td>bibb</td>\n",
       "      <td>1.164288e+06</td>\n",
       "      <td>2.855504e+05</td>\n",
       "      <td>4.516033e+02</td>\n",
       "      <td>24.525757</td>\n",
       "      <td>Q3</td>\n",
       "      <td>2</td>\n",
       "      <td>Ttl Time: MedLo</td>\n",
       "    </tr>\n",
       "    <tr>\n",
       "      <th>125</th>\n",
       "      <td>water</td>\n",
       "      <td>4.259840e+05</td>\n",
       "      <td>1.025215e+05</td>\n",
       "      <td>1.885925e+02</td>\n",
       "      <td>24.066994</td>\n",
       "      <td>Q3</td>\n",
       "      <td>1</td>\n",
       "      <td>Ttl Time: Low</td>\n",
       "    </tr>\n",
       "    <tr>\n",
       "      <th>69</th>\n",
       "      <td>lochbuie</td>\n",
       "      <td>2.990080e+05</td>\n",
       "      <td>6.973854e+04</td>\n",
       "      <td>1.211936e+02</td>\n",
       "      <td>23.323302</td>\n",
       "      <td>Q3</td>\n",
       "      <td>1</td>\n",
       "      <td>Ttl Time: Low</td>\n",
       "    </tr>\n",
       "    <tr>\n",
       "      <th>40</th>\n",
       "      <td>concord</td>\n",
       "      <td>6.720000e+05</td>\n",
       "      <td>1.554308e+05</td>\n",
       "      <td>5.187575e+02</td>\n",
       "      <td>23.129582</td>\n",
       "      <td>Q3</td>\n",
       "      <td>2</td>\n",
       "      <td>Ttl Time: MedLo</td>\n",
       "    </tr>\n",
       "    <tr>\n",
       "      <th>46</th>\n",
       "      <td>fairchild</td>\n",
       "      <td>6.115200e+05</td>\n",
       "      <td>1.362451e+05</td>\n",
       "      <td>5.507714e+02</td>\n",
       "      <td>22.279738</td>\n",
       "      <td>Q3</td>\n",
       "      <td>2</td>\n",
       "      <td>Ttl Time: MedLo</td>\n",
       "    </tr>\n",
       "    <tr>\n",
       "      <th>32</th>\n",
       "      <td>chickpeas</td>\n",
       "      <td>4.877674e+07</td>\n",
       "      <td>1.070239e+07</td>\n",
       "      <td>6.226926e+04</td>\n",
       "      <td>21.941593</td>\n",
       "      <td>Q3</td>\n",
       "      <td>4</td>\n",
       "      <td>Ttl Time: High Usage</td>\n",
       "    </tr>\n",
       "    <tr>\n",
       "      <th>36</th>\n",
       "      <td>cms</td>\n",
       "      <td>2.796848e+09</td>\n",
       "      <td>5.916914e+08</td>\n",
       "      <td>3.049116e+06</td>\n",
       "      <td>21.155649</td>\n",
       "      <td>Q3</td>\n",
       "      <td>4</td>\n",
       "      <td>Ttl Time: High Usage</td>\n",
       "    </tr>\n",
       "    <tr>\n",
       "      <th>28</th>\n",
       "      <td>celery</td>\n",
       "      <td>4.211749e+06</td>\n",
       "      <td>8.882985e+05</td>\n",
       "      <td>3.489789e+02</td>\n",
       "      <td>21.090965</td>\n",
       "      <td>Q3</td>\n",
       "      <td>2</td>\n",
       "      <td>Ttl Time: MedLo</td>\n",
       "    </tr>\n",
       "    <tr>\n",
       "      <th>15</th>\n",
       "      <td>blackberries</td>\n",
       "      <td>5.549815e+06</td>\n",
       "      <td>1.164708e+06</td>\n",
       "      <td>1.591016e+04</td>\n",
       "      <td>20.986435</td>\n",
       "      <td>Q3</td>\n",
       "      <td>3</td>\n",
       "      <td>Ttl Time: MedHi</td>\n",
       "    </tr>\n",
       "    <tr>\n",
       "      <th>106</th>\n",
       "      <td>serrano</td>\n",
       "      <td>6.707200e+05</td>\n",
       "      <td>1.347171e+05</td>\n",
       "      <td>2.044074e+03</td>\n",
       "      <td>20.085448</td>\n",
       "      <td>Q3</td>\n",
       "      <td>2</td>\n",
       "      <td>Ttl Time: MedLo</td>\n",
       "    </tr>\n",
       "    <tr>\n",
       "      <th>11</th>\n",
       "      <td>bell</td>\n",
       "      <td>1.484800e+05</td>\n",
       "      <td>2.857074e+04</td>\n",
       "      <td>5.087653e+02</td>\n",
       "      <td>19.242148</td>\n",
       "      <td>Q2</td>\n",
       "      <td>2</td>\n",
       "      <td>Ttl Time: MedLo</td>\n",
       "    </tr>\n",
       "    <tr>\n",
       "      <th>59</th>\n",
       "      <td>ingrid</td>\n",
       "      <td>2.457600e+04</td>\n",
       "      <td>4.715010e+03</td>\n",
       "      <td>1.466336e+02</td>\n",
       "      <td>19.185425</td>\n",
       "      <td>Q2</td>\n",
       "      <td>1</td>\n",
       "      <td>Ttl Time: Low</td>\n",
       "    </tr>\n",
       "    <tr>\n",
       "      <th>83</th>\n",
       "      <td>orange</td>\n",
       "      <td>9.275686e+08</td>\n",
       "      <td>1.746736e+08</td>\n",
       "      <td>5.966085e+04</td>\n",
       "      <td>18.831345</td>\n",
       "      <td>Q2</td>\n",
       "      <td>4</td>\n",
       "      <td>Ttl Time: High Usage</td>\n",
       "    </tr>\n",
       "    <tr>\n",
       "      <th>81</th>\n",
       "      <td>muscat</td>\n",
       "      <td>3.558936e+07</td>\n",
       "      <td>6.687535e+06</td>\n",
       "      <td>5.963148e+03</td>\n",
       "      <td>18.790827</td>\n",
       "      <td>Q2</td>\n",
       "      <td>3</td>\n",
       "      <td>Ttl Time: MedHi</td>\n",
       "    </tr>\n",
       "    <tr>\n",
       "      <th>54</th>\n",
       "      <td>harovin</td>\n",
       "      <td>1.145288e+07</td>\n",
       "      <td>2.148876e+06</td>\n",
       "      <td>2.264360e+04</td>\n",
       "      <td>18.762751</td>\n",
       "      <td>Q2</td>\n",
       "      <td>3</td>\n",
       "      <td>Ttl Time: MedHi</td>\n",
       "    </tr>\n",
       "    <tr>\n",
       "      <th>35</th>\n",
       "      <td>clara</td>\n",
       "      <td>2.115579e+07</td>\n",
       "      <td>3.959863e+06</td>\n",
       "      <td>1.725799e+04</td>\n",
       "      <td>18.717631</td>\n",
       "      <td>Q2</td>\n",
       "      <td>3</td>\n",
       "      <td>Ttl Time: MedHi</td>\n",
       "    </tr>\n",
       "    <tr>\n",
       "      <th>1</th>\n",
       "      <td>almonds</td>\n",
       "      <td>3.529429e+06</td>\n",
       "      <td>6.484339e+05</td>\n",
       "      <td>4.818278e+02</td>\n",
       "      <td>18.372202</td>\n",
       "      <td>Q2</td>\n",
       "      <td>2</td>\n",
       "      <td>Ttl Time: MedLo</td>\n",
       "    </tr>\n",
       "    <tr>\n",
       "      <th>27</th>\n",
       "      <td>casaba</td>\n",
       "      <td>9.319203e+08</td>\n",
       "      <td>1.670154e+08</td>\n",
       "      <td>2.126984e+05</td>\n",
       "      <td>17.921640</td>\n",
       "      <td>Q2</td>\n",
       "      <td>4</td>\n",
       "      <td>Ttl Time: High Usage</td>\n",
       "    </tr>\n",
       "    <tr>\n",
       "      <th>20</th>\n",
       "      <td>bulk</td>\n",
       "      <td>6.081033e+08</td>\n",
       "      <td>1.047423e+08</td>\n",
       "      <td>6.885571e+04</td>\n",
       "      <td>17.224428</td>\n",
       "      <td>Q2</td>\n",
       "      <td>4</td>\n",
       "      <td>Ttl Time: High Usage</td>\n",
       "    </tr>\n",
       "    <tr>\n",
       "      <th>104</th>\n",
       "      <td>round</td>\n",
       "      <td>3.013357e+08</td>\n",
       "      <td>4.967666e+07</td>\n",
       "      <td>2.841185e+04</td>\n",
       "      <td>16.485488</td>\n",
       "      <td>Q2</td>\n",
       "      <td>4</td>\n",
       "      <td>Ttl Time: High Usage</td>\n",
       "    </tr>\n",
       "    <tr>\n",
       "      <th>24</th>\n",
       "      <td>cantared</td>\n",
       "      <td>1.858780e+07</td>\n",
       "      <td>3.036457e+06</td>\n",
       "      <td>3.367976e+04</td>\n",
       "      <td>16.335746</td>\n",
       "      <td>Q2</td>\n",
       "      <td>4</td>\n",
       "      <td>Ttl Time: High Usage</td>\n",
       "    </tr>\n",
       "    <tr>\n",
       "      <th>25</th>\n",
       "      <td>carambola</td>\n",
       "      <td>6.098261e+06</td>\n",
       "      <td>9.961254e+05</td>\n",
       "      <td>1.524140e+03</td>\n",
       "      <td>16.334580</td>\n",
       "      <td>Q2</td>\n",
       "      <td>2</td>\n",
       "      <td>Ttl Time: MedLo</td>\n",
       "    </tr>\n",
       "    <tr>\n",
       "      <th>63</th>\n",
       "      <td>key</td>\n",
       "      <td>4.241557e+07</td>\n",
       "      <td>6.615159e+06</td>\n",
       "      <td>1.437247e+05</td>\n",
       "      <td>15.596065</td>\n",
       "      <td>Q2</td>\n",
       "      <td>4</td>\n",
       "      <td>Ttl Time: High Usage</td>\n",
       "    </tr>\n",
       "    <tr>\n",
       "      <th>108</th>\n",
       "      <td>sharlin</td>\n",
       "      <td>7.125223e+08</td>\n",
       "      <td>1.110942e+08</td>\n",
       "      <td>1.294916e+05</td>\n",
       "      <td>15.591676</td>\n",
       "      <td>Q2</td>\n",
       "      <td>4</td>\n",
       "      <td>Ttl Time: High Usage</td>\n",
       "    </tr>\n",
       "    <tr>\n",
       "      <th>112</th>\n",
       "      <td>st</td>\n",
       "      <td>4.769297e+07</td>\n",
       "      <td>7.379897e+06</td>\n",
       "      <td>5.854606e+03</td>\n",
       "      <td>15.473763</td>\n",
       "      <td>Q2</td>\n",
       "      <td>3</td>\n",
       "      <td>Ttl Time: MedHi</td>\n",
       "    </tr>\n",
       "    <tr>\n",
       "      <th>70</th>\n",
       "      <td>lollo</td>\n",
       "      <td>5.222400e+05</td>\n",
       "      <td>7.989253e+04</td>\n",
       "      <td>7.106503e+02</td>\n",
       "      <td>15.298050</td>\n",
       "      <td>Q2</td>\n",
       "      <td>2</td>\n",
       "      <td>Ttl Time: MedLo</td>\n",
       "    </tr>\n",
       "    <tr>\n",
       "      <th>55</th>\n",
       "      <td>hearts</td>\n",
       "      <td>7.782400e+04</td>\n",
       "      <td>1.076102e+04</td>\n",
       "      <td>1.089417e+01</td>\n",
       "      <td>13.827386</td>\n",
       "      <td>Q2</td>\n",
       "      <td>1</td>\n",
       "      <td>Ttl Time: Low</td>\n",
       "    </tr>\n",
       "    <tr>\n",
       "      <th>10</th>\n",
       "      <td>bay</td>\n",
       "      <td>2.197504e+06</td>\n",
       "      <td>2.956733e+05</td>\n",
       "      <td>7.851433e+02</td>\n",
       "      <td>13.454961</td>\n",
       "      <td>Q2</td>\n",
       "      <td>2</td>\n",
       "      <td>Ttl Time: MedLo</td>\n",
       "    </tr>\n",
       "    <tr>\n",
       "      <th>66</th>\n",
       "      <td>large</td>\n",
       "      <td>1.454768e+07</td>\n",
       "      <td>1.924398e+06</td>\n",
       "      <td>8.086753e+03</td>\n",
       "      <td>13.228215</td>\n",
       "      <td>Q2</td>\n",
       "      <td>3</td>\n",
       "      <td>Ttl Time: MedHi</td>\n",
       "    </tr>\n",
       "    <tr>\n",
       "      <th>56</th>\n",
       "      <td>horn</td>\n",
       "      <td>4.886222e+05</td>\n",
       "      <td>6.297469e+04</td>\n",
       "      <td>1.056836e+03</td>\n",
       "      <td>12.888219</td>\n",
       "      <td>Q2</td>\n",
       "      <td>2</td>\n",
       "      <td>Ttl Time: MedLo</td>\n",
       "    </tr>\n",
       "    <tr>\n",
       "      <th>41</th>\n",
       "      <td>conference</td>\n",
       "      <td>1.115614e+07</td>\n",
       "      <td>1.396368e+06</td>\n",
       "      <td>3.617897e+04</td>\n",
       "      <td>12.516595</td>\n",
       "      <td>Q2</td>\n",
       "      <td>4</td>\n",
       "      <td>Ttl Time: High Usage</td>\n",
       "    </tr>\n",
       "    <tr>\n",
       "      <th>67</th>\n",
       "      <td>leaves</td>\n",
       "      <td>5.898240e+05</td>\n",
       "      <td>7.208489e+04</td>\n",
       "      <td>4.162068e+03</td>\n",
       "      <td>12.221424</td>\n",
       "      <td>Q2</td>\n",
       "      <td>3</td>\n",
       "      <td>Ttl Time: MedHi</td>\n",
       "    </tr>\n",
       "    <tr>\n",
       "      <th>16</th>\n",
       "      <td>bon</td>\n",
       "      <td>1.219207e+07</td>\n",
       "      <td>1.454224e+06</td>\n",
       "      <td>2.448097e+03</td>\n",
       "      <td>11.927619</td>\n",
       "      <td>Q2</td>\n",
       "      <td>2</td>\n",
       "      <td>Ttl Time: MedLo</td>\n",
       "    </tr>\n",
       "    <tr>\n",
       "      <th>84</th>\n",
       "      <td>oroblanco</td>\n",
       "      <td>3.686400e+04</td>\n",
       "      <td>4.389800e+03</td>\n",
       "      <td>3.960528e+02</td>\n",
       "      <td>11.908095</td>\n",
       "      <td>Q2</td>\n",
       "      <td>2</td>\n",
       "      <td>Ttl Time: MedLo</td>\n",
       "    </tr>\n",
       "    <tr>\n",
       "      <th>58</th>\n",
       "      <td>huaguan</td>\n",
       "      <td>5.964800e+04</td>\n",
       "      <td>6.644589e+03</td>\n",
       "      <td>3.498511e+02</td>\n",
       "      <td>11.139667</td>\n",
       "      <td>Q2</td>\n",
       "      <td>2</td>\n",
       "      <td>Ttl Time: MedLo</td>\n",
       "    </tr>\n",
       "    <tr>\n",
       "      <th>87</th>\n",
       "      <td>pecans</td>\n",
       "      <td>1.983147e+05</td>\n",
       "      <td>2.122865e+04</td>\n",
       "      <td>6.661694e+01</td>\n",
       "      <td>10.704529</td>\n",
       "      <td>Q2</td>\n",
       "      <td>1</td>\n",
       "      <td>Ttl Time: Low</td>\n",
       "    </tr>\n",
       "    <tr>\n",
       "      <th>62</th>\n",
       "      <td>kabocha</td>\n",
       "      <td>2.048000e+04</td>\n",
       "      <td>2.084780e+03</td>\n",
       "      <td>1.064444e+00</td>\n",
       "      <td>10.179590</td>\n",
       "      <td>Q2</td>\n",
       "      <td>1</td>\n",
       "      <td>Ttl Time: Low</td>\n",
       "    </tr>\n",
       "    <tr>\n",
       "      <th>117</th>\n",
       "      <td>sunburst</td>\n",
       "      <td>6.760554e+07</td>\n",
       "      <td>6.272282e+06</td>\n",
       "      <td>6.135802e+04</td>\n",
       "      <td>9.277763</td>\n",
       "      <td>Q2</td>\n",
       "      <td>4</td>\n",
       "      <td>Ttl Time: High Usage</td>\n",
       "    </tr>\n",
       "    <tr>\n",
       "      <th>122</th>\n",
       "      <td>tips</td>\n",
       "      <td>1.782613e+06</td>\n",
       "      <td>1.636808e+05</td>\n",
       "      <td>1.219992e+02</td>\n",
       "      <td>9.182070</td>\n",
       "      <td>Q2</td>\n",
       "      <td>1</td>\n",
       "      <td>Ttl Time: Low</td>\n",
       "    </tr>\n",
       "    <tr>\n",
       "      <th>89</th>\n",
       "      <td>pickling</td>\n",
       "      <td>1.024000e+04</td>\n",
       "      <td>9.158938e+02</td>\n",
       "      <td>3.678056e+00</td>\n",
       "      <td>8.944275</td>\n",
       "      <td>Q2</td>\n",
       "      <td>1</td>\n",
       "      <td>Ttl Time: Low</td>\n",
       "    </tr>\n",
       "    <tr>\n",
       "      <th>8</th>\n",
       "      <td>baby</td>\n",
       "      <td>8.780000e+06</td>\n",
       "      <td>7.553961e+05</td>\n",
       "      <td>3.943189e+03</td>\n",
       "      <td>8.603600</td>\n",
       "      <td>Q2</td>\n",
       "      <td>3</td>\n",
       "      <td>Ttl Time: MedHi</td>\n",
       "    </tr>\n",
       "    <tr>\n",
       "      <th>96</th>\n",
       "      <td>polk</td>\n",
       "      <td>2.867200e+04</td>\n",
       "      <td>2.326920e+03</td>\n",
       "      <td>2.197972e+01</td>\n",
       "      <td>8.115653</td>\n",
       "      <td>Q2</td>\n",
       "      <td>1</td>\n",
       "      <td>Ttl Time: Low</td>\n",
       "    </tr>\n",
       "    <tr>\n",
       "      <th>99</th>\n",
       "      <td>regal</td>\n",
       "      <td>1.241382e+08</td>\n",
       "      <td>1.002897e+07</td>\n",
       "      <td>5.056481e+05</td>\n",
       "      <td>8.078879</td>\n",
       "      <td>Q2</td>\n",
       "      <td>4</td>\n",
       "      <td>Ttl Time: High Usage</td>\n",
       "    </tr>\n",
       "    <tr>\n",
       "      <th>17</th>\n",
       "      <td>boysenberries</td>\n",
       "      <td>5.543550e+08</td>\n",
       "      <td>4.409295e+07</td>\n",
       "      <td>9.742938e+04</td>\n",
       "      <td>7.953920</td>\n",
       "      <td>Q1</td>\n",
       "      <td>4</td>\n",
       "      <td>Ttl Time: High Usage</td>\n",
       "    </tr>\n",
       "    <tr>\n",
       "      <th>97</th>\n",
       "      <td>portabella</td>\n",
       "      <td>4.464618e+08</td>\n",
       "      <td>3.180505e+07</td>\n",
       "      <td>4.739416e+05</td>\n",
       "      <td>7.123802</td>\n",
       "      <td>Q1</td>\n",
       "      <td>4</td>\n",
       "      <td>Ttl Time: High Usage</td>\n",
       "    </tr>\n",
       "    <tr>\n",
       "      <th>47</th>\n",
       "      <td>fiddlehead</td>\n",
       "      <td>3.031040e+05</td>\n",
       "      <td>1.945595e+04</td>\n",
       "      <td>4.793081e+02</td>\n",
       "      <td>6.418902</td>\n",
       "      <td>Q1</td>\n",
       "      <td>2</td>\n",
       "      <td>Ttl Time: MedLo</td>\n",
       "    </tr>\n",
       "    <tr>\n",
       "      <th>123</th>\n",
       "      <td>tree</td>\n",
       "      <td>1.024000e+03</td>\n",
       "      <td>6.318500e+01</td>\n",
       "      <td>4.800167e+01</td>\n",
       "      <td>6.170410</td>\n",
       "      <td>Q1</td>\n",
       "      <td>1</td>\n",
       "      <td>Ttl Time: Low</td>\n",
       "    </tr>\n",
       "    <tr>\n",
       "      <th>115</th>\n",
       "      <td>sugranineteen</td>\n",
       "      <td>5.825024e+06</td>\n",
       "      <td>3.500619e+05</td>\n",
       "      <td>4.440307e+04</td>\n",
       "      <td>6.009621</td>\n",
       "      <td>Q1</td>\n",
       "      <td>4</td>\n",
       "      <td>Ttl Time: High Usage</td>\n",
       "    </tr>\n",
       "    <tr>\n",
       "      <th>3</th>\n",
       "      <td>angelys</td>\n",
       "      <td>2.457600e+04</td>\n",
       "      <td>1.472480e+03</td>\n",
       "      <td>1.210675e+02</td>\n",
       "      <td>5.991536</td>\n",
       "      <td>Q1</td>\n",
       "      <td>1</td>\n",
       "      <td>Ttl Time: Low</td>\n",
       "    </tr>\n",
       "    <tr>\n",
       "      <th>21</th>\n",
       "      <td>bunch</td>\n",
       "      <td>1.418573e+09</td>\n",
       "      <td>8.255873e+07</td>\n",
       "      <td>8.892657e+04</td>\n",
       "      <td>5.819844</td>\n",
       "      <td>Q1</td>\n",
       "      <td>4</td>\n",
       "      <td>Ttl Time: High Usage</td>\n",
       "    </tr>\n",
       "    <tr>\n",
       "      <th>7</th>\n",
       "      <td>atemoyas</td>\n",
       "      <td>2.390550e+07</td>\n",
       "      <td>1.382488e+06</td>\n",
       "      <td>1.538765e+04</td>\n",
       "      <td>5.783136</td>\n",
       "      <td>Q1</td>\n",
       "      <td>3</td>\n",
       "      <td>Ttl Time: MedHi</td>\n",
       "    </tr>\n",
       "    <tr>\n",
       "      <th>77</th>\n",
       "      <td>milwa</td>\n",
       "      <td>4.606000e+04</td>\n",
       "      <td>2.657888e+03</td>\n",
       "      <td>2.203722e+02</td>\n",
       "      <td>5.770490</td>\n",
       "      <td>Q1</td>\n",
       "      <td>2</td>\n",
       "      <td>Ttl Time: MedLo</td>\n",
       "    </tr>\n",
       "    <tr>\n",
       "      <th>71</th>\n",
       "      <td>long</td>\n",
       "      <td>7.873024e+06</td>\n",
       "      <td>3.776354e+05</td>\n",
       "      <td>2.325375e+03</td>\n",
       "      <td>4.796574</td>\n",
       "      <td>Q1</td>\n",
       "      <td>2</td>\n",
       "      <td>Ttl Time: MedLo</td>\n",
       "    </tr>\n",
       "    <tr>\n",
       "      <th>90</th>\n",
       "      <td>pink</td>\n",
       "      <td>1.638400e+04</td>\n",
       "      <td>7.566700e+02</td>\n",
       "      <td>1.920172e+02</td>\n",
       "      <td>4.618347</td>\n",
       "      <td>Q1</td>\n",
       "      <td>1</td>\n",
       "      <td>Ttl Time: Low</td>\n",
       "    </tr>\n",
       "    <tr>\n",
       "      <th>73</th>\n",
       "      <td>mache</td>\n",
       "      <td>2.969600e+04</td>\n",
       "      <td>1.304700e+03</td>\n",
       "      <td>3.242194e+01</td>\n",
       "      <td>4.393521</td>\n",
       "      <td>Q1</td>\n",
       "      <td>1</td>\n",
       "      <td>Ttl Time: Low</td>\n",
       "    </tr>\n",
       "    <tr>\n",
       "      <th>86</th>\n",
       "      <td>peanuts</td>\n",
       "      <td>8.160000e+04</td>\n",
       "      <td>3.551936e+03</td>\n",
       "      <td>6.737503e+02</td>\n",
       "      <td>4.352863</td>\n",
       "      <td>Q1</td>\n",
       "      <td>2</td>\n",
       "      <td>Ttl Time: MedLo</td>\n",
       "    </tr>\n",
       "    <tr>\n",
       "      <th>127</th>\n",
       "      <td>white</td>\n",
       "      <td>5.795840e+05</td>\n",
       "      <td>2.436147e+04</td>\n",
       "      <td>4.208659e+03</td>\n",
       "      <td>4.203268</td>\n",
       "      <td>Q1</td>\n",
       "      <td>3</td>\n",
       "      <td>Ttl Time: MedHi</td>\n",
       "    </tr>\n",
       "    <tr>\n",
       "      <th>74</th>\n",
       "      <td>malanga</td>\n",
       "      <td>4.915200e+04</td>\n",
       "      <td>2.017650e+03</td>\n",
       "      <td>1.749444e+00</td>\n",
       "      <td>4.104919</td>\n",
       "      <td>Q1</td>\n",
       "      <td>1</td>\n",
       "      <td>Ttl Time: Low</td>\n",
       "    </tr>\n",
       "    <tr>\n",
       "      <th>45</th>\n",
       "      <td>emmons</td>\n",
       "      <td>3.247080e+06</td>\n",
       "      <td>1.192737e+05</td>\n",
       "      <td>8.803522e+02</td>\n",
       "      <td>3.673261</td>\n",
       "      <td>Q1</td>\n",
       "      <td>2</td>\n",
       "      <td>Ttl Time: MedLo</td>\n",
       "    </tr>\n",
       "    <tr>\n",
       "      <th>48</th>\n",
       "      <td>forelle</td>\n",
       "      <td>4.096000e+04</td>\n",
       "      <td>1.502755e+03</td>\n",
       "      <td>2.952972e+01</td>\n",
       "      <td>3.668835</td>\n",
       "      <td>Q1</td>\n",
       "      <td>1</td>\n",
       "      <td>Ttl Time: Low</td>\n",
       "    </tr>\n",
       "    <tr>\n",
       "      <th>2</th>\n",
       "      <td>amaranth</td>\n",
       "      <td>2.116267e+07</td>\n",
       "      <td>7.031190e+05</td>\n",
       "      <td>2.584725e+04</td>\n",
       "      <td>3.322450</td>\n",
       "      <td>Q1</td>\n",
       "      <td>3</td>\n",
       "      <td>Ttl Time: MedHi</td>\n",
       "    </tr>\n",
       "    <tr>\n",
       "      <th>92</th>\n",
       "      <td>pioppino</td>\n",
       "      <td>1.638400e+04</td>\n",
       "      <td>4.858300e+02</td>\n",
       "      <td>9.629889e+01</td>\n",
       "      <td>2.965271</td>\n",
       "      <td>Q1</td>\n",
       "      <td>1</td>\n",
       "      <td>Ttl Time: Low</td>\n",
       "    </tr>\n",
       "    <tr>\n",
       "      <th>129</th>\n",
       "      <td>wood</td>\n",
       "      <td>3.412143e+08</td>\n",
       "      <td>8.676040e+06</td>\n",
       "      <td>7.183964e+05</td>\n",
       "      <td>2.542695</td>\n",
       "      <td>Q1</td>\n",
       "      <td>4</td>\n",
       "      <td>Ttl Time: High Usage</td>\n",
       "    </tr>\n",
       "    <tr>\n",
       "      <th>42</th>\n",
       "      <td>crab</td>\n",
       "      <td>1.233920e+06</td>\n",
       "      <td>3.039647e+04</td>\n",
       "      <td>6.409696e+03</td>\n",
       "      <td>2.463407</td>\n",
       "      <td>Q1</td>\n",
       "      <td>3</td>\n",
       "      <td>Ttl Time: MedHi</td>\n",
       "    </tr>\n",
       "    <tr>\n",
       "      <th>98</th>\n",
       "      <td>purple</td>\n",
       "      <td>4.096000e+03</td>\n",
       "      <td>9.286000e+01</td>\n",
       "      <td>4.800917e+01</td>\n",
       "      <td>2.267090</td>\n",
       "      <td>Q1</td>\n",
       "      <td>1</td>\n",
       "      <td>Ttl Time: Low</td>\n",
       "    </tr>\n",
       "    <tr>\n",
       "      <th>53</th>\n",
       "      <td>grisette</td>\n",
       "      <td>4.248479e+07</td>\n",
       "      <td>8.168536e+05</td>\n",
       "      <td>3.423569e+03</td>\n",
       "      <td>1.922697</td>\n",
       "      <td>Q1</td>\n",
       "      <td>3</td>\n",
       "      <td>Ttl Time: MedHi</td>\n",
       "    </tr>\n",
       "    <tr>\n",
       "      <th>93</th>\n",
       "      <td>pitted</td>\n",
       "      <td>3.874133e+05</td>\n",
       "      <td>7.339924e+03</td>\n",
       "      <td>3.336161e+02</td>\n",
       "      <td>1.894598</td>\n",
       "      <td>Q1</td>\n",
       "      <td>2</td>\n",
       "      <td>Ttl Time: MedLo</td>\n",
       "    </tr>\n",
       "    <tr>\n",
       "      <th>111</th>\n",
       "      <td>spring</td>\n",
       "      <td>1.588224e+07</td>\n",
       "      <td>2.787382e+05</td>\n",
       "      <td>2.895122e+02</td>\n",
       "      <td>1.755031</td>\n",
       "      <td>Q1</td>\n",
       "      <td>2</td>\n",
       "      <td>Ttl Time: MedLo</td>\n",
       "    </tr>\n",
       "    <tr>\n",
       "      <th>85</th>\n",
       "      <td>pasilla</td>\n",
       "      <td>1.234995e+07</td>\n",
       "      <td>1.922227e+05</td>\n",
       "      <td>2.549680e+04</td>\n",
       "      <td>1.556465</td>\n",
       "      <td>Q1</td>\n",
       "      <td>3</td>\n",
       "      <td>Ttl Time: MedHi</td>\n",
       "    </tr>\n",
       "    <tr>\n",
       "      <th>94</th>\n",
       "      <td>plantain</td>\n",
       "      <td>8.944213e+05</td>\n",
       "      <td>1.387330e+04</td>\n",
       "      <td>3.605920e+03</td>\n",
       "      <td>1.551093</td>\n",
       "      <td>Q1</td>\n",
       "      <td>3</td>\n",
       "      <td>Ttl Time: MedHi</td>\n",
       "    </tr>\n",
       "    <tr>\n",
       "      <th>31</th>\n",
       "      <td>chayote</td>\n",
       "      <td>4.782080e+05</td>\n",
       "      <td>7.169743e+03</td>\n",
       "      <td>4.111833e+01</td>\n",
       "      <td>1.499294</td>\n",
       "      <td>Q1</td>\n",
       "      <td>1</td>\n",
       "      <td>Ttl Time: Low</td>\n",
       "    </tr>\n",
       "    <tr>\n",
       "      <th>80</th>\n",
       "      <td>mung</td>\n",
       "      <td>4.096000e+03</td>\n",
       "      <td>4.551000e+01</td>\n",
       "      <td>3.250000e-02</td>\n",
       "      <td>1.111084</td>\n",
       "      <td>Q1</td>\n",
       "      <td>1</td>\n",
       "      <td>Ttl Time: Low</td>\n",
       "    </tr>\n",
       "    <tr>\n",
       "      <th>39</th>\n",
       "      <td>cocktail</td>\n",
       "      <td>4.096000e+04</td>\n",
       "      <td>2.241000e+02</td>\n",
       "      <td>3.847333e+01</td>\n",
       "      <td>0.547119</td>\n",
       "      <td>Q1</td>\n",
       "      <td>1</td>\n",
       "      <td>Ttl Time: Low</td>\n",
       "    </tr>\n",
       "    <tr>\n",
       "      <th>50</th>\n",
       "      <td>galangal</td>\n",
       "      <td>6.636514e+04</td>\n",
       "      <td>3.150768e+02</td>\n",
       "      <td>1.442156e+02</td>\n",
       "      <td>0.474762</td>\n",
       "      <td>Q1</td>\n",
       "      <td>1</td>\n",
       "      <td>Ttl Time: Low</td>\n",
       "    </tr>\n",
       "    <tr>\n",
       "      <th>95</th>\n",
       "      <td>plumcot</td>\n",
       "      <td>2.457600e+04</td>\n",
       "      <td>5.444000e+01</td>\n",
       "      <td>2.521111e+00</td>\n",
       "      <td>0.221517</td>\n",
       "      <td>Q1</td>\n",
       "      <td>1</td>\n",
       "      <td>Ttl Time: Low</td>\n",
       "    </tr>\n",
       "    <tr>\n",
       "      <th>103</th>\n",
       "      <td>romanesco</td>\n",
       "      <td>4.096000e+03</td>\n",
       "      <td>7.310000e+00</td>\n",
       "      <td>9.600250e+01</td>\n",
       "      <td>0.178467</td>\n",
       "      <td>Q1</td>\n",
       "      <td>1</td>\n",
       "      <td>Ttl Time: Low</td>\n",
       "    </tr>\n",
       "  </tbody>\n",
       "</table>\n",
       "</div>"
      ],
      "text/plain": [
       "           account     reqmem_mc    usedmem_mc    used_hours  avg_usage  \\\n",
       "75          medium  1.517670e+07  1.046097e+07  1.397343e+03  68.927785   \n",
       "76      mignonette  2.252800e+05  1.542592e+05  3.034556e+01  68.474414   \n",
       "113   strawberries  7.549013e+06  5.079764e+06  5.658872e+02  67.290431   \n",
       "5          antares  3.655680e+05  2.426081e+05  1.171669e+02  66.364693   \n",
       "109          shell  4.505600e+04  2.782108e+04  7.206506e+02  61.747769   \n",
       "110          shiny  1.686923e+06  1.005946e+06  5.390319e+02  59.632036   \n",
       "60          jicama  1.158724e+07  6.767345e+06  6.157806e+03  58.403407   \n",
       "120          texas  3.668187e+07  2.112502e+07  2.085284e+04  57.589806   \n",
       "6             arra  5.558272e+05  3.031670e+05  1.559681e+02  54.543394   \n",
       "107       shallots  3.246080e+06  1.748024e+06  2.935500e+01  53.850308   \n",
       "101        roasted  1.081685e+06  5.798736e+05  1.953978e+02  53.608346   \n",
       "116         summer  4.446754e+09  2.340071e+09  2.743177e+05  52.624251   \n",
       "30       chasselas  1.308515e+07  6.807766e+06  1.057141e+04  52.026674   \n",
       "91          pinova  4.565432e+06  2.364135e+06  1.372695e+03  51.783383   \n",
       "43        delblush  8.934400e+05  4.625195e+05  6.306188e+03  51.768389   \n",
       "126            wax  7.080755e+07  3.578591e+07  2.269833e+05  50.539674   \n",
       "114        sturmer  1.213722e+07  6.045134e+06  1.518130e+04  49.806595   \n",
       "33        chipilin  8.846760e+05  4.247904e+05  8.493763e+03  48.016498   \n",
       "105         seeded  4.358516e+07  2.004801e+07  4.622674e+03  45.997320   \n",
       "100       retailer  3.450146e+08  1.525321e+08  1.023420e+05  44.210330   \n",
       "22           burro  1.695132e+06  7.466824e+05  7.003799e+03  44.048640   \n",
       "65         kumquat  1.297920e+05  5.700368e+04  6.006417e+01  43.919254   \n",
       "19        broccoli  3.258368e+05  1.428123e+05  1.274166e+03  43.829393   \n",
       "88          pepino  1.438066e+06  5.765411e+05  2.667717e+03  40.091424   \n",
       "38        cmsadmin  4.933222e+07  1.948796e+07  1.845737e+03  39.503507   \n",
       "61       josephine  3.141120e+05  1.207763e+05  1.990586e+03  38.450086   \n",
       "57     horseradish  3.916414e+08  1.488890e+08  3.823565e+04  38.016660   \n",
       "119          sweet  4.101023e+08  1.531543e+08  4.001220e+05  37.345379   \n",
       "102          rocha  3.308800e+04  1.228172e+04  6.898278e+01  37.118340   \n",
       "118      sunflower  2.827764e+06  1.041762e+06  1.047978e+04  36.840469   \n",
       "26          carrot  1.167186e+09  4.131155e+08  1.129283e+06  35.394135   \n",
       "4            anise  7.154238e+06  2.499509e+06  4.034354e+03  34.937457   \n",
       "49           fresh  1.065443e+08  3.685065e+07  1.976532e+05  34.587172   \n",
       "82            nino  7.000000e+03  2.385344e+03  6.131389e+00  34.076339   \n",
       "44            dill  4.377600e+05  1.490328e+05  3.646956e+02  34.044401   \n",
       "124        treviso  2.711040e+06  9.201500e+05  2.089144e+04  33.940850   \n",
       "0          alkmene  1.793044e+07  6.048471e+06  9.883721e+03  33.732975   \n",
       "79           mixed  2.135494e+08  7.061518e+07  6.018411e+04  33.067376   \n",
       "78     minnewashta  1.125294e+08  3.623371e+07  1.855505e+05  32.199327   \n",
       "130             yu  8.837180e+05  2.821726e+05  5.754917e+01  31.930168   \n",
       "29             cep  1.884784e+09  5.920948e+08  2.871719e+06  31.414457   \n",
       "121       thomcord  2.195456e+06  6.842214e+05  1.065313e+04  31.165341   \n",
       "12           belle  7.248348e+07  2.238292e+07  2.039781e+04  30.880027   \n",
       "13        bertanne  3.543766e+07  1.082719e+07  2.654792e+04  30.552787   \n",
       "23          cactus  1.380352e+06  4.136377e+05  8.772911e+02  29.966100   \n",
       "68           lemon  2.160640e+05  6.454760e+04  4.777322e+02  29.874295   \n",
       "9           baking  6.439371e+06  1.873608e+06  1.474915e+04  29.096139   \n",
       "34        cinnabar  2.467840e+05  7.009681e+04  8.390333e+01  28.404115   \n",
       "128         winged  3.557869e+07  9.971923e+06  1.236047e+05  28.027794   \n",
       "64          kinnow  2.299221e+06  6.353317e+05  4.448297e+03  27.632473   \n",
       "52          garlic  3.095839e+08  8.344585e+07  5.030999e+05  26.954195   \n",
       "37     cms_lowprio  6.816290e+08  1.756128e+08  8.708560e+05  25.763699   \n",
       "51           galia  1.428246e+09  3.648068e+08  5.396737e+05  25.542290   \n",
       "18      brazilnuts  8.985094e+06  2.294602e+06  5.987541e+03  25.537871   \n",
       "72         lychees  6.437429e+07  1.603081e+07  1.207671e+05  24.902506   \n",
       "14            bibb  1.164288e+06  2.855504e+05  4.516033e+02  24.525757   \n",
       "125          water  4.259840e+05  1.025215e+05  1.885925e+02  24.066994   \n",
       "69        lochbuie  2.990080e+05  6.973854e+04  1.211936e+02  23.323302   \n",
       "40         concord  6.720000e+05  1.554308e+05  5.187575e+02  23.129582   \n",
       "46       fairchild  6.115200e+05  1.362451e+05  5.507714e+02  22.279738   \n",
       "32       chickpeas  4.877674e+07  1.070239e+07  6.226926e+04  21.941593   \n",
       "36             cms  2.796848e+09  5.916914e+08  3.049116e+06  21.155649   \n",
       "28          celery  4.211749e+06  8.882985e+05  3.489789e+02  21.090965   \n",
       "15    blackberries  5.549815e+06  1.164708e+06  1.591016e+04  20.986435   \n",
       "106        serrano  6.707200e+05  1.347171e+05  2.044074e+03  20.085448   \n",
       "11            bell  1.484800e+05  2.857074e+04  5.087653e+02  19.242148   \n",
       "59          ingrid  2.457600e+04  4.715010e+03  1.466336e+02  19.185425   \n",
       "83          orange  9.275686e+08  1.746736e+08  5.966085e+04  18.831345   \n",
       "81          muscat  3.558936e+07  6.687535e+06  5.963148e+03  18.790827   \n",
       "54         harovin  1.145288e+07  2.148876e+06  2.264360e+04  18.762751   \n",
       "35           clara  2.115579e+07  3.959863e+06  1.725799e+04  18.717631   \n",
       "1          almonds  3.529429e+06  6.484339e+05  4.818278e+02  18.372202   \n",
       "27          casaba  9.319203e+08  1.670154e+08  2.126984e+05  17.921640   \n",
       "20            bulk  6.081033e+08  1.047423e+08  6.885571e+04  17.224428   \n",
       "104          round  3.013357e+08  4.967666e+07  2.841185e+04  16.485488   \n",
       "24        cantared  1.858780e+07  3.036457e+06  3.367976e+04  16.335746   \n",
       "25       carambola  6.098261e+06  9.961254e+05  1.524140e+03  16.334580   \n",
       "63             key  4.241557e+07  6.615159e+06  1.437247e+05  15.596065   \n",
       "108        sharlin  7.125223e+08  1.110942e+08  1.294916e+05  15.591676   \n",
       "112             st  4.769297e+07  7.379897e+06  5.854606e+03  15.473763   \n",
       "70           lollo  5.222400e+05  7.989253e+04  7.106503e+02  15.298050   \n",
       "55          hearts  7.782400e+04  1.076102e+04  1.089417e+01  13.827386   \n",
       "10             bay  2.197504e+06  2.956733e+05  7.851433e+02  13.454961   \n",
       "66           large  1.454768e+07  1.924398e+06  8.086753e+03  13.228215   \n",
       "56            horn  4.886222e+05  6.297469e+04  1.056836e+03  12.888219   \n",
       "41      conference  1.115614e+07  1.396368e+06  3.617897e+04  12.516595   \n",
       "67          leaves  5.898240e+05  7.208489e+04  4.162068e+03  12.221424   \n",
       "16             bon  1.219207e+07  1.454224e+06  2.448097e+03  11.927619   \n",
       "84       oroblanco  3.686400e+04  4.389800e+03  3.960528e+02  11.908095   \n",
       "58         huaguan  5.964800e+04  6.644589e+03  3.498511e+02  11.139667   \n",
       "87          pecans  1.983147e+05  2.122865e+04  6.661694e+01  10.704529   \n",
       "62         kabocha  2.048000e+04  2.084780e+03  1.064444e+00  10.179590   \n",
       "117       sunburst  6.760554e+07  6.272282e+06  6.135802e+04   9.277763   \n",
       "122           tips  1.782613e+06  1.636808e+05  1.219992e+02   9.182070   \n",
       "89        pickling  1.024000e+04  9.158938e+02  3.678056e+00   8.944275   \n",
       "8             baby  8.780000e+06  7.553961e+05  3.943189e+03   8.603600   \n",
       "96            polk  2.867200e+04  2.326920e+03  2.197972e+01   8.115653   \n",
       "99           regal  1.241382e+08  1.002897e+07  5.056481e+05   8.078879   \n",
       "17   boysenberries  5.543550e+08  4.409295e+07  9.742938e+04   7.953920   \n",
       "97      portabella  4.464618e+08  3.180505e+07  4.739416e+05   7.123802   \n",
       "47      fiddlehead  3.031040e+05  1.945595e+04  4.793081e+02   6.418902   \n",
       "123           tree  1.024000e+03  6.318500e+01  4.800167e+01   6.170410   \n",
       "115  sugranineteen  5.825024e+06  3.500619e+05  4.440307e+04   6.009621   \n",
       "3          angelys  2.457600e+04  1.472480e+03  1.210675e+02   5.991536   \n",
       "21           bunch  1.418573e+09  8.255873e+07  8.892657e+04   5.819844   \n",
       "7         atemoyas  2.390550e+07  1.382488e+06  1.538765e+04   5.783136   \n",
       "77           milwa  4.606000e+04  2.657888e+03  2.203722e+02   5.770490   \n",
       "71            long  7.873024e+06  3.776354e+05  2.325375e+03   4.796574   \n",
       "90            pink  1.638400e+04  7.566700e+02  1.920172e+02   4.618347   \n",
       "73           mache  2.969600e+04  1.304700e+03  3.242194e+01   4.393521   \n",
       "86         peanuts  8.160000e+04  3.551936e+03  6.737503e+02   4.352863   \n",
       "127          white  5.795840e+05  2.436147e+04  4.208659e+03   4.203268   \n",
       "74         malanga  4.915200e+04  2.017650e+03  1.749444e+00   4.104919   \n",
       "45          emmons  3.247080e+06  1.192737e+05  8.803522e+02   3.673261   \n",
       "48         forelle  4.096000e+04  1.502755e+03  2.952972e+01   3.668835   \n",
       "2         amaranth  2.116267e+07  7.031190e+05  2.584725e+04   3.322450   \n",
       "92        pioppino  1.638400e+04  4.858300e+02  9.629889e+01   2.965271   \n",
       "129           wood  3.412143e+08  8.676040e+06  7.183964e+05   2.542695   \n",
       "42            crab  1.233920e+06  3.039647e+04  6.409696e+03   2.463407   \n",
       "98          purple  4.096000e+03  9.286000e+01  4.800917e+01   2.267090   \n",
       "53        grisette  4.248479e+07  8.168536e+05  3.423569e+03   1.922697   \n",
       "93          pitted  3.874133e+05  7.339924e+03  3.336161e+02   1.894598   \n",
       "111         spring  1.588224e+07  2.787382e+05  2.895122e+02   1.755031   \n",
       "85         pasilla  1.234995e+07  1.922227e+05  2.549680e+04   1.556465   \n",
       "94        plantain  8.944213e+05  1.387330e+04  3.605920e+03   1.551093   \n",
       "31         chayote  4.782080e+05  7.169743e+03  4.111833e+01   1.499294   \n",
       "80            mung  4.096000e+03  4.551000e+01  3.250000e-02   1.111084   \n",
       "39        cocktail  4.096000e+04  2.241000e+02  3.847333e+01   0.547119   \n",
       "50        galangal  6.636514e+04  3.150768e+02  1.442156e+02   0.474762   \n",
       "95         plumcot  2.457600e+04  5.444000e+01  2.521111e+00   0.221517   \n",
       "103      romanesco  4.096000e+03  7.310000e+00  9.600250e+01   0.178467   \n",
       "\n",
       "    mem_quartile hours_quartile      total_time_ctgry  \n",
       "75            Q4              2       Ttl Time: MedLo  \n",
       "76            Q4              1         Ttl Time: Low  \n",
       "113           Q4              2       Ttl Time: MedLo  \n",
       "5             Q4              1         Ttl Time: Low  \n",
       "109           Q4              2       Ttl Time: MedLo  \n",
       "110           Q4              2       Ttl Time: MedLo  \n",
       "60            Q4              3       Ttl Time: MedHi  \n",
       "120           Q4              3       Ttl Time: MedHi  \n",
       "6             Q4              1         Ttl Time: Low  \n",
       "107           Q4              1         Ttl Time: Low  \n",
       "101           Q4              1         Ttl Time: Low  \n",
       "116           Q4              4  Ttl Time: High Usage  \n",
       "30            Q4              3       Ttl Time: MedHi  \n",
       "91            Q4              2       Ttl Time: MedLo  \n",
       "43            Q4              3       Ttl Time: MedHi  \n",
       "126           Q4              4  Ttl Time: High Usage  \n",
       "114           Q4              3       Ttl Time: MedHi  \n",
       "33            Q4              3       Ttl Time: MedHi  \n",
       "105           Q4              3       Ttl Time: MedHi  \n",
       "100           Q4              4  Ttl Time: High Usage  \n",
       "22            Q4              3       Ttl Time: MedHi  \n",
       "65            Q4              1         Ttl Time: Low  \n",
       "19            Q4              2       Ttl Time: MedLo  \n",
       "88            Q4              2       Ttl Time: MedLo  \n",
       "38            Q4              2       Ttl Time: MedLo  \n",
       "61            Q4              2       Ttl Time: MedLo  \n",
       "57            Q4              4  Ttl Time: High Usage  \n",
       "119           Q4              4  Ttl Time: High Usage  \n",
       "102           Q4              1         Ttl Time: Low  \n",
       "118           Q4              3       Ttl Time: MedHi  \n",
       "26            Q4              4  Ttl Time: High Usage  \n",
       "4             Q4              3       Ttl Time: MedHi  \n",
       "49            Q4              4  Ttl Time: High Usage  \n",
       "82            Q3              1         Ttl Time: Low  \n",
       "44            Q3              2       Ttl Time: MedLo  \n",
       "124           Q3              3       Ttl Time: MedHi  \n",
       "0             Q3              3       Ttl Time: MedHi  \n",
       "79            Q3              4  Ttl Time: High Usage  \n",
       "78            Q3              4  Ttl Time: High Usage  \n",
       "130           Q3              1         Ttl Time: Low  \n",
       "29            Q3              4  Ttl Time: High Usage  \n",
       "121           Q3              3       Ttl Time: MedHi  \n",
       "12            Q3              3       Ttl Time: MedHi  \n",
       "13            Q3              4  Ttl Time: High Usage  \n",
       "23            Q3              2       Ttl Time: MedLo  \n",
       "68            Q3              2       Ttl Time: MedLo  \n",
       "9             Q3              3       Ttl Time: MedHi  \n",
       "34            Q3              1         Ttl Time: Low  \n",
       "128           Q3              4  Ttl Time: High Usage  \n",
       "64            Q3              3       Ttl Time: MedHi  \n",
       "52            Q3              4  Ttl Time: High Usage  \n",
       "37            Q3              4  Ttl Time: High Usage  \n",
       "51            Q3              4  Ttl Time: High Usage  \n",
       "18            Q3              3       Ttl Time: MedHi  \n",
       "72            Q3              4  Ttl Time: High Usage  \n",
       "14            Q3              2       Ttl Time: MedLo  \n",
       "125           Q3              1         Ttl Time: Low  \n",
       "69            Q3              1         Ttl Time: Low  \n",
       "40            Q3              2       Ttl Time: MedLo  \n",
       "46            Q3              2       Ttl Time: MedLo  \n",
       "32            Q3              4  Ttl Time: High Usage  \n",
       "36            Q3              4  Ttl Time: High Usage  \n",
       "28            Q3              2       Ttl Time: MedLo  \n",
       "15            Q3              3       Ttl Time: MedHi  \n",
       "106           Q3              2       Ttl Time: MedLo  \n",
       "11            Q2              2       Ttl Time: MedLo  \n",
       "59            Q2              1         Ttl Time: Low  \n",
       "83            Q2              4  Ttl Time: High Usage  \n",
       "81            Q2              3       Ttl Time: MedHi  \n",
       "54            Q2              3       Ttl Time: MedHi  \n",
       "35            Q2              3       Ttl Time: MedHi  \n",
       "1             Q2              2       Ttl Time: MedLo  \n",
       "27            Q2              4  Ttl Time: High Usage  \n",
       "20            Q2              4  Ttl Time: High Usage  \n",
       "104           Q2              4  Ttl Time: High Usage  \n",
       "24            Q2              4  Ttl Time: High Usage  \n",
       "25            Q2              2       Ttl Time: MedLo  \n",
       "63            Q2              4  Ttl Time: High Usage  \n",
       "108           Q2              4  Ttl Time: High Usage  \n",
       "112           Q2              3       Ttl Time: MedHi  \n",
       "70            Q2              2       Ttl Time: MedLo  \n",
       "55            Q2              1         Ttl Time: Low  \n",
       "10            Q2              2       Ttl Time: MedLo  \n",
       "66            Q2              3       Ttl Time: MedHi  \n",
       "56            Q2              2       Ttl Time: MedLo  \n",
       "41            Q2              4  Ttl Time: High Usage  \n",
       "67            Q2              3       Ttl Time: MedHi  \n",
       "16            Q2              2       Ttl Time: MedLo  \n",
       "84            Q2              2       Ttl Time: MedLo  \n",
       "58            Q2              2       Ttl Time: MedLo  \n",
       "87            Q2              1         Ttl Time: Low  \n",
       "62            Q2              1         Ttl Time: Low  \n",
       "117           Q2              4  Ttl Time: High Usage  \n",
       "122           Q2              1         Ttl Time: Low  \n",
       "89            Q2              1         Ttl Time: Low  \n",
       "8             Q2              3       Ttl Time: MedHi  \n",
       "96            Q2              1         Ttl Time: Low  \n",
       "99            Q2              4  Ttl Time: High Usage  \n",
       "17            Q1              4  Ttl Time: High Usage  \n",
       "97            Q1              4  Ttl Time: High Usage  \n",
       "47            Q1              2       Ttl Time: MedLo  \n",
       "123           Q1              1         Ttl Time: Low  \n",
       "115           Q1              4  Ttl Time: High Usage  \n",
       "3             Q1              1         Ttl Time: Low  \n",
       "21            Q1              4  Ttl Time: High Usage  \n",
       "7             Q1              3       Ttl Time: MedHi  \n",
       "77            Q1              2       Ttl Time: MedLo  \n",
       "71            Q1              2       Ttl Time: MedLo  \n",
       "90            Q1              1         Ttl Time: Low  \n",
       "73            Q1              1         Ttl Time: Low  \n",
       "86            Q1              2       Ttl Time: MedLo  \n",
       "127           Q1              3       Ttl Time: MedHi  \n",
       "74            Q1              1         Ttl Time: Low  \n",
       "45            Q1              2       Ttl Time: MedLo  \n",
       "48            Q1              1         Ttl Time: Low  \n",
       "2             Q1              3       Ttl Time: MedHi  \n",
       "92            Q1              1         Ttl Time: Low  \n",
       "129           Q1              4  Ttl Time: High Usage  \n",
       "42            Q1              3       Ttl Time: MedHi  \n",
       "98            Q1              1         Ttl Time: Low  \n",
       "53            Q1              3       Ttl Time: MedHi  \n",
       "93            Q1              2       Ttl Time: MedLo  \n",
       "111           Q1              2       Ttl Time: MedLo  \n",
       "85            Q1              3       Ttl Time: MedHi  \n",
       "94            Q1              3       Ttl Time: MedHi  \n",
       "31            Q1              1         Ttl Time: Low  \n",
       "80            Q1              1         Ttl Time: Low  \n",
       "39            Q1              1         Ttl Time: Low  \n",
       "50            Q1              1         Ttl Time: Low  \n",
       "95            Q1              1         Ttl Time: Low  \n",
       "103           Q1              1         Ttl Time: Low  "
      ]
     },
     "execution_count": 44,
     "metadata": {},
     "output_type": "execute_result"
    }
   ],
   "source": [
    "avg_memuse_byacct.sort_values('avg_usage', ascending=False)"
   ]
  },
  {
   "cell_type": "code",
   "execution_count": 45,
   "metadata": {
    "slideshow": {
     "slide_type": "skip"
    }
   },
   "outputs": [
    {
     "data": {
      "text/plain": [
       "count    131.000000\n",
       "mean      23.542496\n",
       "std       18.179408\n",
       "min        0.178467\n",
       "25%        8.016400\n",
       "50%       19.242148\n",
       "75%       34.331756\n",
       "max       68.927785\n",
       "Name: avg_usage, dtype: object"
      ]
     },
     "execution_count": 45,
     "metadata": {},
     "output_type": "execute_result"
    }
   ],
   "source": [
    "avg_memuse_byacct['avg_usage'].describe().apply(lambda x: format(x, 'f'))"
   ]
  },
  {
   "cell_type": "code",
   "execution_count": 46,
   "metadata": {
    "slideshow": {
     "slide_type": "skip"
    }
   },
   "outputs": [
    {
     "name": "stdout",
     "output_type": "stream",
     "text": [
      "68.92778486027015\n"
     ]
    }
   ],
   "source": [
    "q1cut = avg_memuse_byacct['avg_usage'].quantile(.25)\n",
    "q2cut = avg_memuse_byacct['avg_usage'].quantile(.5)\n",
    "q3cut = avg_memuse_byacct['avg_usage'].quantile(.75)\n",
    "max =  avg_memuse_byacct['avg_usage'].max()\n",
    "print(max)\n"
   ]
  },
  {
   "cell_type": "code",
   "execution_count": 51,
   "metadata": {
    "collapsed": true,
    "slideshow": {
     "slide_type": "skip"
    }
   },
   "outputs": [
    {
     "data": {
      "application/vnd.plotly.v1+json": {
       "config": {
        "plotlyServerURL": "https://plot.ly"
       },
       "data": [
        {
         "hovertext": [
          "Ttl Time: MedLo",
          "Ttl Time: Low",
          "Ttl Time: MedLo",
          "Ttl Time: Low",
          "Ttl Time: MedLo",
          "Ttl Time: MedLo",
          "Ttl Time: MedHi",
          "Ttl Time: MedHi",
          "Ttl Time: Low",
          "Ttl Time: Low",
          "Ttl Time: Low",
          "Ttl Time: High Usage",
          "Ttl Time: MedHi",
          "Ttl Time: MedLo",
          "Ttl Time: MedHi",
          "Ttl Time: High Usage",
          "Ttl Time: MedHi",
          "Ttl Time: MedHi",
          "Ttl Time: MedHi",
          "Ttl Time: High Usage",
          "Ttl Time: MedHi",
          "Ttl Time: Low",
          "Ttl Time: MedLo",
          "Ttl Time: MedLo",
          "Ttl Time: MedLo",
          "Ttl Time: MedLo",
          "Ttl Time: High Usage",
          "Ttl Time: High Usage",
          "Ttl Time: Low",
          "Ttl Time: MedHi",
          "Ttl Time: High Usage",
          "Ttl Time: MedHi",
          "Ttl Time: High Usage",
          "Ttl Time: Low",
          "Ttl Time: MedLo",
          "Ttl Time: MedHi",
          "Ttl Time: MedHi",
          "Ttl Time: High Usage",
          "Ttl Time: High Usage",
          "Ttl Time: Low",
          "Ttl Time: High Usage",
          "Ttl Time: MedHi",
          "Ttl Time: MedHi",
          "Ttl Time: High Usage",
          "Ttl Time: MedLo",
          "Ttl Time: MedLo",
          "Ttl Time: MedHi",
          "Ttl Time: Low",
          "Ttl Time: High Usage",
          "Ttl Time: MedHi",
          "Ttl Time: High Usage",
          "Ttl Time: High Usage",
          "Ttl Time: High Usage",
          "Ttl Time: MedHi",
          "Ttl Time: High Usage",
          "Ttl Time: MedLo",
          "Ttl Time: Low",
          "Ttl Time: Low",
          "Ttl Time: MedLo",
          "Ttl Time: MedLo",
          "Ttl Time: High Usage",
          "Ttl Time: High Usage",
          "Ttl Time: MedLo",
          "Ttl Time: MedHi",
          "Ttl Time: MedLo",
          "Ttl Time: MedLo",
          "Ttl Time: Low",
          "Ttl Time: High Usage",
          "Ttl Time: MedHi",
          "Ttl Time: MedHi",
          "Ttl Time: MedHi",
          "Ttl Time: MedLo",
          "Ttl Time: High Usage",
          "Ttl Time: High Usage",
          "Ttl Time: High Usage",
          "Ttl Time: High Usage",
          "Ttl Time: MedLo",
          "Ttl Time: High Usage",
          "Ttl Time: High Usage",
          "Ttl Time: MedHi",
          "Ttl Time: MedLo",
          "Ttl Time: Low",
          "Ttl Time: MedLo",
          "Ttl Time: MedHi",
          "Ttl Time: MedLo",
          "Ttl Time: High Usage",
          "Ttl Time: MedHi",
          "Ttl Time: MedLo",
          "Ttl Time: MedLo",
          "Ttl Time: MedLo",
          "Ttl Time: Low",
          "Ttl Time: Low",
          "Ttl Time: High Usage",
          "Ttl Time: Low",
          "Ttl Time: Low",
          "Ttl Time: MedHi",
          "Ttl Time: Low",
          "Ttl Time: High Usage",
          "Ttl Time: High Usage",
          "Ttl Time: High Usage",
          "Ttl Time: MedLo",
          "Ttl Time: Low",
          "Ttl Time: High Usage",
          "Ttl Time: Low",
          "Ttl Time: High Usage",
          "Ttl Time: MedHi",
          "Ttl Time: MedLo",
          "Ttl Time: MedLo",
          "Ttl Time: Low",
          "Ttl Time: Low",
          "Ttl Time: MedLo",
          "Ttl Time: MedHi",
          "Ttl Time: Low",
          "Ttl Time: MedLo",
          "Ttl Time: Low",
          "Ttl Time: MedHi",
          "Ttl Time: Low",
          "Ttl Time: High Usage",
          "Ttl Time: MedHi",
          "Ttl Time: Low",
          "Ttl Time: MedHi",
          "Ttl Time: MedLo",
          "Ttl Time: MedLo",
          "Ttl Time: MedHi",
          "Ttl Time: MedHi",
          "Ttl Time: Low",
          "Ttl Time: Low",
          "Ttl Time: Low",
          "Ttl Time: Low",
          "Ttl Time: Low",
          "Ttl Time: Low"
         ],
         "name": "Low",
         "orientation": "h",
         "type": "bar",
         "x": [
          7.9539196335831726,
          7.1238021815338755,
          6.4189015981313355,
          6.17041015625,
          6.009620840188816,
          5.991536458333333,
          5.8198443859677855,
          5.783135959846256,
          5.77048957881025,
          4.796573511651941,
          4.61834716796875,
          4.393521012931035,
          4.352862540849664,
          4.203267774817801,
          4.10491943359375,
          3.6732605397259483,
          3.6688354492187507,
          3.322450073242183,
          2.9652709960937504,
          2.5426949713246727,
          2.4634072204843034,
          2.26708984375,
          1.9226966784166428,
          1.894597716478524,
          1.7550307135517405,
          1.5564650052216153,
          1.551092773577255,
          1.4992937173782124,
          1.111083984375,
          0.547119140625,
          0.47476246136095535,
          0.22151692708333331,
          0.178466796875
         ],
         "xaxis": "x",
         "y": [
          "boysenberries",
          "portabella",
          "fiddlehead",
          "tree",
          "sugranineteen",
          "angelys",
          "bunch",
          "atemoyas",
          "milwa",
          "long",
          "pink",
          "mache",
          "peanuts",
          "white",
          "malanga",
          "emmons",
          "forelle",
          "amaranth",
          "pioppino",
          "wood",
          "crab",
          "purple",
          "grisette",
          "pitted",
          "spring",
          "pasilla",
          "plantain",
          "chayote",
          "mung",
          "cocktail",
          "galangal",
          "plumcot",
          "romanesco"
         ],
         "yaxis": "y"
        },
        {
         "hovertext": [
          "Ttl Time: MedLo",
          "Ttl Time: Low",
          "Ttl Time: MedLo",
          "Ttl Time: Low",
          "Ttl Time: MedLo",
          "Ttl Time: MedLo",
          "Ttl Time: MedHi",
          "Ttl Time: MedHi",
          "Ttl Time: Low",
          "Ttl Time: Low",
          "Ttl Time: Low",
          "Ttl Time: High Usage",
          "Ttl Time: MedHi",
          "Ttl Time: MedLo",
          "Ttl Time: MedHi",
          "Ttl Time: High Usage",
          "Ttl Time: MedHi",
          "Ttl Time: MedHi",
          "Ttl Time: MedHi",
          "Ttl Time: High Usage",
          "Ttl Time: MedHi",
          "Ttl Time: Low",
          "Ttl Time: MedLo",
          "Ttl Time: MedLo",
          "Ttl Time: MedLo",
          "Ttl Time: MedLo",
          "Ttl Time: High Usage",
          "Ttl Time: High Usage",
          "Ttl Time: Low",
          "Ttl Time: MedHi",
          "Ttl Time: High Usage",
          "Ttl Time: MedHi",
          "Ttl Time: High Usage",
          "Ttl Time: Low",
          "Ttl Time: MedLo",
          "Ttl Time: MedHi",
          "Ttl Time: MedHi",
          "Ttl Time: High Usage",
          "Ttl Time: High Usage",
          "Ttl Time: Low",
          "Ttl Time: High Usage",
          "Ttl Time: MedHi",
          "Ttl Time: MedHi",
          "Ttl Time: High Usage",
          "Ttl Time: MedLo",
          "Ttl Time: MedLo",
          "Ttl Time: MedHi",
          "Ttl Time: Low",
          "Ttl Time: High Usage",
          "Ttl Time: MedHi",
          "Ttl Time: High Usage",
          "Ttl Time: High Usage",
          "Ttl Time: High Usage",
          "Ttl Time: MedHi",
          "Ttl Time: High Usage",
          "Ttl Time: MedLo",
          "Ttl Time: Low",
          "Ttl Time: Low",
          "Ttl Time: MedLo",
          "Ttl Time: MedLo",
          "Ttl Time: High Usage",
          "Ttl Time: High Usage",
          "Ttl Time: MedLo",
          "Ttl Time: MedHi",
          "Ttl Time: MedLo",
          "Ttl Time: MedLo",
          "Ttl Time: Low",
          "Ttl Time: High Usage",
          "Ttl Time: MedHi",
          "Ttl Time: MedHi",
          "Ttl Time: MedHi",
          "Ttl Time: MedLo",
          "Ttl Time: High Usage",
          "Ttl Time: High Usage",
          "Ttl Time: High Usage",
          "Ttl Time: High Usage",
          "Ttl Time: MedLo",
          "Ttl Time: High Usage",
          "Ttl Time: High Usage",
          "Ttl Time: MedHi",
          "Ttl Time: MedLo",
          "Ttl Time: Low",
          "Ttl Time: MedLo",
          "Ttl Time: MedHi",
          "Ttl Time: MedLo",
          "Ttl Time: High Usage",
          "Ttl Time: MedHi",
          "Ttl Time: MedLo",
          "Ttl Time: MedLo",
          "Ttl Time: MedLo",
          "Ttl Time: Low",
          "Ttl Time: Low",
          "Ttl Time: High Usage",
          "Ttl Time: Low",
          "Ttl Time: Low",
          "Ttl Time: MedHi",
          "Ttl Time: Low",
          "Ttl Time: High Usage",
          "Ttl Time: High Usage",
          "Ttl Time: High Usage",
          "Ttl Time: MedLo",
          "Ttl Time: Low",
          "Ttl Time: High Usage",
          "Ttl Time: Low",
          "Ttl Time: High Usage",
          "Ttl Time: MedHi",
          "Ttl Time: MedLo",
          "Ttl Time: MedLo",
          "Ttl Time: Low",
          "Ttl Time: Low",
          "Ttl Time: MedLo",
          "Ttl Time: MedHi",
          "Ttl Time: Low",
          "Ttl Time: MedLo",
          "Ttl Time: Low",
          "Ttl Time: MedHi",
          "Ttl Time: Low",
          "Ttl Time: High Usage",
          "Ttl Time: MedHi",
          "Ttl Time: Low",
          "Ttl Time: MedHi",
          "Ttl Time: MedLo",
          "Ttl Time: MedLo",
          "Ttl Time: MedHi",
          "Ttl Time: MedHi",
          "Ttl Time: Low",
          "Ttl Time: Low",
          "Ttl Time: Low",
          "Ttl Time: Low",
          "Ttl Time: Low",
          "Ttl Time: Low"
         ],
         "name": "MedLo",
         "orientation": "h",
         "type": "bar",
         "x": [
          19.242147511449353,
          19.1854248046875,
          18.831345158139694,
          18.790826824848846,
          18.762750773136137,
          18.717631386171092,
          18.372202114968932,
          17.921640286396094,
          17.224428432146095,
          16.48548843433285,
          16.33574580483923,
          16.33458029075392,
          15.596064933181792,
          15.591676125369174,
          15.473762697404448,
          15.298049555759805,
          13.827386153371709,
          13.454960593928378,
          13.228214570713112,
          12.888218930577919,
          12.516594510560545,
          12.221423678927954,
          11.92761941841218,
          11.908094618055557,
          11.139667298149142,
          10.704528808593746,
          10.17958984375,
          9.277763203857821,
          9.18206981697284,
          8.94427490234375,
          8.60359990888383,
          8.115652901785715,
          8.078879492379249
         ],
         "xaxis": "x2",
         "y": [
          "bell",
          "ingrid",
          "orange",
          "muscat",
          "harovin",
          "clara",
          "almonds",
          "casaba",
          "bulk",
          "round",
          "cantared",
          "carambola",
          "key",
          "sharlin",
          "st",
          "lollo",
          "hearts",
          "bay",
          "large",
          "horn",
          "conference",
          "leaves",
          "bon",
          "oroblanco",
          "huaguan",
          "pecans",
          "kabocha",
          "sunburst",
          "tips",
          "pickling",
          "baby",
          "polk",
          "regal"
         ],
         "yaxis": "y2"
        },
        {
         "hovertext": [
          "Ttl Time: MedLo",
          "Ttl Time: Low",
          "Ttl Time: MedLo",
          "Ttl Time: Low",
          "Ttl Time: MedLo",
          "Ttl Time: MedLo",
          "Ttl Time: MedHi",
          "Ttl Time: MedHi",
          "Ttl Time: Low",
          "Ttl Time: Low",
          "Ttl Time: Low",
          "Ttl Time: High Usage",
          "Ttl Time: MedHi",
          "Ttl Time: MedLo",
          "Ttl Time: MedHi",
          "Ttl Time: High Usage",
          "Ttl Time: MedHi",
          "Ttl Time: MedHi",
          "Ttl Time: MedHi",
          "Ttl Time: High Usage",
          "Ttl Time: MedHi",
          "Ttl Time: Low",
          "Ttl Time: MedLo",
          "Ttl Time: MedLo",
          "Ttl Time: MedLo",
          "Ttl Time: MedLo",
          "Ttl Time: High Usage",
          "Ttl Time: High Usage",
          "Ttl Time: Low",
          "Ttl Time: MedHi",
          "Ttl Time: High Usage",
          "Ttl Time: MedHi",
          "Ttl Time: High Usage",
          "Ttl Time: Low",
          "Ttl Time: MedLo",
          "Ttl Time: MedHi",
          "Ttl Time: MedHi",
          "Ttl Time: High Usage",
          "Ttl Time: High Usage",
          "Ttl Time: Low",
          "Ttl Time: High Usage",
          "Ttl Time: MedHi",
          "Ttl Time: MedHi",
          "Ttl Time: High Usage",
          "Ttl Time: MedLo",
          "Ttl Time: MedLo",
          "Ttl Time: MedHi",
          "Ttl Time: Low",
          "Ttl Time: High Usage",
          "Ttl Time: MedHi",
          "Ttl Time: High Usage",
          "Ttl Time: High Usage",
          "Ttl Time: High Usage",
          "Ttl Time: MedHi",
          "Ttl Time: High Usage",
          "Ttl Time: MedLo",
          "Ttl Time: Low",
          "Ttl Time: Low",
          "Ttl Time: MedLo",
          "Ttl Time: MedLo",
          "Ttl Time: High Usage",
          "Ttl Time: High Usage",
          "Ttl Time: MedLo",
          "Ttl Time: MedHi",
          "Ttl Time: MedLo",
          "Ttl Time: MedLo",
          "Ttl Time: Low",
          "Ttl Time: High Usage",
          "Ttl Time: MedHi",
          "Ttl Time: MedHi",
          "Ttl Time: MedHi",
          "Ttl Time: MedLo",
          "Ttl Time: High Usage",
          "Ttl Time: High Usage",
          "Ttl Time: High Usage",
          "Ttl Time: High Usage",
          "Ttl Time: MedLo",
          "Ttl Time: High Usage",
          "Ttl Time: High Usage",
          "Ttl Time: MedHi",
          "Ttl Time: MedLo",
          "Ttl Time: Low",
          "Ttl Time: MedLo",
          "Ttl Time: MedHi",
          "Ttl Time: MedLo",
          "Ttl Time: High Usage",
          "Ttl Time: MedHi",
          "Ttl Time: MedLo",
          "Ttl Time: MedLo",
          "Ttl Time: MedLo",
          "Ttl Time: Low",
          "Ttl Time: Low",
          "Ttl Time: High Usage",
          "Ttl Time: Low",
          "Ttl Time: Low",
          "Ttl Time: MedHi",
          "Ttl Time: Low",
          "Ttl Time: High Usage",
          "Ttl Time: High Usage",
          "Ttl Time: High Usage",
          "Ttl Time: MedLo",
          "Ttl Time: Low",
          "Ttl Time: High Usage",
          "Ttl Time: Low",
          "Ttl Time: High Usage",
          "Ttl Time: MedHi",
          "Ttl Time: MedLo",
          "Ttl Time: MedLo",
          "Ttl Time: Low",
          "Ttl Time: Low",
          "Ttl Time: MedLo",
          "Ttl Time: MedHi",
          "Ttl Time: Low",
          "Ttl Time: MedLo",
          "Ttl Time: Low",
          "Ttl Time: MedHi",
          "Ttl Time: Low",
          "Ttl Time: High Usage",
          "Ttl Time: MedHi",
          "Ttl Time: Low",
          "Ttl Time: MedHi",
          "Ttl Time: MedLo",
          "Ttl Time: MedLo",
          "Ttl Time: MedHi",
          "Ttl Time: MedHi",
          "Ttl Time: Low",
          "Ttl Time: Low",
          "Ttl Time: Low",
          "Ttl Time: Low",
          "Ttl Time: Low",
          "Ttl Time: Low"
         ],
         "name": "MedHi",
         "orientation": "h",
         "type": "bar",
         "x": [
          34.07633928571429,
          34.04440058479532,
          33.94084991368625,
          33.73297533798723,
          33.067375932983,
          32.199326869857245,
          31.93016774016145,
          31.41445658679769,
          31.165341163749144,
          30.88002677008931,
          30.552786528903216,
          29.96610013242999,
          29.874295347674767,
          29.096139185271664,
          28.40411452930498,
          28.027794410529633,
          27.632473182225166,
          26.954194922819546,
          25.763699367930283,
          25.542289751192413,
          25.537871304946986,
          24.90250602849389,
          24.52575680015025,
          24.066994006817158,
          23.32330238655821,
          23.129582093253852,
          22.279738193354266,
          21.941592627620782,
          21.155649212240764,
          21.09096517814597,
          20.986434717668864,
          20.08544847328245
         ],
         "xaxis": "x3",
         "y": [
          "nino",
          "dill",
          "treviso",
          "alkmene",
          "mixed",
          "minnewashta",
          "yu",
          "cep",
          "thomcord",
          "belle",
          "bertanne",
          "cactus",
          "lemon",
          "baking",
          "cinnabar",
          "winged",
          "kinnow",
          "garlic",
          "cms_lowprio",
          "galia",
          "brazilnuts",
          "lychees",
          "bibb",
          "water",
          "lochbuie",
          "concord",
          "fairchild",
          "chickpeas",
          "cms",
          "celery",
          "blackberries",
          "serrano"
         ],
         "yaxis": "y3"
        },
        {
         "hovertext": [
          "Ttl Time: MedLo",
          "Ttl Time: Low",
          "Ttl Time: MedLo",
          "Ttl Time: Low",
          "Ttl Time: MedLo",
          "Ttl Time: MedLo",
          "Ttl Time: MedHi",
          "Ttl Time: MedHi",
          "Ttl Time: Low",
          "Ttl Time: Low",
          "Ttl Time: Low",
          "Ttl Time: High Usage",
          "Ttl Time: MedHi",
          "Ttl Time: MedLo",
          "Ttl Time: MedHi",
          "Ttl Time: High Usage",
          "Ttl Time: MedHi",
          "Ttl Time: MedHi",
          "Ttl Time: MedHi",
          "Ttl Time: High Usage",
          "Ttl Time: MedHi",
          "Ttl Time: Low",
          "Ttl Time: MedLo",
          "Ttl Time: MedLo",
          "Ttl Time: MedLo",
          "Ttl Time: MedLo",
          "Ttl Time: High Usage",
          "Ttl Time: High Usage",
          "Ttl Time: Low",
          "Ttl Time: MedHi",
          "Ttl Time: High Usage",
          "Ttl Time: MedHi",
          "Ttl Time: High Usage",
          "Ttl Time: Low",
          "Ttl Time: MedLo",
          "Ttl Time: MedHi",
          "Ttl Time: MedHi",
          "Ttl Time: High Usage",
          "Ttl Time: High Usage",
          "Ttl Time: Low",
          "Ttl Time: High Usage",
          "Ttl Time: MedHi",
          "Ttl Time: MedHi",
          "Ttl Time: High Usage",
          "Ttl Time: MedLo",
          "Ttl Time: MedLo",
          "Ttl Time: MedHi",
          "Ttl Time: Low",
          "Ttl Time: High Usage",
          "Ttl Time: MedHi",
          "Ttl Time: High Usage",
          "Ttl Time: High Usage",
          "Ttl Time: High Usage",
          "Ttl Time: MedHi",
          "Ttl Time: High Usage",
          "Ttl Time: MedLo",
          "Ttl Time: Low",
          "Ttl Time: Low",
          "Ttl Time: MedLo",
          "Ttl Time: MedLo",
          "Ttl Time: High Usage",
          "Ttl Time: High Usage",
          "Ttl Time: MedLo",
          "Ttl Time: MedHi",
          "Ttl Time: MedLo",
          "Ttl Time: MedLo",
          "Ttl Time: Low",
          "Ttl Time: High Usage",
          "Ttl Time: MedHi",
          "Ttl Time: MedHi",
          "Ttl Time: MedHi",
          "Ttl Time: MedLo",
          "Ttl Time: High Usage",
          "Ttl Time: High Usage",
          "Ttl Time: High Usage",
          "Ttl Time: High Usage",
          "Ttl Time: MedLo",
          "Ttl Time: High Usage",
          "Ttl Time: High Usage",
          "Ttl Time: MedHi",
          "Ttl Time: MedLo",
          "Ttl Time: Low",
          "Ttl Time: MedLo",
          "Ttl Time: MedHi",
          "Ttl Time: MedLo",
          "Ttl Time: High Usage",
          "Ttl Time: MedHi",
          "Ttl Time: MedLo",
          "Ttl Time: MedLo",
          "Ttl Time: MedLo",
          "Ttl Time: Low",
          "Ttl Time: Low",
          "Ttl Time: High Usage",
          "Ttl Time: Low",
          "Ttl Time: Low",
          "Ttl Time: MedHi",
          "Ttl Time: Low",
          "Ttl Time: High Usage",
          "Ttl Time: High Usage",
          "Ttl Time: High Usage",
          "Ttl Time: MedLo",
          "Ttl Time: Low",
          "Ttl Time: High Usage",
          "Ttl Time: Low",
          "Ttl Time: High Usage",
          "Ttl Time: MedHi",
          "Ttl Time: MedLo",
          "Ttl Time: MedLo",
          "Ttl Time: Low",
          "Ttl Time: Low",
          "Ttl Time: MedLo",
          "Ttl Time: MedHi",
          "Ttl Time: Low",
          "Ttl Time: MedLo",
          "Ttl Time: Low",
          "Ttl Time: MedHi",
          "Ttl Time: Low",
          "Ttl Time: High Usage",
          "Ttl Time: MedHi",
          "Ttl Time: Low",
          "Ttl Time: MedHi",
          "Ttl Time: MedLo",
          "Ttl Time: MedLo",
          "Ttl Time: MedHi",
          "Ttl Time: MedHi",
          "Ttl Time: Low",
          "Ttl Time: Low",
          "Ttl Time: Low",
          "Ttl Time: Low",
          "Ttl Time: Low",
          "Ttl Time: Low"
         ],
         "name": "High",
         "orientation": "h",
         "type": "bar",
         "x": [
          68.92778486027015,
          68.4744140625,
          67.29043056178632,
          66.36469275210082,
          61.747769442471586,
          59.632035784884785,
          58.403407466539434,
          57.58980617143566,
          54.54339409202471,
          53.85030837194389,
          53.60834627096316,
          52.624250919785595,
          52.026673614706795,
          51.78338304020298,
          51.76838912424634,
          50.5396738613419,
          49.8065952377382,
          48.016498412978294,
          45.99732030119525,
          44.21033036046793,
          44.04864043912982,
          43.91925388313609,
          43.82939265914716,
          40.09142373167785,
          39.503507018049596,
          38.450085717833055,
          38.0166603736795,
          37.34537868992398,
          37.11833973041587,
          36.840468756114966,
          35.39413522798566,
          34.937457372005355,
          34.58717176306902
         ],
         "xaxis": "x4",
         "y": [
          "medium",
          "mignonette",
          "strawberries",
          "antares",
          "shell",
          "shiny",
          "jicama",
          "texas",
          "arra",
          "shallots",
          "roasted",
          "summer",
          "chasselas",
          "pinova",
          "delblush",
          "wax",
          "sturmer",
          "chipilin",
          "seeded",
          "retailer",
          "burro",
          "kumquat",
          "broccoli",
          "pepino",
          "cmsadmin",
          "josephine",
          "horseradish",
          "sweet",
          "rocha",
          "sunflower",
          "carrot",
          "anise",
          "fresh"
         ],
         "yaxis": "y4"
        }
       ],
       "layout": {
        "annotations": [
         {
          "font": {
           "size": 16
          },
          "showarrow": false,
          "text": "Low Efficiency",
          "x": 0.2,
          "xanchor": "center",
          "xref": "paper",
          "y": 1,
          "yanchor": "bottom",
          "yref": "paper"
         },
         {
          "font": {
           "size": 16
          },
          "showarrow": false,
          "text": "MedLo Efficiency",
          "x": 0.8,
          "xanchor": "center",
          "xref": "paper",
          "y": 1,
          "yanchor": "bottom",
          "yref": "paper"
         },
         {
          "font": {
           "size": 16
          },
          "showarrow": false,
          "text": "MedHi Efficiency",
          "x": 0.2,
          "xanchor": "center",
          "xref": "paper",
          "y": 0.45,
          "yanchor": "bottom",
          "yref": "paper"
         },
         {
          "font": {
           "size": 16
          },
          "showarrow": false,
          "text": "High Efficiency",
          "x": 0.8,
          "xanchor": "center",
          "xref": "paper",
          "y": 0.45,
          "yanchor": "bottom",
          "yref": "paper"
         }
        ],
        "height": 1000,
        "showlegend": false,
        "template": {
         "data": {
          "bar": [
           {
            "error_x": {
             "color": "#2a3f5f"
            },
            "error_y": {
             "color": "#2a3f5f"
            },
            "marker": {
             "line": {
              "color": "#E5ECF6",
              "width": 0.5
             }
            },
            "type": "bar"
           }
          ],
          "barpolar": [
           {
            "marker": {
             "line": {
              "color": "#E5ECF6",
              "width": 0.5
             }
            },
            "type": "barpolar"
           }
          ],
          "carpet": [
           {
            "aaxis": {
             "endlinecolor": "#2a3f5f",
             "gridcolor": "white",
             "linecolor": "white",
             "minorgridcolor": "white",
             "startlinecolor": "#2a3f5f"
            },
            "baxis": {
             "endlinecolor": "#2a3f5f",
             "gridcolor": "white",
             "linecolor": "white",
             "minorgridcolor": "white",
             "startlinecolor": "#2a3f5f"
            },
            "type": "carpet"
           }
          ],
          "choropleth": [
           {
            "colorbar": {
             "outlinewidth": 0,
             "ticks": ""
            },
            "type": "choropleth"
           }
          ],
          "contour": [
           {
            "colorbar": {
             "outlinewidth": 0,
             "ticks": ""
            },
            "colorscale": [
             [
              0,
              "#0d0887"
             ],
             [
              0.1111111111111111,
              "#46039f"
             ],
             [
              0.2222222222222222,
              "#7201a8"
             ],
             [
              0.3333333333333333,
              "#9c179e"
             ],
             [
              0.4444444444444444,
              "#bd3786"
             ],
             [
              0.5555555555555556,
              "#d8576b"
             ],
             [
              0.6666666666666666,
              "#ed7953"
             ],
             [
              0.7777777777777778,
              "#fb9f3a"
             ],
             [
              0.8888888888888888,
              "#fdca26"
             ],
             [
              1,
              "#f0f921"
             ]
            ],
            "type": "contour"
           }
          ],
          "contourcarpet": [
           {
            "colorbar": {
             "outlinewidth": 0,
             "ticks": ""
            },
            "type": "contourcarpet"
           }
          ],
          "heatmap": [
           {
            "colorbar": {
             "outlinewidth": 0,
             "ticks": ""
            },
            "colorscale": [
             [
              0,
              "#0d0887"
             ],
             [
              0.1111111111111111,
              "#46039f"
             ],
             [
              0.2222222222222222,
              "#7201a8"
             ],
             [
              0.3333333333333333,
              "#9c179e"
             ],
             [
              0.4444444444444444,
              "#bd3786"
             ],
             [
              0.5555555555555556,
              "#d8576b"
             ],
             [
              0.6666666666666666,
              "#ed7953"
             ],
             [
              0.7777777777777778,
              "#fb9f3a"
             ],
             [
              0.8888888888888888,
              "#fdca26"
             ],
             [
              1,
              "#f0f921"
             ]
            ],
            "type": "heatmap"
           }
          ],
          "heatmapgl": [
           {
            "colorbar": {
             "outlinewidth": 0,
             "ticks": ""
            },
            "colorscale": [
             [
              0,
              "#0d0887"
             ],
             [
              0.1111111111111111,
              "#46039f"
             ],
             [
              0.2222222222222222,
              "#7201a8"
             ],
             [
              0.3333333333333333,
              "#9c179e"
             ],
             [
              0.4444444444444444,
              "#bd3786"
             ],
             [
              0.5555555555555556,
              "#d8576b"
             ],
             [
              0.6666666666666666,
              "#ed7953"
             ],
             [
              0.7777777777777778,
              "#fb9f3a"
             ],
             [
              0.8888888888888888,
              "#fdca26"
             ],
             [
              1,
              "#f0f921"
             ]
            ],
            "type": "heatmapgl"
           }
          ],
          "histogram": [
           {
            "marker": {
             "colorbar": {
              "outlinewidth": 0,
              "ticks": ""
             }
            },
            "type": "histogram"
           }
          ],
          "histogram2d": [
           {
            "colorbar": {
             "outlinewidth": 0,
             "ticks": ""
            },
            "colorscale": [
             [
              0,
              "#0d0887"
             ],
             [
              0.1111111111111111,
              "#46039f"
             ],
             [
              0.2222222222222222,
              "#7201a8"
             ],
             [
              0.3333333333333333,
              "#9c179e"
             ],
             [
              0.4444444444444444,
              "#bd3786"
             ],
             [
              0.5555555555555556,
              "#d8576b"
             ],
             [
              0.6666666666666666,
              "#ed7953"
             ],
             [
              0.7777777777777778,
              "#fb9f3a"
             ],
             [
              0.8888888888888888,
              "#fdca26"
             ],
             [
              1,
              "#f0f921"
             ]
            ],
            "type": "histogram2d"
           }
          ],
          "histogram2dcontour": [
           {
            "colorbar": {
             "outlinewidth": 0,
             "ticks": ""
            },
            "colorscale": [
             [
              0,
              "#0d0887"
             ],
             [
              0.1111111111111111,
              "#46039f"
             ],
             [
              0.2222222222222222,
              "#7201a8"
             ],
             [
              0.3333333333333333,
              "#9c179e"
             ],
             [
              0.4444444444444444,
              "#bd3786"
             ],
             [
              0.5555555555555556,
              "#d8576b"
             ],
             [
              0.6666666666666666,
              "#ed7953"
             ],
             [
              0.7777777777777778,
              "#fb9f3a"
             ],
             [
              0.8888888888888888,
              "#fdca26"
             ],
             [
              1,
              "#f0f921"
             ]
            ],
            "type": "histogram2dcontour"
           }
          ],
          "mesh3d": [
           {
            "colorbar": {
             "outlinewidth": 0,
             "ticks": ""
            },
            "type": "mesh3d"
           }
          ],
          "parcoords": [
           {
            "line": {
             "colorbar": {
              "outlinewidth": 0,
              "ticks": ""
             }
            },
            "type": "parcoords"
           }
          ],
          "pie": [
           {
            "automargin": true,
            "type": "pie"
           }
          ],
          "scatter": [
           {
            "marker": {
             "colorbar": {
              "outlinewidth": 0,
              "ticks": ""
             }
            },
            "type": "scatter"
           }
          ],
          "scatter3d": [
           {
            "line": {
             "colorbar": {
              "outlinewidth": 0,
              "ticks": ""
             }
            },
            "marker": {
             "colorbar": {
              "outlinewidth": 0,
              "ticks": ""
             }
            },
            "type": "scatter3d"
           }
          ],
          "scattercarpet": [
           {
            "marker": {
             "colorbar": {
              "outlinewidth": 0,
              "ticks": ""
             }
            },
            "type": "scattercarpet"
           }
          ],
          "scattergeo": [
           {
            "marker": {
             "colorbar": {
              "outlinewidth": 0,
              "ticks": ""
             }
            },
            "type": "scattergeo"
           }
          ],
          "scattergl": [
           {
            "marker": {
             "colorbar": {
              "outlinewidth": 0,
              "ticks": ""
             }
            },
            "type": "scattergl"
           }
          ],
          "scattermapbox": [
           {
            "marker": {
             "colorbar": {
              "outlinewidth": 0,
              "ticks": ""
             }
            },
            "type": "scattermapbox"
           }
          ],
          "scatterpolar": [
           {
            "marker": {
             "colorbar": {
              "outlinewidth": 0,
              "ticks": ""
             }
            },
            "type": "scatterpolar"
           }
          ],
          "scatterpolargl": [
           {
            "marker": {
             "colorbar": {
              "outlinewidth": 0,
              "ticks": ""
             }
            },
            "type": "scatterpolargl"
           }
          ],
          "scatterternary": [
           {
            "marker": {
             "colorbar": {
              "outlinewidth": 0,
              "ticks": ""
             }
            },
            "type": "scatterternary"
           }
          ],
          "surface": [
           {
            "colorbar": {
             "outlinewidth": 0,
             "ticks": ""
            },
            "colorscale": [
             [
              0,
              "#0d0887"
             ],
             [
              0.1111111111111111,
              "#46039f"
             ],
             [
              0.2222222222222222,
              "#7201a8"
             ],
             [
              0.3333333333333333,
              "#9c179e"
             ],
             [
              0.4444444444444444,
              "#bd3786"
             ],
             [
              0.5555555555555556,
              "#d8576b"
             ],
             [
              0.6666666666666666,
              "#ed7953"
             ],
             [
              0.7777777777777778,
              "#fb9f3a"
             ],
             [
              0.8888888888888888,
              "#fdca26"
             ],
             [
              1,
              "#f0f921"
             ]
            ],
            "type": "surface"
           }
          ],
          "table": [
           {
            "cells": {
             "fill": {
              "color": "#EBF0F8"
             },
             "line": {
              "color": "white"
             }
            },
            "header": {
             "fill": {
              "color": "#C8D4E3"
             },
             "line": {
              "color": "white"
             }
            },
            "type": "table"
           }
          ]
         },
         "layout": {
          "annotationdefaults": {
           "arrowcolor": "#2a3f5f",
           "arrowhead": 0,
           "arrowwidth": 1
          },
          "coloraxis": {
           "colorbar": {
            "outlinewidth": 0,
            "ticks": ""
           }
          },
          "colorscale": {
           "diverging": [
            [
             0,
             "#8e0152"
            ],
            [
             0.1,
             "#c51b7d"
            ],
            [
             0.2,
             "#de77ae"
            ],
            [
             0.3,
             "#f1b6da"
            ],
            [
             0.4,
             "#fde0ef"
            ],
            [
             0.5,
             "#f7f7f7"
            ],
            [
             0.6,
             "#e6f5d0"
            ],
            [
             0.7,
             "#b8e186"
            ],
            [
             0.8,
             "#7fbc41"
            ],
            [
             0.9,
             "#4d9221"
            ],
            [
             1,
             "#276419"
            ]
           ],
           "sequential": [
            [
             0,
             "#0d0887"
            ],
            [
             0.1111111111111111,
             "#46039f"
            ],
            [
             0.2222222222222222,
             "#7201a8"
            ],
            [
             0.3333333333333333,
             "#9c179e"
            ],
            [
             0.4444444444444444,
             "#bd3786"
            ],
            [
             0.5555555555555556,
             "#d8576b"
            ],
            [
             0.6666666666666666,
             "#ed7953"
            ],
            [
             0.7777777777777778,
             "#fb9f3a"
            ],
            [
             0.8888888888888888,
             "#fdca26"
            ],
            [
             1,
             "#f0f921"
            ]
           ],
           "sequentialminus": [
            [
             0,
             "#0d0887"
            ],
            [
             0.1111111111111111,
             "#46039f"
            ],
            [
             0.2222222222222222,
             "#7201a8"
            ],
            [
             0.3333333333333333,
             "#9c179e"
            ],
            [
             0.4444444444444444,
             "#bd3786"
            ],
            [
             0.5555555555555556,
             "#d8576b"
            ],
            [
             0.6666666666666666,
             "#ed7953"
            ],
            [
             0.7777777777777778,
             "#fb9f3a"
            ],
            [
             0.8888888888888888,
             "#fdca26"
            ],
            [
             1,
             "#f0f921"
            ]
           ]
          },
          "colorway": [
           "#636efa",
           "#EF553B",
           "#00cc96",
           "#ab63fa",
           "#FFA15A",
           "#19d3f3",
           "#FF6692",
           "#B6E880",
           "#FF97FF",
           "#FECB52"
          ],
          "font": {
           "color": "#2a3f5f"
          },
          "geo": {
           "bgcolor": "white",
           "lakecolor": "white",
           "landcolor": "#E5ECF6",
           "showlakes": true,
           "showland": true,
           "subunitcolor": "white"
          },
          "hoverlabel": {
           "align": "left"
          },
          "hovermode": "closest",
          "mapbox": {
           "style": "light"
          },
          "paper_bgcolor": "white",
          "plot_bgcolor": "#E5ECF6",
          "polar": {
           "angularaxis": {
            "gridcolor": "white",
            "linecolor": "white",
            "ticks": ""
           },
           "bgcolor": "#E5ECF6",
           "radialaxis": {
            "gridcolor": "white",
            "linecolor": "white",
            "ticks": ""
           }
          },
          "scene": {
           "xaxis": {
            "backgroundcolor": "#E5ECF6",
            "gridcolor": "white",
            "gridwidth": 2,
            "linecolor": "white",
            "showbackground": true,
            "ticks": "",
            "zerolinecolor": "white"
           },
           "yaxis": {
            "backgroundcolor": "#E5ECF6",
            "gridcolor": "white",
            "gridwidth": 2,
            "linecolor": "white",
            "showbackground": true,
            "ticks": "",
            "zerolinecolor": "white"
           },
           "zaxis": {
            "backgroundcolor": "#E5ECF6",
            "gridcolor": "white",
            "gridwidth": 2,
            "linecolor": "white",
            "showbackground": true,
            "ticks": "",
            "zerolinecolor": "white"
           }
          },
          "shapedefaults": {
           "line": {
            "color": "#2a3f5f"
           }
          },
          "ternary": {
           "aaxis": {
            "gridcolor": "white",
            "linecolor": "white",
            "ticks": ""
           },
           "baxis": {
            "gridcolor": "white",
            "linecolor": "white",
            "ticks": ""
           },
           "bgcolor": "#E5ECF6",
           "caxis": {
            "gridcolor": "white",
            "linecolor": "white",
            "ticks": ""
           }
          },
          "title": {
           "x": 0.05
          },
          "xaxis": {
           "automargin": true,
           "gridcolor": "white",
           "linecolor": "white",
           "ticks": "",
           "title": {
            "standoff": 15
           },
           "zerolinecolor": "white",
           "zerolinewidth": 2
          },
          "yaxis": {
           "automargin": true,
           "gridcolor": "white",
           "linecolor": "white",
           "ticks": "",
           "title": {
            "standoff": 15
           },
           "zerolinecolor": "white",
           "zerolinewidth": 2
          }
         }
        },
        "title": {
         "text": "ACCRE Accounts: Memory Usage as Percent of Memory Requested"
        },
        "xaxis": {
         "anchor": "y",
         "domain": [
          0,
          0.4
         ]
        },
        "xaxis2": {
         "anchor": "y2",
         "domain": [
          0.6000000000000001,
          1
         ],
         "range": [
          7.51639956298121,
          21.242147511449353
         ]
        },
        "xaxis3": {
         "anchor": "y3",
         "domain": [
          0,
          0.4
         ],
         "range": [
          18.742147511449353,
          36.33175552439165
         ]
        },
        "xaxis4": {
         "anchor": "y4",
         "domain": [
          0.6000000000000001,
          1
         ],
         "range": [
          33.83175552439165,
          70.92778486027015
         ]
        },
        "yaxis": {
         "anchor": "x",
         "domain": [
          0.55,
          1
         ],
         "type": "category"
        },
        "yaxis2": {
         "anchor": "x2",
         "domain": [
          0.55,
          1
         ],
         "type": "category"
        },
        "yaxis3": {
         "anchor": "x3",
         "domain": [
          0,
          0.45
         ],
         "type": "category"
        },
        "yaxis4": {
         "anchor": "x4",
         "domain": [
          0,
          0.45
         ],
         "type": "category"
        }
       }
      },
      "text/html": [
       "<div>                            <div id=\"fa552d76-62ac-4580-a166-4ee7471b3332\" class=\"plotly-graph-div\" style=\"height:1000px; width:100%;\"></div>            <script type=\"text/javascript\">                require([\"plotly\"], function(Plotly) {                    window.PLOTLYENV=window.PLOTLYENV || {};                                    if (document.getElementById(\"fa552d76-62ac-4580-a166-4ee7471b3332\")) {                    Plotly.newPlot(                        \"fa552d76-62ac-4580-a166-4ee7471b3332\",                        [{\"hovertext\": [\"Ttl Time: MedLo\", \"Ttl Time: Low\", \"Ttl Time: MedLo\", \"Ttl Time: Low\", \"Ttl Time: MedLo\", \"Ttl Time: MedLo\", \"Ttl Time: MedHi\", \"Ttl Time: MedHi\", \"Ttl Time: Low\", \"Ttl Time: Low\", \"Ttl Time: Low\", \"Ttl Time: High Usage\", \"Ttl Time: MedHi\", \"Ttl Time: MedLo\", \"Ttl Time: MedHi\", \"Ttl Time: High Usage\", \"Ttl Time: MedHi\", \"Ttl Time: MedHi\", \"Ttl Time: MedHi\", \"Ttl Time: High Usage\", \"Ttl Time: MedHi\", \"Ttl Time: Low\", \"Ttl Time: MedLo\", \"Ttl Time: MedLo\", \"Ttl Time: MedLo\", \"Ttl Time: MedLo\", \"Ttl Time: High Usage\", \"Ttl Time: High Usage\", \"Ttl Time: Low\", \"Ttl Time: MedHi\", \"Ttl Time: High Usage\", \"Ttl Time: MedHi\", \"Ttl Time: High Usage\", \"Ttl Time: Low\", \"Ttl Time: MedLo\", \"Ttl Time: MedHi\", \"Ttl Time: MedHi\", \"Ttl Time: High Usage\", \"Ttl Time: High Usage\", \"Ttl Time: Low\", \"Ttl Time: High Usage\", \"Ttl Time: MedHi\", \"Ttl Time: MedHi\", \"Ttl Time: High Usage\", \"Ttl Time: MedLo\", \"Ttl Time: MedLo\", \"Ttl Time: MedHi\", \"Ttl Time: Low\", \"Ttl Time: High Usage\", \"Ttl Time: MedHi\", \"Ttl Time: High Usage\", \"Ttl Time: High Usage\", \"Ttl Time: High Usage\", \"Ttl Time: MedHi\", \"Ttl Time: High Usage\", \"Ttl Time: MedLo\", \"Ttl Time: Low\", \"Ttl Time: Low\", \"Ttl Time: MedLo\", \"Ttl Time: MedLo\", \"Ttl Time: High Usage\", \"Ttl Time: High Usage\", \"Ttl Time: MedLo\", \"Ttl Time: MedHi\", \"Ttl Time: MedLo\", \"Ttl Time: MedLo\", \"Ttl Time: Low\", \"Ttl Time: High Usage\", \"Ttl Time: MedHi\", \"Ttl Time: MedHi\", \"Ttl Time: MedHi\", \"Ttl Time: MedLo\", \"Ttl Time: High Usage\", \"Ttl Time: High Usage\", \"Ttl Time: High Usage\", \"Ttl Time: High Usage\", \"Ttl Time: MedLo\", \"Ttl Time: High Usage\", \"Ttl Time: High Usage\", \"Ttl Time: MedHi\", \"Ttl Time: MedLo\", \"Ttl Time: Low\", \"Ttl Time: MedLo\", \"Ttl Time: MedHi\", \"Ttl Time: MedLo\", \"Ttl Time: High Usage\", \"Ttl Time: MedHi\", \"Ttl Time: MedLo\", \"Ttl Time: MedLo\", \"Ttl Time: MedLo\", \"Ttl Time: Low\", \"Ttl Time: Low\", \"Ttl Time: High Usage\", \"Ttl Time: Low\", \"Ttl Time: Low\", \"Ttl Time: MedHi\", \"Ttl Time: Low\", \"Ttl Time: High Usage\", \"Ttl Time: High Usage\", \"Ttl Time: High Usage\", \"Ttl Time: MedLo\", \"Ttl Time: Low\", \"Ttl Time: High Usage\", \"Ttl Time: Low\", \"Ttl Time: High Usage\", \"Ttl Time: MedHi\", \"Ttl Time: MedLo\", \"Ttl Time: MedLo\", \"Ttl Time: Low\", \"Ttl Time: Low\", \"Ttl Time: MedLo\", \"Ttl Time: MedHi\", \"Ttl Time: Low\", \"Ttl Time: MedLo\", \"Ttl Time: Low\", \"Ttl Time: MedHi\", \"Ttl Time: Low\", \"Ttl Time: High Usage\", \"Ttl Time: MedHi\", \"Ttl Time: Low\", \"Ttl Time: MedHi\", \"Ttl Time: MedLo\", \"Ttl Time: MedLo\", \"Ttl Time: MedHi\", \"Ttl Time: MedHi\", \"Ttl Time: Low\", \"Ttl Time: Low\", \"Ttl Time: Low\", \"Ttl Time: Low\", \"Ttl Time: Low\", \"Ttl Time: Low\"], \"name\": \"Low\", \"orientation\": \"h\", \"type\": \"bar\", \"x\": [7.9539196335831726, 7.1238021815338755, 6.4189015981313355, 6.17041015625, 6.009620840188816, 5.991536458333333, 5.8198443859677855, 5.783135959846256, 5.77048957881025, 4.796573511651941, 4.61834716796875, 4.393521012931035, 4.352862540849664, 4.203267774817801, 4.10491943359375, 3.6732605397259483, 3.6688354492187507, 3.322450073242183, 2.9652709960937504, 2.5426949713246727, 2.4634072204843034, 2.26708984375, 1.9226966784166428, 1.894597716478524, 1.7550307135517405, 1.5564650052216153, 1.551092773577255, 1.4992937173782124, 1.111083984375, 0.547119140625, 0.47476246136095535, 0.22151692708333331, 0.178466796875], \"xaxis\": \"x\", \"y\": [\"boysenberries\", \"portabella\", \"fiddlehead\", \"tree\", \"sugranineteen\", \"angelys\", \"bunch\", \"atemoyas\", \"milwa\", \"long\", \"pink\", \"mache\", \"peanuts\", \"white\", \"malanga\", \"emmons\", \"forelle\", \"amaranth\", \"pioppino\", \"wood\", \"crab\", \"purple\", \"grisette\", \"pitted\", \"spring\", \"pasilla\", \"plantain\", \"chayote\", \"mung\", \"cocktail\", \"galangal\", \"plumcot\", \"romanesco\"], \"yaxis\": \"y\"}, {\"hovertext\": [\"Ttl Time: MedLo\", \"Ttl Time: Low\", \"Ttl Time: MedLo\", \"Ttl Time: Low\", \"Ttl Time: MedLo\", \"Ttl Time: MedLo\", \"Ttl Time: MedHi\", \"Ttl Time: MedHi\", \"Ttl Time: Low\", \"Ttl Time: Low\", \"Ttl Time: Low\", \"Ttl Time: High Usage\", \"Ttl Time: MedHi\", \"Ttl Time: MedLo\", \"Ttl Time: MedHi\", \"Ttl Time: High Usage\", \"Ttl Time: MedHi\", \"Ttl Time: MedHi\", \"Ttl Time: MedHi\", \"Ttl Time: High Usage\", \"Ttl Time: MedHi\", \"Ttl Time: Low\", \"Ttl Time: MedLo\", \"Ttl Time: MedLo\", \"Ttl Time: MedLo\", \"Ttl Time: MedLo\", \"Ttl Time: High Usage\", \"Ttl Time: High Usage\", \"Ttl Time: Low\", \"Ttl Time: MedHi\", \"Ttl Time: High Usage\", \"Ttl Time: MedHi\", \"Ttl Time: High Usage\", \"Ttl Time: Low\", \"Ttl Time: MedLo\", \"Ttl Time: MedHi\", \"Ttl Time: MedHi\", \"Ttl Time: High Usage\", \"Ttl Time: High Usage\", \"Ttl Time: Low\", \"Ttl Time: High Usage\", \"Ttl Time: MedHi\", \"Ttl Time: MedHi\", \"Ttl Time: High Usage\", \"Ttl Time: MedLo\", \"Ttl Time: MedLo\", \"Ttl Time: MedHi\", \"Ttl Time: Low\", \"Ttl Time: High Usage\", \"Ttl Time: MedHi\", \"Ttl Time: High Usage\", \"Ttl Time: High Usage\", \"Ttl Time: High Usage\", \"Ttl Time: MedHi\", \"Ttl Time: High Usage\", \"Ttl Time: MedLo\", \"Ttl Time: Low\", \"Ttl Time: Low\", \"Ttl Time: MedLo\", \"Ttl Time: MedLo\", \"Ttl Time: High Usage\", \"Ttl Time: High Usage\", \"Ttl Time: MedLo\", \"Ttl Time: MedHi\", \"Ttl Time: MedLo\", \"Ttl Time: MedLo\", \"Ttl Time: Low\", \"Ttl Time: High Usage\", \"Ttl Time: MedHi\", \"Ttl Time: MedHi\", \"Ttl Time: MedHi\", \"Ttl Time: MedLo\", \"Ttl Time: High Usage\", \"Ttl Time: High Usage\", \"Ttl Time: High Usage\", \"Ttl Time: High Usage\", \"Ttl Time: MedLo\", \"Ttl Time: High Usage\", \"Ttl Time: High Usage\", \"Ttl Time: MedHi\", \"Ttl Time: MedLo\", \"Ttl Time: Low\", \"Ttl Time: MedLo\", \"Ttl Time: MedHi\", \"Ttl Time: MedLo\", \"Ttl Time: High Usage\", \"Ttl Time: MedHi\", \"Ttl Time: MedLo\", \"Ttl Time: MedLo\", \"Ttl Time: MedLo\", \"Ttl Time: Low\", \"Ttl Time: Low\", \"Ttl Time: High Usage\", \"Ttl Time: Low\", \"Ttl Time: Low\", \"Ttl Time: MedHi\", \"Ttl Time: Low\", \"Ttl Time: High Usage\", \"Ttl Time: High Usage\", \"Ttl Time: High Usage\", \"Ttl Time: MedLo\", \"Ttl Time: Low\", \"Ttl Time: High Usage\", \"Ttl Time: Low\", \"Ttl Time: High Usage\", \"Ttl Time: MedHi\", \"Ttl Time: MedLo\", \"Ttl Time: MedLo\", \"Ttl Time: Low\", \"Ttl Time: Low\", \"Ttl Time: MedLo\", \"Ttl Time: MedHi\", \"Ttl Time: Low\", \"Ttl Time: MedLo\", \"Ttl Time: Low\", \"Ttl Time: MedHi\", \"Ttl Time: Low\", \"Ttl Time: High Usage\", \"Ttl Time: MedHi\", \"Ttl Time: Low\", \"Ttl Time: MedHi\", \"Ttl Time: MedLo\", \"Ttl Time: MedLo\", \"Ttl Time: MedHi\", \"Ttl Time: MedHi\", \"Ttl Time: Low\", \"Ttl Time: Low\", \"Ttl Time: Low\", \"Ttl Time: Low\", \"Ttl Time: Low\", \"Ttl Time: Low\"], \"name\": \"MedLo\", \"orientation\": \"h\", \"type\": \"bar\", \"x\": [19.242147511449353, 19.1854248046875, 18.831345158139694, 18.790826824848846, 18.762750773136137, 18.717631386171092, 18.372202114968932, 17.921640286396094, 17.224428432146095, 16.48548843433285, 16.33574580483923, 16.33458029075392, 15.596064933181792, 15.591676125369174, 15.473762697404448, 15.298049555759805, 13.827386153371709, 13.454960593928378, 13.228214570713112, 12.888218930577919, 12.516594510560545, 12.221423678927954, 11.92761941841218, 11.908094618055557, 11.139667298149142, 10.704528808593746, 10.17958984375, 9.277763203857821, 9.18206981697284, 8.94427490234375, 8.60359990888383, 8.115652901785715, 8.078879492379249], \"xaxis\": \"x2\", \"y\": [\"bell\", \"ingrid\", \"orange\", \"muscat\", \"harovin\", \"clara\", \"almonds\", \"casaba\", \"bulk\", \"round\", \"cantared\", \"carambola\", \"key\", \"sharlin\", \"st\", \"lollo\", \"hearts\", \"bay\", \"large\", \"horn\", \"conference\", \"leaves\", \"bon\", \"oroblanco\", \"huaguan\", \"pecans\", \"kabocha\", \"sunburst\", \"tips\", \"pickling\", \"baby\", \"polk\", \"regal\"], \"yaxis\": \"y2\"}, {\"hovertext\": [\"Ttl Time: MedLo\", \"Ttl Time: Low\", \"Ttl Time: MedLo\", \"Ttl Time: Low\", \"Ttl Time: MedLo\", \"Ttl Time: MedLo\", \"Ttl Time: MedHi\", \"Ttl Time: MedHi\", \"Ttl Time: Low\", \"Ttl Time: Low\", \"Ttl Time: Low\", \"Ttl Time: High Usage\", \"Ttl Time: MedHi\", \"Ttl Time: MedLo\", \"Ttl Time: MedHi\", \"Ttl Time: High Usage\", \"Ttl Time: MedHi\", \"Ttl Time: MedHi\", \"Ttl Time: MedHi\", \"Ttl Time: High Usage\", \"Ttl Time: MedHi\", \"Ttl Time: Low\", \"Ttl Time: MedLo\", \"Ttl Time: MedLo\", \"Ttl Time: MedLo\", \"Ttl Time: MedLo\", \"Ttl Time: High Usage\", \"Ttl Time: High Usage\", \"Ttl Time: Low\", \"Ttl Time: MedHi\", \"Ttl Time: High Usage\", \"Ttl Time: MedHi\", \"Ttl Time: High Usage\", \"Ttl Time: Low\", \"Ttl Time: MedLo\", \"Ttl Time: MedHi\", \"Ttl Time: MedHi\", \"Ttl Time: High Usage\", \"Ttl Time: High Usage\", \"Ttl Time: Low\", \"Ttl Time: High Usage\", \"Ttl Time: MedHi\", \"Ttl Time: MedHi\", \"Ttl Time: High Usage\", \"Ttl Time: MedLo\", \"Ttl Time: MedLo\", \"Ttl Time: MedHi\", \"Ttl Time: Low\", \"Ttl Time: High Usage\", \"Ttl Time: MedHi\", \"Ttl Time: High Usage\", \"Ttl Time: High Usage\", \"Ttl Time: High Usage\", \"Ttl Time: MedHi\", \"Ttl Time: High Usage\", \"Ttl Time: MedLo\", \"Ttl Time: Low\", \"Ttl Time: Low\", \"Ttl Time: MedLo\", \"Ttl Time: MedLo\", \"Ttl Time: High Usage\", \"Ttl Time: High Usage\", \"Ttl Time: MedLo\", \"Ttl Time: MedHi\", \"Ttl Time: MedLo\", \"Ttl Time: MedLo\", \"Ttl Time: Low\", \"Ttl Time: High Usage\", \"Ttl Time: MedHi\", \"Ttl Time: MedHi\", \"Ttl Time: MedHi\", \"Ttl Time: MedLo\", \"Ttl Time: High Usage\", \"Ttl Time: High Usage\", \"Ttl Time: High Usage\", \"Ttl Time: High Usage\", \"Ttl Time: MedLo\", \"Ttl Time: High Usage\", \"Ttl Time: High Usage\", \"Ttl Time: MedHi\", \"Ttl Time: MedLo\", \"Ttl Time: Low\", \"Ttl Time: MedLo\", \"Ttl Time: MedHi\", \"Ttl Time: MedLo\", \"Ttl Time: High Usage\", \"Ttl Time: MedHi\", \"Ttl Time: MedLo\", \"Ttl Time: MedLo\", \"Ttl Time: MedLo\", \"Ttl Time: Low\", \"Ttl Time: Low\", \"Ttl Time: High Usage\", \"Ttl Time: Low\", \"Ttl Time: Low\", \"Ttl Time: MedHi\", \"Ttl Time: Low\", \"Ttl Time: High Usage\", \"Ttl Time: High Usage\", \"Ttl Time: High Usage\", \"Ttl Time: MedLo\", \"Ttl Time: Low\", \"Ttl Time: High Usage\", \"Ttl Time: Low\", \"Ttl Time: High Usage\", \"Ttl Time: MedHi\", \"Ttl Time: MedLo\", \"Ttl Time: MedLo\", \"Ttl Time: Low\", \"Ttl Time: Low\", \"Ttl Time: MedLo\", \"Ttl Time: MedHi\", \"Ttl Time: Low\", \"Ttl Time: MedLo\", \"Ttl Time: Low\", \"Ttl Time: MedHi\", \"Ttl Time: Low\", \"Ttl Time: High Usage\", \"Ttl Time: MedHi\", \"Ttl Time: Low\", \"Ttl Time: MedHi\", \"Ttl Time: MedLo\", \"Ttl Time: MedLo\", \"Ttl Time: MedHi\", \"Ttl Time: MedHi\", \"Ttl Time: Low\", \"Ttl Time: Low\", \"Ttl Time: Low\", \"Ttl Time: Low\", \"Ttl Time: Low\", \"Ttl Time: Low\"], \"name\": \"MedHi\", \"orientation\": \"h\", \"type\": \"bar\", \"x\": [34.07633928571429, 34.04440058479532, 33.94084991368625, 33.73297533798723, 33.067375932983, 32.199326869857245, 31.93016774016145, 31.41445658679769, 31.165341163749144, 30.88002677008931, 30.552786528903216, 29.96610013242999, 29.874295347674767, 29.096139185271664, 28.40411452930498, 28.027794410529633, 27.632473182225166, 26.954194922819546, 25.763699367930283, 25.542289751192413, 25.537871304946986, 24.90250602849389, 24.52575680015025, 24.066994006817158, 23.32330238655821, 23.129582093253852, 22.279738193354266, 21.941592627620782, 21.155649212240764, 21.09096517814597, 20.986434717668864, 20.08544847328245], \"xaxis\": \"x3\", \"y\": [\"nino\", \"dill\", \"treviso\", \"alkmene\", \"mixed\", \"minnewashta\", \"yu\", \"cep\", \"thomcord\", \"belle\", \"bertanne\", \"cactus\", \"lemon\", \"baking\", \"cinnabar\", \"winged\", \"kinnow\", \"garlic\", \"cms_lowprio\", \"galia\", \"brazilnuts\", \"lychees\", \"bibb\", \"water\", \"lochbuie\", \"concord\", \"fairchild\", \"chickpeas\", \"cms\", \"celery\", \"blackberries\", \"serrano\"], \"yaxis\": \"y3\"}, {\"hovertext\": [\"Ttl Time: MedLo\", \"Ttl Time: Low\", \"Ttl Time: MedLo\", \"Ttl Time: Low\", \"Ttl Time: MedLo\", \"Ttl Time: MedLo\", \"Ttl Time: MedHi\", \"Ttl Time: MedHi\", \"Ttl Time: Low\", \"Ttl Time: Low\", \"Ttl Time: Low\", \"Ttl Time: High Usage\", \"Ttl Time: MedHi\", \"Ttl Time: MedLo\", \"Ttl Time: MedHi\", \"Ttl Time: High Usage\", \"Ttl Time: MedHi\", \"Ttl Time: MedHi\", \"Ttl Time: MedHi\", \"Ttl Time: High Usage\", \"Ttl Time: MedHi\", \"Ttl Time: Low\", \"Ttl Time: MedLo\", \"Ttl Time: MedLo\", \"Ttl Time: MedLo\", \"Ttl Time: MedLo\", \"Ttl Time: High Usage\", \"Ttl Time: High Usage\", \"Ttl Time: Low\", \"Ttl Time: MedHi\", \"Ttl Time: High Usage\", \"Ttl Time: MedHi\", \"Ttl Time: High Usage\", \"Ttl Time: Low\", \"Ttl Time: MedLo\", \"Ttl Time: MedHi\", \"Ttl Time: MedHi\", \"Ttl Time: High Usage\", \"Ttl Time: High Usage\", \"Ttl Time: Low\", \"Ttl Time: High Usage\", \"Ttl Time: MedHi\", \"Ttl Time: MedHi\", \"Ttl Time: High Usage\", \"Ttl Time: MedLo\", \"Ttl Time: MedLo\", \"Ttl Time: MedHi\", \"Ttl Time: Low\", \"Ttl Time: High Usage\", \"Ttl Time: MedHi\", \"Ttl Time: High Usage\", \"Ttl Time: High Usage\", \"Ttl Time: High Usage\", \"Ttl Time: MedHi\", \"Ttl Time: High Usage\", \"Ttl Time: MedLo\", \"Ttl Time: Low\", \"Ttl Time: Low\", \"Ttl Time: MedLo\", \"Ttl Time: MedLo\", \"Ttl Time: High Usage\", \"Ttl Time: High Usage\", \"Ttl Time: MedLo\", \"Ttl Time: MedHi\", \"Ttl Time: MedLo\", \"Ttl Time: MedLo\", \"Ttl Time: Low\", \"Ttl Time: High Usage\", \"Ttl Time: MedHi\", \"Ttl Time: MedHi\", \"Ttl Time: MedHi\", \"Ttl Time: MedLo\", \"Ttl Time: High Usage\", \"Ttl Time: High Usage\", \"Ttl Time: High Usage\", \"Ttl Time: High Usage\", \"Ttl Time: MedLo\", \"Ttl Time: High Usage\", \"Ttl Time: High Usage\", \"Ttl Time: MedHi\", \"Ttl Time: MedLo\", \"Ttl Time: Low\", \"Ttl Time: MedLo\", \"Ttl Time: MedHi\", \"Ttl Time: MedLo\", \"Ttl Time: High Usage\", \"Ttl Time: MedHi\", \"Ttl Time: MedLo\", \"Ttl Time: MedLo\", \"Ttl Time: MedLo\", \"Ttl Time: Low\", \"Ttl Time: Low\", \"Ttl Time: High Usage\", \"Ttl Time: Low\", \"Ttl Time: Low\", \"Ttl Time: MedHi\", \"Ttl Time: Low\", \"Ttl Time: High Usage\", \"Ttl Time: High Usage\", \"Ttl Time: High Usage\", \"Ttl Time: MedLo\", \"Ttl Time: Low\", \"Ttl Time: High Usage\", \"Ttl Time: Low\", \"Ttl Time: High Usage\", \"Ttl Time: MedHi\", \"Ttl Time: MedLo\", \"Ttl Time: MedLo\", \"Ttl Time: Low\", \"Ttl Time: Low\", \"Ttl Time: MedLo\", \"Ttl Time: MedHi\", \"Ttl Time: Low\", \"Ttl Time: MedLo\", \"Ttl Time: Low\", \"Ttl Time: MedHi\", \"Ttl Time: Low\", \"Ttl Time: High Usage\", \"Ttl Time: MedHi\", \"Ttl Time: Low\", \"Ttl Time: MedHi\", \"Ttl Time: MedLo\", \"Ttl Time: MedLo\", \"Ttl Time: MedHi\", \"Ttl Time: MedHi\", \"Ttl Time: Low\", \"Ttl Time: Low\", \"Ttl Time: Low\", \"Ttl Time: Low\", \"Ttl Time: Low\", \"Ttl Time: Low\"], \"name\": \"High\", \"orientation\": \"h\", \"type\": \"bar\", \"x\": [68.92778486027015, 68.4744140625, 67.29043056178632, 66.36469275210082, 61.747769442471586, 59.632035784884785, 58.403407466539434, 57.58980617143566, 54.54339409202471, 53.85030837194389, 53.60834627096316, 52.624250919785595, 52.026673614706795, 51.78338304020298, 51.76838912424634, 50.5396738613419, 49.8065952377382, 48.016498412978294, 45.99732030119525, 44.21033036046793, 44.04864043912982, 43.91925388313609, 43.82939265914716, 40.09142373167785, 39.503507018049596, 38.450085717833055, 38.0166603736795, 37.34537868992398, 37.11833973041587, 36.840468756114966, 35.39413522798566, 34.937457372005355, 34.58717176306902], \"xaxis\": \"x4\", \"y\": [\"medium\", \"mignonette\", \"strawberries\", \"antares\", \"shell\", \"shiny\", \"jicama\", \"texas\", \"arra\", \"shallots\", \"roasted\", \"summer\", \"chasselas\", \"pinova\", \"delblush\", \"wax\", \"sturmer\", \"chipilin\", \"seeded\", \"retailer\", \"burro\", \"kumquat\", \"broccoli\", \"pepino\", \"cmsadmin\", \"josephine\", \"horseradish\", \"sweet\", \"rocha\", \"sunflower\", \"carrot\", \"anise\", \"fresh\"], \"yaxis\": \"y4\"}],                        {\"annotations\": [{\"font\": {\"size\": 16}, \"showarrow\": false, \"text\": \"Low Efficiency\", \"x\": 0.2, \"xanchor\": \"center\", \"xref\": \"paper\", \"y\": 1.0, \"yanchor\": \"bottom\", \"yref\": \"paper\"}, {\"font\": {\"size\": 16}, \"showarrow\": false, \"text\": \"MedLo Efficiency\", \"x\": 0.8, \"xanchor\": \"center\", \"xref\": \"paper\", \"y\": 1.0, \"yanchor\": \"bottom\", \"yref\": \"paper\"}, {\"font\": {\"size\": 16}, \"showarrow\": false, \"text\": \"MedHi Efficiency\", \"x\": 0.2, \"xanchor\": \"center\", \"xref\": \"paper\", \"y\": 0.45, \"yanchor\": \"bottom\", \"yref\": \"paper\"}, {\"font\": {\"size\": 16}, \"showarrow\": false, \"text\": \"High Efficiency\", \"x\": 0.8, \"xanchor\": \"center\", \"xref\": \"paper\", \"y\": 0.45, \"yanchor\": \"bottom\", \"yref\": \"paper\"}], \"height\": 1000, \"showlegend\": false, \"template\": {\"data\": {\"bar\": [{\"error_x\": {\"color\": \"#2a3f5f\"}, \"error_y\": {\"color\": \"#2a3f5f\"}, \"marker\": {\"line\": {\"color\": \"#E5ECF6\", \"width\": 0.5}}, \"type\": \"bar\"}], \"barpolar\": [{\"marker\": {\"line\": {\"color\": \"#E5ECF6\", \"width\": 0.5}}, \"type\": \"barpolar\"}], \"carpet\": [{\"aaxis\": {\"endlinecolor\": \"#2a3f5f\", \"gridcolor\": \"white\", \"linecolor\": \"white\", \"minorgridcolor\": \"white\", \"startlinecolor\": \"#2a3f5f\"}, \"baxis\": {\"endlinecolor\": \"#2a3f5f\", \"gridcolor\": \"white\", \"linecolor\": \"white\", \"minorgridcolor\": \"white\", \"startlinecolor\": \"#2a3f5f\"}, \"type\": \"carpet\"}], \"choropleth\": [{\"colorbar\": {\"outlinewidth\": 0, \"ticks\": \"\"}, \"type\": \"choropleth\"}], \"contour\": [{\"colorbar\": {\"outlinewidth\": 0, \"ticks\": \"\"}, \"colorscale\": [[0.0, \"#0d0887\"], [0.1111111111111111, \"#46039f\"], [0.2222222222222222, \"#7201a8\"], [0.3333333333333333, \"#9c179e\"], [0.4444444444444444, \"#bd3786\"], [0.5555555555555556, \"#d8576b\"], [0.6666666666666666, \"#ed7953\"], [0.7777777777777778, \"#fb9f3a\"], [0.8888888888888888, \"#fdca26\"], [1.0, \"#f0f921\"]], \"type\": \"contour\"}], \"contourcarpet\": [{\"colorbar\": {\"outlinewidth\": 0, \"ticks\": \"\"}, \"type\": \"contourcarpet\"}], \"heatmap\": [{\"colorbar\": {\"outlinewidth\": 0, \"ticks\": \"\"}, \"colorscale\": [[0.0, \"#0d0887\"], [0.1111111111111111, \"#46039f\"], [0.2222222222222222, \"#7201a8\"], [0.3333333333333333, \"#9c179e\"], [0.4444444444444444, \"#bd3786\"], [0.5555555555555556, \"#d8576b\"], [0.6666666666666666, \"#ed7953\"], [0.7777777777777778, \"#fb9f3a\"], [0.8888888888888888, \"#fdca26\"], [1.0, \"#f0f921\"]], \"type\": \"heatmap\"}], \"heatmapgl\": [{\"colorbar\": {\"outlinewidth\": 0, \"ticks\": \"\"}, \"colorscale\": [[0.0, \"#0d0887\"], [0.1111111111111111, \"#46039f\"], [0.2222222222222222, \"#7201a8\"], [0.3333333333333333, \"#9c179e\"], [0.4444444444444444, \"#bd3786\"], [0.5555555555555556, \"#d8576b\"], [0.6666666666666666, \"#ed7953\"], [0.7777777777777778, \"#fb9f3a\"], [0.8888888888888888, \"#fdca26\"], [1.0, \"#f0f921\"]], \"type\": \"heatmapgl\"}], \"histogram\": [{\"marker\": {\"colorbar\": {\"outlinewidth\": 0, \"ticks\": \"\"}}, \"type\": \"histogram\"}], \"histogram2d\": [{\"colorbar\": {\"outlinewidth\": 0, \"ticks\": \"\"}, \"colorscale\": [[0.0, \"#0d0887\"], [0.1111111111111111, \"#46039f\"], [0.2222222222222222, \"#7201a8\"], [0.3333333333333333, \"#9c179e\"], [0.4444444444444444, \"#bd3786\"], [0.5555555555555556, \"#d8576b\"], [0.6666666666666666, \"#ed7953\"], [0.7777777777777778, \"#fb9f3a\"], [0.8888888888888888, \"#fdca26\"], [1.0, \"#f0f921\"]], \"type\": \"histogram2d\"}], \"histogram2dcontour\": [{\"colorbar\": {\"outlinewidth\": 0, \"ticks\": \"\"}, \"colorscale\": [[0.0, \"#0d0887\"], [0.1111111111111111, \"#46039f\"], [0.2222222222222222, \"#7201a8\"], [0.3333333333333333, \"#9c179e\"], [0.4444444444444444, \"#bd3786\"], [0.5555555555555556, \"#d8576b\"], [0.6666666666666666, \"#ed7953\"], [0.7777777777777778, \"#fb9f3a\"], [0.8888888888888888, \"#fdca26\"], [1.0, \"#f0f921\"]], \"type\": \"histogram2dcontour\"}], \"mesh3d\": [{\"colorbar\": {\"outlinewidth\": 0, \"ticks\": \"\"}, \"type\": \"mesh3d\"}], \"parcoords\": [{\"line\": {\"colorbar\": {\"outlinewidth\": 0, \"ticks\": \"\"}}, \"type\": \"parcoords\"}], \"pie\": [{\"automargin\": true, \"type\": \"pie\"}], \"scatter\": [{\"marker\": {\"colorbar\": {\"outlinewidth\": 0, \"ticks\": \"\"}}, \"type\": \"scatter\"}], \"scatter3d\": [{\"line\": {\"colorbar\": {\"outlinewidth\": 0, \"ticks\": \"\"}}, \"marker\": {\"colorbar\": {\"outlinewidth\": 0, \"ticks\": \"\"}}, \"type\": \"scatter3d\"}], \"scattercarpet\": [{\"marker\": {\"colorbar\": {\"outlinewidth\": 0, \"ticks\": \"\"}}, \"type\": \"scattercarpet\"}], \"scattergeo\": [{\"marker\": {\"colorbar\": {\"outlinewidth\": 0, \"ticks\": \"\"}}, \"type\": \"scattergeo\"}], \"scattergl\": [{\"marker\": {\"colorbar\": {\"outlinewidth\": 0, \"ticks\": \"\"}}, \"type\": \"scattergl\"}], \"scattermapbox\": [{\"marker\": {\"colorbar\": {\"outlinewidth\": 0, \"ticks\": \"\"}}, \"type\": \"scattermapbox\"}], \"scatterpolar\": [{\"marker\": {\"colorbar\": {\"outlinewidth\": 0, \"ticks\": \"\"}}, \"type\": \"scatterpolar\"}], \"scatterpolargl\": [{\"marker\": {\"colorbar\": {\"outlinewidth\": 0, \"ticks\": \"\"}}, \"type\": \"scatterpolargl\"}], \"scatterternary\": [{\"marker\": {\"colorbar\": {\"outlinewidth\": 0, \"ticks\": \"\"}}, \"type\": \"scatterternary\"}], \"surface\": [{\"colorbar\": {\"outlinewidth\": 0, \"ticks\": \"\"}, \"colorscale\": [[0.0, \"#0d0887\"], [0.1111111111111111, \"#46039f\"], [0.2222222222222222, \"#7201a8\"], [0.3333333333333333, \"#9c179e\"], [0.4444444444444444, \"#bd3786\"], [0.5555555555555556, \"#d8576b\"], [0.6666666666666666, \"#ed7953\"], [0.7777777777777778, \"#fb9f3a\"], [0.8888888888888888, \"#fdca26\"], [1.0, \"#f0f921\"]], \"type\": \"surface\"}], \"table\": [{\"cells\": {\"fill\": {\"color\": \"#EBF0F8\"}, \"line\": {\"color\": \"white\"}}, \"header\": {\"fill\": {\"color\": \"#C8D4E3\"}, \"line\": {\"color\": \"white\"}}, \"type\": \"table\"}]}, \"layout\": {\"annotationdefaults\": {\"arrowcolor\": \"#2a3f5f\", \"arrowhead\": 0, \"arrowwidth\": 1}, \"coloraxis\": {\"colorbar\": {\"outlinewidth\": 0, \"ticks\": \"\"}}, \"colorscale\": {\"diverging\": [[0, \"#8e0152\"], [0.1, \"#c51b7d\"], [0.2, \"#de77ae\"], [0.3, \"#f1b6da\"], [0.4, \"#fde0ef\"], [0.5, \"#f7f7f7\"], [0.6, \"#e6f5d0\"], [0.7, \"#b8e186\"], [0.8, \"#7fbc41\"], [0.9, \"#4d9221\"], [1, \"#276419\"]], \"sequential\": [[0.0, \"#0d0887\"], [0.1111111111111111, \"#46039f\"], [0.2222222222222222, \"#7201a8\"], [0.3333333333333333, \"#9c179e\"], [0.4444444444444444, \"#bd3786\"], [0.5555555555555556, \"#d8576b\"], [0.6666666666666666, \"#ed7953\"], [0.7777777777777778, \"#fb9f3a\"], [0.8888888888888888, \"#fdca26\"], [1.0, \"#f0f921\"]], \"sequentialminus\": [[0.0, \"#0d0887\"], [0.1111111111111111, \"#46039f\"], [0.2222222222222222, \"#7201a8\"], [0.3333333333333333, \"#9c179e\"], [0.4444444444444444, \"#bd3786\"], [0.5555555555555556, \"#d8576b\"], [0.6666666666666666, \"#ed7953\"], [0.7777777777777778, \"#fb9f3a\"], [0.8888888888888888, \"#fdca26\"], [1.0, \"#f0f921\"]]}, \"colorway\": [\"#636efa\", \"#EF553B\", \"#00cc96\", \"#ab63fa\", \"#FFA15A\", \"#19d3f3\", \"#FF6692\", \"#B6E880\", \"#FF97FF\", \"#FECB52\"], \"font\": {\"color\": \"#2a3f5f\"}, \"geo\": {\"bgcolor\": \"white\", \"lakecolor\": \"white\", \"landcolor\": \"#E5ECF6\", \"showlakes\": true, \"showland\": true, \"subunitcolor\": \"white\"}, \"hoverlabel\": {\"align\": \"left\"}, \"hovermode\": \"closest\", \"mapbox\": {\"style\": \"light\"}, \"paper_bgcolor\": \"white\", \"plot_bgcolor\": \"#E5ECF6\", \"polar\": {\"angularaxis\": {\"gridcolor\": \"white\", \"linecolor\": \"white\", \"ticks\": \"\"}, \"bgcolor\": \"#E5ECF6\", \"radialaxis\": {\"gridcolor\": \"white\", \"linecolor\": \"white\", \"ticks\": \"\"}}, \"scene\": {\"xaxis\": {\"backgroundcolor\": \"#E5ECF6\", \"gridcolor\": \"white\", \"gridwidth\": 2, \"linecolor\": \"white\", \"showbackground\": true, \"ticks\": \"\", \"zerolinecolor\": \"white\"}, \"yaxis\": {\"backgroundcolor\": \"#E5ECF6\", \"gridcolor\": \"white\", \"gridwidth\": 2, \"linecolor\": \"white\", \"showbackground\": true, \"ticks\": \"\", \"zerolinecolor\": \"white\"}, \"zaxis\": {\"backgroundcolor\": \"#E5ECF6\", \"gridcolor\": \"white\", \"gridwidth\": 2, \"linecolor\": \"white\", \"showbackground\": true, \"ticks\": \"\", \"zerolinecolor\": \"white\"}}, \"shapedefaults\": {\"line\": {\"color\": \"#2a3f5f\"}}, \"ternary\": {\"aaxis\": {\"gridcolor\": \"white\", \"linecolor\": \"white\", \"ticks\": \"\"}, \"baxis\": {\"gridcolor\": \"white\", \"linecolor\": \"white\", \"ticks\": \"\"}, \"bgcolor\": \"#E5ECF6\", \"caxis\": {\"gridcolor\": \"white\", \"linecolor\": \"white\", \"ticks\": \"\"}}, \"title\": {\"x\": 0.05}, \"xaxis\": {\"automargin\": true, \"gridcolor\": \"white\", \"linecolor\": \"white\", \"ticks\": \"\", \"title\": {\"standoff\": 15}, \"zerolinecolor\": \"white\", \"zerolinewidth\": 2}, \"yaxis\": {\"automargin\": true, \"gridcolor\": \"white\", \"linecolor\": \"white\", \"ticks\": \"\", \"title\": {\"standoff\": 15}, \"zerolinecolor\": \"white\", \"zerolinewidth\": 2}}}, \"title\": {\"text\": \"ACCRE Accounts: Memory Usage as Percent of Memory Requested\"}, \"xaxis\": {\"anchor\": \"y\", \"domain\": [0.0, 0.4]}, \"xaxis2\": {\"anchor\": \"y2\", \"domain\": [0.6000000000000001, 1.0], \"range\": [7.51639956298121, 21.242147511449353]}, \"xaxis3\": {\"anchor\": \"y3\", \"domain\": [0.0, 0.4], \"range\": [18.742147511449353, 36.33175552439165]}, \"xaxis4\": {\"anchor\": \"y4\", \"domain\": [0.6000000000000001, 1.0], \"range\": [33.83175552439165, 70.92778486027015]}, \"yaxis\": {\"anchor\": \"x\", \"domain\": [0.55, 1.0], \"type\": \"category\"}, \"yaxis2\": {\"anchor\": \"x2\", \"domain\": [0.55, 1.0], \"type\": \"category\"}, \"yaxis3\": {\"anchor\": \"x3\", \"domain\": [0.0, 0.45], \"type\": \"category\"}, \"yaxis4\": {\"anchor\": \"x4\", \"domain\": [0.0, 0.45], \"type\": \"category\"}},                        {\"responsive\": true}                    ).then(function(){\n",
       "                            \n",
       "var gd = document.getElementById('fa552d76-62ac-4580-a166-4ee7471b3332');\n",
       "var x = new MutationObserver(function (mutations, observer) {{\n",
       "        var display = window.getComputedStyle(gd).display;\n",
       "        if (!display || display === 'none') {{\n",
       "            console.log([gd, 'removed!']);\n",
       "            Plotly.purge(gd);\n",
       "            observer.disconnect();\n",
       "        }}\n",
       "}});\n",
       "\n",
       "// Listen for the removal of the full notebook cells\n",
       "var notebookContainer = gd.closest('#notebook-container');\n",
       "if (notebookContainer) {{\n",
       "    x.observe(notebookContainer, {childList: true});\n",
       "}}\n",
       "\n",
       "// Listen for the clearing of the current output cell\n",
       "var outputEl = gd.closest('.output');\n",
       "if (outputEl) {{\n",
       "    x.observe(outputEl, {childList: true});\n",
       "}}\n",
       "\n",
       "                        })                };                });            </script>        </div>"
      ]
     },
     "metadata": {},
     "output_type": "display_data"
    }
   ],
   "source": [
    "mem_plot_avg = avg_memuse_byacct[['account','avg_usage','used_hours','mem_quartile', 'hours_quartile','total_time_ctgry']]#.set_index('account')\n",
    "#mycolorscale = 'haline'\n",
    "\n",
    "df=mem_plot_avg.sort_values(['avg_usage'], ascending=False)\n",
    "fig = make_subplots(\n",
    "                    rows=2, cols=2,\n",
    "                    subplot_titles = ('Low Efficiency', 'MedLo Efficiency', 'MedHi Efficiency', 'High Efficiency'),\n",
    "                    vertical_spacing = 0.1,\n",
    "                    horizontal_spacing = 0.2                    \n",
    "                   )\n",
    "\n",
    "fig.add_trace(go.Bar(y=df.loc[df['mem_quartile']=='Q1','account'], x=df.loc[df['mem_quartile']=='Q1','avg_usage'] \n",
    "                     ,orientation='h' \n",
    "                     ,hovertext=df['total_time_ctgry']\n",
    "                     #,marker=dict(color=df['hours_quartile'], coloraxis='coloraxis')\n",
    "                     , name='Low'), row=1, col=1)\n",
    "fig.add_trace(go.Bar(y=df.loc[df['mem_quartile']=='Q2','account'], x=df.loc[df['mem_quartile']=='Q2','avg_usage']\n",
    "                     ,orientation='h'\n",
    "                     ,hovertext=df['total_time_ctgry']\n",
    "                     #, marker=dict(color=df['hours_quartile'], coloraxis='coloraxis')\n",
    "                     , name='MedLo'), row=1, col=2)\n",
    "fig.add_trace(go.Bar(y=df.loc[df['mem_quartile']=='Q3','account'], x=df.loc[df['mem_quartile']=='Q3','avg_usage']\n",
    "                     ,orientation='h'\n",
    "                     ,hovertext=df['total_time_ctgry']\n",
    "                     #, marker=dict(color=df['hours_quartile'], coloraxis='coloraxis')\n",
    "                     , name='MedHi'), row=2, col=1)\n",
    "fig.add_trace(go.Bar(y=df.loc[df['mem_quartile']=='Q4','account'], x=df.loc[df['mem_quartile']=='Q4','avg_usage']\n",
    "                     ,orientation='h'\n",
    "                     ,hovertext=df['total_time_ctgry']\n",
    "                     #, marker=dict(color=df['hours_quartile'], coloraxis='coloraxis')\n",
    "                     ,name='High'), row=2, col=2)\n",
    "\n",
    "fig.update_yaxes(type='category')\n",
    "fig.update_xaxes(range=[q1cut-.5, q2cut+2], row=1, col=2)\n",
    "fig.update_xaxes(range=[q2cut-.5,q3cut+2], row=2, col=1)\n",
    "fig.update_xaxes(range=[q3cut-.5,max+2], row=2, col=2)\n",
    "\n",
    "fig.update_layout(\n",
    "                    title_text = 'ACCRE Accounts: Memory Usage as Percent of Memory Requested',             \n",
    "                    showlegend=False,\n",
    "                    height=1000#,\n",
    "                    #coloraxis=dict(colorscale=mycolorscale, colorbar=dict(dtick=1, title='Total Time Quartile', titleside='right'))\n",
    "                    )\n",
    "#fig.show()\n",
    "#marker=dict(color=df['hours_quartile'], colorscale=mycolorscale), "
   ]
  },
  {
   "cell_type": "code",
   "execution_count": 52,
   "metadata": {
    "collapsed": true,
    "slideshow": {
     "slide_type": "skip"
    }
   },
   "outputs": [
    {
     "data": {
      "application/vnd.plotly.v1+json": {
       "config": {
        "plotlyServerURL": "https://plot.ly"
       },
       "data": [
        {
         "name": "Low",
         "orientation": "h",
         "type": "bar",
         "x": [
          68.4744140625,
          66.36469275210082,
          54.54339409202471,
          53.85030837194389,
          53.60834627096316,
          43.91925388313609,
          37.11833973041587,
          34.07633928571429,
          31.93016774016145,
          28.40411452930498,
          24.066994006817158,
          23.32330238655821,
          19.1854248046875,
          13.827386153371709,
          10.704528808593746,
          10.17958984375,
          9.18206981697284,
          8.94427490234375,
          8.115652901785715,
          6.17041015625,
          5.991536458333333,
          4.61834716796875,
          4.393521012931035,
          4.10491943359375,
          3.6688354492187507,
          2.9652709960937504,
          2.26708984375,
          1.4992937173782124,
          1.111083984375,
          0.547119140625,
          0.47476246136095535,
          0.22151692708333331,
          0.178466796875
         ],
         "xaxis": "x",
         "y": [
          "mignonette",
          "antares",
          "arra",
          "shallots",
          "roasted",
          "kumquat",
          "rocha",
          "nino",
          "yu",
          "cinnabar",
          "water",
          "lochbuie",
          "ingrid",
          "hearts",
          "pecans",
          "kabocha",
          "tips",
          "pickling",
          "polk",
          "tree",
          "angelys",
          "pink",
          "mache",
          "malanga",
          "forelle",
          "pioppino",
          "purple",
          "chayote",
          "mung",
          "cocktail",
          "galangal",
          "plumcot",
          "romanesco"
         ],
         "yaxis": "y"
        },
        {
         "name": "MedLo",
         "orientation": "h",
         "type": "bar",
         "x": [
          68.92778486027015,
          67.29043056178632,
          61.747769442471586,
          59.632035784884785,
          51.78338304020298,
          43.82939265914716,
          40.09142373167785,
          39.503507018049596,
          38.450085717833055,
          34.04440058479532,
          29.96610013242999,
          29.874295347674767,
          24.52575680015025,
          23.129582093253852,
          22.279738193354266,
          21.09096517814597,
          20.08544847328245,
          19.242147511449353,
          18.372202114968932,
          16.33458029075392,
          15.298049555759805,
          13.454960593928378,
          12.888218930577919,
          11.92761941841218,
          11.908094618055557,
          11.139667298149142,
          6.4189015981313355,
          5.77048957881025,
          4.796573511651941,
          4.352862540849664,
          3.6732605397259483,
          1.894597716478524,
          1.7550307135517405
         ],
         "xaxis": "x2",
         "y": [
          "medium",
          "strawberries",
          "shell",
          "shiny",
          "pinova",
          "broccoli",
          "pepino",
          "cmsadmin",
          "josephine",
          "dill",
          "cactus",
          "lemon",
          "bibb",
          "concord",
          "fairchild",
          "celery",
          "serrano",
          "bell",
          "almonds",
          "carambola",
          "lollo",
          "bay",
          "horn",
          "bon",
          "oroblanco",
          "huaguan",
          "fiddlehead",
          "milwa",
          "long",
          "peanuts",
          "emmons",
          "pitted",
          "spring"
         ],
         "yaxis": "y2"
        },
        {
         "name": "MedHi",
         "orientation": "h",
         "type": "bar",
         "x": [
          58.403407466539434,
          57.58980617143566,
          52.026673614706795,
          51.76838912424634,
          49.8065952377382,
          48.016498412978294,
          45.99732030119525,
          44.04864043912982,
          36.840468756114966,
          34.937457372005355,
          33.94084991368625,
          33.73297533798723,
          31.165341163749144,
          30.88002677008931,
          29.096139185271664,
          27.632473182225166,
          25.537871304946986,
          20.986434717668864,
          18.790826824848846,
          18.762750773136137,
          18.717631386171092,
          15.473762697404448,
          13.228214570713112,
          12.221423678927954,
          8.60359990888383,
          5.783135959846256,
          4.203267774817801,
          3.322450073242183,
          2.4634072204843034,
          1.9226966784166428,
          1.5564650052216153,
          1.551092773577255
         ],
         "xaxis": "x3",
         "y": [
          "jicama",
          "texas",
          "chasselas",
          "delblush",
          "sturmer",
          "chipilin",
          "seeded",
          "burro",
          "sunflower",
          "anise",
          "treviso",
          "alkmene",
          "thomcord",
          "belle",
          "baking",
          "kinnow",
          "brazilnuts",
          "blackberries",
          "muscat",
          "harovin",
          "clara",
          "st",
          "large",
          "leaves",
          "baby",
          "atemoyas",
          "white",
          "amaranth",
          "crab",
          "grisette",
          "pasilla",
          "plantain"
         ],
         "yaxis": "y3"
        },
        {
         "name": "High",
         "orientation": "h",
         "type": "bar",
         "x": [
          52.624250919785595,
          50.5396738613419,
          44.21033036046793,
          38.0166603736795,
          37.34537868992398,
          35.39413522798566,
          34.58717176306902,
          33.067375932983,
          32.199326869857245,
          31.41445658679769,
          30.552786528903216,
          28.027794410529633,
          26.954194922819546,
          25.763699367930283,
          25.542289751192413,
          24.90250602849389,
          21.941592627620782,
          21.155649212240764,
          18.831345158139694,
          17.921640286396094,
          17.224428432146095,
          16.48548843433285,
          16.33574580483923,
          15.596064933181792,
          15.591676125369174,
          12.516594510560545,
          9.277763203857821,
          8.078879492379249,
          7.9539196335831726,
          7.1238021815338755,
          6.009620840188816,
          5.8198443859677855,
          2.5426949713246727
         ],
         "xaxis": "x4",
         "y": [
          "summer",
          "wax",
          "retailer",
          "horseradish",
          "sweet",
          "carrot",
          "fresh",
          "mixed",
          "minnewashta",
          "cep",
          "bertanne",
          "winged",
          "garlic",
          "cms_lowprio",
          "galia",
          "lychees",
          "chickpeas",
          "cms",
          "orange",
          "casaba",
          "bulk",
          "round",
          "cantared",
          "key",
          "sharlin",
          "conference",
          "sunburst",
          "regal",
          "boysenberries",
          "portabella",
          "sugranineteen",
          "bunch",
          "wood"
         ],
         "yaxis": "y4"
        }
       ],
       "layout": {
        "annotations": [
         {
          "font": {
           "size": 16
          },
          "showarrow": false,
          "text": "Low Time Usage",
          "x": 0.2,
          "xanchor": "center",
          "xref": "paper",
          "y": 1,
          "yanchor": "bottom",
          "yref": "paper"
         },
         {
          "font": {
           "size": 16
          },
          "showarrow": false,
          "text": "MedLo Time Usage",
          "x": 0.8,
          "xanchor": "center",
          "xref": "paper",
          "y": 1,
          "yanchor": "bottom",
          "yref": "paper"
         },
         {
          "font": {
           "size": 16
          },
          "showarrow": false,
          "text": "MedHi Time Usage",
          "x": 0.2,
          "xanchor": "center",
          "xref": "paper",
          "y": 0.45,
          "yanchor": "bottom",
          "yref": "paper"
         },
         {
          "font": {
           "size": 16
          },
          "showarrow": false,
          "text": "High Time Usage",
          "x": 0.8,
          "xanchor": "center",
          "xref": "paper",
          "y": 0.45,
          "yanchor": "bottom",
          "yref": "paper"
         }
        ],
        "height": 1000,
        "showlegend": false,
        "template": {
         "data": {
          "bar": [
           {
            "error_x": {
             "color": "#2a3f5f"
            },
            "error_y": {
             "color": "#2a3f5f"
            },
            "marker": {
             "line": {
              "color": "#E5ECF6",
              "width": 0.5
             }
            },
            "type": "bar"
           }
          ],
          "barpolar": [
           {
            "marker": {
             "line": {
              "color": "#E5ECF6",
              "width": 0.5
             }
            },
            "type": "barpolar"
           }
          ],
          "carpet": [
           {
            "aaxis": {
             "endlinecolor": "#2a3f5f",
             "gridcolor": "white",
             "linecolor": "white",
             "minorgridcolor": "white",
             "startlinecolor": "#2a3f5f"
            },
            "baxis": {
             "endlinecolor": "#2a3f5f",
             "gridcolor": "white",
             "linecolor": "white",
             "minorgridcolor": "white",
             "startlinecolor": "#2a3f5f"
            },
            "type": "carpet"
           }
          ],
          "choropleth": [
           {
            "colorbar": {
             "outlinewidth": 0,
             "ticks": ""
            },
            "type": "choropleth"
           }
          ],
          "contour": [
           {
            "colorbar": {
             "outlinewidth": 0,
             "ticks": ""
            },
            "colorscale": [
             [
              0,
              "#0d0887"
             ],
             [
              0.1111111111111111,
              "#46039f"
             ],
             [
              0.2222222222222222,
              "#7201a8"
             ],
             [
              0.3333333333333333,
              "#9c179e"
             ],
             [
              0.4444444444444444,
              "#bd3786"
             ],
             [
              0.5555555555555556,
              "#d8576b"
             ],
             [
              0.6666666666666666,
              "#ed7953"
             ],
             [
              0.7777777777777778,
              "#fb9f3a"
             ],
             [
              0.8888888888888888,
              "#fdca26"
             ],
             [
              1,
              "#f0f921"
             ]
            ],
            "type": "contour"
           }
          ],
          "contourcarpet": [
           {
            "colorbar": {
             "outlinewidth": 0,
             "ticks": ""
            },
            "type": "contourcarpet"
           }
          ],
          "heatmap": [
           {
            "colorbar": {
             "outlinewidth": 0,
             "ticks": ""
            },
            "colorscale": [
             [
              0,
              "#0d0887"
             ],
             [
              0.1111111111111111,
              "#46039f"
             ],
             [
              0.2222222222222222,
              "#7201a8"
             ],
             [
              0.3333333333333333,
              "#9c179e"
             ],
             [
              0.4444444444444444,
              "#bd3786"
             ],
             [
              0.5555555555555556,
              "#d8576b"
             ],
             [
              0.6666666666666666,
              "#ed7953"
             ],
             [
              0.7777777777777778,
              "#fb9f3a"
             ],
             [
              0.8888888888888888,
              "#fdca26"
             ],
             [
              1,
              "#f0f921"
             ]
            ],
            "type": "heatmap"
           }
          ],
          "heatmapgl": [
           {
            "colorbar": {
             "outlinewidth": 0,
             "ticks": ""
            },
            "colorscale": [
             [
              0,
              "#0d0887"
             ],
             [
              0.1111111111111111,
              "#46039f"
             ],
             [
              0.2222222222222222,
              "#7201a8"
             ],
             [
              0.3333333333333333,
              "#9c179e"
             ],
             [
              0.4444444444444444,
              "#bd3786"
             ],
             [
              0.5555555555555556,
              "#d8576b"
             ],
             [
              0.6666666666666666,
              "#ed7953"
             ],
             [
              0.7777777777777778,
              "#fb9f3a"
             ],
             [
              0.8888888888888888,
              "#fdca26"
             ],
             [
              1,
              "#f0f921"
             ]
            ],
            "type": "heatmapgl"
           }
          ],
          "histogram": [
           {
            "marker": {
             "colorbar": {
              "outlinewidth": 0,
              "ticks": ""
             }
            },
            "type": "histogram"
           }
          ],
          "histogram2d": [
           {
            "colorbar": {
             "outlinewidth": 0,
             "ticks": ""
            },
            "colorscale": [
             [
              0,
              "#0d0887"
             ],
             [
              0.1111111111111111,
              "#46039f"
             ],
             [
              0.2222222222222222,
              "#7201a8"
             ],
             [
              0.3333333333333333,
              "#9c179e"
             ],
             [
              0.4444444444444444,
              "#bd3786"
             ],
             [
              0.5555555555555556,
              "#d8576b"
             ],
             [
              0.6666666666666666,
              "#ed7953"
             ],
             [
              0.7777777777777778,
              "#fb9f3a"
             ],
             [
              0.8888888888888888,
              "#fdca26"
             ],
             [
              1,
              "#f0f921"
             ]
            ],
            "type": "histogram2d"
           }
          ],
          "histogram2dcontour": [
           {
            "colorbar": {
             "outlinewidth": 0,
             "ticks": ""
            },
            "colorscale": [
             [
              0,
              "#0d0887"
             ],
             [
              0.1111111111111111,
              "#46039f"
             ],
             [
              0.2222222222222222,
              "#7201a8"
             ],
             [
              0.3333333333333333,
              "#9c179e"
             ],
             [
              0.4444444444444444,
              "#bd3786"
             ],
             [
              0.5555555555555556,
              "#d8576b"
             ],
             [
              0.6666666666666666,
              "#ed7953"
             ],
             [
              0.7777777777777778,
              "#fb9f3a"
             ],
             [
              0.8888888888888888,
              "#fdca26"
             ],
             [
              1,
              "#f0f921"
             ]
            ],
            "type": "histogram2dcontour"
           }
          ],
          "mesh3d": [
           {
            "colorbar": {
             "outlinewidth": 0,
             "ticks": ""
            },
            "type": "mesh3d"
           }
          ],
          "parcoords": [
           {
            "line": {
             "colorbar": {
              "outlinewidth": 0,
              "ticks": ""
             }
            },
            "type": "parcoords"
           }
          ],
          "pie": [
           {
            "automargin": true,
            "type": "pie"
           }
          ],
          "scatter": [
           {
            "marker": {
             "colorbar": {
              "outlinewidth": 0,
              "ticks": ""
             }
            },
            "type": "scatter"
           }
          ],
          "scatter3d": [
           {
            "line": {
             "colorbar": {
              "outlinewidth": 0,
              "ticks": ""
             }
            },
            "marker": {
             "colorbar": {
              "outlinewidth": 0,
              "ticks": ""
             }
            },
            "type": "scatter3d"
           }
          ],
          "scattercarpet": [
           {
            "marker": {
             "colorbar": {
              "outlinewidth": 0,
              "ticks": ""
             }
            },
            "type": "scattercarpet"
           }
          ],
          "scattergeo": [
           {
            "marker": {
             "colorbar": {
              "outlinewidth": 0,
              "ticks": ""
             }
            },
            "type": "scattergeo"
           }
          ],
          "scattergl": [
           {
            "marker": {
             "colorbar": {
              "outlinewidth": 0,
              "ticks": ""
             }
            },
            "type": "scattergl"
           }
          ],
          "scattermapbox": [
           {
            "marker": {
             "colorbar": {
              "outlinewidth": 0,
              "ticks": ""
             }
            },
            "type": "scattermapbox"
           }
          ],
          "scatterpolar": [
           {
            "marker": {
             "colorbar": {
              "outlinewidth": 0,
              "ticks": ""
             }
            },
            "type": "scatterpolar"
           }
          ],
          "scatterpolargl": [
           {
            "marker": {
             "colorbar": {
              "outlinewidth": 0,
              "ticks": ""
             }
            },
            "type": "scatterpolargl"
           }
          ],
          "scatterternary": [
           {
            "marker": {
             "colorbar": {
              "outlinewidth": 0,
              "ticks": ""
             }
            },
            "type": "scatterternary"
           }
          ],
          "surface": [
           {
            "colorbar": {
             "outlinewidth": 0,
             "ticks": ""
            },
            "colorscale": [
             [
              0,
              "#0d0887"
             ],
             [
              0.1111111111111111,
              "#46039f"
             ],
             [
              0.2222222222222222,
              "#7201a8"
             ],
             [
              0.3333333333333333,
              "#9c179e"
             ],
             [
              0.4444444444444444,
              "#bd3786"
             ],
             [
              0.5555555555555556,
              "#d8576b"
             ],
             [
              0.6666666666666666,
              "#ed7953"
             ],
             [
              0.7777777777777778,
              "#fb9f3a"
             ],
             [
              0.8888888888888888,
              "#fdca26"
             ],
             [
              1,
              "#f0f921"
             ]
            ],
            "type": "surface"
           }
          ],
          "table": [
           {
            "cells": {
             "fill": {
              "color": "#EBF0F8"
             },
             "line": {
              "color": "white"
             }
            },
            "header": {
             "fill": {
              "color": "#C8D4E3"
             },
             "line": {
              "color": "white"
             }
            },
            "type": "table"
           }
          ]
         },
         "layout": {
          "annotationdefaults": {
           "arrowcolor": "#2a3f5f",
           "arrowhead": 0,
           "arrowwidth": 1
          },
          "coloraxis": {
           "colorbar": {
            "outlinewidth": 0,
            "ticks": ""
           }
          },
          "colorscale": {
           "diverging": [
            [
             0,
             "#8e0152"
            ],
            [
             0.1,
             "#c51b7d"
            ],
            [
             0.2,
             "#de77ae"
            ],
            [
             0.3,
             "#f1b6da"
            ],
            [
             0.4,
             "#fde0ef"
            ],
            [
             0.5,
             "#f7f7f7"
            ],
            [
             0.6,
             "#e6f5d0"
            ],
            [
             0.7,
             "#b8e186"
            ],
            [
             0.8,
             "#7fbc41"
            ],
            [
             0.9,
             "#4d9221"
            ],
            [
             1,
             "#276419"
            ]
           ],
           "sequential": [
            [
             0,
             "#0d0887"
            ],
            [
             0.1111111111111111,
             "#46039f"
            ],
            [
             0.2222222222222222,
             "#7201a8"
            ],
            [
             0.3333333333333333,
             "#9c179e"
            ],
            [
             0.4444444444444444,
             "#bd3786"
            ],
            [
             0.5555555555555556,
             "#d8576b"
            ],
            [
             0.6666666666666666,
             "#ed7953"
            ],
            [
             0.7777777777777778,
             "#fb9f3a"
            ],
            [
             0.8888888888888888,
             "#fdca26"
            ],
            [
             1,
             "#f0f921"
            ]
           ],
           "sequentialminus": [
            [
             0,
             "#0d0887"
            ],
            [
             0.1111111111111111,
             "#46039f"
            ],
            [
             0.2222222222222222,
             "#7201a8"
            ],
            [
             0.3333333333333333,
             "#9c179e"
            ],
            [
             0.4444444444444444,
             "#bd3786"
            ],
            [
             0.5555555555555556,
             "#d8576b"
            ],
            [
             0.6666666666666666,
             "#ed7953"
            ],
            [
             0.7777777777777778,
             "#fb9f3a"
            ],
            [
             0.8888888888888888,
             "#fdca26"
            ],
            [
             1,
             "#f0f921"
            ]
           ]
          },
          "colorway": [
           "#636efa",
           "#EF553B",
           "#00cc96",
           "#ab63fa",
           "#FFA15A",
           "#19d3f3",
           "#FF6692",
           "#B6E880",
           "#FF97FF",
           "#FECB52"
          ],
          "font": {
           "color": "#2a3f5f"
          },
          "geo": {
           "bgcolor": "white",
           "lakecolor": "white",
           "landcolor": "#E5ECF6",
           "showlakes": true,
           "showland": true,
           "subunitcolor": "white"
          },
          "hoverlabel": {
           "align": "left"
          },
          "hovermode": "closest",
          "mapbox": {
           "style": "light"
          },
          "paper_bgcolor": "white",
          "plot_bgcolor": "#E5ECF6",
          "polar": {
           "angularaxis": {
            "gridcolor": "white",
            "linecolor": "white",
            "ticks": ""
           },
           "bgcolor": "#E5ECF6",
           "radialaxis": {
            "gridcolor": "white",
            "linecolor": "white",
            "ticks": ""
           }
          },
          "scene": {
           "xaxis": {
            "backgroundcolor": "#E5ECF6",
            "gridcolor": "white",
            "gridwidth": 2,
            "linecolor": "white",
            "showbackground": true,
            "ticks": "",
            "zerolinecolor": "white"
           },
           "yaxis": {
            "backgroundcolor": "#E5ECF6",
            "gridcolor": "white",
            "gridwidth": 2,
            "linecolor": "white",
            "showbackground": true,
            "ticks": "",
            "zerolinecolor": "white"
           },
           "zaxis": {
            "backgroundcolor": "#E5ECF6",
            "gridcolor": "white",
            "gridwidth": 2,
            "linecolor": "white",
            "showbackground": true,
            "ticks": "",
            "zerolinecolor": "white"
           }
          },
          "shapedefaults": {
           "line": {
            "color": "#2a3f5f"
           }
          },
          "ternary": {
           "aaxis": {
            "gridcolor": "white",
            "linecolor": "white",
            "ticks": ""
           },
           "baxis": {
            "gridcolor": "white",
            "linecolor": "white",
            "ticks": ""
           },
           "bgcolor": "#E5ECF6",
           "caxis": {
            "gridcolor": "white",
            "linecolor": "white",
            "ticks": ""
           }
          },
          "title": {
           "x": 0.05
          },
          "xaxis": {
           "automargin": true,
           "gridcolor": "white",
           "linecolor": "white",
           "ticks": "",
           "title": {
            "standoff": 15
           },
           "zerolinecolor": "white",
           "zerolinewidth": 2
          },
          "yaxis": {
           "automargin": true,
           "gridcolor": "white",
           "linecolor": "white",
           "ticks": "",
           "title": {
            "standoff": 15
           },
           "zerolinecolor": "white",
           "zerolinewidth": 2
          }
         }
        },
        "title": {
         "text": "ACCRE Accounts: Memory Usage as Percent of Memory Requested"
        },
        "xaxis": {
         "anchor": "y",
         "domain": [
          0,
          0.4
         ]
        },
        "xaxis2": {
         "anchor": "y2",
         "domain": [
          0.6000000000000001,
          1
         ]
        },
        "xaxis3": {
         "anchor": "y3",
         "domain": [
          0,
          0.4
         ]
        },
        "xaxis4": {
         "anchor": "y4",
         "domain": [
          0.6000000000000001,
          1
         ]
        },
        "yaxis": {
         "anchor": "x",
         "domain": [
          0.55,
          1
         ],
         "type": "category"
        },
        "yaxis2": {
         "anchor": "x2",
         "domain": [
          0.55,
          1
         ],
         "type": "category"
        },
        "yaxis3": {
         "anchor": "x3",
         "domain": [
          0,
          0.45
         ],
         "type": "category"
        },
        "yaxis4": {
         "anchor": "x4",
         "domain": [
          0,
          0.45
         ],
         "type": "category"
        }
       }
      },
      "text/html": [
       "<div>                            <div id=\"740e7fb7-0a79-4126-bad2-a193fb47928f\" class=\"plotly-graph-div\" style=\"height:1000px; width:100%;\"></div>            <script type=\"text/javascript\">                require([\"plotly\"], function(Plotly) {                    window.PLOTLYENV=window.PLOTLYENV || {};                                    if (document.getElementById(\"740e7fb7-0a79-4126-bad2-a193fb47928f\")) {                    Plotly.newPlot(                        \"740e7fb7-0a79-4126-bad2-a193fb47928f\",                        [{\"name\": \"Low\", \"orientation\": \"h\", \"type\": \"bar\", \"x\": [68.4744140625, 66.36469275210082, 54.54339409202471, 53.85030837194389, 53.60834627096316, 43.91925388313609, 37.11833973041587, 34.07633928571429, 31.93016774016145, 28.40411452930498, 24.066994006817158, 23.32330238655821, 19.1854248046875, 13.827386153371709, 10.704528808593746, 10.17958984375, 9.18206981697284, 8.94427490234375, 8.115652901785715, 6.17041015625, 5.991536458333333, 4.61834716796875, 4.393521012931035, 4.10491943359375, 3.6688354492187507, 2.9652709960937504, 2.26708984375, 1.4992937173782124, 1.111083984375, 0.547119140625, 0.47476246136095535, 0.22151692708333331, 0.178466796875], \"xaxis\": \"x\", \"y\": [\"mignonette\", \"antares\", \"arra\", \"shallots\", \"roasted\", \"kumquat\", \"rocha\", \"nino\", \"yu\", \"cinnabar\", \"water\", \"lochbuie\", \"ingrid\", \"hearts\", \"pecans\", \"kabocha\", \"tips\", \"pickling\", \"polk\", \"tree\", \"angelys\", \"pink\", \"mache\", \"malanga\", \"forelle\", \"pioppino\", \"purple\", \"chayote\", \"mung\", \"cocktail\", \"galangal\", \"plumcot\", \"romanesco\"], \"yaxis\": \"y\"}, {\"name\": \"MedLo\", \"orientation\": \"h\", \"type\": \"bar\", \"x\": [68.92778486027015, 67.29043056178632, 61.747769442471586, 59.632035784884785, 51.78338304020298, 43.82939265914716, 40.09142373167785, 39.503507018049596, 38.450085717833055, 34.04440058479532, 29.96610013242999, 29.874295347674767, 24.52575680015025, 23.129582093253852, 22.279738193354266, 21.09096517814597, 20.08544847328245, 19.242147511449353, 18.372202114968932, 16.33458029075392, 15.298049555759805, 13.454960593928378, 12.888218930577919, 11.92761941841218, 11.908094618055557, 11.139667298149142, 6.4189015981313355, 5.77048957881025, 4.796573511651941, 4.352862540849664, 3.6732605397259483, 1.894597716478524, 1.7550307135517405], \"xaxis\": \"x2\", \"y\": [\"medium\", \"strawberries\", \"shell\", \"shiny\", \"pinova\", \"broccoli\", \"pepino\", \"cmsadmin\", \"josephine\", \"dill\", \"cactus\", \"lemon\", \"bibb\", \"concord\", \"fairchild\", \"celery\", \"serrano\", \"bell\", \"almonds\", \"carambola\", \"lollo\", \"bay\", \"horn\", \"bon\", \"oroblanco\", \"huaguan\", \"fiddlehead\", \"milwa\", \"long\", \"peanuts\", \"emmons\", \"pitted\", \"spring\"], \"yaxis\": \"y2\"}, {\"name\": \"MedHi\", \"orientation\": \"h\", \"type\": \"bar\", \"x\": [58.403407466539434, 57.58980617143566, 52.026673614706795, 51.76838912424634, 49.8065952377382, 48.016498412978294, 45.99732030119525, 44.04864043912982, 36.840468756114966, 34.937457372005355, 33.94084991368625, 33.73297533798723, 31.165341163749144, 30.88002677008931, 29.096139185271664, 27.632473182225166, 25.537871304946986, 20.986434717668864, 18.790826824848846, 18.762750773136137, 18.717631386171092, 15.473762697404448, 13.228214570713112, 12.221423678927954, 8.60359990888383, 5.783135959846256, 4.203267774817801, 3.322450073242183, 2.4634072204843034, 1.9226966784166428, 1.5564650052216153, 1.551092773577255], \"xaxis\": \"x3\", \"y\": [\"jicama\", \"texas\", \"chasselas\", \"delblush\", \"sturmer\", \"chipilin\", \"seeded\", \"burro\", \"sunflower\", \"anise\", \"treviso\", \"alkmene\", \"thomcord\", \"belle\", \"baking\", \"kinnow\", \"brazilnuts\", \"blackberries\", \"muscat\", \"harovin\", \"clara\", \"st\", \"large\", \"leaves\", \"baby\", \"atemoyas\", \"white\", \"amaranth\", \"crab\", \"grisette\", \"pasilla\", \"plantain\"], \"yaxis\": \"y3\"}, {\"name\": \"High\", \"orientation\": \"h\", \"type\": \"bar\", \"x\": [52.624250919785595, 50.5396738613419, 44.21033036046793, 38.0166603736795, 37.34537868992398, 35.39413522798566, 34.58717176306902, 33.067375932983, 32.199326869857245, 31.41445658679769, 30.552786528903216, 28.027794410529633, 26.954194922819546, 25.763699367930283, 25.542289751192413, 24.90250602849389, 21.941592627620782, 21.155649212240764, 18.831345158139694, 17.921640286396094, 17.224428432146095, 16.48548843433285, 16.33574580483923, 15.596064933181792, 15.591676125369174, 12.516594510560545, 9.277763203857821, 8.078879492379249, 7.9539196335831726, 7.1238021815338755, 6.009620840188816, 5.8198443859677855, 2.5426949713246727], \"xaxis\": \"x4\", \"y\": [\"summer\", \"wax\", \"retailer\", \"horseradish\", \"sweet\", \"carrot\", \"fresh\", \"mixed\", \"minnewashta\", \"cep\", \"bertanne\", \"winged\", \"garlic\", \"cms_lowprio\", \"galia\", \"lychees\", \"chickpeas\", \"cms\", \"orange\", \"casaba\", \"bulk\", \"round\", \"cantared\", \"key\", \"sharlin\", \"conference\", \"sunburst\", \"regal\", \"boysenberries\", \"portabella\", \"sugranineteen\", \"bunch\", \"wood\"], \"yaxis\": \"y4\"}],                        {\"annotations\": [{\"font\": {\"size\": 16}, \"showarrow\": false, \"text\": \"Low Time Usage\", \"x\": 0.2, \"xanchor\": \"center\", \"xref\": \"paper\", \"y\": 1.0, \"yanchor\": \"bottom\", \"yref\": \"paper\"}, {\"font\": {\"size\": 16}, \"showarrow\": false, \"text\": \"MedLo Time Usage\", \"x\": 0.8, \"xanchor\": \"center\", \"xref\": \"paper\", \"y\": 1.0, \"yanchor\": \"bottom\", \"yref\": \"paper\"}, {\"font\": {\"size\": 16}, \"showarrow\": false, \"text\": \"MedHi Time Usage\", \"x\": 0.2, \"xanchor\": \"center\", \"xref\": \"paper\", \"y\": 0.45, \"yanchor\": \"bottom\", \"yref\": \"paper\"}, {\"font\": {\"size\": 16}, \"showarrow\": false, \"text\": \"High Time Usage\", \"x\": 0.8, \"xanchor\": \"center\", \"xref\": \"paper\", \"y\": 0.45, \"yanchor\": \"bottom\", \"yref\": \"paper\"}], \"height\": 1000, \"showlegend\": false, \"template\": {\"data\": {\"bar\": [{\"error_x\": {\"color\": \"#2a3f5f\"}, \"error_y\": {\"color\": \"#2a3f5f\"}, \"marker\": {\"line\": {\"color\": \"#E5ECF6\", \"width\": 0.5}}, \"type\": \"bar\"}], \"barpolar\": [{\"marker\": {\"line\": {\"color\": \"#E5ECF6\", \"width\": 0.5}}, \"type\": \"barpolar\"}], \"carpet\": [{\"aaxis\": {\"endlinecolor\": \"#2a3f5f\", \"gridcolor\": \"white\", \"linecolor\": \"white\", \"minorgridcolor\": \"white\", \"startlinecolor\": \"#2a3f5f\"}, \"baxis\": {\"endlinecolor\": \"#2a3f5f\", \"gridcolor\": \"white\", \"linecolor\": \"white\", \"minorgridcolor\": \"white\", \"startlinecolor\": \"#2a3f5f\"}, \"type\": \"carpet\"}], \"choropleth\": [{\"colorbar\": {\"outlinewidth\": 0, \"ticks\": \"\"}, \"type\": \"choropleth\"}], \"contour\": [{\"colorbar\": {\"outlinewidth\": 0, \"ticks\": \"\"}, \"colorscale\": [[0.0, \"#0d0887\"], [0.1111111111111111, \"#46039f\"], [0.2222222222222222, \"#7201a8\"], [0.3333333333333333, \"#9c179e\"], [0.4444444444444444, \"#bd3786\"], [0.5555555555555556, \"#d8576b\"], [0.6666666666666666, \"#ed7953\"], [0.7777777777777778, \"#fb9f3a\"], [0.8888888888888888, \"#fdca26\"], [1.0, \"#f0f921\"]], \"type\": \"contour\"}], \"contourcarpet\": [{\"colorbar\": {\"outlinewidth\": 0, \"ticks\": \"\"}, \"type\": \"contourcarpet\"}], \"heatmap\": [{\"colorbar\": {\"outlinewidth\": 0, \"ticks\": \"\"}, \"colorscale\": [[0.0, \"#0d0887\"], [0.1111111111111111, \"#46039f\"], [0.2222222222222222, \"#7201a8\"], [0.3333333333333333, \"#9c179e\"], [0.4444444444444444, \"#bd3786\"], [0.5555555555555556, \"#d8576b\"], [0.6666666666666666, \"#ed7953\"], [0.7777777777777778, \"#fb9f3a\"], [0.8888888888888888, \"#fdca26\"], [1.0, \"#f0f921\"]], \"type\": \"heatmap\"}], \"heatmapgl\": [{\"colorbar\": {\"outlinewidth\": 0, \"ticks\": \"\"}, \"colorscale\": [[0.0, \"#0d0887\"], [0.1111111111111111, \"#46039f\"], [0.2222222222222222, \"#7201a8\"], [0.3333333333333333, \"#9c179e\"], [0.4444444444444444, \"#bd3786\"], [0.5555555555555556, \"#d8576b\"], [0.6666666666666666, \"#ed7953\"], [0.7777777777777778, \"#fb9f3a\"], [0.8888888888888888, \"#fdca26\"], [1.0, \"#f0f921\"]], \"type\": \"heatmapgl\"}], \"histogram\": [{\"marker\": {\"colorbar\": {\"outlinewidth\": 0, \"ticks\": \"\"}}, \"type\": \"histogram\"}], \"histogram2d\": [{\"colorbar\": {\"outlinewidth\": 0, \"ticks\": \"\"}, \"colorscale\": [[0.0, \"#0d0887\"], [0.1111111111111111, \"#46039f\"], [0.2222222222222222, \"#7201a8\"], [0.3333333333333333, \"#9c179e\"], [0.4444444444444444, \"#bd3786\"], [0.5555555555555556, \"#d8576b\"], [0.6666666666666666, \"#ed7953\"], [0.7777777777777778, \"#fb9f3a\"], [0.8888888888888888, \"#fdca26\"], [1.0, \"#f0f921\"]], \"type\": \"histogram2d\"}], \"histogram2dcontour\": [{\"colorbar\": {\"outlinewidth\": 0, \"ticks\": \"\"}, \"colorscale\": [[0.0, \"#0d0887\"], [0.1111111111111111, \"#46039f\"], [0.2222222222222222, \"#7201a8\"], [0.3333333333333333, \"#9c179e\"], [0.4444444444444444, \"#bd3786\"], [0.5555555555555556, \"#d8576b\"], [0.6666666666666666, \"#ed7953\"], [0.7777777777777778, \"#fb9f3a\"], [0.8888888888888888, \"#fdca26\"], [1.0, \"#f0f921\"]], \"type\": \"histogram2dcontour\"}], \"mesh3d\": [{\"colorbar\": {\"outlinewidth\": 0, \"ticks\": \"\"}, \"type\": \"mesh3d\"}], \"parcoords\": [{\"line\": {\"colorbar\": {\"outlinewidth\": 0, \"ticks\": \"\"}}, \"type\": \"parcoords\"}], \"pie\": [{\"automargin\": true, \"type\": \"pie\"}], \"scatter\": [{\"marker\": {\"colorbar\": {\"outlinewidth\": 0, \"ticks\": \"\"}}, \"type\": \"scatter\"}], \"scatter3d\": [{\"line\": {\"colorbar\": {\"outlinewidth\": 0, \"ticks\": \"\"}}, \"marker\": {\"colorbar\": {\"outlinewidth\": 0, \"ticks\": \"\"}}, \"type\": \"scatter3d\"}], \"scattercarpet\": [{\"marker\": {\"colorbar\": {\"outlinewidth\": 0, \"ticks\": \"\"}}, \"type\": \"scattercarpet\"}], \"scattergeo\": [{\"marker\": {\"colorbar\": {\"outlinewidth\": 0, \"ticks\": \"\"}}, \"type\": \"scattergeo\"}], \"scattergl\": [{\"marker\": {\"colorbar\": {\"outlinewidth\": 0, \"ticks\": \"\"}}, \"type\": \"scattergl\"}], \"scattermapbox\": [{\"marker\": {\"colorbar\": {\"outlinewidth\": 0, \"ticks\": \"\"}}, \"type\": \"scattermapbox\"}], \"scatterpolar\": [{\"marker\": {\"colorbar\": {\"outlinewidth\": 0, \"ticks\": \"\"}}, \"type\": \"scatterpolar\"}], \"scatterpolargl\": [{\"marker\": {\"colorbar\": {\"outlinewidth\": 0, \"ticks\": \"\"}}, \"type\": \"scatterpolargl\"}], \"scatterternary\": [{\"marker\": {\"colorbar\": {\"outlinewidth\": 0, \"ticks\": \"\"}}, \"type\": \"scatterternary\"}], \"surface\": [{\"colorbar\": {\"outlinewidth\": 0, \"ticks\": \"\"}, \"colorscale\": [[0.0, \"#0d0887\"], [0.1111111111111111, \"#46039f\"], [0.2222222222222222, \"#7201a8\"], [0.3333333333333333, \"#9c179e\"], [0.4444444444444444, \"#bd3786\"], [0.5555555555555556, \"#d8576b\"], [0.6666666666666666, \"#ed7953\"], [0.7777777777777778, \"#fb9f3a\"], [0.8888888888888888, \"#fdca26\"], [1.0, \"#f0f921\"]], \"type\": \"surface\"}], \"table\": [{\"cells\": {\"fill\": {\"color\": \"#EBF0F8\"}, \"line\": {\"color\": \"white\"}}, \"header\": {\"fill\": {\"color\": \"#C8D4E3\"}, \"line\": {\"color\": \"white\"}}, \"type\": \"table\"}]}, \"layout\": {\"annotationdefaults\": {\"arrowcolor\": \"#2a3f5f\", \"arrowhead\": 0, \"arrowwidth\": 1}, \"coloraxis\": {\"colorbar\": {\"outlinewidth\": 0, \"ticks\": \"\"}}, \"colorscale\": {\"diverging\": [[0, \"#8e0152\"], [0.1, \"#c51b7d\"], [0.2, \"#de77ae\"], [0.3, \"#f1b6da\"], [0.4, \"#fde0ef\"], [0.5, \"#f7f7f7\"], [0.6, \"#e6f5d0\"], [0.7, \"#b8e186\"], [0.8, \"#7fbc41\"], [0.9, \"#4d9221\"], [1, \"#276419\"]], \"sequential\": [[0.0, \"#0d0887\"], [0.1111111111111111, \"#46039f\"], [0.2222222222222222, \"#7201a8\"], [0.3333333333333333, \"#9c179e\"], [0.4444444444444444, \"#bd3786\"], [0.5555555555555556, \"#d8576b\"], [0.6666666666666666, \"#ed7953\"], [0.7777777777777778, \"#fb9f3a\"], [0.8888888888888888, \"#fdca26\"], [1.0, \"#f0f921\"]], \"sequentialminus\": [[0.0, \"#0d0887\"], [0.1111111111111111, \"#46039f\"], [0.2222222222222222, \"#7201a8\"], [0.3333333333333333, \"#9c179e\"], [0.4444444444444444, \"#bd3786\"], [0.5555555555555556, \"#d8576b\"], [0.6666666666666666, \"#ed7953\"], [0.7777777777777778, \"#fb9f3a\"], [0.8888888888888888, \"#fdca26\"], [1.0, \"#f0f921\"]]}, \"colorway\": [\"#636efa\", \"#EF553B\", \"#00cc96\", \"#ab63fa\", \"#FFA15A\", \"#19d3f3\", \"#FF6692\", \"#B6E880\", \"#FF97FF\", \"#FECB52\"], \"font\": {\"color\": \"#2a3f5f\"}, \"geo\": {\"bgcolor\": \"white\", \"lakecolor\": \"white\", \"landcolor\": \"#E5ECF6\", \"showlakes\": true, \"showland\": true, \"subunitcolor\": \"white\"}, \"hoverlabel\": {\"align\": \"left\"}, \"hovermode\": \"closest\", \"mapbox\": {\"style\": \"light\"}, \"paper_bgcolor\": \"white\", \"plot_bgcolor\": \"#E5ECF6\", \"polar\": {\"angularaxis\": {\"gridcolor\": \"white\", \"linecolor\": \"white\", \"ticks\": \"\"}, \"bgcolor\": \"#E5ECF6\", \"radialaxis\": {\"gridcolor\": \"white\", \"linecolor\": \"white\", \"ticks\": \"\"}}, \"scene\": {\"xaxis\": {\"backgroundcolor\": \"#E5ECF6\", \"gridcolor\": \"white\", \"gridwidth\": 2, \"linecolor\": \"white\", \"showbackground\": true, \"ticks\": \"\", \"zerolinecolor\": \"white\"}, \"yaxis\": {\"backgroundcolor\": \"#E5ECF6\", \"gridcolor\": \"white\", \"gridwidth\": 2, \"linecolor\": \"white\", \"showbackground\": true, \"ticks\": \"\", \"zerolinecolor\": \"white\"}, \"zaxis\": {\"backgroundcolor\": \"#E5ECF6\", \"gridcolor\": \"white\", \"gridwidth\": 2, \"linecolor\": \"white\", \"showbackground\": true, \"ticks\": \"\", \"zerolinecolor\": \"white\"}}, \"shapedefaults\": {\"line\": {\"color\": \"#2a3f5f\"}}, \"ternary\": {\"aaxis\": {\"gridcolor\": \"white\", \"linecolor\": \"white\", \"ticks\": \"\"}, \"baxis\": {\"gridcolor\": \"white\", \"linecolor\": \"white\", \"ticks\": \"\"}, \"bgcolor\": \"#E5ECF6\", \"caxis\": {\"gridcolor\": \"white\", \"linecolor\": \"white\", \"ticks\": \"\"}}, \"title\": {\"x\": 0.05}, \"xaxis\": {\"automargin\": true, \"gridcolor\": \"white\", \"linecolor\": \"white\", \"ticks\": \"\", \"title\": {\"standoff\": 15}, \"zerolinecolor\": \"white\", \"zerolinewidth\": 2}, \"yaxis\": {\"automargin\": true, \"gridcolor\": \"white\", \"linecolor\": \"white\", \"ticks\": \"\", \"title\": {\"standoff\": 15}, \"zerolinecolor\": \"white\", \"zerolinewidth\": 2}}}, \"title\": {\"text\": \"ACCRE Accounts: Memory Usage as Percent of Memory Requested\"}, \"xaxis\": {\"anchor\": \"y\", \"domain\": [0.0, 0.4]}, \"xaxis2\": {\"anchor\": \"y2\", \"domain\": [0.6000000000000001, 1.0]}, \"xaxis3\": {\"anchor\": \"y3\", \"domain\": [0.0, 0.4]}, \"xaxis4\": {\"anchor\": \"y4\", \"domain\": [0.6000000000000001, 1.0]}, \"yaxis\": {\"anchor\": \"x\", \"domain\": [0.55, 1.0], \"type\": \"category\"}, \"yaxis2\": {\"anchor\": \"x2\", \"domain\": [0.55, 1.0], \"type\": \"category\"}, \"yaxis3\": {\"anchor\": \"x3\", \"domain\": [0.0, 0.45], \"type\": \"category\"}, \"yaxis4\": {\"anchor\": \"x4\", \"domain\": [0.0, 0.45], \"type\": \"category\"}},                        {\"responsive\": true}                    ).then(function(){\n",
       "                            \n",
       "var gd = document.getElementById('740e7fb7-0a79-4126-bad2-a193fb47928f');\n",
       "var x = new MutationObserver(function (mutations, observer) {{\n",
       "        var display = window.getComputedStyle(gd).display;\n",
       "        if (!display || display === 'none') {{\n",
       "            console.log([gd, 'removed!']);\n",
       "            Plotly.purge(gd);\n",
       "            observer.disconnect();\n",
       "        }}\n",
       "}});\n",
       "\n",
       "// Listen for the removal of the full notebook cells\n",
       "var notebookContainer = gd.closest('#notebook-container');\n",
       "if (notebookContainer) {{\n",
       "    x.observe(notebookContainer, {childList: true});\n",
       "}}\n",
       "\n",
       "// Listen for the clearing of the current output cell\n",
       "var outputEl = gd.closest('.output');\n",
       "if (outputEl) {{\n",
       "    x.observe(outputEl, {childList: true});\n",
       "}}\n",
       "\n",
       "                        })                };                });            </script>        </div>"
      ]
     },
     "metadata": {},
     "output_type": "display_data"
    }
   ],
   "source": [
    "mem_plot_avgT = avg_memuse_byacct[['account','avg_usage','used_hours','mem_quartile', 'hours_quartile']]#.set_index('account')\n",
    "#mycolorscale = 'haline'\n",
    "\n",
    "df=mem_plot_avg.sort_values(['avg_usage'], ascending=False)\n",
    "figT = make_subplots(\n",
    "                    rows=2, cols=2,\n",
    "                    subplot_titles = ('Low Time Usage', 'MedLo Time Usage', 'MedHi Time Usage', 'High Time Usage'),\n",
    "                    vertical_spacing = 0.1,\n",
    "                    horizontal_spacing = 0.2                    \n",
    "                   )\n",
    "\n",
    "figT.add_trace(go.Bar(y=df.loc[df['hours_quartile']==1,'account'], x=df.loc[df['hours_quartile']==1,'avg_usage'] \n",
    "                     ,orientation='h' \n",
    "                     #,marker=dict(color=df['hours_quartile'], coloraxis='coloraxis')\n",
    "                     , name='Low'), row=1, col=1)\n",
    "figT.add_trace(go.Bar(y=df.loc[df['hours_quartile']==2,'account'], x=df.loc[df['hours_quartile']==2,'avg_usage']\n",
    "                     ,orientation='h'\n",
    "                     #, marker=dict(color=df['hours_quartile'], coloraxis='coloraxis')\n",
    "                     , name='MedLo'), row=1, col=2)\n",
    "figT.add_trace(go.Bar(y=df.loc[df['hours_quartile']==3,'account'], x=df.loc[df['hours_quartile']==3,'avg_usage']\n",
    "                     ,orientation='h'\n",
    "                     #, marker=dict(color=df['hours_quartile'], coloraxis='coloraxis')\n",
    "                     , name='MedHi'), row=2, col=1)\n",
    "figT.add_trace(go.Bar(y=df.loc[df['hours_quartile']==4,'account'], x=df.loc[df['hours_quartile']==4,'avg_usage']\n",
    "                     ,orientation='h'\n",
    "                     #, marker=dict(color=df['hours_quartile'], coloraxis='coloraxis')\n",
    "                     ,name='High'), row=2, col=2)\n",
    "\n",
    "figT.update_yaxes(type='category')\n",
    "#fig.update_xaxes(range=[q1cut-.5, q2cut+2], row=1, col=2)\n",
    "#fig.update_xaxes(range=[q2cut-.5,q3cut+2], row=2, col=1)\n",
    "#fig.update_xaxes(range=[q3cut-.5,max+2], row=2, col=2)\n",
    "\n",
    "figT.update_layout(\n",
    "                    title_text = 'ACCRE Accounts: Memory Usage as Percent of Memory Requested',             \n",
    "                    showlegend=False,\n",
    "                    height=1000#,\n",
    "                    #coloraxis=dict(colorscale=mycolorscale, colorbar=dict(dtick=1, title='Total Time Quartile', titleside='right'))\n",
    "                    )\n",
    "#figT.show()"
   ]
  },
  {
   "cell_type": "code",
   "execution_count": 55,
   "metadata": {
    "slideshow": {
     "slide_type": "slide"
    }
   },
   "outputs": [
    {
     "data": {
      "application/vnd.plotly.v1+json": {
       "config": {
        "plotlyServerURL": "https://plot.ly"
       },
       "data": [
        {
         "hovertext": [
          "Ttl Time: MedLo",
          "Ttl Time: Low",
          "Ttl Time: MedLo",
          "Ttl Time: Low",
          "Ttl Time: MedLo",
          "Ttl Time: MedLo",
          "Ttl Time: MedHi",
          "Ttl Time: MedHi",
          "Ttl Time: Low",
          "Ttl Time: Low",
          "Ttl Time: Low",
          "Ttl Time: High Usage",
          "Ttl Time: MedHi",
          "Ttl Time: MedLo",
          "Ttl Time: MedHi",
          "Ttl Time: High Usage",
          "Ttl Time: MedHi",
          "Ttl Time: MedHi",
          "Ttl Time: MedHi",
          "Ttl Time: High Usage",
          "Ttl Time: MedHi",
          "Ttl Time: Low",
          "Ttl Time: MedLo",
          "Ttl Time: MedLo",
          "Ttl Time: MedLo",
          "Ttl Time: MedLo",
          "Ttl Time: High Usage",
          "Ttl Time: High Usage",
          "Ttl Time: Low",
          "Ttl Time: MedHi",
          "Ttl Time: High Usage",
          "Ttl Time: MedHi",
          "Ttl Time: High Usage",
          "Ttl Time: Low",
          "Ttl Time: MedLo",
          "Ttl Time: MedHi",
          "Ttl Time: MedHi",
          "Ttl Time: High Usage",
          "Ttl Time: High Usage",
          "Ttl Time: Low",
          "Ttl Time: High Usage",
          "Ttl Time: MedHi",
          "Ttl Time: MedHi",
          "Ttl Time: High Usage",
          "Ttl Time: MedLo",
          "Ttl Time: MedLo",
          "Ttl Time: MedHi",
          "Ttl Time: Low",
          "Ttl Time: High Usage",
          "Ttl Time: MedHi",
          "Ttl Time: High Usage",
          "Ttl Time: High Usage",
          "Ttl Time: High Usage",
          "Ttl Time: MedHi",
          "Ttl Time: High Usage",
          "Ttl Time: MedLo",
          "Ttl Time: Low",
          "Ttl Time: Low",
          "Ttl Time: MedLo",
          "Ttl Time: MedLo",
          "Ttl Time: High Usage",
          "Ttl Time: High Usage",
          "Ttl Time: MedLo",
          "Ttl Time: MedHi",
          "Ttl Time: MedLo",
          "Ttl Time: MedLo",
          "Ttl Time: Low",
          "Ttl Time: High Usage",
          "Ttl Time: MedHi",
          "Ttl Time: MedHi",
          "Ttl Time: MedHi",
          "Ttl Time: MedLo",
          "Ttl Time: High Usage",
          "Ttl Time: High Usage",
          "Ttl Time: High Usage",
          "Ttl Time: High Usage",
          "Ttl Time: MedLo",
          "Ttl Time: High Usage",
          "Ttl Time: High Usage",
          "Ttl Time: MedHi",
          "Ttl Time: MedLo",
          "Ttl Time: Low",
          "Ttl Time: MedLo",
          "Ttl Time: MedHi",
          "Ttl Time: MedLo",
          "Ttl Time: High Usage",
          "Ttl Time: MedHi",
          "Ttl Time: MedLo",
          "Ttl Time: MedLo",
          "Ttl Time: MedLo",
          "Ttl Time: Low",
          "Ttl Time: Low",
          "Ttl Time: High Usage",
          "Ttl Time: Low",
          "Ttl Time: Low",
          "Ttl Time: MedHi",
          "Ttl Time: Low",
          "Ttl Time: High Usage",
          "Ttl Time: High Usage",
          "Ttl Time: High Usage",
          "Ttl Time: MedLo",
          "Ttl Time: Low",
          "Ttl Time: High Usage",
          "Ttl Time: Low",
          "Ttl Time: High Usage",
          "Ttl Time: MedHi",
          "Ttl Time: MedLo",
          "Ttl Time: MedLo",
          "Ttl Time: Low",
          "Ttl Time: Low",
          "Ttl Time: MedLo",
          "Ttl Time: MedHi",
          "Ttl Time: Low",
          "Ttl Time: MedLo",
          "Ttl Time: Low",
          "Ttl Time: MedHi",
          "Ttl Time: Low",
          "Ttl Time: High Usage",
          "Ttl Time: MedHi",
          "Ttl Time: Low",
          "Ttl Time: MedHi",
          "Ttl Time: MedLo",
          "Ttl Time: MedLo",
          "Ttl Time: MedHi",
          "Ttl Time: MedHi",
          "Ttl Time: Low",
          "Ttl Time: Low",
          "Ttl Time: Low",
          "Ttl Time: Low",
          "Ttl Time: Low",
          "Ttl Time: Low"
         ],
         "name": "Low",
         "orientation": "h",
         "type": "bar",
         "x": [
          7.9539196335831726,
          7.1238021815338755,
          6.4189015981313355,
          6.17041015625,
          6.009620840188816,
          5.991536458333333,
          5.8198443859677855,
          5.783135959846256,
          5.77048957881025,
          4.796573511651941,
          4.61834716796875,
          4.393521012931035,
          4.352862540849664,
          4.203267774817801,
          4.10491943359375,
          3.6732605397259483,
          3.6688354492187507,
          3.322450073242183,
          2.9652709960937504,
          2.5426949713246727,
          2.4634072204843034,
          2.26708984375,
          1.9226966784166428,
          1.894597716478524,
          1.7550307135517405,
          1.5564650052216153,
          1.551092773577255,
          1.4992937173782124,
          1.111083984375,
          0.547119140625,
          0.47476246136095535,
          0.22151692708333331,
          0.178466796875
         ],
         "xaxis": "x",
         "y": [
          "boysenberries",
          "portabella",
          "fiddlehead",
          "tree",
          "sugranineteen",
          "angelys",
          "bunch",
          "atemoyas",
          "milwa",
          "long",
          "pink",
          "mache",
          "peanuts",
          "white",
          "malanga",
          "emmons",
          "forelle",
          "amaranth",
          "pioppino",
          "wood",
          "crab",
          "purple",
          "grisette",
          "pitted",
          "spring",
          "pasilla",
          "plantain",
          "chayote",
          "mung",
          "cocktail",
          "galangal",
          "plumcot",
          "romanesco"
         ],
         "yaxis": "y"
        },
        {
         "hovertext": [
          "Ttl Time: MedLo",
          "Ttl Time: Low",
          "Ttl Time: MedLo",
          "Ttl Time: Low",
          "Ttl Time: MedLo",
          "Ttl Time: MedLo",
          "Ttl Time: MedHi",
          "Ttl Time: MedHi",
          "Ttl Time: Low",
          "Ttl Time: Low",
          "Ttl Time: Low",
          "Ttl Time: High Usage",
          "Ttl Time: MedHi",
          "Ttl Time: MedLo",
          "Ttl Time: MedHi",
          "Ttl Time: High Usage",
          "Ttl Time: MedHi",
          "Ttl Time: MedHi",
          "Ttl Time: MedHi",
          "Ttl Time: High Usage",
          "Ttl Time: MedHi",
          "Ttl Time: Low",
          "Ttl Time: MedLo",
          "Ttl Time: MedLo",
          "Ttl Time: MedLo",
          "Ttl Time: MedLo",
          "Ttl Time: High Usage",
          "Ttl Time: High Usage",
          "Ttl Time: Low",
          "Ttl Time: MedHi",
          "Ttl Time: High Usage",
          "Ttl Time: MedHi",
          "Ttl Time: High Usage",
          "Ttl Time: Low",
          "Ttl Time: MedLo",
          "Ttl Time: MedHi",
          "Ttl Time: MedHi",
          "Ttl Time: High Usage",
          "Ttl Time: High Usage",
          "Ttl Time: Low",
          "Ttl Time: High Usage",
          "Ttl Time: MedHi",
          "Ttl Time: MedHi",
          "Ttl Time: High Usage",
          "Ttl Time: MedLo",
          "Ttl Time: MedLo",
          "Ttl Time: MedHi",
          "Ttl Time: Low",
          "Ttl Time: High Usage",
          "Ttl Time: MedHi",
          "Ttl Time: High Usage",
          "Ttl Time: High Usage",
          "Ttl Time: High Usage",
          "Ttl Time: MedHi",
          "Ttl Time: High Usage",
          "Ttl Time: MedLo",
          "Ttl Time: Low",
          "Ttl Time: Low",
          "Ttl Time: MedLo",
          "Ttl Time: MedLo",
          "Ttl Time: High Usage",
          "Ttl Time: High Usage",
          "Ttl Time: MedLo",
          "Ttl Time: MedHi",
          "Ttl Time: MedLo",
          "Ttl Time: MedLo",
          "Ttl Time: Low",
          "Ttl Time: High Usage",
          "Ttl Time: MedHi",
          "Ttl Time: MedHi",
          "Ttl Time: MedHi",
          "Ttl Time: MedLo",
          "Ttl Time: High Usage",
          "Ttl Time: High Usage",
          "Ttl Time: High Usage",
          "Ttl Time: High Usage",
          "Ttl Time: MedLo",
          "Ttl Time: High Usage",
          "Ttl Time: High Usage",
          "Ttl Time: MedHi",
          "Ttl Time: MedLo",
          "Ttl Time: Low",
          "Ttl Time: MedLo",
          "Ttl Time: MedHi",
          "Ttl Time: MedLo",
          "Ttl Time: High Usage",
          "Ttl Time: MedHi",
          "Ttl Time: MedLo",
          "Ttl Time: MedLo",
          "Ttl Time: MedLo",
          "Ttl Time: Low",
          "Ttl Time: Low",
          "Ttl Time: High Usage",
          "Ttl Time: Low",
          "Ttl Time: Low",
          "Ttl Time: MedHi",
          "Ttl Time: Low",
          "Ttl Time: High Usage",
          "Ttl Time: High Usage",
          "Ttl Time: High Usage",
          "Ttl Time: MedLo",
          "Ttl Time: Low",
          "Ttl Time: High Usage",
          "Ttl Time: Low",
          "Ttl Time: High Usage",
          "Ttl Time: MedHi",
          "Ttl Time: MedLo",
          "Ttl Time: MedLo",
          "Ttl Time: Low",
          "Ttl Time: Low",
          "Ttl Time: MedLo",
          "Ttl Time: MedHi",
          "Ttl Time: Low",
          "Ttl Time: MedLo",
          "Ttl Time: Low",
          "Ttl Time: MedHi",
          "Ttl Time: Low",
          "Ttl Time: High Usage",
          "Ttl Time: MedHi",
          "Ttl Time: Low",
          "Ttl Time: MedHi",
          "Ttl Time: MedLo",
          "Ttl Time: MedLo",
          "Ttl Time: MedHi",
          "Ttl Time: MedHi",
          "Ttl Time: Low",
          "Ttl Time: Low",
          "Ttl Time: Low",
          "Ttl Time: Low",
          "Ttl Time: Low",
          "Ttl Time: Low"
         ],
         "name": "MedLo",
         "orientation": "h",
         "type": "bar",
         "x": [
          19.242147511449353,
          19.1854248046875,
          18.831345158139694,
          18.790826824848846,
          18.762750773136137,
          18.717631386171092,
          18.372202114968932,
          17.921640286396094,
          17.224428432146095,
          16.48548843433285,
          16.33574580483923,
          16.33458029075392,
          15.596064933181792,
          15.591676125369174,
          15.473762697404448,
          15.298049555759805,
          13.827386153371709,
          13.454960593928378,
          13.228214570713112,
          12.888218930577919,
          12.516594510560545,
          12.221423678927954,
          11.92761941841218,
          11.908094618055557,
          11.139667298149142,
          10.704528808593746,
          10.17958984375,
          9.277763203857821,
          9.18206981697284,
          8.94427490234375,
          8.60359990888383,
          8.115652901785715,
          8.078879492379249
         ],
         "xaxis": "x2",
         "y": [
          "bell",
          "ingrid",
          "orange",
          "muscat",
          "harovin",
          "clara",
          "almonds",
          "casaba",
          "bulk",
          "round",
          "cantared",
          "carambola",
          "key",
          "sharlin",
          "st",
          "lollo",
          "hearts",
          "bay",
          "large",
          "horn",
          "conference",
          "leaves",
          "bon",
          "oroblanco",
          "huaguan",
          "pecans",
          "kabocha",
          "sunburst",
          "tips",
          "pickling",
          "baby",
          "polk",
          "regal"
         ],
         "yaxis": "y2"
        },
        {
         "hovertext": [
          "Ttl Time: MedLo",
          "Ttl Time: Low",
          "Ttl Time: MedLo",
          "Ttl Time: Low",
          "Ttl Time: MedLo",
          "Ttl Time: MedLo",
          "Ttl Time: MedHi",
          "Ttl Time: MedHi",
          "Ttl Time: Low",
          "Ttl Time: Low",
          "Ttl Time: Low",
          "Ttl Time: High Usage",
          "Ttl Time: MedHi",
          "Ttl Time: MedLo",
          "Ttl Time: MedHi",
          "Ttl Time: High Usage",
          "Ttl Time: MedHi",
          "Ttl Time: MedHi",
          "Ttl Time: MedHi",
          "Ttl Time: High Usage",
          "Ttl Time: MedHi",
          "Ttl Time: Low",
          "Ttl Time: MedLo",
          "Ttl Time: MedLo",
          "Ttl Time: MedLo",
          "Ttl Time: MedLo",
          "Ttl Time: High Usage",
          "Ttl Time: High Usage",
          "Ttl Time: Low",
          "Ttl Time: MedHi",
          "Ttl Time: High Usage",
          "Ttl Time: MedHi",
          "Ttl Time: High Usage",
          "Ttl Time: Low",
          "Ttl Time: MedLo",
          "Ttl Time: MedHi",
          "Ttl Time: MedHi",
          "Ttl Time: High Usage",
          "Ttl Time: High Usage",
          "Ttl Time: Low",
          "Ttl Time: High Usage",
          "Ttl Time: MedHi",
          "Ttl Time: MedHi",
          "Ttl Time: High Usage",
          "Ttl Time: MedLo",
          "Ttl Time: MedLo",
          "Ttl Time: MedHi",
          "Ttl Time: Low",
          "Ttl Time: High Usage",
          "Ttl Time: MedHi",
          "Ttl Time: High Usage",
          "Ttl Time: High Usage",
          "Ttl Time: High Usage",
          "Ttl Time: MedHi",
          "Ttl Time: High Usage",
          "Ttl Time: MedLo",
          "Ttl Time: Low",
          "Ttl Time: Low",
          "Ttl Time: MedLo",
          "Ttl Time: MedLo",
          "Ttl Time: High Usage",
          "Ttl Time: High Usage",
          "Ttl Time: MedLo",
          "Ttl Time: MedHi",
          "Ttl Time: MedLo",
          "Ttl Time: MedLo",
          "Ttl Time: Low",
          "Ttl Time: High Usage",
          "Ttl Time: MedHi",
          "Ttl Time: MedHi",
          "Ttl Time: MedHi",
          "Ttl Time: MedLo",
          "Ttl Time: High Usage",
          "Ttl Time: High Usage",
          "Ttl Time: High Usage",
          "Ttl Time: High Usage",
          "Ttl Time: MedLo",
          "Ttl Time: High Usage",
          "Ttl Time: High Usage",
          "Ttl Time: MedHi",
          "Ttl Time: MedLo",
          "Ttl Time: Low",
          "Ttl Time: MedLo",
          "Ttl Time: MedHi",
          "Ttl Time: MedLo",
          "Ttl Time: High Usage",
          "Ttl Time: MedHi",
          "Ttl Time: MedLo",
          "Ttl Time: MedLo",
          "Ttl Time: MedLo",
          "Ttl Time: Low",
          "Ttl Time: Low",
          "Ttl Time: High Usage",
          "Ttl Time: Low",
          "Ttl Time: Low",
          "Ttl Time: MedHi",
          "Ttl Time: Low",
          "Ttl Time: High Usage",
          "Ttl Time: High Usage",
          "Ttl Time: High Usage",
          "Ttl Time: MedLo",
          "Ttl Time: Low",
          "Ttl Time: High Usage",
          "Ttl Time: Low",
          "Ttl Time: High Usage",
          "Ttl Time: MedHi",
          "Ttl Time: MedLo",
          "Ttl Time: MedLo",
          "Ttl Time: Low",
          "Ttl Time: Low",
          "Ttl Time: MedLo",
          "Ttl Time: MedHi",
          "Ttl Time: Low",
          "Ttl Time: MedLo",
          "Ttl Time: Low",
          "Ttl Time: MedHi",
          "Ttl Time: Low",
          "Ttl Time: High Usage",
          "Ttl Time: MedHi",
          "Ttl Time: Low",
          "Ttl Time: MedHi",
          "Ttl Time: MedLo",
          "Ttl Time: MedLo",
          "Ttl Time: MedHi",
          "Ttl Time: MedHi",
          "Ttl Time: Low",
          "Ttl Time: Low",
          "Ttl Time: Low",
          "Ttl Time: Low",
          "Ttl Time: Low",
          "Ttl Time: Low"
         ],
         "name": "MedHi",
         "orientation": "h",
         "type": "bar",
         "x": [
          34.07633928571429,
          34.04440058479532,
          33.94084991368625,
          33.73297533798723,
          33.067375932983,
          32.199326869857245,
          31.93016774016145,
          31.41445658679769,
          31.165341163749144,
          30.88002677008931,
          30.552786528903216,
          29.96610013242999,
          29.874295347674767,
          29.096139185271664,
          28.40411452930498,
          28.027794410529633,
          27.632473182225166,
          26.954194922819546,
          25.763699367930283,
          25.542289751192413,
          25.537871304946986,
          24.90250602849389,
          24.52575680015025,
          24.066994006817158,
          23.32330238655821,
          23.129582093253852,
          22.279738193354266,
          21.941592627620782,
          21.155649212240764,
          21.09096517814597,
          20.986434717668864,
          20.08544847328245
         ],
         "xaxis": "x3",
         "y": [
          "nino",
          "dill",
          "treviso",
          "alkmene",
          "mixed",
          "minnewashta",
          "yu",
          "cep",
          "thomcord",
          "belle",
          "bertanne",
          "cactus",
          "lemon",
          "baking",
          "cinnabar",
          "winged",
          "kinnow",
          "garlic",
          "cms_lowprio",
          "galia",
          "brazilnuts",
          "lychees",
          "bibb",
          "water",
          "lochbuie",
          "concord",
          "fairchild",
          "chickpeas",
          "cms",
          "celery",
          "blackberries",
          "serrano"
         ],
         "yaxis": "y3"
        },
        {
         "hovertext": [
          "Ttl Time: MedLo",
          "Ttl Time: Low",
          "Ttl Time: MedLo",
          "Ttl Time: Low",
          "Ttl Time: MedLo",
          "Ttl Time: MedLo",
          "Ttl Time: MedHi",
          "Ttl Time: MedHi",
          "Ttl Time: Low",
          "Ttl Time: Low",
          "Ttl Time: Low",
          "Ttl Time: High Usage",
          "Ttl Time: MedHi",
          "Ttl Time: MedLo",
          "Ttl Time: MedHi",
          "Ttl Time: High Usage",
          "Ttl Time: MedHi",
          "Ttl Time: MedHi",
          "Ttl Time: MedHi",
          "Ttl Time: High Usage",
          "Ttl Time: MedHi",
          "Ttl Time: Low",
          "Ttl Time: MedLo",
          "Ttl Time: MedLo",
          "Ttl Time: MedLo",
          "Ttl Time: MedLo",
          "Ttl Time: High Usage",
          "Ttl Time: High Usage",
          "Ttl Time: Low",
          "Ttl Time: MedHi",
          "Ttl Time: High Usage",
          "Ttl Time: MedHi",
          "Ttl Time: High Usage",
          "Ttl Time: Low",
          "Ttl Time: MedLo",
          "Ttl Time: MedHi",
          "Ttl Time: MedHi",
          "Ttl Time: High Usage",
          "Ttl Time: High Usage",
          "Ttl Time: Low",
          "Ttl Time: High Usage",
          "Ttl Time: MedHi",
          "Ttl Time: MedHi",
          "Ttl Time: High Usage",
          "Ttl Time: MedLo",
          "Ttl Time: MedLo",
          "Ttl Time: MedHi",
          "Ttl Time: Low",
          "Ttl Time: High Usage",
          "Ttl Time: MedHi",
          "Ttl Time: High Usage",
          "Ttl Time: High Usage",
          "Ttl Time: High Usage",
          "Ttl Time: MedHi",
          "Ttl Time: High Usage",
          "Ttl Time: MedLo",
          "Ttl Time: Low",
          "Ttl Time: Low",
          "Ttl Time: MedLo",
          "Ttl Time: MedLo",
          "Ttl Time: High Usage",
          "Ttl Time: High Usage",
          "Ttl Time: MedLo",
          "Ttl Time: MedHi",
          "Ttl Time: MedLo",
          "Ttl Time: MedLo",
          "Ttl Time: Low",
          "Ttl Time: High Usage",
          "Ttl Time: MedHi",
          "Ttl Time: MedHi",
          "Ttl Time: MedHi",
          "Ttl Time: MedLo",
          "Ttl Time: High Usage",
          "Ttl Time: High Usage",
          "Ttl Time: High Usage",
          "Ttl Time: High Usage",
          "Ttl Time: MedLo",
          "Ttl Time: High Usage",
          "Ttl Time: High Usage",
          "Ttl Time: MedHi",
          "Ttl Time: MedLo",
          "Ttl Time: Low",
          "Ttl Time: MedLo",
          "Ttl Time: MedHi",
          "Ttl Time: MedLo",
          "Ttl Time: High Usage",
          "Ttl Time: MedHi",
          "Ttl Time: MedLo",
          "Ttl Time: MedLo",
          "Ttl Time: MedLo",
          "Ttl Time: Low",
          "Ttl Time: Low",
          "Ttl Time: High Usage",
          "Ttl Time: Low",
          "Ttl Time: Low",
          "Ttl Time: MedHi",
          "Ttl Time: Low",
          "Ttl Time: High Usage",
          "Ttl Time: High Usage",
          "Ttl Time: High Usage",
          "Ttl Time: MedLo",
          "Ttl Time: Low",
          "Ttl Time: High Usage",
          "Ttl Time: Low",
          "Ttl Time: High Usage",
          "Ttl Time: MedHi",
          "Ttl Time: MedLo",
          "Ttl Time: MedLo",
          "Ttl Time: Low",
          "Ttl Time: Low",
          "Ttl Time: MedLo",
          "Ttl Time: MedHi",
          "Ttl Time: Low",
          "Ttl Time: MedLo",
          "Ttl Time: Low",
          "Ttl Time: MedHi",
          "Ttl Time: Low",
          "Ttl Time: High Usage",
          "Ttl Time: MedHi",
          "Ttl Time: Low",
          "Ttl Time: MedHi",
          "Ttl Time: MedLo",
          "Ttl Time: MedLo",
          "Ttl Time: MedHi",
          "Ttl Time: MedHi",
          "Ttl Time: Low",
          "Ttl Time: Low",
          "Ttl Time: Low",
          "Ttl Time: Low",
          "Ttl Time: Low",
          "Ttl Time: Low"
         ],
         "name": "High",
         "orientation": "h",
         "type": "bar",
         "x": [
          68.92778486027015,
          68.4744140625,
          67.29043056178632,
          66.36469275210082,
          61.747769442471586,
          59.632035784884785,
          58.403407466539434,
          57.58980617143566,
          54.54339409202471,
          53.85030837194389,
          53.60834627096316,
          52.624250919785595,
          52.026673614706795,
          51.78338304020298,
          51.76838912424634,
          50.5396738613419,
          49.8065952377382,
          48.016498412978294,
          45.99732030119525,
          44.21033036046793,
          44.04864043912982,
          43.91925388313609,
          43.82939265914716,
          40.09142373167785,
          39.503507018049596,
          38.450085717833055,
          38.0166603736795,
          37.34537868992398,
          37.11833973041587,
          36.840468756114966,
          35.39413522798566,
          34.937457372005355,
          34.58717176306902
         ],
         "xaxis": "x4",
         "y": [
          "medium",
          "mignonette",
          "strawberries",
          "antares",
          "shell",
          "shiny",
          "jicama",
          "texas",
          "arra",
          "shallots",
          "roasted",
          "summer",
          "chasselas",
          "pinova",
          "delblush",
          "wax",
          "sturmer",
          "chipilin",
          "seeded",
          "retailer",
          "burro",
          "kumquat",
          "broccoli",
          "pepino",
          "cmsadmin",
          "josephine",
          "horseradish",
          "sweet",
          "rocha",
          "sunflower",
          "carrot",
          "anise",
          "fresh"
         ],
         "yaxis": "y4"
        }
       ],
       "layout": {
        "annotations": [
         {
          "font": {
           "size": 16
          },
          "showarrow": false,
          "text": "Low Efficiency",
          "x": 0.2,
          "xanchor": "center",
          "xref": "paper",
          "y": 1,
          "yanchor": "bottom",
          "yref": "paper"
         },
         {
          "font": {
           "size": 16
          },
          "showarrow": false,
          "text": "MedLo Efficiency",
          "x": 0.8,
          "xanchor": "center",
          "xref": "paper",
          "y": 1,
          "yanchor": "bottom",
          "yref": "paper"
         },
         {
          "font": {
           "size": 16
          },
          "showarrow": false,
          "text": "MedHi Efficiency",
          "x": 0.2,
          "xanchor": "center",
          "xref": "paper",
          "y": 0.45,
          "yanchor": "bottom",
          "yref": "paper"
         },
         {
          "font": {
           "size": 16
          },
          "showarrow": false,
          "text": "High Efficiency",
          "x": 0.8,
          "xanchor": "center",
          "xref": "paper",
          "y": 0.45,
          "yanchor": "bottom",
          "yref": "paper"
         }
        ],
        "height": 1000,
        "showlegend": false,
        "template": {
         "data": {
          "bar": [
           {
            "error_x": {
             "color": "#2a3f5f"
            },
            "error_y": {
             "color": "#2a3f5f"
            },
            "marker": {
             "line": {
              "color": "#E5ECF6",
              "width": 0.5
             }
            },
            "type": "bar"
           }
          ],
          "barpolar": [
           {
            "marker": {
             "line": {
              "color": "#E5ECF6",
              "width": 0.5
             }
            },
            "type": "barpolar"
           }
          ],
          "carpet": [
           {
            "aaxis": {
             "endlinecolor": "#2a3f5f",
             "gridcolor": "white",
             "linecolor": "white",
             "minorgridcolor": "white",
             "startlinecolor": "#2a3f5f"
            },
            "baxis": {
             "endlinecolor": "#2a3f5f",
             "gridcolor": "white",
             "linecolor": "white",
             "minorgridcolor": "white",
             "startlinecolor": "#2a3f5f"
            },
            "type": "carpet"
           }
          ],
          "choropleth": [
           {
            "colorbar": {
             "outlinewidth": 0,
             "ticks": ""
            },
            "type": "choropleth"
           }
          ],
          "contour": [
           {
            "colorbar": {
             "outlinewidth": 0,
             "ticks": ""
            },
            "colorscale": [
             [
              0,
              "#0d0887"
             ],
             [
              0.1111111111111111,
              "#46039f"
             ],
             [
              0.2222222222222222,
              "#7201a8"
             ],
             [
              0.3333333333333333,
              "#9c179e"
             ],
             [
              0.4444444444444444,
              "#bd3786"
             ],
             [
              0.5555555555555556,
              "#d8576b"
             ],
             [
              0.6666666666666666,
              "#ed7953"
             ],
             [
              0.7777777777777778,
              "#fb9f3a"
             ],
             [
              0.8888888888888888,
              "#fdca26"
             ],
             [
              1,
              "#f0f921"
             ]
            ],
            "type": "contour"
           }
          ],
          "contourcarpet": [
           {
            "colorbar": {
             "outlinewidth": 0,
             "ticks": ""
            },
            "type": "contourcarpet"
           }
          ],
          "heatmap": [
           {
            "colorbar": {
             "outlinewidth": 0,
             "ticks": ""
            },
            "colorscale": [
             [
              0,
              "#0d0887"
             ],
             [
              0.1111111111111111,
              "#46039f"
             ],
             [
              0.2222222222222222,
              "#7201a8"
             ],
             [
              0.3333333333333333,
              "#9c179e"
             ],
             [
              0.4444444444444444,
              "#bd3786"
             ],
             [
              0.5555555555555556,
              "#d8576b"
             ],
             [
              0.6666666666666666,
              "#ed7953"
             ],
             [
              0.7777777777777778,
              "#fb9f3a"
             ],
             [
              0.8888888888888888,
              "#fdca26"
             ],
             [
              1,
              "#f0f921"
             ]
            ],
            "type": "heatmap"
           }
          ],
          "heatmapgl": [
           {
            "colorbar": {
             "outlinewidth": 0,
             "ticks": ""
            },
            "colorscale": [
             [
              0,
              "#0d0887"
             ],
             [
              0.1111111111111111,
              "#46039f"
             ],
             [
              0.2222222222222222,
              "#7201a8"
             ],
             [
              0.3333333333333333,
              "#9c179e"
             ],
             [
              0.4444444444444444,
              "#bd3786"
             ],
             [
              0.5555555555555556,
              "#d8576b"
             ],
             [
              0.6666666666666666,
              "#ed7953"
             ],
             [
              0.7777777777777778,
              "#fb9f3a"
             ],
             [
              0.8888888888888888,
              "#fdca26"
             ],
             [
              1,
              "#f0f921"
             ]
            ],
            "type": "heatmapgl"
           }
          ],
          "histogram": [
           {
            "marker": {
             "colorbar": {
              "outlinewidth": 0,
              "ticks": ""
             }
            },
            "type": "histogram"
           }
          ],
          "histogram2d": [
           {
            "colorbar": {
             "outlinewidth": 0,
             "ticks": ""
            },
            "colorscale": [
             [
              0,
              "#0d0887"
             ],
             [
              0.1111111111111111,
              "#46039f"
             ],
             [
              0.2222222222222222,
              "#7201a8"
             ],
             [
              0.3333333333333333,
              "#9c179e"
             ],
             [
              0.4444444444444444,
              "#bd3786"
             ],
             [
              0.5555555555555556,
              "#d8576b"
             ],
             [
              0.6666666666666666,
              "#ed7953"
             ],
             [
              0.7777777777777778,
              "#fb9f3a"
             ],
             [
              0.8888888888888888,
              "#fdca26"
             ],
             [
              1,
              "#f0f921"
             ]
            ],
            "type": "histogram2d"
           }
          ],
          "histogram2dcontour": [
           {
            "colorbar": {
             "outlinewidth": 0,
             "ticks": ""
            },
            "colorscale": [
             [
              0,
              "#0d0887"
             ],
             [
              0.1111111111111111,
              "#46039f"
             ],
             [
              0.2222222222222222,
              "#7201a8"
             ],
             [
              0.3333333333333333,
              "#9c179e"
             ],
             [
              0.4444444444444444,
              "#bd3786"
             ],
             [
              0.5555555555555556,
              "#d8576b"
             ],
             [
              0.6666666666666666,
              "#ed7953"
             ],
             [
              0.7777777777777778,
              "#fb9f3a"
             ],
             [
              0.8888888888888888,
              "#fdca26"
             ],
             [
              1,
              "#f0f921"
             ]
            ],
            "type": "histogram2dcontour"
           }
          ],
          "mesh3d": [
           {
            "colorbar": {
             "outlinewidth": 0,
             "ticks": ""
            },
            "type": "mesh3d"
           }
          ],
          "parcoords": [
           {
            "line": {
             "colorbar": {
              "outlinewidth": 0,
              "ticks": ""
             }
            },
            "type": "parcoords"
           }
          ],
          "pie": [
           {
            "automargin": true,
            "type": "pie"
           }
          ],
          "scatter": [
           {
            "marker": {
             "colorbar": {
              "outlinewidth": 0,
              "ticks": ""
             }
            },
            "type": "scatter"
           }
          ],
          "scatter3d": [
           {
            "line": {
             "colorbar": {
              "outlinewidth": 0,
              "ticks": ""
             }
            },
            "marker": {
             "colorbar": {
              "outlinewidth": 0,
              "ticks": ""
             }
            },
            "type": "scatter3d"
           }
          ],
          "scattercarpet": [
           {
            "marker": {
             "colorbar": {
              "outlinewidth": 0,
              "ticks": ""
             }
            },
            "type": "scattercarpet"
           }
          ],
          "scattergeo": [
           {
            "marker": {
             "colorbar": {
              "outlinewidth": 0,
              "ticks": ""
             }
            },
            "type": "scattergeo"
           }
          ],
          "scattergl": [
           {
            "marker": {
             "colorbar": {
              "outlinewidth": 0,
              "ticks": ""
             }
            },
            "type": "scattergl"
           }
          ],
          "scattermapbox": [
           {
            "marker": {
             "colorbar": {
              "outlinewidth": 0,
              "ticks": ""
             }
            },
            "type": "scattermapbox"
           }
          ],
          "scatterpolar": [
           {
            "marker": {
             "colorbar": {
              "outlinewidth": 0,
              "ticks": ""
             }
            },
            "type": "scatterpolar"
           }
          ],
          "scatterpolargl": [
           {
            "marker": {
             "colorbar": {
              "outlinewidth": 0,
              "ticks": ""
             }
            },
            "type": "scatterpolargl"
           }
          ],
          "scatterternary": [
           {
            "marker": {
             "colorbar": {
              "outlinewidth": 0,
              "ticks": ""
             }
            },
            "type": "scatterternary"
           }
          ],
          "surface": [
           {
            "colorbar": {
             "outlinewidth": 0,
             "ticks": ""
            },
            "colorscale": [
             [
              0,
              "#0d0887"
             ],
             [
              0.1111111111111111,
              "#46039f"
             ],
             [
              0.2222222222222222,
              "#7201a8"
             ],
             [
              0.3333333333333333,
              "#9c179e"
             ],
             [
              0.4444444444444444,
              "#bd3786"
             ],
             [
              0.5555555555555556,
              "#d8576b"
             ],
             [
              0.6666666666666666,
              "#ed7953"
             ],
             [
              0.7777777777777778,
              "#fb9f3a"
             ],
             [
              0.8888888888888888,
              "#fdca26"
             ],
             [
              1,
              "#f0f921"
             ]
            ],
            "type": "surface"
           }
          ],
          "table": [
           {
            "cells": {
             "fill": {
              "color": "#EBF0F8"
             },
             "line": {
              "color": "white"
             }
            },
            "header": {
             "fill": {
              "color": "#C8D4E3"
             },
             "line": {
              "color": "white"
             }
            },
            "type": "table"
           }
          ]
         },
         "layout": {
          "annotationdefaults": {
           "arrowcolor": "#2a3f5f",
           "arrowhead": 0,
           "arrowwidth": 1
          },
          "coloraxis": {
           "colorbar": {
            "outlinewidth": 0,
            "ticks": ""
           }
          },
          "colorscale": {
           "diverging": [
            [
             0,
             "#8e0152"
            ],
            [
             0.1,
             "#c51b7d"
            ],
            [
             0.2,
             "#de77ae"
            ],
            [
             0.3,
             "#f1b6da"
            ],
            [
             0.4,
             "#fde0ef"
            ],
            [
             0.5,
             "#f7f7f7"
            ],
            [
             0.6,
             "#e6f5d0"
            ],
            [
             0.7,
             "#b8e186"
            ],
            [
             0.8,
             "#7fbc41"
            ],
            [
             0.9,
             "#4d9221"
            ],
            [
             1,
             "#276419"
            ]
           ],
           "sequential": [
            [
             0,
             "#0d0887"
            ],
            [
             0.1111111111111111,
             "#46039f"
            ],
            [
             0.2222222222222222,
             "#7201a8"
            ],
            [
             0.3333333333333333,
             "#9c179e"
            ],
            [
             0.4444444444444444,
             "#bd3786"
            ],
            [
             0.5555555555555556,
             "#d8576b"
            ],
            [
             0.6666666666666666,
             "#ed7953"
            ],
            [
             0.7777777777777778,
             "#fb9f3a"
            ],
            [
             0.8888888888888888,
             "#fdca26"
            ],
            [
             1,
             "#f0f921"
            ]
           ],
           "sequentialminus": [
            [
             0,
             "#0d0887"
            ],
            [
             0.1111111111111111,
             "#46039f"
            ],
            [
             0.2222222222222222,
             "#7201a8"
            ],
            [
             0.3333333333333333,
             "#9c179e"
            ],
            [
             0.4444444444444444,
             "#bd3786"
            ],
            [
             0.5555555555555556,
             "#d8576b"
            ],
            [
             0.6666666666666666,
             "#ed7953"
            ],
            [
             0.7777777777777778,
             "#fb9f3a"
            ],
            [
             0.8888888888888888,
             "#fdca26"
            ],
            [
             1,
             "#f0f921"
            ]
           ]
          },
          "colorway": [
           "#636efa",
           "#EF553B",
           "#00cc96",
           "#ab63fa",
           "#FFA15A",
           "#19d3f3",
           "#FF6692",
           "#B6E880",
           "#FF97FF",
           "#FECB52"
          ],
          "font": {
           "color": "#2a3f5f"
          },
          "geo": {
           "bgcolor": "white",
           "lakecolor": "white",
           "landcolor": "#E5ECF6",
           "showlakes": true,
           "showland": true,
           "subunitcolor": "white"
          },
          "hoverlabel": {
           "align": "left"
          },
          "hovermode": "closest",
          "mapbox": {
           "style": "light"
          },
          "paper_bgcolor": "white",
          "plot_bgcolor": "#E5ECF6",
          "polar": {
           "angularaxis": {
            "gridcolor": "white",
            "linecolor": "white",
            "ticks": ""
           },
           "bgcolor": "#E5ECF6",
           "radialaxis": {
            "gridcolor": "white",
            "linecolor": "white",
            "ticks": ""
           }
          },
          "scene": {
           "xaxis": {
            "backgroundcolor": "#E5ECF6",
            "gridcolor": "white",
            "gridwidth": 2,
            "linecolor": "white",
            "showbackground": true,
            "ticks": "",
            "zerolinecolor": "white"
           },
           "yaxis": {
            "backgroundcolor": "#E5ECF6",
            "gridcolor": "white",
            "gridwidth": 2,
            "linecolor": "white",
            "showbackground": true,
            "ticks": "",
            "zerolinecolor": "white"
           },
           "zaxis": {
            "backgroundcolor": "#E5ECF6",
            "gridcolor": "white",
            "gridwidth": 2,
            "linecolor": "white",
            "showbackground": true,
            "ticks": "",
            "zerolinecolor": "white"
           }
          },
          "shapedefaults": {
           "line": {
            "color": "#2a3f5f"
           }
          },
          "ternary": {
           "aaxis": {
            "gridcolor": "white",
            "linecolor": "white",
            "ticks": ""
           },
           "baxis": {
            "gridcolor": "white",
            "linecolor": "white",
            "ticks": ""
           },
           "bgcolor": "#E5ECF6",
           "caxis": {
            "gridcolor": "white",
            "linecolor": "white",
            "ticks": ""
           }
          },
          "title": {
           "x": 0.05
          },
          "xaxis": {
           "automargin": true,
           "gridcolor": "white",
           "linecolor": "white",
           "ticks": "",
           "title": {
            "standoff": 15
           },
           "zerolinecolor": "white",
           "zerolinewidth": 2
          },
          "yaxis": {
           "automargin": true,
           "gridcolor": "white",
           "linecolor": "white",
           "ticks": "",
           "title": {
            "standoff": 15
           },
           "zerolinecolor": "white",
           "zerolinewidth": 2
          }
         }
        },
        "title": {
         "text": "ACCRE Accounts: Memory Usage as Percent of Memory Requested"
        },
        "xaxis": {
         "anchor": "y",
         "domain": [
          0,
          0.4
         ]
        },
        "xaxis2": {
         "anchor": "y2",
         "domain": [
          0.6000000000000001,
          1
         ],
         "range": [
          7.51639956298121,
          21.242147511449353
         ]
        },
        "xaxis3": {
         "anchor": "y3",
         "domain": [
          0,
          0.4
         ],
         "range": [
          18.742147511449353,
          36.33175552439165
         ]
        },
        "xaxis4": {
         "anchor": "y4",
         "domain": [
          0.6000000000000001,
          1
         ],
         "range": [
          33.83175552439165,
          70.92778486027015
         ]
        },
        "yaxis": {
         "anchor": "x",
         "domain": [
          0.55,
          1
         ],
         "type": "category"
        },
        "yaxis2": {
         "anchor": "x2",
         "domain": [
          0.55,
          1
         ],
         "type": "category"
        },
        "yaxis3": {
         "anchor": "x3",
         "domain": [
          0,
          0.45
         ],
         "type": "category"
        },
        "yaxis4": {
         "anchor": "x4",
         "domain": [
          0,
          0.45
         ],
         "type": "category"
        }
       }
      },
      "text/html": [
       "<div>                            <div id=\"0f24e465-648f-4fa2-a2fc-cc98775f05d3\" class=\"plotly-graph-div\" style=\"height:1000px; width:100%;\"></div>            <script type=\"text/javascript\">                require([\"plotly\"], function(Plotly) {                    window.PLOTLYENV=window.PLOTLYENV || {};                                    if (document.getElementById(\"0f24e465-648f-4fa2-a2fc-cc98775f05d3\")) {                    Plotly.newPlot(                        \"0f24e465-648f-4fa2-a2fc-cc98775f05d3\",                        [{\"hovertext\": [\"Ttl Time: MedLo\", \"Ttl Time: Low\", \"Ttl Time: MedLo\", \"Ttl Time: Low\", \"Ttl Time: MedLo\", \"Ttl Time: MedLo\", \"Ttl Time: MedHi\", \"Ttl Time: MedHi\", \"Ttl Time: Low\", \"Ttl Time: Low\", \"Ttl Time: Low\", \"Ttl Time: High Usage\", \"Ttl Time: MedHi\", \"Ttl Time: MedLo\", \"Ttl Time: MedHi\", \"Ttl Time: High Usage\", \"Ttl Time: MedHi\", \"Ttl Time: MedHi\", \"Ttl Time: MedHi\", \"Ttl Time: High Usage\", \"Ttl Time: MedHi\", \"Ttl Time: Low\", \"Ttl Time: MedLo\", \"Ttl Time: MedLo\", \"Ttl Time: MedLo\", \"Ttl Time: MedLo\", \"Ttl Time: High Usage\", \"Ttl Time: High Usage\", \"Ttl Time: Low\", \"Ttl Time: MedHi\", \"Ttl Time: High Usage\", \"Ttl Time: MedHi\", \"Ttl Time: High Usage\", \"Ttl Time: Low\", \"Ttl Time: MedLo\", \"Ttl Time: MedHi\", \"Ttl Time: MedHi\", \"Ttl Time: High Usage\", \"Ttl Time: High Usage\", \"Ttl Time: Low\", \"Ttl Time: High Usage\", \"Ttl Time: MedHi\", \"Ttl Time: MedHi\", \"Ttl Time: High Usage\", \"Ttl Time: MedLo\", \"Ttl Time: MedLo\", \"Ttl Time: MedHi\", \"Ttl Time: Low\", \"Ttl Time: High Usage\", \"Ttl Time: MedHi\", \"Ttl Time: High Usage\", \"Ttl Time: High Usage\", \"Ttl Time: High Usage\", \"Ttl Time: MedHi\", \"Ttl Time: High Usage\", \"Ttl Time: MedLo\", \"Ttl Time: Low\", \"Ttl Time: Low\", \"Ttl Time: MedLo\", \"Ttl Time: MedLo\", \"Ttl Time: High Usage\", \"Ttl Time: High Usage\", \"Ttl Time: MedLo\", \"Ttl Time: MedHi\", \"Ttl Time: MedLo\", \"Ttl Time: MedLo\", \"Ttl Time: Low\", \"Ttl Time: High Usage\", \"Ttl Time: MedHi\", \"Ttl Time: MedHi\", \"Ttl Time: MedHi\", \"Ttl Time: MedLo\", \"Ttl Time: High Usage\", \"Ttl Time: High Usage\", \"Ttl Time: High Usage\", \"Ttl Time: High Usage\", \"Ttl Time: MedLo\", \"Ttl Time: High Usage\", \"Ttl Time: High Usage\", \"Ttl Time: MedHi\", \"Ttl Time: MedLo\", \"Ttl Time: Low\", \"Ttl Time: MedLo\", \"Ttl Time: MedHi\", \"Ttl Time: MedLo\", \"Ttl Time: High Usage\", \"Ttl Time: MedHi\", \"Ttl Time: MedLo\", \"Ttl Time: MedLo\", \"Ttl Time: MedLo\", \"Ttl Time: Low\", \"Ttl Time: Low\", \"Ttl Time: High Usage\", \"Ttl Time: Low\", \"Ttl Time: Low\", \"Ttl Time: MedHi\", \"Ttl Time: Low\", \"Ttl Time: High Usage\", \"Ttl Time: High Usage\", \"Ttl Time: High Usage\", \"Ttl Time: MedLo\", \"Ttl Time: Low\", \"Ttl Time: High Usage\", \"Ttl Time: Low\", \"Ttl Time: High Usage\", \"Ttl Time: MedHi\", \"Ttl Time: MedLo\", \"Ttl Time: MedLo\", \"Ttl Time: Low\", \"Ttl Time: Low\", \"Ttl Time: MedLo\", \"Ttl Time: MedHi\", \"Ttl Time: Low\", \"Ttl Time: MedLo\", \"Ttl Time: Low\", \"Ttl Time: MedHi\", \"Ttl Time: Low\", \"Ttl Time: High Usage\", \"Ttl Time: MedHi\", \"Ttl Time: Low\", \"Ttl Time: MedHi\", \"Ttl Time: MedLo\", \"Ttl Time: MedLo\", \"Ttl Time: MedHi\", \"Ttl Time: MedHi\", \"Ttl Time: Low\", \"Ttl Time: Low\", \"Ttl Time: Low\", \"Ttl Time: Low\", \"Ttl Time: Low\", \"Ttl Time: Low\"], \"name\": \"Low\", \"orientation\": \"h\", \"type\": \"bar\", \"x\": [7.9539196335831726, 7.1238021815338755, 6.4189015981313355, 6.17041015625, 6.009620840188816, 5.991536458333333, 5.8198443859677855, 5.783135959846256, 5.77048957881025, 4.796573511651941, 4.61834716796875, 4.393521012931035, 4.352862540849664, 4.203267774817801, 4.10491943359375, 3.6732605397259483, 3.6688354492187507, 3.322450073242183, 2.9652709960937504, 2.5426949713246727, 2.4634072204843034, 2.26708984375, 1.9226966784166428, 1.894597716478524, 1.7550307135517405, 1.5564650052216153, 1.551092773577255, 1.4992937173782124, 1.111083984375, 0.547119140625, 0.47476246136095535, 0.22151692708333331, 0.178466796875], \"xaxis\": \"x\", \"y\": [\"boysenberries\", \"portabella\", \"fiddlehead\", \"tree\", \"sugranineteen\", \"angelys\", \"bunch\", \"atemoyas\", \"milwa\", \"long\", \"pink\", \"mache\", \"peanuts\", \"white\", \"malanga\", \"emmons\", \"forelle\", \"amaranth\", \"pioppino\", \"wood\", \"crab\", \"purple\", \"grisette\", \"pitted\", \"spring\", \"pasilla\", \"plantain\", \"chayote\", \"mung\", \"cocktail\", \"galangal\", \"plumcot\", \"romanesco\"], \"yaxis\": \"y\"}, {\"hovertext\": [\"Ttl Time: MedLo\", \"Ttl Time: Low\", \"Ttl Time: MedLo\", \"Ttl Time: Low\", \"Ttl Time: MedLo\", \"Ttl Time: MedLo\", \"Ttl Time: MedHi\", \"Ttl Time: MedHi\", \"Ttl Time: Low\", \"Ttl Time: Low\", \"Ttl Time: Low\", \"Ttl Time: High Usage\", \"Ttl Time: MedHi\", \"Ttl Time: MedLo\", \"Ttl Time: MedHi\", \"Ttl Time: High Usage\", \"Ttl Time: MedHi\", \"Ttl Time: MedHi\", \"Ttl Time: MedHi\", \"Ttl Time: High Usage\", \"Ttl Time: MedHi\", \"Ttl Time: Low\", \"Ttl Time: MedLo\", \"Ttl Time: MedLo\", \"Ttl Time: MedLo\", \"Ttl Time: MedLo\", \"Ttl Time: High Usage\", \"Ttl Time: High Usage\", \"Ttl Time: Low\", \"Ttl Time: MedHi\", \"Ttl Time: High Usage\", \"Ttl Time: MedHi\", \"Ttl Time: High Usage\", \"Ttl Time: Low\", \"Ttl Time: MedLo\", \"Ttl Time: MedHi\", \"Ttl Time: MedHi\", \"Ttl Time: High Usage\", \"Ttl Time: High Usage\", \"Ttl Time: Low\", \"Ttl Time: High Usage\", \"Ttl Time: MedHi\", \"Ttl Time: MedHi\", \"Ttl Time: High Usage\", \"Ttl Time: MedLo\", \"Ttl Time: MedLo\", \"Ttl Time: MedHi\", \"Ttl Time: Low\", \"Ttl Time: High Usage\", \"Ttl Time: MedHi\", \"Ttl Time: High Usage\", \"Ttl Time: High Usage\", \"Ttl Time: High Usage\", \"Ttl Time: MedHi\", \"Ttl Time: High Usage\", \"Ttl Time: MedLo\", \"Ttl Time: Low\", \"Ttl Time: Low\", \"Ttl Time: MedLo\", \"Ttl Time: MedLo\", \"Ttl Time: High Usage\", \"Ttl Time: High Usage\", \"Ttl Time: MedLo\", \"Ttl Time: MedHi\", \"Ttl Time: MedLo\", \"Ttl Time: MedLo\", \"Ttl Time: Low\", \"Ttl Time: High Usage\", \"Ttl Time: MedHi\", \"Ttl Time: MedHi\", \"Ttl Time: MedHi\", \"Ttl Time: MedLo\", \"Ttl Time: High Usage\", \"Ttl Time: High Usage\", \"Ttl Time: High Usage\", \"Ttl Time: High Usage\", \"Ttl Time: MedLo\", \"Ttl Time: High Usage\", \"Ttl Time: High Usage\", \"Ttl Time: MedHi\", \"Ttl Time: MedLo\", \"Ttl Time: Low\", \"Ttl Time: MedLo\", \"Ttl Time: MedHi\", \"Ttl Time: MedLo\", \"Ttl Time: High Usage\", \"Ttl Time: MedHi\", \"Ttl Time: MedLo\", \"Ttl Time: MedLo\", \"Ttl Time: MedLo\", \"Ttl Time: Low\", \"Ttl Time: Low\", \"Ttl Time: High Usage\", \"Ttl Time: Low\", \"Ttl Time: Low\", \"Ttl Time: MedHi\", \"Ttl Time: Low\", \"Ttl Time: High Usage\", \"Ttl Time: High Usage\", \"Ttl Time: High Usage\", \"Ttl Time: MedLo\", \"Ttl Time: Low\", \"Ttl Time: High Usage\", \"Ttl Time: Low\", \"Ttl Time: High Usage\", \"Ttl Time: MedHi\", \"Ttl Time: MedLo\", \"Ttl Time: MedLo\", \"Ttl Time: Low\", \"Ttl Time: Low\", \"Ttl Time: MedLo\", \"Ttl Time: MedHi\", \"Ttl Time: Low\", \"Ttl Time: MedLo\", \"Ttl Time: Low\", \"Ttl Time: MedHi\", \"Ttl Time: Low\", \"Ttl Time: High Usage\", \"Ttl Time: MedHi\", \"Ttl Time: Low\", \"Ttl Time: MedHi\", \"Ttl Time: MedLo\", \"Ttl Time: MedLo\", \"Ttl Time: MedHi\", \"Ttl Time: MedHi\", \"Ttl Time: Low\", \"Ttl Time: Low\", \"Ttl Time: Low\", \"Ttl Time: Low\", \"Ttl Time: Low\", \"Ttl Time: Low\"], \"name\": \"MedLo\", \"orientation\": \"h\", \"type\": \"bar\", \"x\": [19.242147511449353, 19.1854248046875, 18.831345158139694, 18.790826824848846, 18.762750773136137, 18.717631386171092, 18.372202114968932, 17.921640286396094, 17.224428432146095, 16.48548843433285, 16.33574580483923, 16.33458029075392, 15.596064933181792, 15.591676125369174, 15.473762697404448, 15.298049555759805, 13.827386153371709, 13.454960593928378, 13.228214570713112, 12.888218930577919, 12.516594510560545, 12.221423678927954, 11.92761941841218, 11.908094618055557, 11.139667298149142, 10.704528808593746, 10.17958984375, 9.277763203857821, 9.18206981697284, 8.94427490234375, 8.60359990888383, 8.115652901785715, 8.078879492379249], \"xaxis\": \"x2\", \"y\": [\"bell\", \"ingrid\", \"orange\", \"muscat\", \"harovin\", \"clara\", \"almonds\", \"casaba\", \"bulk\", \"round\", \"cantared\", \"carambola\", \"key\", \"sharlin\", \"st\", \"lollo\", \"hearts\", \"bay\", \"large\", \"horn\", \"conference\", \"leaves\", \"bon\", \"oroblanco\", \"huaguan\", \"pecans\", \"kabocha\", \"sunburst\", \"tips\", \"pickling\", \"baby\", \"polk\", \"regal\"], \"yaxis\": \"y2\"}, {\"hovertext\": [\"Ttl Time: MedLo\", \"Ttl Time: Low\", \"Ttl Time: MedLo\", \"Ttl Time: Low\", \"Ttl Time: MedLo\", \"Ttl Time: MedLo\", \"Ttl Time: MedHi\", \"Ttl Time: MedHi\", \"Ttl Time: Low\", \"Ttl Time: Low\", \"Ttl Time: Low\", \"Ttl Time: High Usage\", \"Ttl Time: MedHi\", \"Ttl Time: MedLo\", \"Ttl Time: MedHi\", \"Ttl Time: High Usage\", \"Ttl Time: MedHi\", \"Ttl Time: MedHi\", \"Ttl Time: MedHi\", \"Ttl Time: High Usage\", \"Ttl Time: MedHi\", \"Ttl Time: Low\", \"Ttl Time: MedLo\", \"Ttl Time: MedLo\", \"Ttl Time: MedLo\", \"Ttl Time: MedLo\", \"Ttl Time: High Usage\", \"Ttl Time: High Usage\", \"Ttl Time: Low\", \"Ttl Time: MedHi\", \"Ttl Time: High Usage\", \"Ttl Time: MedHi\", \"Ttl Time: High Usage\", \"Ttl Time: Low\", \"Ttl Time: MedLo\", \"Ttl Time: MedHi\", \"Ttl Time: MedHi\", \"Ttl Time: High Usage\", \"Ttl Time: High Usage\", \"Ttl Time: Low\", \"Ttl Time: High Usage\", \"Ttl Time: MedHi\", \"Ttl Time: MedHi\", \"Ttl Time: High Usage\", \"Ttl Time: MedLo\", \"Ttl Time: MedLo\", \"Ttl Time: MedHi\", \"Ttl Time: Low\", \"Ttl Time: High Usage\", \"Ttl Time: MedHi\", \"Ttl Time: High Usage\", \"Ttl Time: High Usage\", \"Ttl Time: High Usage\", \"Ttl Time: MedHi\", \"Ttl Time: High Usage\", \"Ttl Time: MedLo\", \"Ttl Time: Low\", \"Ttl Time: Low\", \"Ttl Time: MedLo\", \"Ttl Time: MedLo\", \"Ttl Time: High Usage\", \"Ttl Time: High Usage\", \"Ttl Time: MedLo\", \"Ttl Time: MedHi\", \"Ttl Time: MedLo\", \"Ttl Time: MedLo\", \"Ttl Time: Low\", \"Ttl Time: High Usage\", \"Ttl Time: MedHi\", \"Ttl Time: MedHi\", \"Ttl Time: MedHi\", \"Ttl Time: MedLo\", \"Ttl Time: High Usage\", \"Ttl Time: High Usage\", \"Ttl Time: High Usage\", \"Ttl Time: High Usage\", \"Ttl Time: MedLo\", \"Ttl Time: High Usage\", \"Ttl Time: High Usage\", \"Ttl Time: MedHi\", \"Ttl Time: MedLo\", \"Ttl Time: Low\", \"Ttl Time: MedLo\", \"Ttl Time: MedHi\", \"Ttl Time: MedLo\", \"Ttl Time: High Usage\", \"Ttl Time: MedHi\", \"Ttl Time: MedLo\", \"Ttl Time: MedLo\", \"Ttl Time: MedLo\", \"Ttl Time: Low\", \"Ttl Time: Low\", \"Ttl Time: High Usage\", \"Ttl Time: Low\", \"Ttl Time: Low\", \"Ttl Time: MedHi\", \"Ttl Time: Low\", \"Ttl Time: High Usage\", \"Ttl Time: High Usage\", \"Ttl Time: High Usage\", \"Ttl Time: MedLo\", \"Ttl Time: Low\", \"Ttl Time: High Usage\", \"Ttl Time: Low\", \"Ttl Time: High Usage\", \"Ttl Time: MedHi\", \"Ttl Time: MedLo\", \"Ttl Time: MedLo\", \"Ttl Time: Low\", \"Ttl Time: Low\", \"Ttl Time: MedLo\", \"Ttl Time: MedHi\", \"Ttl Time: Low\", \"Ttl Time: MedLo\", \"Ttl Time: Low\", \"Ttl Time: MedHi\", \"Ttl Time: Low\", \"Ttl Time: High Usage\", \"Ttl Time: MedHi\", \"Ttl Time: Low\", \"Ttl Time: MedHi\", \"Ttl Time: MedLo\", \"Ttl Time: MedLo\", \"Ttl Time: MedHi\", \"Ttl Time: MedHi\", \"Ttl Time: Low\", \"Ttl Time: Low\", \"Ttl Time: Low\", \"Ttl Time: Low\", \"Ttl Time: Low\", \"Ttl Time: Low\"], \"name\": \"MedHi\", \"orientation\": \"h\", \"type\": \"bar\", \"x\": [34.07633928571429, 34.04440058479532, 33.94084991368625, 33.73297533798723, 33.067375932983, 32.199326869857245, 31.93016774016145, 31.41445658679769, 31.165341163749144, 30.88002677008931, 30.552786528903216, 29.96610013242999, 29.874295347674767, 29.096139185271664, 28.40411452930498, 28.027794410529633, 27.632473182225166, 26.954194922819546, 25.763699367930283, 25.542289751192413, 25.537871304946986, 24.90250602849389, 24.52575680015025, 24.066994006817158, 23.32330238655821, 23.129582093253852, 22.279738193354266, 21.941592627620782, 21.155649212240764, 21.09096517814597, 20.986434717668864, 20.08544847328245], \"xaxis\": \"x3\", \"y\": [\"nino\", \"dill\", \"treviso\", \"alkmene\", \"mixed\", \"minnewashta\", \"yu\", \"cep\", \"thomcord\", \"belle\", \"bertanne\", \"cactus\", \"lemon\", \"baking\", \"cinnabar\", \"winged\", \"kinnow\", \"garlic\", \"cms_lowprio\", \"galia\", \"brazilnuts\", \"lychees\", \"bibb\", \"water\", \"lochbuie\", \"concord\", \"fairchild\", \"chickpeas\", \"cms\", \"celery\", \"blackberries\", \"serrano\"], \"yaxis\": \"y3\"}, {\"hovertext\": [\"Ttl Time: MedLo\", \"Ttl Time: Low\", \"Ttl Time: MedLo\", \"Ttl Time: Low\", \"Ttl Time: MedLo\", \"Ttl Time: MedLo\", \"Ttl Time: MedHi\", \"Ttl Time: MedHi\", \"Ttl Time: Low\", \"Ttl Time: Low\", \"Ttl Time: Low\", \"Ttl Time: High Usage\", \"Ttl Time: MedHi\", \"Ttl Time: MedLo\", \"Ttl Time: MedHi\", \"Ttl Time: High Usage\", \"Ttl Time: MedHi\", \"Ttl Time: MedHi\", \"Ttl Time: MedHi\", \"Ttl Time: High Usage\", \"Ttl Time: MedHi\", \"Ttl Time: Low\", \"Ttl Time: MedLo\", \"Ttl Time: MedLo\", \"Ttl Time: MedLo\", \"Ttl Time: MedLo\", \"Ttl Time: High Usage\", \"Ttl Time: High Usage\", \"Ttl Time: Low\", \"Ttl Time: MedHi\", \"Ttl Time: High Usage\", \"Ttl Time: MedHi\", \"Ttl Time: High Usage\", \"Ttl Time: Low\", \"Ttl Time: MedLo\", \"Ttl Time: MedHi\", \"Ttl Time: MedHi\", \"Ttl Time: High Usage\", \"Ttl Time: High Usage\", \"Ttl Time: Low\", \"Ttl Time: High Usage\", \"Ttl Time: MedHi\", \"Ttl Time: MedHi\", \"Ttl Time: High Usage\", \"Ttl Time: MedLo\", \"Ttl Time: MedLo\", \"Ttl Time: MedHi\", \"Ttl Time: Low\", \"Ttl Time: High Usage\", \"Ttl Time: MedHi\", \"Ttl Time: High Usage\", \"Ttl Time: High Usage\", \"Ttl Time: High Usage\", \"Ttl Time: MedHi\", \"Ttl Time: High Usage\", \"Ttl Time: MedLo\", \"Ttl Time: Low\", \"Ttl Time: Low\", \"Ttl Time: MedLo\", \"Ttl Time: MedLo\", \"Ttl Time: High Usage\", \"Ttl Time: High Usage\", \"Ttl Time: MedLo\", \"Ttl Time: MedHi\", \"Ttl Time: MedLo\", \"Ttl Time: MedLo\", \"Ttl Time: Low\", \"Ttl Time: High Usage\", \"Ttl Time: MedHi\", \"Ttl Time: MedHi\", \"Ttl Time: MedHi\", \"Ttl Time: MedLo\", \"Ttl Time: High Usage\", \"Ttl Time: High Usage\", \"Ttl Time: High Usage\", \"Ttl Time: High Usage\", \"Ttl Time: MedLo\", \"Ttl Time: High Usage\", \"Ttl Time: High Usage\", \"Ttl Time: MedHi\", \"Ttl Time: MedLo\", \"Ttl Time: Low\", \"Ttl Time: MedLo\", \"Ttl Time: MedHi\", \"Ttl Time: MedLo\", \"Ttl Time: High Usage\", \"Ttl Time: MedHi\", \"Ttl Time: MedLo\", \"Ttl Time: MedLo\", \"Ttl Time: MedLo\", \"Ttl Time: Low\", \"Ttl Time: Low\", \"Ttl Time: High Usage\", \"Ttl Time: Low\", \"Ttl Time: Low\", \"Ttl Time: MedHi\", \"Ttl Time: Low\", \"Ttl Time: High Usage\", \"Ttl Time: High Usage\", \"Ttl Time: High Usage\", \"Ttl Time: MedLo\", \"Ttl Time: Low\", \"Ttl Time: High Usage\", \"Ttl Time: Low\", \"Ttl Time: High Usage\", \"Ttl Time: MedHi\", \"Ttl Time: MedLo\", \"Ttl Time: MedLo\", \"Ttl Time: Low\", \"Ttl Time: Low\", \"Ttl Time: MedLo\", \"Ttl Time: MedHi\", \"Ttl Time: Low\", \"Ttl Time: MedLo\", \"Ttl Time: Low\", \"Ttl Time: MedHi\", \"Ttl Time: Low\", \"Ttl Time: High Usage\", \"Ttl Time: MedHi\", \"Ttl Time: Low\", \"Ttl Time: MedHi\", \"Ttl Time: MedLo\", \"Ttl Time: MedLo\", \"Ttl Time: MedHi\", \"Ttl Time: MedHi\", \"Ttl Time: Low\", \"Ttl Time: Low\", \"Ttl Time: Low\", \"Ttl Time: Low\", \"Ttl Time: Low\", \"Ttl Time: Low\"], \"name\": \"High\", \"orientation\": \"h\", \"type\": \"bar\", \"x\": [68.92778486027015, 68.4744140625, 67.29043056178632, 66.36469275210082, 61.747769442471586, 59.632035784884785, 58.403407466539434, 57.58980617143566, 54.54339409202471, 53.85030837194389, 53.60834627096316, 52.624250919785595, 52.026673614706795, 51.78338304020298, 51.76838912424634, 50.5396738613419, 49.8065952377382, 48.016498412978294, 45.99732030119525, 44.21033036046793, 44.04864043912982, 43.91925388313609, 43.82939265914716, 40.09142373167785, 39.503507018049596, 38.450085717833055, 38.0166603736795, 37.34537868992398, 37.11833973041587, 36.840468756114966, 35.39413522798566, 34.937457372005355, 34.58717176306902], \"xaxis\": \"x4\", \"y\": [\"medium\", \"mignonette\", \"strawberries\", \"antares\", \"shell\", \"shiny\", \"jicama\", \"texas\", \"arra\", \"shallots\", \"roasted\", \"summer\", \"chasselas\", \"pinova\", \"delblush\", \"wax\", \"sturmer\", \"chipilin\", \"seeded\", \"retailer\", \"burro\", \"kumquat\", \"broccoli\", \"pepino\", \"cmsadmin\", \"josephine\", \"horseradish\", \"sweet\", \"rocha\", \"sunflower\", \"carrot\", \"anise\", \"fresh\"], \"yaxis\": \"y4\"}],                        {\"annotations\": [{\"font\": {\"size\": 16}, \"showarrow\": false, \"text\": \"Low Efficiency\", \"x\": 0.2, \"xanchor\": \"center\", \"xref\": \"paper\", \"y\": 1.0, \"yanchor\": \"bottom\", \"yref\": \"paper\"}, {\"font\": {\"size\": 16}, \"showarrow\": false, \"text\": \"MedLo Efficiency\", \"x\": 0.8, \"xanchor\": \"center\", \"xref\": \"paper\", \"y\": 1.0, \"yanchor\": \"bottom\", \"yref\": \"paper\"}, {\"font\": {\"size\": 16}, \"showarrow\": false, \"text\": \"MedHi Efficiency\", \"x\": 0.2, \"xanchor\": \"center\", \"xref\": \"paper\", \"y\": 0.45, \"yanchor\": \"bottom\", \"yref\": \"paper\"}, {\"font\": {\"size\": 16}, \"showarrow\": false, \"text\": \"High Efficiency\", \"x\": 0.8, \"xanchor\": \"center\", \"xref\": \"paper\", \"y\": 0.45, \"yanchor\": \"bottom\", \"yref\": \"paper\"}], \"height\": 1000, \"showlegend\": false, \"template\": {\"data\": {\"bar\": [{\"error_x\": {\"color\": \"#2a3f5f\"}, \"error_y\": {\"color\": \"#2a3f5f\"}, \"marker\": {\"line\": {\"color\": \"#E5ECF6\", \"width\": 0.5}}, \"type\": \"bar\"}], \"barpolar\": [{\"marker\": {\"line\": {\"color\": \"#E5ECF6\", \"width\": 0.5}}, \"type\": \"barpolar\"}], \"carpet\": [{\"aaxis\": {\"endlinecolor\": \"#2a3f5f\", \"gridcolor\": \"white\", \"linecolor\": \"white\", \"minorgridcolor\": \"white\", \"startlinecolor\": \"#2a3f5f\"}, \"baxis\": {\"endlinecolor\": \"#2a3f5f\", \"gridcolor\": \"white\", \"linecolor\": \"white\", \"minorgridcolor\": \"white\", \"startlinecolor\": \"#2a3f5f\"}, \"type\": \"carpet\"}], \"choropleth\": [{\"colorbar\": {\"outlinewidth\": 0, \"ticks\": \"\"}, \"type\": \"choropleth\"}], \"contour\": [{\"colorbar\": {\"outlinewidth\": 0, \"ticks\": \"\"}, \"colorscale\": [[0.0, \"#0d0887\"], [0.1111111111111111, \"#46039f\"], [0.2222222222222222, \"#7201a8\"], [0.3333333333333333, \"#9c179e\"], [0.4444444444444444, \"#bd3786\"], [0.5555555555555556, \"#d8576b\"], [0.6666666666666666, \"#ed7953\"], [0.7777777777777778, \"#fb9f3a\"], [0.8888888888888888, \"#fdca26\"], [1.0, \"#f0f921\"]], \"type\": \"contour\"}], \"contourcarpet\": [{\"colorbar\": {\"outlinewidth\": 0, \"ticks\": \"\"}, \"type\": \"contourcarpet\"}], \"heatmap\": [{\"colorbar\": {\"outlinewidth\": 0, \"ticks\": \"\"}, \"colorscale\": [[0.0, \"#0d0887\"], [0.1111111111111111, \"#46039f\"], [0.2222222222222222, \"#7201a8\"], [0.3333333333333333, \"#9c179e\"], [0.4444444444444444, \"#bd3786\"], [0.5555555555555556, \"#d8576b\"], [0.6666666666666666, \"#ed7953\"], [0.7777777777777778, \"#fb9f3a\"], [0.8888888888888888, \"#fdca26\"], [1.0, \"#f0f921\"]], \"type\": \"heatmap\"}], \"heatmapgl\": [{\"colorbar\": {\"outlinewidth\": 0, \"ticks\": \"\"}, \"colorscale\": [[0.0, \"#0d0887\"], [0.1111111111111111, \"#46039f\"], [0.2222222222222222, \"#7201a8\"], [0.3333333333333333, \"#9c179e\"], [0.4444444444444444, \"#bd3786\"], [0.5555555555555556, \"#d8576b\"], [0.6666666666666666, \"#ed7953\"], [0.7777777777777778, \"#fb9f3a\"], [0.8888888888888888, \"#fdca26\"], [1.0, \"#f0f921\"]], \"type\": \"heatmapgl\"}], \"histogram\": [{\"marker\": {\"colorbar\": {\"outlinewidth\": 0, \"ticks\": \"\"}}, \"type\": \"histogram\"}], \"histogram2d\": [{\"colorbar\": {\"outlinewidth\": 0, \"ticks\": \"\"}, \"colorscale\": [[0.0, \"#0d0887\"], [0.1111111111111111, \"#46039f\"], [0.2222222222222222, \"#7201a8\"], [0.3333333333333333, \"#9c179e\"], [0.4444444444444444, \"#bd3786\"], [0.5555555555555556, \"#d8576b\"], [0.6666666666666666, \"#ed7953\"], [0.7777777777777778, \"#fb9f3a\"], [0.8888888888888888, \"#fdca26\"], [1.0, \"#f0f921\"]], \"type\": \"histogram2d\"}], \"histogram2dcontour\": [{\"colorbar\": {\"outlinewidth\": 0, \"ticks\": \"\"}, \"colorscale\": [[0.0, \"#0d0887\"], [0.1111111111111111, \"#46039f\"], [0.2222222222222222, \"#7201a8\"], [0.3333333333333333, \"#9c179e\"], [0.4444444444444444, \"#bd3786\"], [0.5555555555555556, \"#d8576b\"], [0.6666666666666666, \"#ed7953\"], [0.7777777777777778, \"#fb9f3a\"], [0.8888888888888888, \"#fdca26\"], [1.0, \"#f0f921\"]], \"type\": \"histogram2dcontour\"}], \"mesh3d\": [{\"colorbar\": {\"outlinewidth\": 0, \"ticks\": \"\"}, \"type\": \"mesh3d\"}], \"parcoords\": [{\"line\": {\"colorbar\": {\"outlinewidth\": 0, \"ticks\": \"\"}}, \"type\": \"parcoords\"}], \"pie\": [{\"automargin\": true, \"type\": \"pie\"}], \"scatter\": [{\"marker\": {\"colorbar\": {\"outlinewidth\": 0, \"ticks\": \"\"}}, \"type\": \"scatter\"}], \"scatter3d\": [{\"line\": {\"colorbar\": {\"outlinewidth\": 0, \"ticks\": \"\"}}, \"marker\": {\"colorbar\": {\"outlinewidth\": 0, \"ticks\": \"\"}}, \"type\": \"scatter3d\"}], \"scattercarpet\": [{\"marker\": {\"colorbar\": {\"outlinewidth\": 0, \"ticks\": \"\"}}, \"type\": \"scattercarpet\"}], \"scattergeo\": [{\"marker\": {\"colorbar\": {\"outlinewidth\": 0, \"ticks\": \"\"}}, \"type\": \"scattergeo\"}], \"scattergl\": [{\"marker\": {\"colorbar\": {\"outlinewidth\": 0, \"ticks\": \"\"}}, \"type\": \"scattergl\"}], \"scattermapbox\": [{\"marker\": {\"colorbar\": {\"outlinewidth\": 0, \"ticks\": \"\"}}, \"type\": \"scattermapbox\"}], \"scatterpolar\": [{\"marker\": {\"colorbar\": {\"outlinewidth\": 0, \"ticks\": \"\"}}, \"type\": \"scatterpolar\"}], \"scatterpolargl\": [{\"marker\": {\"colorbar\": {\"outlinewidth\": 0, \"ticks\": \"\"}}, \"type\": \"scatterpolargl\"}], \"scatterternary\": [{\"marker\": {\"colorbar\": {\"outlinewidth\": 0, \"ticks\": \"\"}}, \"type\": \"scatterternary\"}], \"surface\": [{\"colorbar\": {\"outlinewidth\": 0, \"ticks\": \"\"}, \"colorscale\": [[0.0, \"#0d0887\"], [0.1111111111111111, \"#46039f\"], [0.2222222222222222, \"#7201a8\"], [0.3333333333333333, \"#9c179e\"], [0.4444444444444444, \"#bd3786\"], [0.5555555555555556, \"#d8576b\"], [0.6666666666666666, \"#ed7953\"], [0.7777777777777778, \"#fb9f3a\"], [0.8888888888888888, \"#fdca26\"], [1.0, \"#f0f921\"]], \"type\": \"surface\"}], \"table\": [{\"cells\": {\"fill\": {\"color\": \"#EBF0F8\"}, \"line\": {\"color\": \"white\"}}, \"header\": {\"fill\": {\"color\": \"#C8D4E3\"}, \"line\": {\"color\": \"white\"}}, \"type\": \"table\"}]}, \"layout\": {\"annotationdefaults\": {\"arrowcolor\": \"#2a3f5f\", \"arrowhead\": 0, \"arrowwidth\": 1}, \"coloraxis\": {\"colorbar\": {\"outlinewidth\": 0, \"ticks\": \"\"}}, \"colorscale\": {\"diverging\": [[0, \"#8e0152\"], [0.1, \"#c51b7d\"], [0.2, \"#de77ae\"], [0.3, \"#f1b6da\"], [0.4, \"#fde0ef\"], [0.5, \"#f7f7f7\"], [0.6, \"#e6f5d0\"], [0.7, \"#b8e186\"], [0.8, \"#7fbc41\"], [0.9, \"#4d9221\"], [1, \"#276419\"]], \"sequential\": [[0.0, \"#0d0887\"], [0.1111111111111111, \"#46039f\"], [0.2222222222222222, \"#7201a8\"], [0.3333333333333333, \"#9c179e\"], [0.4444444444444444, \"#bd3786\"], [0.5555555555555556, \"#d8576b\"], [0.6666666666666666, \"#ed7953\"], [0.7777777777777778, \"#fb9f3a\"], [0.8888888888888888, \"#fdca26\"], [1.0, \"#f0f921\"]], \"sequentialminus\": [[0.0, \"#0d0887\"], [0.1111111111111111, \"#46039f\"], [0.2222222222222222, \"#7201a8\"], [0.3333333333333333, \"#9c179e\"], [0.4444444444444444, \"#bd3786\"], [0.5555555555555556, \"#d8576b\"], [0.6666666666666666, \"#ed7953\"], [0.7777777777777778, \"#fb9f3a\"], [0.8888888888888888, \"#fdca26\"], [1.0, \"#f0f921\"]]}, \"colorway\": [\"#636efa\", \"#EF553B\", \"#00cc96\", \"#ab63fa\", \"#FFA15A\", \"#19d3f3\", \"#FF6692\", \"#B6E880\", \"#FF97FF\", \"#FECB52\"], \"font\": {\"color\": \"#2a3f5f\"}, \"geo\": {\"bgcolor\": \"white\", \"lakecolor\": \"white\", \"landcolor\": \"#E5ECF6\", \"showlakes\": true, \"showland\": true, \"subunitcolor\": \"white\"}, \"hoverlabel\": {\"align\": \"left\"}, \"hovermode\": \"closest\", \"mapbox\": {\"style\": \"light\"}, \"paper_bgcolor\": \"white\", \"plot_bgcolor\": \"#E5ECF6\", \"polar\": {\"angularaxis\": {\"gridcolor\": \"white\", \"linecolor\": \"white\", \"ticks\": \"\"}, \"bgcolor\": \"#E5ECF6\", \"radialaxis\": {\"gridcolor\": \"white\", \"linecolor\": \"white\", \"ticks\": \"\"}}, \"scene\": {\"xaxis\": {\"backgroundcolor\": \"#E5ECF6\", \"gridcolor\": \"white\", \"gridwidth\": 2, \"linecolor\": \"white\", \"showbackground\": true, \"ticks\": \"\", \"zerolinecolor\": \"white\"}, \"yaxis\": {\"backgroundcolor\": \"#E5ECF6\", \"gridcolor\": \"white\", \"gridwidth\": 2, \"linecolor\": \"white\", \"showbackground\": true, \"ticks\": \"\", \"zerolinecolor\": \"white\"}, \"zaxis\": {\"backgroundcolor\": \"#E5ECF6\", \"gridcolor\": \"white\", \"gridwidth\": 2, \"linecolor\": \"white\", \"showbackground\": true, \"ticks\": \"\", \"zerolinecolor\": \"white\"}}, \"shapedefaults\": {\"line\": {\"color\": \"#2a3f5f\"}}, \"ternary\": {\"aaxis\": {\"gridcolor\": \"white\", \"linecolor\": \"white\", \"ticks\": \"\"}, \"baxis\": {\"gridcolor\": \"white\", \"linecolor\": \"white\", \"ticks\": \"\"}, \"bgcolor\": \"#E5ECF6\", \"caxis\": {\"gridcolor\": \"white\", \"linecolor\": \"white\", \"ticks\": \"\"}}, \"title\": {\"x\": 0.05}, \"xaxis\": {\"automargin\": true, \"gridcolor\": \"white\", \"linecolor\": \"white\", \"ticks\": \"\", \"title\": {\"standoff\": 15}, \"zerolinecolor\": \"white\", \"zerolinewidth\": 2}, \"yaxis\": {\"automargin\": true, \"gridcolor\": \"white\", \"linecolor\": \"white\", \"ticks\": \"\", \"title\": {\"standoff\": 15}, \"zerolinecolor\": \"white\", \"zerolinewidth\": 2}}}, \"title\": {\"text\": \"ACCRE Accounts: Memory Usage as Percent of Memory Requested\"}, \"xaxis\": {\"anchor\": \"y\", \"domain\": [0.0, 0.4]}, \"xaxis2\": {\"anchor\": \"y2\", \"domain\": [0.6000000000000001, 1.0], \"range\": [7.51639956298121, 21.242147511449353]}, \"xaxis3\": {\"anchor\": \"y3\", \"domain\": [0.0, 0.4], \"range\": [18.742147511449353, 36.33175552439165]}, \"xaxis4\": {\"anchor\": \"y4\", \"domain\": [0.6000000000000001, 1.0], \"range\": [33.83175552439165, 70.92778486027015]}, \"yaxis\": {\"anchor\": \"x\", \"domain\": [0.55, 1.0], \"type\": \"category\"}, \"yaxis2\": {\"anchor\": \"x2\", \"domain\": [0.55, 1.0], \"type\": \"category\"}, \"yaxis3\": {\"anchor\": \"x3\", \"domain\": [0.0, 0.45], \"type\": \"category\"}, \"yaxis4\": {\"anchor\": \"x4\", \"domain\": [0.0, 0.45], \"type\": \"category\"}},                        {\"responsive\": true}                    ).then(function(){\n",
       "                            \n",
       "var gd = document.getElementById('0f24e465-648f-4fa2-a2fc-cc98775f05d3');\n",
       "var x = new MutationObserver(function (mutations, observer) {{\n",
       "        var display = window.getComputedStyle(gd).display;\n",
       "        if (!display || display === 'none') {{\n",
       "            console.log([gd, 'removed!']);\n",
       "            Plotly.purge(gd);\n",
       "            observer.disconnect();\n",
       "        }}\n",
       "}});\n",
       "\n",
       "// Listen for the removal of the full notebook cells\n",
       "var notebookContainer = gd.closest('#notebook-container');\n",
       "if (notebookContainer) {{\n",
       "    x.observe(notebookContainer, {childList: true});\n",
       "}}\n",
       "\n",
       "// Listen for the clearing of the current output cell\n",
       "var outputEl = gd.closest('.output');\n",
       "if (outputEl) {{\n",
       "    x.observe(outputEl, {childList: true});\n",
       "}}\n",
       "\n",
       "                        })                };                });            </script>        </div>"
      ]
     },
     "metadata": {},
     "output_type": "display_data"
    }
   ],
   "source": [
    "fig.show()"
   ]
  },
  {
   "cell_type": "code",
   "execution_count": 54,
   "metadata": {
    "scrolled": false,
    "slideshow": {
     "slide_type": "slide"
    }
   },
   "outputs": [
    {
     "data": {
      "application/vnd.plotly.v1+json": {
       "config": {
        "plotlyServerURL": "https://plot.ly"
       },
       "data": [
        {
         "name": "Low",
         "orientation": "h",
         "type": "bar",
         "x": [
          68.4744140625,
          66.36469275210082,
          54.54339409202471,
          53.85030837194389,
          53.60834627096316,
          43.91925388313609,
          37.11833973041587,
          34.07633928571429,
          31.93016774016145,
          28.40411452930498,
          24.066994006817158,
          23.32330238655821,
          19.1854248046875,
          13.827386153371709,
          10.704528808593746,
          10.17958984375,
          9.18206981697284,
          8.94427490234375,
          8.115652901785715,
          6.17041015625,
          5.991536458333333,
          4.61834716796875,
          4.393521012931035,
          4.10491943359375,
          3.6688354492187507,
          2.9652709960937504,
          2.26708984375,
          1.4992937173782124,
          1.111083984375,
          0.547119140625,
          0.47476246136095535,
          0.22151692708333331,
          0.178466796875
         ],
         "xaxis": "x",
         "y": [
          "mignonette",
          "antares",
          "arra",
          "shallots",
          "roasted",
          "kumquat",
          "rocha",
          "nino",
          "yu",
          "cinnabar",
          "water",
          "lochbuie",
          "ingrid",
          "hearts",
          "pecans",
          "kabocha",
          "tips",
          "pickling",
          "polk",
          "tree",
          "angelys",
          "pink",
          "mache",
          "malanga",
          "forelle",
          "pioppino",
          "purple",
          "chayote",
          "mung",
          "cocktail",
          "galangal",
          "plumcot",
          "romanesco"
         ],
         "yaxis": "y"
        },
        {
         "name": "MedLo",
         "orientation": "h",
         "type": "bar",
         "x": [
          68.92778486027015,
          67.29043056178632,
          61.747769442471586,
          59.632035784884785,
          51.78338304020298,
          43.82939265914716,
          40.09142373167785,
          39.503507018049596,
          38.450085717833055,
          34.04440058479532,
          29.96610013242999,
          29.874295347674767,
          24.52575680015025,
          23.129582093253852,
          22.279738193354266,
          21.09096517814597,
          20.08544847328245,
          19.242147511449353,
          18.372202114968932,
          16.33458029075392,
          15.298049555759805,
          13.454960593928378,
          12.888218930577919,
          11.92761941841218,
          11.908094618055557,
          11.139667298149142,
          6.4189015981313355,
          5.77048957881025,
          4.796573511651941,
          4.352862540849664,
          3.6732605397259483,
          1.894597716478524,
          1.7550307135517405
         ],
         "xaxis": "x2",
         "y": [
          "medium",
          "strawberries",
          "shell",
          "shiny",
          "pinova",
          "broccoli",
          "pepino",
          "cmsadmin",
          "josephine",
          "dill",
          "cactus",
          "lemon",
          "bibb",
          "concord",
          "fairchild",
          "celery",
          "serrano",
          "bell",
          "almonds",
          "carambola",
          "lollo",
          "bay",
          "horn",
          "bon",
          "oroblanco",
          "huaguan",
          "fiddlehead",
          "milwa",
          "long",
          "peanuts",
          "emmons",
          "pitted",
          "spring"
         ],
         "yaxis": "y2"
        },
        {
         "name": "MedHi",
         "orientation": "h",
         "type": "bar",
         "x": [
          58.403407466539434,
          57.58980617143566,
          52.026673614706795,
          51.76838912424634,
          49.8065952377382,
          48.016498412978294,
          45.99732030119525,
          44.04864043912982,
          36.840468756114966,
          34.937457372005355,
          33.94084991368625,
          33.73297533798723,
          31.165341163749144,
          30.88002677008931,
          29.096139185271664,
          27.632473182225166,
          25.537871304946986,
          20.986434717668864,
          18.790826824848846,
          18.762750773136137,
          18.717631386171092,
          15.473762697404448,
          13.228214570713112,
          12.221423678927954,
          8.60359990888383,
          5.783135959846256,
          4.203267774817801,
          3.322450073242183,
          2.4634072204843034,
          1.9226966784166428,
          1.5564650052216153,
          1.551092773577255
         ],
         "xaxis": "x3",
         "y": [
          "jicama",
          "texas",
          "chasselas",
          "delblush",
          "sturmer",
          "chipilin",
          "seeded",
          "burro",
          "sunflower",
          "anise",
          "treviso",
          "alkmene",
          "thomcord",
          "belle",
          "baking",
          "kinnow",
          "brazilnuts",
          "blackberries",
          "muscat",
          "harovin",
          "clara",
          "st",
          "large",
          "leaves",
          "baby",
          "atemoyas",
          "white",
          "amaranth",
          "crab",
          "grisette",
          "pasilla",
          "plantain"
         ],
         "yaxis": "y3"
        },
        {
         "name": "High",
         "orientation": "h",
         "type": "bar",
         "x": [
          52.624250919785595,
          50.5396738613419,
          44.21033036046793,
          38.0166603736795,
          37.34537868992398,
          35.39413522798566,
          34.58717176306902,
          33.067375932983,
          32.199326869857245,
          31.41445658679769,
          30.552786528903216,
          28.027794410529633,
          26.954194922819546,
          25.763699367930283,
          25.542289751192413,
          24.90250602849389,
          21.941592627620782,
          21.155649212240764,
          18.831345158139694,
          17.921640286396094,
          17.224428432146095,
          16.48548843433285,
          16.33574580483923,
          15.596064933181792,
          15.591676125369174,
          12.516594510560545,
          9.277763203857821,
          8.078879492379249,
          7.9539196335831726,
          7.1238021815338755,
          6.009620840188816,
          5.8198443859677855,
          2.5426949713246727
         ],
         "xaxis": "x4",
         "y": [
          "summer",
          "wax",
          "retailer",
          "horseradish",
          "sweet",
          "carrot",
          "fresh",
          "mixed",
          "minnewashta",
          "cep",
          "bertanne",
          "winged",
          "garlic",
          "cms_lowprio",
          "galia",
          "lychees",
          "chickpeas",
          "cms",
          "orange",
          "casaba",
          "bulk",
          "round",
          "cantared",
          "key",
          "sharlin",
          "conference",
          "sunburst",
          "regal",
          "boysenberries",
          "portabella",
          "sugranineteen",
          "bunch",
          "wood"
         ],
         "yaxis": "y4"
        }
       ],
       "layout": {
        "annotations": [
         {
          "font": {
           "size": 16
          },
          "showarrow": false,
          "text": "Low Time Usage",
          "x": 0.2,
          "xanchor": "center",
          "xref": "paper",
          "y": 1,
          "yanchor": "bottom",
          "yref": "paper"
         },
         {
          "font": {
           "size": 16
          },
          "showarrow": false,
          "text": "MedLo Time Usage",
          "x": 0.8,
          "xanchor": "center",
          "xref": "paper",
          "y": 1,
          "yanchor": "bottom",
          "yref": "paper"
         },
         {
          "font": {
           "size": 16
          },
          "showarrow": false,
          "text": "MedHi Time Usage",
          "x": 0.2,
          "xanchor": "center",
          "xref": "paper",
          "y": 0.45,
          "yanchor": "bottom",
          "yref": "paper"
         },
         {
          "font": {
           "size": 16
          },
          "showarrow": false,
          "text": "High Time Usage",
          "x": 0.8,
          "xanchor": "center",
          "xref": "paper",
          "y": 0.45,
          "yanchor": "bottom",
          "yref": "paper"
         }
        ],
        "height": 1000,
        "showlegend": false,
        "template": {
         "data": {
          "bar": [
           {
            "error_x": {
             "color": "#2a3f5f"
            },
            "error_y": {
             "color": "#2a3f5f"
            },
            "marker": {
             "line": {
              "color": "#E5ECF6",
              "width": 0.5
             }
            },
            "type": "bar"
           }
          ],
          "barpolar": [
           {
            "marker": {
             "line": {
              "color": "#E5ECF6",
              "width": 0.5
             }
            },
            "type": "barpolar"
           }
          ],
          "carpet": [
           {
            "aaxis": {
             "endlinecolor": "#2a3f5f",
             "gridcolor": "white",
             "linecolor": "white",
             "minorgridcolor": "white",
             "startlinecolor": "#2a3f5f"
            },
            "baxis": {
             "endlinecolor": "#2a3f5f",
             "gridcolor": "white",
             "linecolor": "white",
             "minorgridcolor": "white",
             "startlinecolor": "#2a3f5f"
            },
            "type": "carpet"
           }
          ],
          "choropleth": [
           {
            "colorbar": {
             "outlinewidth": 0,
             "ticks": ""
            },
            "type": "choropleth"
           }
          ],
          "contour": [
           {
            "colorbar": {
             "outlinewidth": 0,
             "ticks": ""
            },
            "colorscale": [
             [
              0,
              "#0d0887"
             ],
             [
              0.1111111111111111,
              "#46039f"
             ],
             [
              0.2222222222222222,
              "#7201a8"
             ],
             [
              0.3333333333333333,
              "#9c179e"
             ],
             [
              0.4444444444444444,
              "#bd3786"
             ],
             [
              0.5555555555555556,
              "#d8576b"
             ],
             [
              0.6666666666666666,
              "#ed7953"
             ],
             [
              0.7777777777777778,
              "#fb9f3a"
             ],
             [
              0.8888888888888888,
              "#fdca26"
             ],
             [
              1,
              "#f0f921"
             ]
            ],
            "type": "contour"
           }
          ],
          "contourcarpet": [
           {
            "colorbar": {
             "outlinewidth": 0,
             "ticks": ""
            },
            "type": "contourcarpet"
           }
          ],
          "heatmap": [
           {
            "colorbar": {
             "outlinewidth": 0,
             "ticks": ""
            },
            "colorscale": [
             [
              0,
              "#0d0887"
             ],
             [
              0.1111111111111111,
              "#46039f"
             ],
             [
              0.2222222222222222,
              "#7201a8"
             ],
             [
              0.3333333333333333,
              "#9c179e"
             ],
             [
              0.4444444444444444,
              "#bd3786"
             ],
             [
              0.5555555555555556,
              "#d8576b"
             ],
             [
              0.6666666666666666,
              "#ed7953"
             ],
             [
              0.7777777777777778,
              "#fb9f3a"
             ],
             [
              0.8888888888888888,
              "#fdca26"
             ],
             [
              1,
              "#f0f921"
             ]
            ],
            "type": "heatmap"
           }
          ],
          "heatmapgl": [
           {
            "colorbar": {
             "outlinewidth": 0,
             "ticks": ""
            },
            "colorscale": [
             [
              0,
              "#0d0887"
             ],
             [
              0.1111111111111111,
              "#46039f"
             ],
             [
              0.2222222222222222,
              "#7201a8"
             ],
             [
              0.3333333333333333,
              "#9c179e"
             ],
             [
              0.4444444444444444,
              "#bd3786"
             ],
             [
              0.5555555555555556,
              "#d8576b"
             ],
             [
              0.6666666666666666,
              "#ed7953"
             ],
             [
              0.7777777777777778,
              "#fb9f3a"
             ],
             [
              0.8888888888888888,
              "#fdca26"
             ],
             [
              1,
              "#f0f921"
             ]
            ],
            "type": "heatmapgl"
           }
          ],
          "histogram": [
           {
            "marker": {
             "colorbar": {
              "outlinewidth": 0,
              "ticks": ""
             }
            },
            "type": "histogram"
           }
          ],
          "histogram2d": [
           {
            "colorbar": {
             "outlinewidth": 0,
             "ticks": ""
            },
            "colorscale": [
             [
              0,
              "#0d0887"
             ],
             [
              0.1111111111111111,
              "#46039f"
             ],
             [
              0.2222222222222222,
              "#7201a8"
             ],
             [
              0.3333333333333333,
              "#9c179e"
             ],
             [
              0.4444444444444444,
              "#bd3786"
             ],
             [
              0.5555555555555556,
              "#d8576b"
             ],
             [
              0.6666666666666666,
              "#ed7953"
             ],
             [
              0.7777777777777778,
              "#fb9f3a"
             ],
             [
              0.8888888888888888,
              "#fdca26"
             ],
             [
              1,
              "#f0f921"
             ]
            ],
            "type": "histogram2d"
           }
          ],
          "histogram2dcontour": [
           {
            "colorbar": {
             "outlinewidth": 0,
             "ticks": ""
            },
            "colorscale": [
             [
              0,
              "#0d0887"
             ],
             [
              0.1111111111111111,
              "#46039f"
             ],
             [
              0.2222222222222222,
              "#7201a8"
             ],
             [
              0.3333333333333333,
              "#9c179e"
             ],
             [
              0.4444444444444444,
              "#bd3786"
             ],
             [
              0.5555555555555556,
              "#d8576b"
             ],
             [
              0.6666666666666666,
              "#ed7953"
             ],
             [
              0.7777777777777778,
              "#fb9f3a"
             ],
             [
              0.8888888888888888,
              "#fdca26"
             ],
             [
              1,
              "#f0f921"
             ]
            ],
            "type": "histogram2dcontour"
           }
          ],
          "mesh3d": [
           {
            "colorbar": {
             "outlinewidth": 0,
             "ticks": ""
            },
            "type": "mesh3d"
           }
          ],
          "parcoords": [
           {
            "line": {
             "colorbar": {
              "outlinewidth": 0,
              "ticks": ""
             }
            },
            "type": "parcoords"
           }
          ],
          "pie": [
           {
            "automargin": true,
            "type": "pie"
           }
          ],
          "scatter": [
           {
            "marker": {
             "colorbar": {
              "outlinewidth": 0,
              "ticks": ""
             }
            },
            "type": "scatter"
           }
          ],
          "scatter3d": [
           {
            "line": {
             "colorbar": {
              "outlinewidth": 0,
              "ticks": ""
             }
            },
            "marker": {
             "colorbar": {
              "outlinewidth": 0,
              "ticks": ""
             }
            },
            "type": "scatter3d"
           }
          ],
          "scattercarpet": [
           {
            "marker": {
             "colorbar": {
              "outlinewidth": 0,
              "ticks": ""
             }
            },
            "type": "scattercarpet"
           }
          ],
          "scattergeo": [
           {
            "marker": {
             "colorbar": {
              "outlinewidth": 0,
              "ticks": ""
             }
            },
            "type": "scattergeo"
           }
          ],
          "scattergl": [
           {
            "marker": {
             "colorbar": {
              "outlinewidth": 0,
              "ticks": ""
             }
            },
            "type": "scattergl"
           }
          ],
          "scattermapbox": [
           {
            "marker": {
             "colorbar": {
              "outlinewidth": 0,
              "ticks": ""
             }
            },
            "type": "scattermapbox"
           }
          ],
          "scatterpolar": [
           {
            "marker": {
             "colorbar": {
              "outlinewidth": 0,
              "ticks": ""
             }
            },
            "type": "scatterpolar"
           }
          ],
          "scatterpolargl": [
           {
            "marker": {
             "colorbar": {
              "outlinewidth": 0,
              "ticks": ""
             }
            },
            "type": "scatterpolargl"
           }
          ],
          "scatterternary": [
           {
            "marker": {
             "colorbar": {
              "outlinewidth": 0,
              "ticks": ""
             }
            },
            "type": "scatterternary"
           }
          ],
          "surface": [
           {
            "colorbar": {
             "outlinewidth": 0,
             "ticks": ""
            },
            "colorscale": [
             [
              0,
              "#0d0887"
             ],
             [
              0.1111111111111111,
              "#46039f"
             ],
             [
              0.2222222222222222,
              "#7201a8"
             ],
             [
              0.3333333333333333,
              "#9c179e"
             ],
             [
              0.4444444444444444,
              "#bd3786"
             ],
             [
              0.5555555555555556,
              "#d8576b"
             ],
             [
              0.6666666666666666,
              "#ed7953"
             ],
             [
              0.7777777777777778,
              "#fb9f3a"
             ],
             [
              0.8888888888888888,
              "#fdca26"
             ],
             [
              1,
              "#f0f921"
             ]
            ],
            "type": "surface"
           }
          ],
          "table": [
           {
            "cells": {
             "fill": {
              "color": "#EBF0F8"
             },
             "line": {
              "color": "white"
             }
            },
            "header": {
             "fill": {
              "color": "#C8D4E3"
             },
             "line": {
              "color": "white"
             }
            },
            "type": "table"
           }
          ]
         },
         "layout": {
          "annotationdefaults": {
           "arrowcolor": "#2a3f5f",
           "arrowhead": 0,
           "arrowwidth": 1
          },
          "coloraxis": {
           "colorbar": {
            "outlinewidth": 0,
            "ticks": ""
           }
          },
          "colorscale": {
           "diverging": [
            [
             0,
             "#8e0152"
            ],
            [
             0.1,
             "#c51b7d"
            ],
            [
             0.2,
             "#de77ae"
            ],
            [
             0.3,
             "#f1b6da"
            ],
            [
             0.4,
             "#fde0ef"
            ],
            [
             0.5,
             "#f7f7f7"
            ],
            [
             0.6,
             "#e6f5d0"
            ],
            [
             0.7,
             "#b8e186"
            ],
            [
             0.8,
             "#7fbc41"
            ],
            [
             0.9,
             "#4d9221"
            ],
            [
             1,
             "#276419"
            ]
           ],
           "sequential": [
            [
             0,
             "#0d0887"
            ],
            [
             0.1111111111111111,
             "#46039f"
            ],
            [
             0.2222222222222222,
             "#7201a8"
            ],
            [
             0.3333333333333333,
             "#9c179e"
            ],
            [
             0.4444444444444444,
             "#bd3786"
            ],
            [
             0.5555555555555556,
             "#d8576b"
            ],
            [
             0.6666666666666666,
             "#ed7953"
            ],
            [
             0.7777777777777778,
             "#fb9f3a"
            ],
            [
             0.8888888888888888,
             "#fdca26"
            ],
            [
             1,
             "#f0f921"
            ]
           ],
           "sequentialminus": [
            [
             0,
             "#0d0887"
            ],
            [
             0.1111111111111111,
             "#46039f"
            ],
            [
             0.2222222222222222,
             "#7201a8"
            ],
            [
             0.3333333333333333,
             "#9c179e"
            ],
            [
             0.4444444444444444,
             "#bd3786"
            ],
            [
             0.5555555555555556,
             "#d8576b"
            ],
            [
             0.6666666666666666,
             "#ed7953"
            ],
            [
             0.7777777777777778,
             "#fb9f3a"
            ],
            [
             0.8888888888888888,
             "#fdca26"
            ],
            [
             1,
             "#f0f921"
            ]
           ]
          },
          "colorway": [
           "#636efa",
           "#EF553B",
           "#00cc96",
           "#ab63fa",
           "#FFA15A",
           "#19d3f3",
           "#FF6692",
           "#B6E880",
           "#FF97FF",
           "#FECB52"
          ],
          "font": {
           "color": "#2a3f5f"
          },
          "geo": {
           "bgcolor": "white",
           "lakecolor": "white",
           "landcolor": "#E5ECF6",
           "showlakes": true,
           "showland": true,
           "subunitcolor": "white"
          },
          "hoverlabel": {
           "align": "left"
          },
          "hovermode": "closest",
          "mapbox": {
           "style": "light"
          },
          "paper_bgcolor": "white",
          "plot_bgcolor": "#E5ECF6",
          "polar": {
           "angularaxis": {
            "gridcolor": "white",
            "linecolor": "white",
            "ticks": ""
           },
           "bgcolor": "#E5ECF6",
           "radialaxis": {
            "gridcolor": "white",
            "linecolor": "white",
            "ticks": ""
           }
          },
          "scene": {
           "xaxis": {
            "backgroundcolor": "#E5ECF6",
            "gridcolor": "white",
            "gridwidth": 2,
            "linecolor": "white",
            "showbackground": true,
            "ticks": "",
            "zerolinecolor": "white"
           },
           "yaxis": {
            "backgroundcolor": "#E5ECF6",
            "gridcolor": "white",
            "gridwidth": 2,
            "linecolor": "white",
            "showbackground": true,
            "ticks": "",
            "zerolinecolor": "white"
           },
           "zaxis": {
            "backgroundcolor": "#E5ECF6",
            "gridcolor": "white",
            "gridwidth": 2,
            "linecolor": "white",
            "showbackground": true,
            "ticks": "",
            "zerolinecolor": "white"
           }
          },
          "shapedefaults": {
           "line": {
            "color": "#2a3f5f"
           }
          },
          "ternary": {
           "aaxis": {
            "gridcolor": "white",
            "linecolor": "white",
            "ticks": ""
           },
           "baxis": {
            "gridcolor": "white",
            "linecolor": "white",
            "ticks": ""
           },
           "bgcolor": "#E5ECF6",
           "caxis": {
            "gridcolor": "white",
            "linecolor": "white",
            "ticks": ""
           }
          },
          "title": {
           "x": 0.05
          },
          "xaxis": {
           "automargin": true,
           "gridcolor": "white",
           "linecolor": "white",
           "ticks": "",
           "title": {
            "standoff": 15
           },
           "zerolinecolor": "white",
           "zerolinewidth": 2
          },
          "yaxis": {
           "automargin": true,
           "gridcolor": "white",
           "linecolor": "white",
           "ticks": "",
           "title": {
            "standoff": 15
           },
           "zerolinecolor": "white",
           "zerolinewidth": 2
          }
         }
        },
        "title": {
         "text": "ACCRE Accounts: Memory Usage as Percent of Memory Requested"
        },
        "xaxis": {
         "anchor": "y",
         "domain": [
          0,
          0.4
         ]
        },
        "xaxis2": {
         "anchor": "y2",
         "domain": [
          0.6000000000000001,
          1
         ]
        },
        "xaxis3": {
         "anchor": "y3",
         "domain": [
          0,
          0.4
         ]
        },
        "xaxis4": {
         "anchor": "y4",
         "domain": [
          0.6000000000000001,
          1
         ]
        },
        "yaxis": {
         "anchor": "x",
         "domain": [
          0.55,
          1
         ],
         "type": "category"
        },
        "yaxis2": {
         "anchor": "x2",
         "domain": [
          0.55,
          1
         ],
         "type": "category"
        },
        "yaxis3": {
         "anchor": "x3",
         "domain": [
          0,
          0.45
         ],
         "type": "category"
        },
        "yaxis4": {
         "anchor": "x4",
         "domain": [
          0,
          0.45
         ],
         "type": "category"
        }
       }
      },
      "text/html": [
       "<div>                            <div id=\"a6cdfcca-41d1-4a4c-985b-4d93a4bf4a43\" class=\"plotly-graph-div\" style=\"height:1000px; width:100%;\"></div>            <script type=\"text/javascript\">                require([\"plotly\"], function(Plotly) {                    window.PLOTLYENV=window.PLOTLYENV || {};                                    if (document.getElementById(\"a6cdfcca-41d1-4a4c-985b-4d93a4bf4a43\")) {                    Plotly.newPlot(                        \"a6cdfcca-41d1-4a4c-985b-4d93a4bf4a43\",                        [{\"name\": \"Low\", \"orientation\": \"h\", \"type\": \"bar\", \"x\": [68.4744140625, 66.36469275210082, 54.54339409202471, 53.85030837194389, 53.60834627096316, 43.91925388313609, 37.11833973041587, 34.07633928571429, 31.93016774016145, 28.40411452930498, 24.066994006817158, 23.32330238655821, 19.1854248046875, 13.827386153371709, 10.704528808593746, 10.17958984375, 9.18206981697284, 8.94427490234375, 8.115652901785715, 6.17041015625, 5.991536458333333, 4.61834716796875, 4.393521012931035, 4.10491943359375, 3.6688354492187507, 2.9652709960937504, 2.26708984375, 1.4992937173782124, 1.111083984375, 0.547119140625, 0.47476246136095535, 0.22151692708333331, 0.178466796875], \"xaxis\": \"x\", \"y\": [\"mignonette\", \"antares\", \"arra\", \"shallots\", \"roasted\", \"kumquat\", \"rocha\", \"nino\", \"yu\", \"cinnabar\", \"water\", \"lochbuie\", \"ingrid\", \"hearts\", \"pecans\", \"kabocha\", \"tips\", \"pickling\", \"polk\", \"tree\", \"angelys\", \"pink\", \"mache\", \"malanga\", \"forelle\", \"pioppino\", \"purple\", \"chayote\", \"mung\", \"cocktail\", \"galangal\", \"plumcot\", \"romanesco\"], \"yaxis\": \"y\"}, {\"name\": \"MedLo\", \"orientation\": \"h\", \"type\": \"bar\", \"x\": [68.92778486027015, 67.29043056178632, 61.747769442471586, 59.632035784884785, 51.78338304020298, 43.82939265914716, 40.09142373167785, 39.503507018049596, 38.450085717833055, 34.04440058479532, 29.96610013242999, 29.874295347674767, 24.52575680015025, 23.129582093253852, 22.279738193354266, 21.09096517814597, 20.08544847328245, 19.242147511449353, 18.372202114968932, 16.33458029075392, 15.298049555759805, 13.454960593928378, 12.888218930577919, 11.92761941841218, 11.908094618055557, 11.139667298149142, 6.4189015981313355, 5.77048957881025, 4.796573511651941, 4.352862540849664, 3.6732605397259483, 1.894597716478524, 1.7550307135517405], \"xaxis\": \"x2\", \"y\": [\"medium\", \"strawberries\", \"shell\", \"shiny\", \"pinova\", \"broccoli\", \"pepino\", \"cmsadmin\", \"josephine\", \"dill\", \"cactus\", \"lemon\", \"bibb\", \"concord\", \"fairchild\", \"celery\", \"serrano\", \"bell\", \"almonds\", \"carambola\", \"lollo\", \"bay\", \"horn\", \"bon\", \"oroblanco\", \"huaguan\", \"fiddlehead\", \"milwa\", \"long\", \"peanuts\", \"emmons\", \"pitted\", \"spring\"], \"yaxis\": \"y2\"}, {\"name\": \"MedHi\", \"orientation\": \"h\", \"type\": \"bar\", \"x\": [58.403407466539434, 57.58980617143566, 52.026673614706795, 51.76838912424634, 49.8065952377382, 48.016498412978294, 45.99732030119525, 44.04864043912982, 36.840468756114966, 34.937457372005355, 33.94084991368625, 33.73297533798723, 31.165341163749144, 30.88002677008931, 29.096139185271664, 27.632473182225166, 25.537871304946986, 20.986434717668864, 18.790826824848846, 18.762750773136137, 18.717631386171092, 15.473762697404448, 13.228214570713112, 12.221423678927954, 8.60359990888383, 5.783135959846256, 4.203267774817801, 3.322450073242183, 2.4634072204843034, 1.9226966784166428, 1.5564650052216153, 1.551092773577255], \"xaxis\": \"x3\", \"y\": [\"jicama\", \"texas\", \"chasselas\", \"delblush\", \"sturmer\", \"chipilin\", \"seeded\", \"burro\", \"sunflower\", \"anise\", \"treviso\", \"alkmene\", \"thomcord\", \"belle\", \"baking\", \"kinnow\", \"brazilnuts\", \"blackberries\", \"muscat\", \"harovin\", \"clara\", \"st\", \"large\", \"leaves\", \"baby\", \"atemoyas\", \"white\", \"amaranth\", \"crab\", \"grisette\", \"pasilla\", \"plantain\"], \"yaxis\": \"y3\"}, {\"name\": \"High\", \"orientation\": \"h\", \"type\": \"bar\", \"x\": [52.624250919785595, 50.5396738613419, 44.21033036046793, 38.0166603736795, 37.34537868992398, 35.39413522798566, 34.58717176306902, 33.067375932983, 32.199326869857245, 31.41445658679769, 30.552786528903216, 28.027794410529633, 26.954194922819546, 25.763699367930283, 25.542289751192413, 24.90250602849389, 21.941592627620782, 21.155649212240764, 18.831345158139694, 17.921640286396094, 17.224428432146095, 16.48548843433285, 16.33574580483923, 15.596064933181792, 15.591676125369174, 12.516594510560545, 9.277763203857821, 8.078879492379249, 7.9539196335831726, 7.1238021815338755, 6.009620840188816, 5.8198443859677855, 2.5426949713246727], \"xaxis\": \"x4\", \"y\": [\"summer\", \"wax\", \"retailer\", \"horseradish\", \"sweet\", \"carrot\", \"fresh\", \"mixed\", \"minnewashta\", \"cep\", \"bertanne\", \"winged\", \"garlic\", \"cms_lowprio\", \"galia\", \"lychees\", \"chickpeas\", \"cms\", \"orange\", \"casaba\", \"bulk\", \"round\", \"cantared\", \"key\", \"sharlin\", \"conference\", \"sunburst\", \"regal\", \"boysenberries\", \"portabella\", \"sugranineteen\", \"bunch\", \"wood\"], \"yaxis\": \"y4\"}],                        {\"annotations\": [{\"font\": {\"size\": 16}, \"showarrow\": false, \"text\": \"Low Time Usage\", \"x\": 0.2, \"xanchor\": \"center\", \"xref\": \"paper\", \"y\": 1.0, \"yanchor\": \"bottom\", \"yref\": \"paper\"}, {\"font\": {\"size\": 16}, \"showarrow\": false, \"text\": \"MedLo Time Usage\", \"x\": 0.8, \"xanchor\": \"center\", \"xref\": \"paper\", \"y\": 1.0, \"yanchor\": \"bottom\", \"yref\": \"paper\"}, {\"font\": {\"size\": 16}, \"showarrow\": false, \"text\": \"MedHi Time Usage\", \"x\": 0.2, \"xanchor\": \"center\", \"xref\": \"paper\", \"y\": 0.45, \"yanchor\": \"bottom\", \"yref\": \"paper\"}, {\"font\": {\"size\": 16}, \"showarrow\": false, \"text\": \"High Time Usage\", \"x\": 0.8, \"xanchor\": \"center\", \"xref\": \"paper\", \"y\": 0.45, \"yanchor\": \"bottom\", \"yref\": \"paper\"}], \"height\": 1000, \"showlegend\": false, \"template\": {\"data\": {\"bar\": [{\"error_x\": {\"color\": \"#2a3f5f\"}, \"error_y\": {\"color\": \"#2a3f5f\"}, \"marker\": {\"line\": {\"color\": \"#E5ECF6\", \"width\": 0.5}}, \"type\": \"bar\"}], \"barpolar\": [{\"marker\": {\"line\": {\"color\": \"#E5ECF6\", \"width\": 0.5}}, \"type\": \"barpolar\"}], \"carpet\": [{\"aaxis\": {\"endlinecolor\": \"#2a3f5f\", \"gridcolor\": \"white\", \"linecolor\": \"white\", \"minorgridcolor\": \"white\", \"startlinecolor\": \"#2a3f5f\"}, \"baxis\": {\"endlinecolor\": \"#2a3f5f\", \"gridcolor\": \"white\", \"linecolor\": \"white\", \"minorgridcolor\": \"white\", \"startlinecolor\": \"#2a3f5f\"}, \"type\": \"carpet\"}], \"choropleth\": [{\"colorbar\": {\"outlinewidth\": 0, \"ticks\": \"\"}, \"type\": \"choropleth\"}], \"contour\": [{\"colorbar\": {\"outlinewidth\": 0, \"ticks\": \"\"}, \"colorscale\": [[0.0, \"#0d0887\"], [0.1111111111111111, \"#46039f\"], [0.2222222222222222, \"#7201a8\"], [0.3333333333333333, \"#9c179e\"], [0.4444444444444444, \"#bd3786\"], [0.5555555555555556, \"#d8576b\"], [0.6666666666666666, \"#ed7953\"], [0.7777777777777778, \"#fb9f3a\"], [0.8888888888888888, \"#fdca26\"], [1.0, \"#f0f921\"]], \"type\": \"contour\"}], \"contourcarpet\": [{\"colorbar\": {\"outlinewidth\": 0, \"ticks\": \"\"}, \"type\": \"contourcarpet\"}], \"heatmap\": [{\"colorbar\": {\"outlinewidth\": 0, \"ticks\": \"\"}, \"colorscale\": [[0.0, \"#0d0887\"], [0.1111111111111111, \"#46039f\"], [0.2222222222222222, \"#7201a8\"], [0.3333333333333333, \"#9c179e\"], [0.4444444444444444, \"#bd3786\"], [0.5555555555555556, \"#d8576b\"], [0.6666666666666666, \"#ed7953\"], [0.7777777777777778, \"#fb9f3a\"], [0.8888888888888888, \"#fdca26\"], [1.0, \"#f0f921\"]], \"type\": \"heatmap\"}], \"heatmapgl\": [{\"colorbar\": {\"outlinewidth\": 0, \"ticks\": \"\"}, \"colorscale\": [[0.0, \"#0d0887\"], [0.1111111111111111, \"#46039f\"], [0.2222222222222222, \"#7201a8\"], [0.3333333333333333, \"#9c179e\"], [0.4444444444444444, \"#bd3786\"], [0.5555555555555556, \"#d8576b\"], [0.6666666666666666, \"#ed7953\"], [0.7777777777777778, \"#fb9f3a\"], [0.8888888888888888, \"#fdca26\"], [1.0, \"#f0f921\"]], \"type\": \"heatmapgl\"}], \"histogram\": [{\"marker\": {\"colorbar\": {\"outlinewidth\": 0, \"ticks\": \"\"}}, \"type\": \"histogram\"}], \"histogram2d\": [{\"colorbar\": {\"outlinewidth\": 0, \"ticks\": \"\"}, \"colorscale\": [[0.0, \"#0d0887\"], [0.1111111111111111, \"#46039f\"], [0.2222222222222222, \"#7201a8\"], [0.3333333333333333, \"#9c179e\"], [0.4444444444444444, \"#bd3786\"], [0.5555555555555556, \"#d8576b\"], [0.6666666666666666, \"#ed7953\"], [0.7777777777777778, \"#fb9f3a\"], [0.8888888888888888, \"#fdca26\"], [1.0, \"#f0f921\"]], \"type\": \"histogram2d\"}], \"histogram2dcontour\": [{\"colorbar\": {\"outlinewidth\": 0, \"ticks\": \"\"}, \"colorscale\": [[0.0, \"#0d0887\"], [0.1111111111111111, \"#46039f\"], [0.2222222222222222, \"#7201a8\"], [0.3333333333333333, \"#9c179e\"], [0.4444444444444444, \"#bd3786\"], [0.5555555555555556, \"#d8576b\"], [0.6666666666666666, \"#ed7953\"], [0.7777777777777778, \"#fb9f3a\"], [0.8888888888888888, \"#fdca26\"], [1.0, \"#f0f921\"]], \"type\": \"histogram2dcontour\"}], \"mesh3d\": [{\"colorbar\": {\"outlinewidth\": 0, \"ticks\": \"\"}, \"type\": \"mesh3d\"}], \"parcoords\": [{\"line\": {\"colorbar\": {\"outlinewidth\": 0, \"ticks\": \"\"}}, \"type\": \"parcoords\"}], \"pie\": [{\"automargin\": true, \"type\": \"pie\"}], \"scatter\": [{\"marker\": {\"colorbar\": {\"outlinewidth\": 0, \"ticks\": \"\"}}, \"type\": \"scatter\"}], \"scatter3d\": [{\"line\": {\"colorbar\": {\"outlinewidth\": 0, \"ticks\": \"\"}}, \"marker\": {\"colorbar\": {\"outlinewidth\": 0, \"ticks\": \"\"}}, \"type\": \"scatter3d\"}], \"scattercarpet\": [{\"marker\": {\"colorbar\": {\"outlinewidth\": 0, \"ticks\": \"\"}}, \"type\": \"scattercarpet\"}], \"scattergeo\": [{\"marker\": {\"colorbar\": {\"outlinewidth\": 0, \"ticks\": \"\"}}, \"type\": \"scattergeo\"}], \"scattergl\": [{\"marker\": {\"colorbar\": {\"outlinewidth\": 0, \"ticks\": \"\"}}, \"type\": \"scattergl\"}], \"scattermapbox\": [{\"marker\": {\"colorbar\": {\"outlinewidth\": 0, \"ticks\": \"\"}}, \"type\": \"scattermapbox\"}], \"scatterpolar\": [{\"marker\": {\"colorbar\": {\"outlinewidth\": 0, \"ticks\": \"\"}}, \"type\": \"scatterpolar\"}], \"scatterpolargl\": [{\"marker\": {\"colorbar\": {\"outlinewidth\": 0, \"ticks\": \"\"}}, \"type\": \"scatterpolargl\"}], \"scatterternary\": [{\"marker\": {\"colorbar\": {\"outlinewidth\": 0, \"ticks\": \"\"}}, \"type\": \"scatterternary\"}], \"surface\": [{\"colorbar\": {\"outlinewidth\": 0, \"ticks\": \"\"}, \"colorscale\": [[0.0, \"#0d0887\"], [0.1111111111111111, \"#46039f\"], [0.2222222222222222, \"#7201a8\"], [0.3333333333333333, \"#9c179e\"], [0.4444444444444444, \"#bd3786\"], [0.5555555555555556, \"#d8576b\"], [0.6666666666666666, \"#ed7953\"], [0.7777777777777778, \"#fb9f3a\"], [0.8888888888888888, \"#fdca26\"], [1.0, \"#f0f921\"]], \"type\": \"surface\"}], \"table\": [{\"cells\": {\"fill\": {\"color\": \"#EBF0F8\"}, \"line\": {\"color\": \"white\"}}, \"header\": {\"fill\": {\"color\": \"#C8D4E3\"}, \"line\": {\"color\": \"white\"}}, \"type\": \"table\"}]}, \"layout\": {\"annotationdefaults\": {\"arrowcolor\": \"#2a3f5f\", \"arrowhead\": 0, \"arrowwidth\": 1}, \"coloraxis\": {\"colorbar\": {\"outlinewidth\": 0, \"ticks\": \"\"}}, \"colorscale\": {\"diverging\": [[0, \"#8e0152\"], [0.1, \"#c51b7d\"], [0.2, \"#de77ae\"], [0.3, \"#f1b6da\"], [0.4, \"#fde0ef\"], [0.5, \"#f7f7f7\"], [0.6, \"#e6f5d0\"], [0.7, \"#b8e186\"], [0.8, \"#7fbc41\"], [0.9, \"#4d9221\"], [1, \"#276419\"]], \"sequential\": [[0.0, \"#0d0887\"], [0.1111111111111111, \"#46039f\"], [0.2222222222222222, \"#7201a8\"], [0.3333333333333333, \"#9c179e\"], [0.4444444444444444, \"#bd3786\"], [0.5555555555555556, \"#d8576b\"], [0.6666666666666666, \"#ed7953\"], [0.7777777777777778, \"#fb9f3a\"], [0.8888888888888888, \"#fdca26\"], [1.0, \"#f0f921\"]], \"sequentialminus\": [[0.0, \"#0d0887\"], [0.1111111111111111, \"#46039f\"], [0.2222222222222222, \"#7201a8\"], [0.3333333333333333, \"#9c179e\"], [0.4444444444444444, \"#bd3786\"], [0.5555555555555556, \"#d8576b\"], [0.6666666666666666, \"#ed7953\"], [0.7777777777777778, \"#fb9f3a\"], [0.8888888888888888, \"#fdca26\"], [1.0, \"#f0f921\"]]}, \"colorway\": [\"#636efa\", \"#EF553B\", \"#00cc96\", \"#ab63fa\", \"#FFA15A\", \"#19d3f3\", \"#FF6692\", \"#B6E880\", \"#FF97FF\", \"#FECB52\"], \"font\": {\"color\": \"#2a3f5f\"}, \"geo\": {\"bgcolor\": \"white\", \"lakecolor\": \"white\", \"landcolor\": \"#E5ECF6\", \"showlakes\": true, \"showland\": true, \"subunitcolor\": \"white\"}, \"hoverlabel\": {\"align\": \"left\"}, \"hovermode\": \"closest\", \"mapbox\": {\"style\": \"light\"}, \"paper_bgcolor\": \"white\", \"plot_bgcolor\": \"#E5ECF6\", \"polar\": {\"angularaxis\": {\"gridcolor\": \"white\", \"linecolor\": \"white\", \"ticks\": \"\"}, \"bgcolor\": \"#E5ECF6\", \"radialaxis\": {\"gridcolor\": \"white\", \"linecolor\": \"white\", \"ticks\": \"\"}}, \"scene\": {\"xaxis\": {\"backgroundcolor\": \"#E5ECF6\", \"gridcolor\": \"white\", \"gridwidth\": 2, \"linecolor\": \"white\", \"showbackground\": true, \"ticks\": \"\", \"zerolinecolor\": \"white\"}, \"yaxis\": {\"backgroundcolor\": \"#E5ECF6\", \"gridcolor\": \"white\", \"gridwidth\": 2, \"linecolor\": \"white\", \"showbackground\": true, \"ticks\": \"\", \"zerolinecolor\": \"white\"}, \"zaxis\": {\"backgroundcolor\": \"#E5ECF6\", \"gridcolor\": \"white\", \"gridwidth\": 2, \"linecolor\": \"white\", \"showbackground\": true, \"ticks\": \"\", \"zerolinecolor\": \"white\"}}, \"shapedefaults\": {\"line\": {\"color\": \"#2a3f5f\"}}, \"ternary\": {\"aaxis\": {\"gridcolor\": \"white\", \"linecolor\": \"white\", \"ticks\": \"\"}, \"baxis\": {\"gridcolor\": \"white\", \"linecolor\": \"white\", \"ticks\": \"\"}, \"bgcolor\": \"#E5ECF6\", \"caxis\": {\"gridcolor\": \"white\", \"linecolor\": \"white\", \"ticks\": \"\"}}, \"title\": {\"x\": 0.05}, \"xaxis\": {\"automargin\": true, \"gridcolor\": \"white\", \"linecolor\": \"white\", \"ticks\": \"\", \"title\": {\"standoff\": 15}, \"zerolinecolor\": \"white\", \"zerolinewidth\": 2}, \"yaxis\": {\"automargin\": true, \"gridcolor\": \"white\", \"linecolor\": \"white\", \"ticks\": \"\", \"title\": {\"standoff\": 15}, \"zerolinecolor\": \"white\", \"zerolinewidth\": 2}}}, \"title\": {\"text\": \"ACCRE Accounts: Memory Usage as Percent of Memory Requested\"}, \"xaxis\": {\"anchor\": \"y\", \"domain\": [0.0, 0.4]}, \"xaxis2\": {\"anchor\": \"y2\", \"domain\": [0.6000000000000001, 1.0]}, \"xaxis3\": {\"anchor\": \"y3\", \"domain\": [0.0, 0.4]}, \"xaxis4\": {\"anchor\": \"y4\", \"domain\": [0.6000000000000001, 1.0]}, \"yaxis\": {\"anchor\": \"x\", \"domain\": [0.55, 1.0], \"type\": \"category\"}, \"yaxis2\": {\"anchor\": \"x2\", \"domain\": [0.55, 1.0], \"type\": \"category\"}, \"yaxis3\": {\"anchor\": \"x3\", \"domain\": [0.0, 0.45], \"type\": \"category\"}, \"yaxis4\": {\"anchor\": \"x4\", \"domain\": [0.0, 0.45], \"type\": \"category\"}},                        {\"responsive\": true}                    ).then(function(){\n",
       "                            \n",
       "var gd = document.getElementById('a6cdfcca-41d1-4a4c-985b-4d93a4bf4a43');\n",
       "var x = new MutationObserver(function (mutations, observer) {{\n",
       "        var display = window.getComputedStyle(gd).display;\n",
       "        if (!display || display === 'none') {{\n",
       "            console.log([gd, 'removed!']);\n",
       "            Plotly.purge(gd);\n",
       "            observer.disconnect();\n",
       "        }}\n",
       "}});\n",
       "\n",
       "// Listen for the removal of the full notebook cells\n",
       "var notebookContainer = gd.closest('#notebook-container');\n",
       "if (notebookContainer) {{\n",
       "    x.observe(notebookContainer, {childList: true});\n",
       "}}\n",
       "\n",
       "// Listen for the clearing of the current output cell\n",
       "var outputEl = gd.closest('.output');\n",
       "if (outputEl) {{\n",
       "    x.observe(outputEl, {childList: true});\n",
       "}}\n",
       "\n",
       "                        })                };                });            </script>        </div>"
      ]
     },
     "metadata": {},
     "output_type": "display_data"
    }
   ],
   "source": [
    "figT.show()"
   ]
  },
  {
   "cell_type": "code",
   "execution_count": null,
   "metadata": {
    "slideshow": {
     "slide_type": "skip"
    }
   },
   "outputs": [],
   "source": [
    "wavg_memuse_byacct = (memory_use.groupby('account')['mem_weight'].sum() / \\\n",
    "    memory_use.groupby('account')['used_total_seconds'].sum()).reset_index()\n",
    "wavg_memuse_byacct.columns = ('account','wavg_usage')"
   ]
  },
  {
   "cell_type": "code",
   "execution_count": null,
   "metadata": {
    "slideshow": {
     "slide_type": "skip"
    }
   },
   "outputs": [],
   "source": [
    "wavg_memuse_byacct['quartile'] = pd.qcut(wavg_memuse_byacct['wavg_usage'], q = 4, labels=['1', '2','3','4'])"
   ]
  },
  {
   "cell_type": "code",
   "execution_count": null,
   "metadata": {
    "slideshow": {
     "slide_type": "skip"
    }
   },
   "outputs": [],
   "source": [
    "wavg_memuse_byacct.head()"
   ]
  },
  {
   "cell_type": "code",
   "execution_count": null,
   "metadata": {
    "slideshow": {
     "slide_type": "skip"
    }
   },
   "outputs": [],
   "source": [
    "wavg_memuse_byacct.sort_values('wavg_usage', ascending=False)"
   ]
  },
  {
   "cell_type": "code",
   "execution_count": null,
   "metadata": {
    "slideshow": {
     "slide_type": "skip"
    }
   },
   "outputs": [],
   "source": [
    "mem_plot_q1wavg = wavg_memuse_byacct[wavg_memuse_byacct['quartile'] == '1'][['account','wavg_usage']].set_index('account')\n",
    "px_dfq1w=mem_plot_q1wavg.sort_values(['wavg_usage'])\n",
    "mem_plot_q2wavg = wavg_memuse_byacct[wavg_memuse_byacct['quartile'] == '2'][['account','wavg_usage']].set_index('account')\n",
    "px_dfq2w=mem_plot_q2wavg.sort_values(['wavg_usage'])\n",
    "mem_plot_q3wavg = wavg_memuse_byacct[wavg_memuse_byacct['quartile'] == '3'][['account','wavg_usage']].set_index('account')\n",
    "px_dfq3w=mem_plot_q3wavg.sort_values(['wavg_usage'])\n",
    "mem_plot_q4wavg = wavg_memuse_byacct[wavg_memuse_byacct['quartile'] == '4'][['account','wavg_usage']].set_index('account')\n",
    "px_dfq4w=mem_plot_q4wavg.sort_values(['wavg_usage'])\n"
   ]
  },
  {
   "cell_type": "markdown",
   "metadata": {
    "slideshow": {
     "slide_type": "skip"
    }
   },
   "source": [
    "mem_plot_wtdavg = weightedavg_memuse_byacct[['account','weightedavg_usage']].set_index('account')\n",
    "px_dfw=mem_plot_wtdavg.sort_values(['weightedavg_usage'])\n",
    "px.bar(px_dfw, orientation='h', height = 2000 )"
   ]
  },
  {
   "cell_type": "markdown",
   "metadata": {
    "slideshow": {
     "slide_type": "skip"
    }
   },
   "source": [
    "#slice out some short jobs\n",
    "job_duration_short = memory_use[memory_use['used_hours'] <= 2]\n",
    "job_duration_short.head().to_csv('../Data/short.csv')"
   ]
  },
  {
   "cell_type": "markdown",
   "metadata": {
    "slideshow": {
     "slide_type": "skip"
    }
   },
   "source": [
    "#slice out some longer jobs\n",
    "job_duration_long = memory_use[(memory_use['used_hours'] >4) & \n",
    "                               (memory_use['used_hours'] <8)\n",
    "                              ]\n",
    "job_duration_long.head().to_csv('../Data/longer.csv')"
   ]
  },
  {
   "cell_type": "markdown",
   "metadata": {
    "slideshow": {
     "slide_type": "skip"
    }
   },
   "source": [
    "#slice out some really long jobs\n",
    "job_duration_xlong = memory_use[(memory_use['used_hours'] > 72)\n",
    "                              ]\n",
    "job_duration_xlong.head().to_csv('../Data/xlong.csv')"
   ]
  },
  {
   "cell_type": "code",
   "execution_count": null,
   "metadata": {
    "slideshow": {
     "slide_type": "skip"
    }
   },
   "outputs": [],
   "source": [
    "#total hours used, for weighting\n",
    "#ttl_used_hours = mem_use_by_acct['used_hours'].sum()"
   ]
  },
  {
   "cell_type": "code",
   "execution_count": null,
   "metadata": {
    "slideshow": {
     "slide_type": "skip"
    }
   },
   "outputs": [],
   "source": [
    "#add a column for group weighting by used_hours\n",
    "#mem_use_by_acct['pct_ttl_used_hrs'] = mem_use_by_acct['used_hours'] / ttl_used_hours"
   ]
  },
  {
   "cell_type": "code",
   "execution_count": null,
   "metadata": {
    "slideshow": {
     "slide_type": "skip"
    }
   },
   "outputs": [],
   "source": [
    "#check that the total is 1\n",
    "#mem_use_by_acct.pct_ttl_used_hrs.sum()"
   ]
  },
  {
   "cell_type": "code",
   "execution_count": null,
   "metadata": {
    "slideshow": {
     "slide_type": "skip"
    }
   },
   "outputs": [],
   "source": [
    "#add a column for weighted avg_usage\n",
    "#mem_use_by_acct['weighted_avg_usage'] = mem_use_by_acct['avg_usage'] * mem_use_by_acct['pct_ttl_used_hrs']"
   ]
  }
 ],
 "metadata": {
  "celltoolbar": "Slideshow",
  "kernelspec": {
   "display_name": "Python 3",
   "language": "python",
   "name": "python3"
  },
  "language_info": {
   "codemirror_mode": {
    "name": "ipython",
    "version": 3
   },
   "file_extension": ".py",
   "mimetype": "text/x-python",
   "name": "python",
   "nbconvert_exporter": "python",
   "pygments_lexer": "ipython3",
   "version": "3.8.3"
  }
 },
 "nbformat": 4,
 "nbformat_minor": 4
}
