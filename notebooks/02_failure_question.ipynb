{
 "cells": [
  {
   "cell_type": "code",
   "execution_count": 1,
   "metadata": {},
   "outputs": [],
   "source": [
    "import pandas as pd\n",
    "import numpy as np\n",
    "import matplotlib.pyplot as plt\n",
    "import seaborn as sns\n",
    "import scipy.stats as stats\n",
    "import statsmodels.api as sm\n",
    "%matplotlib inline\n",
    "pd.options.display.max_rows = 999\n",
    "from ast import literal_eval"
   ]
  },
  {
   "cell_type": "code",
   "execution_count": 2,
   "metadata": {},
   "outputs": [],
   "source": [
    "def clean(x):\n",
    "    return literal_eval(x)"
   ]
  },
  {
   "cell_type": "code",
   "execution_count": 3,
   "metadata": {},
   "outputs": [],
   "source": [
    "accre_jobs_piped = pd.read_csv('../data/accre_jobs_cleaned.csv', converters={'node_numbers': clean})"
   ]
  },
  {
   "cell_type": "markdown",
   "metadata": {},
   "source": [
    "# Stan \n",
    "    Question  1    Which partition nodes show high number of failures "
   ]
  },
  {
   "cell_type": "code",
   "execution_count": 4,
   "metadata": {},
   "outputs": [],
   "source": [
    "accre_jobs_piped['failure'] = np.where(accre_jobs_piped['exitcode'] != '0:0',1,0)"
   ]
  },
  {
   "cell_type": "code",
   "execution_count": 5,
   "metadata": {},
   "outputs": [],
   "source": [
    "cms_jobs_df = accre_jobs_piped[(accre_jobs_piped['user'] == \"cmslocal\") | (accre_jobs_piped['user'] == \"cmspilot\")]"
   ]
  },
  {
   "cell_type": "code",
   "execution_count": 6,
   "metadata": {},
   "outputs": [],
   "source": [
    "#early_exits_df = cms_jobs_df[(cms_jobs_df['used_total_seconds'] < 1920) & (cms_jobs_df['failure']==0)]"
   ]
  },
  {
   "cell_type": "code",
   "execution_count": 7,
   "metadata": {},
   "outputs": [],
   "source": [
    "#early_exits_df"
   ]
  },
  {
   "cell_type": "code",
   "execution_count": 8,
   "metadata": {},
   "outputs": [],
   "source": [
    "#early_exits_df['node_index'].value_counts()"
   ]
  },
  {
   "cell_type": "code",
   "execution_count": 30,
   "metadata": {},
   "outputs": [
    {
     "data": {
      "text/html": [
       "<div>\n",
       "<style scoped>\n",
       "    .dataframe tbody tr th:only-of-type {\n",
       "        vertical-align: middle;\n",
       "    }\n",
       "\n",
       "    .dataframe tbody tr th {\n",
       "        vertical-align: top;\n",
       "    }\n",
       "\n",
       "    .dataframe thead th {\n",
       "        text-align: right;\n",
       "    }\n",
       "</style>\n",
       "<table border=\"1\" class=\"dataframe\">\n",
       "  <thead>\n",
       "    <tr style=\"text-align: right;\">\n",
       "      <th></th>\n",
       "      <th>exitcode</th>\n",
       "      <th>failure</th>\n",
       "      <th>node_index</th>\n",
       "      <th>node_numbers</th>\n",
       "      <th>partition</th>\n",
       "    </tr>\n",
       "  </thead>\n",
       "  <tbody>\n",
       "    <tr>\n",
       "      <th>696</th>\n",
       "      <td>0:6</td>\n",
       "      <td>1</td>\n",
       "      <td>gpu</td>\n",
       "      <td>[0048, 0051]</td>\n",
       "      <td>turing</td>\n",
       "    </tr>\n",
       "    <tr>\n",
       "      <th>4280</th>\n",
       "      <td>0:15</td>\n",
       "      <td>1</td>\n",
       "      <td>gpu</td>\n",
       "      <td>[0053, 0054]</td>\n",
       "      <td>turing</td>\n",
       "    </tr>\n",
       "    <tr>\n",
       "      <th>4281</th>\n",
       "      <td>0:15</td>\n",
       "      <td>1</td>\n",
       "      <td>gpu</td>\n",
       "      <td>[0043, 0044]</td>\n",
       "      <td>turing</td>\n",
       "    </tr>\n",
       "    <tr>\n",
       "      <th>8629</th>\n",
       "      <td>1:0</td>\n",
       "      <td>1</td>\n",
       "      <td>cn</td>\n",
       "      <td>[1554]</td>\n",
       "      <td>nogpfs</td>\n",
       "    </tr>\n",
       "    <tr>\n",
       "      <th>8632</th>\n",
       "      <td>1:0</td>\n",
       "      <td>1</td>\n",
       "      <td>cn</td>\n",
       "      <td>[1544]</td>\n",
       "      <td>nogpfs</td>\n",
       "    </tr>\n",
       "    <tr>\n",
       "      <th>...</th>\n",
       "      <td>...</td>\n",
       "      <td>...</td>\n",
       "      <td>...</td>\n",
       "      <td>...</td>\n",
       "      <td>...</td>\n",
       "    </tr>\n",
       "    <tr>\n",
       "      <th>3813535</th>\n",
       "      <td>1:0</td>\n",
       "      <td>1</td>\n",
       "      <td>cn</td>\n",
       "      <td>[1433]</td>\n",
       "      <td>production</td>\n",
       "    </tr>\n",
       "    <tr>\n",
       "      <th>3813639</th>\n",
       "      <td>1:0</td>\n",
       "      <td>1</td>\n",
       "      <td>gpu</td>\n",
       "      <td>[0048]</td>\n",
       "      <td>turing</td>\n",
       "    </tr>\n",
       "    <tr>\n",
       "      <th>3814389</th>\n",
       "      <td>1:0</td>\n",
       "      <td>1</td>\n",
       "      <td>cn</td>\n",
       "      <td>[1123, 1128]</td>\n",
       "      <td>production</td>\n",
       "    </tr>\n",
       "    <tr>\n",
       "      <th>3814493</th>\n",
       "      <td>1:0</td>\n",
       "      <td>1</td>\n",
       "      <td>cn</td>\n",
       "      <td>[1207, 1455]</td>\n",
       "      <td>production</td>\n",
       "    </tr>\n",
       "    <tr>\n",
       "      <th>3814510</th>\n",
       "      <td>126:0</td>\n",
       "      <td>1</td>\n",
       "      <td>gpu</td>\n",
       "      <td>[0045]</td>\n",
       "      <td>turing</td>\n",
       "    </tr>\n",
       "  </tbody>\n",
       "</table>\n",
       "<p>2887 rows × 5 columns</p>\n",
       "</div>"
      ],
      "text/plain": [
       "        exitcode  failure node_index  node_numbers   partition\n",
       "696          0:6        1        gpu  [0048, 0051]      turing\n",
       "4280        0:15        1        gpu  [0053, 0054]      turing\n",
       "4281        0:15        1        gpu  [0043, 0044]      turing\n",
       "8629         1:0        1         cn        [1554]      nogpfs\n",
       "8632         1:0        1         cn        [1544]      nogpfs\n",
       "...          ...      ...        ...           ...         ...\n",
       "3813535      1:0        1         cn        [1433]  production\n",
       "3813639      1:0        1        gpu        [0048]      turing\n",
       "3814389      1:0        1         cn  [1123, 1128]  production\n",
       "3814493      1:0        1         cn  [1207, 1455]  production\n",
       "3814510    126:0        1        gpu        [0045]      turing\n",
       "\n",
       "[2887 rows x 5 columns]"
      ]
     },
     "execution_count": 30,
     "metadata": {},
     "output_type": "execute_result"
    }
   ],
   "source": [
    "accre_jobs_piped[accre_jobs_piped['failure']==1][['exitcode','failure','node_index','node_numbers','partition']]"
   ]
  },
  {
   "cell_type": "code",
   "execution_count": 31,
   "metadata": {},
   "outputs": [],
   "source": [
    "accre_jobs_production = accre_jobs_piped[accre_jobs_piped['partition']=='production'][['exitcode','failure','node_index','node_numbers','partition']]"
   ]
  },
  {
   "cell_type": "code",
   "execution_count": 67,
   "metadata": {},
   "outputs": [
    {
     "data": {
      "text/plain": [
       "(3311788, 5)"
      ]
     },
     "execution_count": 67,
     "metadata": {},
     "output_type": "execute_result"
    }
   ],
   "source": [
    "accre_jobs_production.shape"
   ]
  },
  {
   "cell_type": "code",
   "execution_count": 68,
   "metadata": {},
   "outputs": [],
   "source": [
    "accre_jobs_production_nodesplit = pd.DataFrame({col: np.repeat(accre_jobs_production[col].values,accre_jobs_production['node_numbers'].str.len())\n",
    "             for col in accre_jobs_production.columns.drop('node_numbers')}).assign(**{'node_numbers': np.concatenate(accre_jobs_production['node_numbers'].values)})"
   ]
  },
  {
   "cell_type": "code",
   "execution_count": 69,
   "metadata": {},
   "outputs": [
    {
     "data": {
      "text/plain": [
       "(3340293, 5)"
      ]
     },
     "execution_count": 69,
     "metadata": {},
     "output_type": "execute_result"
    }
   ],
   "source": [
    "accre_jobs_production_nodesplit.shape"
   ]
  },
  {
   "cell_type": "code",
   "execution_count": 71,
   "metadata": {},
   "outputs": [],
   "source": [
    "accre_jobs_production_nodesplit.to_csv('../data/accre_jobs_production_nodesplit.csv',index=False)"
   ]
  },
  {
   "cell_type": "code",
   "execution_count": 76,
   "metadata": {},
   "outputs": [
    {
     "data": {
      "text/html": [
       "<div>\n",
       "<style scoped>\n",
       "    .dataframe tbody tr th:only-of-type {\n",
       "        vertical-align: middle;\n",
       "    }\n",
       "\n",
       "    .dataframe tbody tr th {\n",
       "        vertical-align: top;\n",
       "    }\n",
       "\n",
       "    .dataframe thead th {\n",
       "        text-align: right;\n",
       "    }\n",
       "</style>\n",
       "<table border=\"1\" class=\"dataframe\">\n",
       "  <thead>\n",
       "    <tr style=\"text-align: right;\">\n",
       "      <th></th>\n",
       "      <th>exitcode</th>\n",
       "      <th>failure</th>\n",
       "      <th>node_index</th>\n",
       "      <th>partition</th>\n",
       "      <th>node_numbers</th>\n",
       "    </tr>\n",
       "  </thead>\n",
       "  <tbody>\n",
       "    <tr>\n",
       "      <th>0</th>\n",
       "      <td>0:0</td>\n",
       "      <td>0</td>\n",
       "      <td>cn</td>\n",
       "      <td>production</td>\n",
       "      <td>1531</td>\n",
       "    </tr>\n",
       "    <tr>\n",
       "      <th>1</th>\n",
       "      <td>0:0</td>\n",
       "      <td>0</td>\n",
       "      <td>cn</td>\n",
       "      <td>production</td>\n",
       "      <td>1441</td>\n",
       "    </tr>\n",
       "    <tr>\n",
       "      <th>2</th>\n",
       "      <td>0:0</td>\n",
       "      <td>0</td>\n",
       "      <td>cn</td>\n",
       "      <td>production</td>\n",
       "      <td>1464</td>\n",
       "    </tr>\n",
       "    <tr>\n",
       "      <th>3</th>\n",
       "      <td>0:0</td>\n",
       "      <td>0</td>\n",
       "      <td>cn</td>\n",
       "      <td>production</td>\n",
       "      <td>1473</td>\n",
       "    </tr>\n",
       "    <tr>\n",
       "      <th>4</th>\n",
       "      <td>0:0</td>\n",
       "      <td>0</td>\n",
       "      <td>cn</td>\n",
       "      <td>production</td>\n",
       "      <td>1440</td>\n",
       "    </tr>\n",
       "  </tbody>\n",
       "</table>\n",
       "</div>"
      ],
      "text/plain": [
       "  exitcode  failure node_index   partition node_numbers\n",
       "0      0:0        0         cn  production         1531\n",
       "1      0:0        0         cn  production         1441\n",
       "2      0:0        0         cn  production         1464\n",
       "3      0:0        0         cn  production         1473\n",
       "4      0:0        0         cn  production         1440"
      ]
     },
     "execution_count": 76,
     "metadata": {},
     "output_type": "execute_result"
    }
   ],
   "source": [
    "accre_jobs_production_nodesplit.head()"
   ]
  },
  {
   "cell_type": "markdown",
   "metadata": {},
   "source": [
    "# sum value count of individual node numbers. sum each node number's failure and success. divide failure by success to give node number failure rate.\n"
   ]
  },
  {
   "cell_type": "code",
   "execution_count": 89,
   "metadata": {},
   "outputs": [
    {
     "data": {
      "text/plain": [
       "1091    14361\n",
       "1367    13617\n",
       "304     13283\n",
       "1321    13087\n",
       "449     12236\n",
       "Name: node_numbers, dtype: int64"
      ]
     },
     "execution_count": 89,
     "metadata": {},
     "output_type": "execute_result"
    }
   ],
   "source": [
    "jobs_by_node = accre_jobs_production_nodesplit['node_numbers'].value_counts()\n",
    "jobs_by_node.head()"
   ]
  },
  {
   "cell_type": "code",
   "execution_count": 91,
   "metadata": {},
   "outputs": [
    {
     "ename": "AttributeError",
     "evalue": "'DataFrame' object has no attribute 'to_frame'",
     "output_type": "error",
     "traceback": [
      "\u001b[1;31m---------------------------------------------------------------------------\u001b[0m",
      "\u001b[1;31mAttributeError\u001b[0m                            Traceback (most recent call last)",
      "\u001b[1;32m<ipython-input-91-e11dcd1d2a7a>\u001b[0m in \u001b[0;36m<module>\u001b[1;34m\u001b[0m\n\u001b[1;32m----> 1\u001b[1;33m \u001b[0mjobs_by_node\u001b[0m \u001b[1;33m=\u001b[0m \u001b[0mjobs_by_node\u001b[0m\u001b[1;33m.\u001b[0m\u001b[0mto_frame\u001b[0m\u001b[1;33m(\u001b[0m\u001b[1;33m)\u001b[0m\u001b[1;33m.\u001b[0m\u001b[0mreset_index\u001b[0m\u001b[1;33m(\u001b[0m\u001b[1;33m)\u001b[0m\u001b[1;33m\u001b[0m\u001b[1;33m\u001b[0m\u001b[0m\n\u001b[0m",
      "\u001b[1;32mC:\\ProgramData\\Anaconda3\\lib\\site-packages\\pandas\\core\\generic.py\u001b[0m in \u001b[0;36m__getattr__\u001b[1;34m(self, name)\u001b[0m\n\u001b[0;32m   5272\u001b[0m             \u001b[1;32mif\u001b[0m \u001b[0mself\u001b[0m\u001b[1;33m.\u001b[0m\u001b[0m_info_axis\u001b[0m\u001b[1;33m.\u001b[0m\u001b[0m_can_hold_identifiers_and_holds_name\u001b[0m\u001b[1;33m(\u001b[0m\u001b[0mname\u001b[0m\u001b[1;33m)\u001b[0m\u001b[1;33m:\u001b[0m\u001b[1;33m\u001b[0m\u001b[1;33m\u001b[0m\u001b[0m\n\u001b[0;32m   5273\u001b[0m                 \u001b[1;32mreturn\u001b[0m \u001b[0mself\u001b[0m\u001b[1;33m[\u001b[0m\u001b[0mname\u001b[0m\u001b[1;33m]\u001b[0m\u001b[1;33m\u001b[0m\u001b[1;33m\u001b[0m\u001b[0m\n\u001b[1;32m-> 5274\u001b[1;33m             \u001b[1;32mreturn\u001b[0m \u001b[0mobject\u001b[0m\u001b[1;33m.\u001b[0m\u001b[0m__getattribute__\u001b[0m\u001b[1;33m(\u001b[0m\u001b[0mself\u001b[0m\u001b[1;33m,\u001b[0m \u001b[0mname\u001b[0m\u001b[1;33m)\u001b[0m\u001b[1;33m\u001b[0m\u001b[1;33m\u001b[0m\u001b[0m\n\u001b[0m\u001b[0;32m   5275\u001b[0m \u001b[1;33m\u001b[0m\u001b[0m\n\u001b[0;32m   5276\u001b[0m     \u001b[1;32mdef\u001b[0m \u001b[0m__setattr__\u001b[0m\u001b[1;33m(\u001b[0m\u001b[0mself\u001b[0m\u001b[1;33m,\u001b[0m \u001b[0mname\u001b[0m\u001b[1;33m:\u001b[0m \u001b[0mstr\u001b[0m\u001b[1;33m,\u001b[0m \u001b[0mvalue\u001b[0m\u001b[1;33m)\u001b[0m \u001b[1;33m->\u001b[0m \u001b[1;32mNone\u001b[0m\u001b[1;33m:\u001b[0m\u001b[1;33m\u001b[0m\u001b[1;33m\u001b[0m\u001b[0m\n",
      "\u001b[1;31mAttributeError\u001b[0m: 'DataFrame' object has no attribute 'to_frame'"
     ]
    }
   ],
   "source": [
    "jobs_by_node = jobs_by_node.to_frame().reset_index()"
   ]
  },
  {
   "cell_type": "code",
   "execution_count": 93,
   "metadata": {},
   "outputs": [
    {
     "data": {
      "text/html": [
       "<div>\n",
       "<style scoped>\n",
       "    .dataframe tbody tr th:only-of-type {\n",
       "        vertical-align: middle;\n",
       "    }\n",
       "\n",
       "    .dataframe tbody tr th {\n",
       "        vertical-align: top;\n",
       "    }\n",
       "\n",
       "    .dataframe thead th {\n",
       "        text-align: right;\n",
       "    }\n",
       "</style>\n",
       "<table border=\"1\" class=\"dataframe\">\n",
       "  <thead>\n",
       "    <tr style=\"text-align: right;\">\n",
       "      <th></th>\n",
       "      <th>node_number</th>\n",
       "      <th>job_count</th>\n",
       "    </tr>\n",
       "  </thead>\n",
       "  <tbody>\n",
       "    <tr>\n",
       "      <th>0</th>\n",
       "      <td>1091</td>\n",
       "      <td>14361</td>\n",
       "    </tr>\n",
       "    <tr>\n",
       "      <th>1</th>\n",
       "      <td>1367</td>\n",
       "      <td>13617</td>\n",
       "    </tr>\n",
       "    <tr>\n",
       "      <th>2</th>\n",
       "      <td>304</td>\n",
       "      <td>13283</td>\n",
       "    </tr>\n",
       "    <tr>\n",
       "      <th>3</th>\n",
       "      <td>1321</td>\n",
       "      <td>13087</td>\n",
       "    </tr>\n",
       "    <tr>\n",
       "      <th>4</th>\n",
       "      <td>449</td>\n",
       "      <td>12236</td>\n",
       "    </tr>\n",
       "  </tbody>\n",
       "</table>\n",
       "</div>"
      ],
      "text/plain": [
       "  node_number  job_count\n",
       "0        1091      14361\n",
       "1        1367      13617\n",
       "2         304      13283\n",
       "3        1321      13087\n",
       "4         449      12236"
      ]
     },
     "execution_count": 93,
     "metadata": {},
     "output_type": "execute_result"
    }
   ],
   "source": [
    "jobs_by_node.columns = ['node_number','job_count']\n",
    "jobs_by_node.head()"
   ]
  },
  {
   "cell_type": "code",
   "execution_count": 84,
   "metadata": {},
   "outputs": [],
   "source": [
    "failure = accre_jobs_production_nodesplit[accre_jobs_production_nodesplit['node_numbers']=='1531']['failure'].sum()"
   ]
  },
  {
   "cell_type": "code",
   "execution_count": 86,
   "metadata": {},
   "outputs": [
    {
     "data": {
      "text/plain": [
       "1531    0.324018\n",
       "Name: node_numbers, dtype: float64"
      ]
     },
     "execution_count": 86,
     "metadata": {},
     "output_type": "execute_result"
    }
   ],
   "source": [
    "(failure/node_sum) * 100"
   ]
  },
  {
   "cell_type": "code",
   "execution_count": null,
   "metadata": {},
   "outputs": [],
   "source": []
  },
  {
   "cell_type": "code",
   "execution_count": 32,
   "metadata": {},
   "outputs": [],
   "source": [
    "accre_jobs_failed = accre_jobs_production[accre_jobs_production['failure']==1][['exitcode','failure','node_index','node_numbers','partition']]"
   ]
  },
  {
   "cell_type": "code",
   "execution_count": 36,
   "metadata": {},
   "outputs": [],
   "source": [
    "accre_jobs_failed_nodesplit['node_numbers'] = accre_jobs_failed_nodesplit['node_numbers'].astype(str)"
   ]
  },
  {
   "cell_type": "code",
   "execution_count": 37,
   "metadata": {},
   "outputs": [
    {
     "data": {
      "text/html": [
       "<div>\n",
       "<style scoped>\n",
       "    .dataframe tbody tr th:only-of-type {\n",
       "        vertical-align: middle;\n",
       "    }\n",
       "\n",
       "    .dataframe tbody tr th {\n",
       "        vertical-align: top;\n",
       "    }\n",
       "\n",
       "    .dataframe thead th {\n",
       "        text-align: right;\n",
       "    }\n",
       "</style>\n",
       "<table border=\"1\" class=\"dataframe\">\n",
       "  <thead>\n",
       "    <tr style=\"text-align: right;\">\n",
       "      <th></th>\n",
       "      <th>exitcode</th>\n",
       "      <th>failure</th>\n",
       "      <th>node_index</th>\n",
       "      <th>partition</th>\n",
       "      <th>node_numbers</th>\n",
       "    </tr>\n",
       "  </thead>\n",
       "  <tbody>\n",
       "    <tr>\n",
       "      <th>0</th>\n",
       "      <td>1:0</td>\n",
       "      <td>1</td>\n",
       "      <td>cn</td>\n",
       "      <td>production</td>\n",
       "      <td>1460</td>\n",
       "    </tr>\n",
       "    <tr>\n",
       "      <th>1</th>\n",
       "      <td>1:0</td>\n",
       "      <td>1</td>\n",
       "      <td>cn</td>\n",
       "      <td>production</td>\n",
       "      <td>1460</td>\n",
       "    </tr>\n",
       "    <tr>\n",
       "      <th>2</th>\n",
       "      <td>1:0</td>\n",
       "      <td>1</td>\n",
       "      <td>cn</td>\n",
       "      <td>production</td>\n",
       "      <td>1460</td>\n",
       "    </tr>\n",
       "    <tr>\n",
       "      <th>3</th>\n",
       "      <td>1:0</td>\n",
       "      <td>1</td>\n",
       "      <td>cn</td>\n",
       "      <td>production</td>\n",
       "      <td>1460</td>\n",
       "    </tr>\n",
       "    <tr>\n",
       "      <th>4</th>\n",
       "      <td>0:9</td>\n",
       "      <td>1</td>\n",
       "      <td>cn</td>\n",
       "      <td>production</td>\n",
       "      <td>1127</td>\n",
       "    </tr>\n",
       "    <tr>\n",
       "      <th>...</th>\n",
       "      <td>...</td>\n",
       "      <td>...</td>\n",
       "      <td>...</td>\n",
       "      <td>...</td>\n",
       "      <td>...</td>\n",
       "    </tr>\n",
       "    <tr>\n",
       "      <th>5428</th>\n",
       "      <td>1:0</td>\n",
       "      <td>1</td>\n",
       "      <td>cn</td>\n",
       "      <td>production</td>\n",
       "      <td>1433</td>\n",
       "    </tr>\n",
       "    <tr>\n",
       "      <th>5429</th>\n",
       "      <td>1:0</td>\n",
       "      <td>1</td>\n",
       "      <td>cn</td>\n",
       "      <td>production</td>\n",
       "      <td>1123</td>\n",
       "    </tr>\n",
       "    <tr>\n",
       "      <th>5430</th>\n",
       "      <td>1:0</td>\n",
       "      <td>1</td>\n",
       "      <td>cn</td>\n",
       "      <td>production</td>\n",
       "      <td>1128</td>\n",
       "    </tr>\n",
       "    <tr>\n",
       "      <th>5431</th>\n",
       "      <td>1:0</td>\n",
       "      <td>1</td>\n",
       "      <td>cn</td>\n",
       "      <td>production</td>\n",
       "      <td>1207</td>\n",
       "    </tr>\n",
       "    <tr>\n",
       "      <th>5432</th>\n",
       "      <td>1:0</td>\n",
       "      <td>1</td>\n",
       "      <td>cn</td>\n",
       "      <td>production</td>\n",
       "      <td>1455</td>\n",
       "    </tr>\n",
       "  </tbody>\n",
       "</table>\n",
       "<p>5433 rows × 5 columns</p>\n",
       "</div>"
      ],
      "text/plain": [
       "     exitcode  failure node_index   partition node_numbers\n",
       "0         1:0        1         cn  production         1460\n",
       "1         1:0        1         cn  production         1460\n",
       "2         1:0        1         cn  production         1460\n",
       "3         1:0        1         cn  production         1460\n",
       "4         0:9        1         cn  production         1127\n",
       "...       ...      ...        ...         ...          ...\n",
       "5428      1:0        1         cn  production         1433\n",
       "5429      1:0        1         cn  production         1123\n",
       "5430      1:0        1         cn  production         1128\n",
       "5431      1:0        1         cn  production         1207\n",
       "5432      1:0        1         cn  production         1455\n",
       "\n",
       "[5433 rows x 5 columns]"
      ]
     },
     "execution_count": 37,
     "metadata": {},
     "output_type": "execute_result"
    }
   ],
   "source": [
    "accre_jobs_failed_nodesplit"
   ]
  },
  {
   "cell_type": "code",
   "execution_count": 38,
   "metadata": {},
   "outputs": [
    {
     "data": {
      "text/plain": [
       "pandas.core.series.Series"
      ]
     },
     "execution_count": 38,
     "metadata": {},
     "output_type": "execute_result"
    }
   ],
   "source": [
    "cpu_failures = accre_jobs_failed_nodesplit['node_numbers'].value_counts()\n",
    "type(cpu_failures)"
   ]
  },
  {
   "cell_type": "code",
   "execution_count": 39,
   "metadata": {},
   "outputs": [],
   "source": [
    "cpu_failures = cpu_failures.to_frame().reset_index()"
   ]
  },
  {
   "cell_type": "code",
   "execution_count": 40,
   "metadata": {},
   "outputs": [],
   "source": [
    "cpu_failures.columns = ['node_number','total_failures']"
   ]
  },
  {
   "cell_type": "code",
   "execution_count": 65,
   "metadata": {},
   "outputs": [
    {
     "data": {
      "text/plain": [
       "0    10\n",
       "dtype: int64"
      ]
     },
     "execution_count": 65,
     "metadata": {},
     "output_type": "execute_result"
    }
   ],
   "source": [
    "cpu_failures['total_failures'].mode()"
   ]
  },
  {
   "cell_type": "code",
   "execution_count": 63,
   "metadata": {},
   "outputs": [
    {
     "data": {
      "text/plain": [
       "node_number       1249.5\n",
       "total_failures      10.0\n",
       "dtype: float64"
      ]
     },
     "execution_count": 63,
     "metadata": {},
     "output_type": "execute_result"
    }
   ],
   "source": [
    "cpu_failures."
   ]
  },
  {
   "cell_type": "code",
   "execution_count": 45,
   "metadata": {},
   "outputs": [
    {
     "data": {
      "text/plain": [
       "array([[<matplotlib.axes._subplots.AxesSubplot object at 0x000001DF661FD670>]],\n",
       "      dtype=object)"
      ]
     },
     "execution_count": 45,
     "metadata": {},
     "output_type": "execute_result"
    },
    {
     "data": {
      "image/png": "[encoded data removed]",
      "text/plain": [
       "<Figure size 432x288 with 1 Axes>"
      ]
     },
     "metadata": {
      "needs_background": "light"
     },
     "output_type": "display_data"
    }
   ],
   "source": [
    "cpu_failures.hist()"
   ]
  },
  {
   "cell_type": "code",
   "execution_count": 48,
   "metadata": {},
   "outputs": [],
   "source": [
    "#Outliers in this case is any core with a failure value greater than the 75th percentile\n",
    "cpu_failures_outliers = cpu_failures[cpu_failures['total_failures'] > 14]"
   ]
  },
  {
   "cell_type": "code",
   "execution_count": 58,
   "metadata": {},
   "outputs": [
    {
     "data": {
      "text/plain": [
       "(123, 2)"
      ]
     },
     "execution_count": 58,
     "metadata": {},
     "output_type": "execute_result"
    }
   ],
   "source": [
    "cpu_failures_outliers.shape"
   ]
  },
  {
   "cell_type": "markdown",
   "metadata": {},
   "source": [
    "# Jason --\n",
    "    Question: 2   CMS Frequency of failure on particular nodes - user names: \"cmslocal\" and \"cmspilot\""
   ]
  },
  {
   "cell_type": "code",
   "execution_count": null,
   "metadata": {},
   "outputs": [],
   "source": []
  },
  {
   "cell_type": "markdown",
   "metadata": {},
   "source": [
    "# Maggi -- \n",
    "    Question: 3 & 4   Calculation of % of actual memory used and mean % for each group"
   ]
  },
  {
   "cell_type": "code",
   "execution_count": null,
   "metadata": {},
   "outputs": [],
   "source": []
  }
 ],
 "metadata": {
  "kernelspec": {
   "display_name": "Python 3",
   "language": "python",
   "name": "python3"
  },
  "language_info": {
   "codemirror_mode": {
    "name": "ipython",
    "version": 3
   },
   "file_extension": ".py",
   "mimetype": "text/x-python",
   "name": "python",
   "nbconvert_exporter": "python",
   "pygments_lexer": "ipython3",
   "version": "3.8.3"
  }
 },
 "nbformat": 4,
 "nbformat_minor": 4
}
